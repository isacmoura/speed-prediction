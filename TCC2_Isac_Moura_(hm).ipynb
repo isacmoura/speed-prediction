{
  "nbformat": 4,
  "nbformat_minor": 0,
  "metadata": {
    "kernelspec": {
      "name": "python3",
      "display_name": "Python 3"
    },
    "language_info": {
      "codemirror_mode": {
        "name": "ipython",
        "version": 3
      },
      "file_extension": ".py",
      "mimetype": "text/x-python",
      "name": "python",
      "nbconvert_exporter": "python",
      "pygments_lexer": "ipython3",
      "version": "3.7.4"
    },
    "colab": {
      "name": "TCC2_Isac_Moura (hm).ipynb",
      "provenance": [],
      "collapsed_sections": [
        "93WdTUYU70R1",
        "buypfK2g70Si",
        "Oyytd3gr70TY"
      ],
      "toc_visible": true,
      "machine_shape": "hm",
      "include_colab_link": true
    },
    "accelerator": "GPU"
  },
  "cells": [
    {
      "cell_type": "markdown",
      "metadata": {
        "id": "view-in-github",
        "colab_type": "text"
      },
      "source": [
        "<a href=\"https://colab.research.google.com/github/isacmoura/speed-prediction/blob/main/TCC2_Isac_Moura_(hm).ipynb\" target=\"_parent\"><img src=\"https://colab.research.google.com/assets/colab-badge.svg\" alt=\"Open In Colab\"/></a>"
      ]
    },
    {
      "cell_type": "code",
      "metadata": {
        "id": "a5kE2WInliwc",
        "outputId": "04b25e08-c676-4738-cfbb-f8b3e292f3bd",
        "colab": {
          "base_uri": "https://localhost:8080/",
          "height": 35
        }
      },
      "source": [
        "from google.colab import drive\n",
        "drive.mount('/content/drive')"
      ],
      "execution_count": 1,
      "outputs": [
        {
          "output_type": "stream",
          "text": [
            "Mounted at /content/drive\n"
          ],
          "name": "stdout"
        }
      ]
    },
    {
      "cell_type": "markdown",
      "metadata": {
        "id": "HEm4r6Vb2X_4"
      },
      "source": [
        "# Importar bibliotecas necessárias"
      ]
    },
    {
      "cell_type": "code",
      "metadata": {
        "id": "YYhS5EcG70PN"
      },
      "source": [
        "import pandas as pd\n",
        "import os\n",
        "import numpy as np\n",
        "import matplotlib.pyplot as plt\n",
        "from sklearn.model_selection import train_test_split, KFold, GridSearchCV, RandomizedSearchCV\n",
        "from sklearn.linear_model import LinearRegression\n",
        "from sklearn.ensemble import RandomForestRegressor, GradientBoostingRegressor\n",
        "import xgboost as xgb\n",
        "from sklearn import metrics\n",
        "from time import time\n",
        "import pickle\n",
        "import joblib\n",
        "import datetime\n",
        "\n",
        "# GLOBALS\n",
        "seed = 42\n",
        "path = \"/content/drive/My Drive/Colab Notebooks/TCC/models\"\n",
        "datasets = \"/content/drive/My Drive/Colab Notebooks/TCC/datasets\"\n",
        "csv_folder = \"/content/drive/My Drive/Colab Notebooks/TCC/csv_files\"\n",
        "\n",
        "%matplotlib inline"
      ],
      "execution_count": 2,
      "outputs": []
    },
    {
      "cell_type": "code",
      "metadata": {
        "id": "1HlM8B0r70Pm",
        "outputId": "fdd37f15-048f-4f3d-9b96-455dc8d9c607",
        "colab": {
          "base_uri": "https://localhost:8080/",
          "height": 233
        }
      },
      "source": [
        "!wget https://zenodo.org/record/3469741/files/2014_01-Traffic_Sensors_Fortaleza.csv\n",
        "!ls"
      ],
      "execution_count": 3,
      "outputs": [
        {
          "output_type": "stream",
          "text": [
            "--2020-10-07 17:57:08--  https://zenodo.org/record/3469741/files/2014_01-Traffic_Sensors_Fortaleza.csv\n",
            "Resolving zenodo.org (zenodo.org)... 137.138.76.77\n",
            "Connecting to zenodo.org (zenodo.org)|137.138.76.77|:443... connected.\n",
            "HTTP request sent, awaiting response... 200 OK\n",
            "Length: 233042344 (222M) [text/plain]\n",
            "Saving to: ‘2014_01-Traffic_Sensors_Fortaleza.csv’\n",
            "\n",
            "2014_01-Traffic_Sen 100%[===================>] 222.25M  6.58MB/s    in 26s     \n",
            "\n",
            "2020-10-07 17:57:36 (8.64 MB/s) - ‘2014_01-Traffic_Sensors_Fortaleza.csv’ saved [233042344/233042344]\n",
            "\n",
            "2014_01-Traffic_Sensors_Fortaleza.csv  drive  sample_data\n"
          ],
          "name": "stdout"
        }
      ]
    },
    {
      "cell_type": "code",
      "metadata": {
        "id": "KnbqcYT270P5",
        "outputId": "d7694611-07f8-479b-e4f0-991c8496a55c",
        "colab": {
          "base_uri": "https://localhost:8080/",
          "height": 53
        }
      },
      "source": [
        "df = pd.read_csv('2014_01-Traffic_Sensors_Fortaleza.csv', warn_bad_lines=False, error_bad_lines=False)"
      ],
      "execution_count": 4,
      "outputs": [
        {
          "output_type": "stream",
          "text": [
            "/usr/local/lib/python3.6/dist-packages/IPython/core/interactiveshell.py:2718: DtypeWarning: Columns (0) have mixed types.Specify dtype option on import or set low_memory=False.\n",
            "  interactivity=interactivity, compiler=compiler, result=result)\n"
          ],
          "name": "stderr"
        }
      ]
    },
    {
      "cell_type": "code",
      "metadata": {
        "id": "_V29xCzw70QF",
        "outputId": "bad6df4f-d9ee-4e2b-8879-7bb7e8525c1f",
        "colab": {
          "base_uri": "https://localhost:8080/",
          "height": 309
        }
      },
      "source": [
        "df.head()"
      ],
      "execution_count": 5,
      "outputs": [
        {
          "output_type": "execute_result",
          "data": {
            "text/html": [
              "<div>\n",
              "<style scoped>\n",
              "    .dataframe tbody tr th:only-of-type {\n",
              "        vertical-align: middle;\n",
              "    }\n",
              "\n",
              "    .dataframe tbody tr th {\n",
              "        vertical-align: top;\n",
              "    }\n",
              "\n",
              "    .dataframe thead th {\n",
              "        text-align: right;\n",
              "    }\n",
              "</style>\n",
              "<table border=\"1\" class=\"dataframe\">\n",
              "  <thead>\n",
              "    <tr style=\"text-align: right;\">\n",
              "      <th></th>\n",
              "      <th>sensor_id</th>\n",
              "      <th>day_of_week</th>\n",
              "      <th>slot_of_day</th>\n",
              "      <th>lane</th>\n",
              "      <th>size5</th>\n",
              "      <th>min5</th>\n",
              "      <th>max5</th>\n",
              "      <th>avg5</th>\n",
              "      <th>std5</th>\n",
              "      <th>size30</th>\n",
              "      <th>min30</th>\n",
              "      <th>max30</th>\n",
              "      <th>avg30</th>\n",
              "      <th>std30</th>\n",
              "      <th>size1w</th>\n",
              "      <th>min1w</th>\n",
              "      <th>max1w</th>\n",
              "      <th>avg1w</th>\n",
              "      <th>std1w</th>\n",
              "      <th>size2w</th>\n",
              "      <th>min2w</th>\n",
              "      <th>max2w</th>\n",
              "      <th>avg2w</th>\n",
              "      <th>std2w</th>\n",
              "      <th>working_day</th>\n",
              "      <th>speed_limit</th>\n",
              "      <th>label</th>\n",
              "      <th>timestamp5</th>\n",
              "    </tr>\n",
              "  </thead>\n",
              "  <tbody>\n",
              "    <tr>\n",
              "      <th>0</th>\n",
              "      <td>1385001</td>\n",
              "      <td>1</td>\n",
              "      <td>284</td>\n",
              "      <td>3</td>\n",
              "      <td>16</td>\n",
              "      <td>25.0</td>\n",
              "      <td>56.0</td>\n",
              "      <td>49.812500</td>\n",
              "      <td>7.460050</td>\n",
              "      <td>125.0</td>\n",
              "      <td>12.0</td>\n",
              "      <td>60.0</td>\n",
              "      <td>49.224000</td>\n",
              "      <td>7.405797</td>\n",
              "      <td>16.0</td>\n",
              "      <td>38.0</td>\n",
              "      <td>71.0</td>\n",
              "      <td>50.250000</td>\n",
              "      <td>7.267221</td>\n",
              "      <td>5.0</td>\n",
              "      <td>37.0</td>\n",
              "      <td>62.0</td>\n",
              "      <td>50.000000</td>\n",
              "      <td>8.414274</td>\n",
              "      <td>1</td>\n",
              "      <td>67</td>\n",
              "      <td>49.842106</td>\n",
              "      <td>2014-01-14 23:40:00</td>\n",
              "    </tr>\n",
              "    <tr>\n",
              "      <th>1</th>\n",
              "      <td>1385001</td>\n",
              "      <td>1</td>\n",
              "      <td>285</td>\n",
              "      <td>3</td>\n",
              "      <td>23</td>\n",
              "      <td>24.0</td>\n",
              "      <td>60.0</td>\n",
              "      <td>48.913044</td>\n",
              "      <td>7.143943</td>\n",
              "      <td>125.0</td>\n",
              "      <td>12.0</td>\n",
              "      <td>60.0</td>\n",
              "      <td>48.992000</td>\n",
              "      <td>7.716472</td>\n",
              "      <td>20.0</td>\n",
              "      <td>35.0</td>\n",
              "      <td>57.0</td>\n",
              "      <td>49.849998</td>\n",
              "      <td>4.661277</td>\n",
              "      <td>30.0</td>\n",
              "      <td>27.0</td>\n",
              "      <td>52.0</td>\n",
              "      <td>44.766666</td>\n",
              "      <td>4.957710</td>\n",
              "      <td>1</td>\n",
              "      <td>67</td>\n",
              "      <td>53.133335</td>\n",
              "      <td>2014-01-14 23:45:00</td>\n",
              "    </tr>\n",
              "    <tr>\n",
              "      <th>2</th>\n",
              "      <td>1385001</td>\n",
              "      <td>1</td>\n",
              "      <td>286</td>\n",
              "      <td>3</td>\n",
              "      <td>20</td>\n",
              "      <td>27.0</td>\n",
              "      <td>59.0</td>\n",
              "      <td>49.500000</td>\n",
              "      <td>6.515367</td>\n",
              "      <td>136.0</td>\n",
              "      <td>12.0</td>\n",
              "      <td>60.0</td>\n",
              "      <td>48.926471</td>\n",
              "      <td>7.671215</td>\n",
              "      <td>22.0</td>\n",
              "      <td>41.0</td>\n",
              "      <td>63.0</td>\n",
              "      <td>50.818180</td>\n",
              "      <td>5.348206</td>\n",
              "      <td>17.0</td>\n",
              "      <td>30.0</td>\n",
              "      <td>61.0</td>\n",
              "      <td>43.352940</td>\n",
              "      <td>9.093897</td>\n",
              "      <td>1</td>\n",
              "      <td>67</td>\n",
              "      <td>49.761906</td>\n",
              "      <td>2014-01-14 23:50:00</td>\n",
              "    </tr>\n",
              "    <tr>\n",
              "      <th>3</th>\n",
              "      <td>1385001</td>\n",
              "      <td>2</td>\n",
              "      <td>0</td>\n",
              "      <td>2</td>\n",
              "      <td>10</td>\n",
              "      <td>29.0</td>\n",
              "      <td>56.0</td>\n",
              "      <td>48.700000</td>\n",
              "      <td>7.443790</td>\n",
              "      <td>131.0</td>\n",
              "      <td>12.0</td>\n",
              "      <td>60.0</td>\n",
              "      <td>48.587786</td>\n",
              "      <td>7.829159</td>\n",
              "      <td>2.0</td>\n",
              "      <td>48.0</td>\n",
              "      <td>51.0</td>\n",
              "      <td>49.500000</td>\n",
              "      <td>1.500000</td>\n",
              "      <td>28.0</td>\n",
              "      <td>27.0</td>\n",
              "      <td>56.0</td>\n",
              "      <td>44.821430</td>\n",
              "      <td>6.442346</td>\n",
              "      <td>1</td>\n",
              "      <td>67</td>\n",
              "      <td>46.500000</td>\n",
              "      <td>2014-01-15 00:00:00</td>\n",
              "    </tr>\n",
              "    <tr>\n",
              "      <th>4</th>\n",
              "      <td>1385001</td>\n",
              "      <td>2</td>\n",
              "      <td>1</td>\n",
              "      <td>3</td>\n",
              "      <td>21</td>\n",
              "      <td>41.0</td>\n",
              "      <td>58.0</td>\n",
              "      <td>50.285713</td>\n",
              "      <td>4.802210</td>\n",
              "      <td>119.0</td>\n",
              "      <td>24.0</td>\n",
              "      <td>60.0</td>\n",
              "      <td>49.445378</td>\n",
              "      <td>6.354642</td>\n",
              "      <td>11.0</td>\n",
              "      <td>40.0</td>\n",
              "      <td>58.0</td>\n",
              "      <td>48.181820</td>\n",
              "      <td>5.589246</td>\n",
              "      <td>51.0</td>\n",
              "      <td>30.0</td>\n",
              "      <td>60.0</td>\n",
              "      <td>45.960785</td>\n",
              "      <td>6.600537</td>\n",
              "      <td>1</td>\n",
              "      <td>67</td>\n",
              "      <td>45.714287</td>\n",
              "      <td>2014-01-15 00:05:00</td>\n",
              "    </tr>\n",
              "  </tbody>\n",
              "</table>\n",
              "</div>"
            ],
            "text/plain": [
              "  sensor_id  day_of_week  ...      label           timestamp5\n",
              "0   1385001            1  ...  49.842106  2014-01-14 23:40:00\n",
              "1   1385001            1  ...  53.133335  2014-01-14 23:45:00\n",
              "2   1385001            1  ...  49.761906  2014-01-14 23:50:00\n",
              "3   1385001            2  ...  46.500000  2014-01-15 00:00:00\n",
              "4   1385001            2  ...  45.714287  2014-01-15 00:05:00\n",
              "\n",
              "[5 rows x 28 columns]"
            ]
          },
          "metadata": {
            "tags": []
          },
          "execution_count": 5
        }
      ]
    },
    {
      "cell_type": "code",
      "metadata": {
        "id": "1rkkMlGw70QS",
        "outputId": "e22c4b53-b904-4e71-d9c4-44f8736885d7",
        "colab": {
          "base_uri": "https://localhost:8080/",
          "height": 647
        }
      },
      "source": [
        "df.info()"
      ],
      "execution_count": 6,
      "outputs": [
        {
          "output_type": "stream",
          "text": [
            "<class 'pandas.core.frame.DataFrame'>\n",
            "RangeIndex: 981203 entries, 0 to 981202\n",
            "Data columns (total 28 columns):\n",
            " #   Column       Non-Null Count   Dtype  \n",
            "---  ------       --------------   -----  \n",
            " 0   sensor_id    981203 non-null  object \n",
            " 1   day_of_week  981203 non-null  int64  \n",
            " 2   slot_of_day  981203 non-null  int64  \n",
            " 3   lane         981203 non-null  int64  \n",
            " 4   size5        981203 non-null  int64  \n",
            " 5   min5         981203 non-null  float64\n",
            " 6   max5         981203 non-null  float64\n",
            " 7   avg5         981203 non-null  float64\n",
            " 8   std5         981203 non-null  float64\n",
            " 9   size30       981203 non-null  float64\n",
            " 10  min30        981203 non-null  float64\n",
            " 11  max30        981203 non-null  float64\n",
            " 12  avg30        981203 non-null  float64\n",
            " 13  std30        981203 non-null  float64\n",
            " 14  size1w       981203 non-null  float64\n",
            " 15  min1w        981203 non-null  float64\n",
            " 16  max1w        981203 non-null  float64\n",
            " 17  avg1w        981203 non-null  float64\n",
            " 18  std1w        981203 non-null  float64\n",
            " 19  size2w       981203 non-null  float64\n",
            " 20  min2w        981203 non-null  float64\n",
            " 21  max2w        981203 non-null  float64\n",
            " 22  avg2w        981203 non-null  float64\n",
            " 23  std2w        981203 non-null  float64\n",
            " 24  working_day  981203 non-null  int64  \n",
            " 25  speed_limit  981203 non-null  int64  \n",
            " 26  label        981203 non-null  float64\n",
            " 27  timestamp5   981203 non-null  object \n",
            "dtypes: float64(20), int64(6), object(2)\n",
            "memory usage: 209.6+ MB\n"
          ],
          "name": "stdout"
        }
      ]
    },
    {
      "cell_type": "code",
      "metadata": {
        "id": "uTpe0eRQ70Qe",
        "outputId": "e71e9efc-5a59-44a9-d5ef-6bbaa62a8bdd",
        "colab": {
          "base_uri": "https://localhost:8080/",
          "height": 855
        }
      },
      "source": [
        "df.describe().transpose()"
      ],
      "execution_count": 10,
      "outputs": [
        {
          "output_type": "execute_result",
          "data": {
            "text/html": [
              "<div>\n",
              "<style scoped>\n",
              "    .dataframe tbody tr th:only-of-type {\n",
              "        vertical-align: middle;\n",
              "    }\n",
              "\n",
              "    .dataframe tbody tr th {\n",
              "        vertical-align: top;\n",
              "    }\n",
              "\n",
              "    .dataframe thead th {\n",
              "        text-align: right;\n",
              "    }\n",
              "</style>\n",
              "<table border=\"1\" class=\"dataframe\">\n",
              "  <thead>\n",
              "    <tr style=\"text-align: right;\">\n",
              "      <th></th>\n",
              "      <th>count</th>\n",
              "      <th>mean</th>\n",
              "      <th>std</th>\n",
              "      <th>min</th>\n",
              "      <th>25%</th>\n",
              "      <th>50%</th>\n",
              "      <th>75%</th>\n",
              "      <th>max</th>\n",
              "    </tr>\n",
              "  </thead>\n",
              "  <tbody>\n",
              "    <tr>\n",
              "      <th>day_of_week</th>\n",
              "      <td>981203.0</td>\n",
              "      <td>2.994310</td>\n",
              "      <td>1.823518</td>\n",
              "      <td>0.000000</td>\n",
              "      <td>2.000000</td>\n",
              "      <td>3.000000</td>\n",
              "      <td>4.000000</td>\n",
              "      <td>6.000000</td>\n",
              "    </tr>\n",
              "    <tr>\n",
              "      <th>slot_of_day</th>\n",
              "      <td>981203.0</td>\n",
              "      <td>146.776017</td>\n",
              "      <td>81.701877</td>\n",
              "      <td>0.000000</td>\n",
              "      <td>78.000000</td>\n",
              "      <td>148.000000</td>\n",
              "      <td>217.000000</td>\n",
              "      <td>287.000000</td>\n",
              "    </tr>\n",
              "    <tr>\n",
              "      <th>lane</th>\n",
              "      <td>981203.0</td>\n",
              "      <td>2.462482</td>\n",
              "      <td>0.751932</td>\n",
              "      <td>1.000000</td>\n",
              "      <td>2.000000</td>\n",
              "      <td>2.000000</td>\n",
              "      <td>3.000000</td>\n",
              "      <td>5.000000</td>\n",
              "    </tr>\n",
              "    <tr>\n",
              "      <th>size5</th>\n",
              "      <td>981203.0</td>\n",
              "      <td>60.278322</td>\n",
              "      <td>45.258862</td>\n",
              "      <td>1.000000</td>\n",
              "      <td>21.000000</td>\n",
              "      <td>55.000000</td>\n",
              "      <td>89.000000</td>\n",
              "      <td>875.000000</td>\n",
              "    </tr>\n",
              "    <tr>\n",
              "      <th>min5</th>\n",
              "      <td>981203.0</td>\n",
              "      <td>17.540386</td>\n",
              "      <td>11.067515</td>\n",
              "      <td>1.000000</td>\n",
              "      <td>10.000000</td>\n",
              "      <td>14.000000</td>\n",
              "      <td>23.000000</td>\n",
              "      <td>79.000000</td>\n",
              "    </tr>\n",
              "    <tr>\n",
              "      <th>max5</th>\n",
              "      <td>981203.0</td>\n",
              "      <td>53.600810</td>\n",
              "      <td>10.333148</td>\n",
              "      <td>2.000000</td>\n",
              "      <td>49.000000</td>\n",
              "      <td>55.000000</td>\n",
              "      <td>60.000000</td>\n",
              "      <td>79.000000</td>\n",
              "    </tr>\n",
              "    <tr>\n",
              "      <th>avg5</th>\n",
              "      <td>981203.0</td>\n",
              "      <td>36.873116</td>\n",
              "      <td>10.203481</td>\n",
              "      <td>2.000000</td>\n",
              "      <td>28.196080</td>\n",
              "      <td>38.328000</td>\n",
              "      <td>45.894080</td>\n",
              "      <td>79.000000</td>\n",
              "    </tr>\n",
              "    <tr>\n",
              "      <th>std5</th>\n",
              "      <td>981203.0</td>\n",
              "      <td>8.570810</td>\n",
              "      <td>3.249439</td>\n",
              "      <td>0.000000</td>\n",
              "      <td>6.299801</td>\n",
              "      <td>8.347670</td>\n",
              "      <td>10.739144</td>\n",
              "      <td>32.500000</td>\n",
              "    </tr>\n",
              "    <tr>\n",
              "      <th>size30</th>\n",
              "      <td>981203.0</td>\n",
              "      <td>361.015220</td>\n",
              "      <td>264.188217</td>\n",
              "      <td>1.000000</td>\n",
              "      <td>129.000000</td>\n",
              "      <td>336.000000</td>\n",
              "      <td>533.000000</td>\n",
              "      <td>4509.000000</td>\n",
              "    </tr>\n",
              "    <tr>\n",
              "      <th>min30</th>\n",
              "      <td>981203.0</td>\n",
              "      <td>11.602114</td>\n",
              "      <td>7.804677</td>\n",
              "      <td>1.000000</td>\n",
              "      <td>6.000000</td>\n",
              "      <td>10.000000</td>\n",
              "      <td>13.000000</td>\n",
              "      <td>61.000000</td>\n",
              "    </tr>\n",
              "    <tr>\n",
              "      <th>max30</th>\n",
              "      <td>981203.0</td>\n",
              "      <td>60.055882</td>\n",
              "      <td>9.304546</td>\n",
              "      <td>9.000000</td>\n",
              "      <td>55.000000</td>\n",
              "      <td>60.000000</td>\n",
              "      <td>66.000000</td>\n",
              "      <td>79.000000</td>\n",
              "    </tr>\n",
              "    <tr>\n",
              "      <th>avg30</th>\n",
              "      <td>981203.0</td>\n",
              "      <td>36.875008</td>\n",
              "      <td>9.711403</td>\n",
              "      <td>6.333333</td>\n",
              "      <td>28.317010</td>\n",
              "      <td>38.066104</td>\n",
              "      <td>45.743154</td>\n",
              "      <td>62.333333</td>\n",
              "    </tr>\n",
              "    <tr>\n",
              "      <th>std30</th>\n",
              "      <td>981203.0</td>\n",
              "      <td>9.249587</td>\n",
              "      <td>2.696670</td>\n",
              "      <td>0.000000</td>\n",
              "      <td>7.218604</td>\n",
              "      <td>8.852803</td>\n",
              "      <td>11.060723</td>\n",
              "      <td>26.603759</td>\n",
              "    </tr>\n",
              "    <tr>\n",
              "      <th>size1w</th>\n",
              "      <td>981203.0</td>\n",
              "      <td>60.046327</td>\n",
              "      <td>45.055323</td>\n",
              "      <td>1.000000</td>\n",
              "      <td>21.000000</td>\n",
              "      <td>55.000000</td>\n",
              "      <td>89.000000</td>\n",
              "      <td>765.000000</td>\n",
              "    </tr>\n",
              "    <tr>\n",
              "      <th>min1w</th>\n",
              "      <td>981203.0</td>\n",
              "      <td>17.613914</td>\n",
              "      <td>10.955156</td>\n",
              "      <td>1.000000</td>\n",
              "      <td>10.000000</td>\n",
              "      <td>14.000000</td>\n",
              "      <td>23.000000</td>\n",
              "      <td>79.000000</td>\n",
              "    </tr>\n",
              "    <tr>\n",
              "      <th>max1w</th>\n",
              "      <td>981203.0</td>\n",
              "      <td>53.695594</td>\n",
              "      <td>10.302677</td>\n",
              "      <td>2.000000</td>\n",
              "      <td>49.000000</td>\n",
              "      <td>55.000000</td>\n",
              "      <td>60.000000</td>\n",
              "      <td>79.000000</td>\n",
              "    </tr>\n",
              "    <tr>\n",
              "      <th>avg1w</th>\n",
              "      <td>981203.0</td>\n",
              "      <td>36.915593</td>\n",
              "      <td>10.203808</td>\n",
              "      <td>2.000000</td>\n",
              "      <td>28.208792</td>\n",
              "      <td>38.462585</td>\n",
              "      <td>45.930233</td>\n",
              "      <td>79.000000</td>\n",
              "    </tr>\n",
              "    <tr>\n",
              "      <th>std1w</th>\n",
              "      <td>981203.0</td>\n",
              "      <td>8.578170</td>\n",
              "      <td>3.219524</td>\n",
              "      <td>0.000000</td>\n",
              "      <td>6.317414</td>\n",
              "      <td>8.348401</td>\n",
              "      <td>10.717959</td>\n",
              "      <td>30.408333</td>\n",
              "    </tr>\n",
              "    <tr>\n",
              "      <th>size2w</th>\n",
              "      <td>981203.0</td>\n",
              "      <td>57.276311</td>\n",
              "      <td>43.592351</td>\n",
              "      <td>1.000000</td>\n",
              "      <td>20.000000</td>\n",
              "      <td>51.000000</td>\n",
              "      <td>84.000000</td>\n",
              "      <td>924.000000</td>\n",
              "    </tr>\n",
              "    <tr>\n",
              "      <th>min2w</th>\n",
              "      <td>981203.0</td>\n",
              "      <td>17.900476</td>\n",
              "      <td>11.020357</td>\n",
              "      <td>1.000000</td>\n",
              "      <td>11.000000</td>\n",
              "      <td>14.000000</td>\n",
              "      <td>24.000000</td>\n",
              "      <td>79.000000</td>\n",
              "    </tr>\n",
              "    <tr>\n",
              "      <th>max2w</th>\n",
              "      <td>981203.0</td>\n",
              "      <td>53.784112</td>\n",
              "      <td>10.265173</td>\n",
              "      <td>2.000000</td>\n",
              "      <td>49.000000</td>\n",
              "      <td>55.000000</td>\n",
              "      <td>60.000000</td>\n",
              "      <td>79.000000</td>\n",
              "    </tr>\n",
              "    <tr>\n",
              "      <th>avg2w</th>\n",
              "      <td>981203.0</td>\n",
              "      <td>37.074527</td>\n",
              "      <td>10.231779</td>\n",
              "      <td>2.000000</td>\n",
              "      <td>28.319149</td>\n",
              "      <td>38.833332</td>\n",
              "      <td>46.040001</td>\n",
              "      <td>79.000000</td>\n",
              "    </tr>\n",
              "    <tr>\n",
              "      <th>std2w</th>\n",
              "      <td>981203.0</td>\n",
              "      <td>8.589956</td>\n",
              "      <td>3.237025</td>\n",
              "      <td>0.000000</td>\n",
              "      <td>6.311965</td>\n",
              "      <td>8.359530</td>\n",
              "      <td>10.750368</td>\n",
              "      <td>30.269163</td>\n",
              "    </tr>\n",
              "    <tr>\n",
              "      <th>working_day</th>\n",
              "      <td>981203.0</td>\n",
              "      <td>0.770490</td>\n",
              "      <td>0.420518</td>\n",
              "      <td>0.000000</td>\n",
              "      <td>1.000000</td>\n",
              "      <td>1.000000</td>\n",
              "      <td>1.000000</td>\n",
              "      <td>1.000000</td>\n",
              "    </tr>\n",
              "    <tr>\n",
              "      <th>speed_limit</th>\n",
              "      <td>981203.0</td>\n",
              "      <td>64.047227</td>\n",
              "      <td>3.788365</td>\n",
              "      <td>40.000000</td>\n",
              "      <td>60.000000</td>\n",
              "      <td>67.000000</td>\n",
              "      <td>67.000000</td>\n",
              "      <td>67.000000</td>\n",
              "    </tr>\n",
              "    <tr>\n",
              "      <th>label</th>\n",
              "      <td>981203.0</td>\n",
              "      <td>36.871329</td>\n",
              "      <td>10.203239</td>\n",
              "      <td>2.000000</td>\n",
              "      <td>28.195652</td>\n",
              "      <td>38.331326</td>\n",
              "      <td>45.892710</td>\n",
              "      <td>79.000000</td>\n",
              "    </tr>\n",
              "  </tbody>\n",
              "</table>\n",
              "</div>"
            ],
            "text/plain": [
              "                count        mean  ...         75%          max\n",
              "day_of_week  981203.0    2.994310  ...    4.000000     6.000000\n",
              "slot_of_day  981203.0  146.776017  ...  217.000000   287.000000\n",
              "lane         981203.0    2.462482  ...    3.000000     5.000000\n",
              "size5        981203.0   60.278322  ...   89.000000   875.000000\n",
              "min5         981203.0   17.540386  ...   23.000000    79.000000\n",
              "max5         981203.0   53.600810  ...   60.000000    79.000000\n",
              "avg5         981203.0   36.873116  ...   45.894080    79.000000\n",
              "std5         981203.0    8.570810  ...   10.739144    32.500000\n",
              "size30       981203.0  361.015220  ...  533.000000  4509.000000\n",
              "min30        981203.0   11.602114  ...   13.000000    61.000000\n",
              "max30        981203.0   60.055882  ...   66.000000    79.000000\n",
              "avg30        981203.0   36.875008  ...   45.743154    62.333333\n",
              "std30        981203.0    9.249587  ...   11.060723    26.603759\n",
              "size1w       981203.0   60.046327  ...   89.000000   765.000000\n",
              "min1w        981203.0   17.613914  ...   23.000000    79.000000\n",
              "max1w        981203.0   53.695594  ...   60.000000    79.000000\n",
              "avg1w        981203.0   36.915593  ...   45.930233    79.000000\n",
              "std1w        981203.0    8.578170  ...   10.717959    30.408333\n",
              "size2w       981203.0   57.276311  ...   84.000000   924.000000\n",
              "min2w        981203.0   17.900476  ...   24.000000    79.000000\n",
              "max2w        981203.0   53.784112  ...   60.000000    79.000000\n",
              "avg2w        981203.0   37.074527  ...   46.040001    79.000000\n",
              "std2w        981203.0    8.589956  ...   10.750368    30.269163\n",
              "working_day  981203.0    0.770490  ...    1.000000     1.000000\n",
              "speed_limit  981203.0   64.047227  ...   67.000000    67.000000\n",
              "label        981203.0   36.871329  ...   45.892710    79.000000\n",
              "\n",
              "[26 rows x 8 columns]"
            ]
          },
          "metadata": {
            "tags": []
          },
          "execution_count": 10
        }
      ]
    },
    {
      "cell_type": "markdown",
      "metadata": {
        "id": "pUrNUi8S70Qq"
      },
      "source": [
        "# Pré-processamento"
      ]
    },
    {
      "cell_type": "code",
      "metadata": {
        "id": "l7XmOvkm70Qs"
      },
      "source": [
        "df.drop(df.iloc[:, 14:24], inplace=True, axis=1) #removing from size1w to std2w\n",
        "\n",
        "del df['sensor_id']\n",
        "del df['timestamp5']"
      ],
      "execution_count": null,
      "outputs": []
    },
    {
      "cell_type": "code",
      "metadata": {
        "id": "RgmgMYSd70Q2",
        "outputId": "edd4e524-8657-4f79-93ca-4d4ac18b8c50",
        "colab": {
          "base_uri": "https://localhost:8080/",
          "height": 435
        }
      },
      "source": [
        "df.info()"
      ],
      "execution_count": null,
      "outputs": [
        {
          "output_type": "stream",
          "text": [
            "<class 'pandas.core.frame.DataFrame'>\n",
            "RangeIndex: 981203 entries, 0 to 981202\n",
            "Data columns (total 16 columns):\n",
            " #   Column       Non-Null Count   Dtype  \n",
            "---  ------       --------------   -----  \n",
            " 0   day_of_week  981203 non-null  int64  \n",
            " 1   slot_of_day  981203 non-null  int64  \n",
            " 2   lane         981203 non-null  int64  \n",
            " 3   size5        981203 non-null  int64  \n",
            " 4   min5         981203 non-null  float64\n",
            " 5   max5         981203 non-null  float64\n",
            " 6   avg5         981203 non-null  float64\n",
            " 7   std5         981203 non-null  float64\n",
            " 8   size30       981203 non-null  float64\n",
            " 9   min30        981203 non-null  float64\n",
            " 10  max30        981203 non-null  float64\n",
            " 11  avg30        981203 non-null  float64\n",
            " 12  std30        981203 non-null  float64\n",
            " 13  working_day  981203 non-null  int64  \n",
            " 14  speed_limit  981203 non-null  int64  \n",
            " 15  label        981203 non-null  float64\n",
            "dtypes: float64(10), int64(6)\n",
            "memory usage: 119.8 MB\n"
          ],
          "name": "stdout"
        }
      ]
    },
    {
      "cell_type": "code",
      "metadata": {
        "id": "qdVq7QMd70Q_",
        "outputId": "55f4d203-3d1d-4287-b8f8-4872d708da86",
        "colab": {
          "base_uri": "https://localhost:8080/",
          "height": 326
        }
      },
      "source": [
        "df.isna().sum()"
      ],
      "execution_count": null,
      "outputs": [
        {
          "output_type": "execute_result",
          "data": {
            "text/plain": [
              "day_of_week    0\n",
              "slot_of_day    0\n",
              "lane           0\n",
              "size5          0\n",
              "min5           0\n",
              "max5           0\n",
              "avg5           0\n",
              "std5           0\n",
              "size30         0\n",
              "min30          0\n",
              "max30          0\n",
              "avg30          0\n",
              "std30          0\n",
              "working_day    0\n",
              "speed_limit    0\n",
              "label          0\n",
              "dtype: int64"
            ]
          },
          "metadata": {
            "tags": []
          },
          "execution_count": 10
        }
      ]
    },
    {
      "cell_type": "markdown",
      "metadata": {
        "id": "G4v_-1nM70RI"
      },
      "source": [
        "# Separação em treino, teste e validação"
      ]
    },
    {
      "cell_type": "code",
      "metadata": {
        "id": "RF9HdHKH8ouC",
        "outputId": "191cc673-8eba-436b-dd02-d27208d78b61",
        "colab": {
          "base_uri": "https://localhost:8080/",
          "height": 308
        }
      },
      "source": [
        "column_names = [*df]\n",
        "column_names"
      ],
      "execution_count": null,
      "outputs": [
        {
          "output_type": "execute_result",
          "data": {
            "text/plain": [
              "['day_of_week',\n",
              " 'slot_of_day',\n",
              " 'lane',\n",
              " 'size5',\n",
              " 'min5',\n",
              " 'max5',\n",
              " 'avg5',\n",
              " 'std5',\n",
              " 'size30',\n",
              " 'min30',\n",
              " 'max30',\n",
              " 'avg30',\n",
              " 'std30',\n",
              " 'working_day',\n",
              " 'speed_limit',\n",
              " 'label']"
            ]
          },
          "metadata": {
            "tags": []
          },
          "execution_count": 11
        }
      ]
    },
    {
      "cell_type": "code",
      "metadata": {
        "id": "qolzI3B470RM"
      },
      "source": [
        "X = df.iloc[:,:-1].values\n",
        "y = df[\"label\"].values"
      ],
      "execution_count": null,
      "outputs": []
    },
    {
      "cell_type": "code",
      "metadata": {
        "id": "QJzvf-5o70Ra"
      },
      "source": [
        "X_train, X_test, y_train, y_test = train_test_split(X, y, test_size=0.2,\n",
        "                                                    random_state = seed, shuffle=True)"
      ],
      "execution_count": null,
      "outputs": []
    },
    {
      "cell_type": "code",
      "metadata": {
        "id": "X6uCunUJ70Rj"
      },
      "source": [
        "X_train, X_val, y_train, y_val = train_test_split(X_train, y_train, test_size=0.2, random_state=seed)"
      ],
      "execution_count": null,
      "outputs": []
    },
    {
      "cell_type": "code",
      "metadata": {
        "id": "g0h5ybII70Rt",
        "outputId": "278fa0d4-5202-475e-88b1-a5b1964a601c",
        "colab": {
          "base_uri": "https://localhost:8080/",
          "height": 72
        }
      },
      "source": [
        "print(X_train.shape, y_train.shape)\n",
        "print(X_test.shape, y_test.shape)\n",
        "print(X_val.shape, y_val.shape)"
      ],
      "execution_count": null,
      "outputs": [
        {
          "output_type": "stream",
          "text": [
            "(627969, 15) (627969,)\n",
            "(196241, 15) (196241,)\n",
            "(156993, 15) (156993,)\n"
          ],
          "name": "stdout"
        }
      ]
    },
    {
      "cell_type": "markdown",
      "metadata": {
        "id": "93WdTUYU70R1"
      },
      "source": [
        "# Treino e teste (sem cross validation)"
      ]
    },
    {
      "cell_type": "code",
      "metadata": {
        "id": "slJT0jVu70R5"
      },
      "source": [
        "lr = LinearRegression()"
      ],
      "execution_count": null,
      "outputs": []
    },
    {
      "cell_type": "code",
      "metadata": {
        "id": "Ru5Tok0E70SG",
        "outputId": "00b677aa-87c2-47ea-d802-e69f3fd33872",
        "colab": {
          "base_uri": "https://localhost:8080/",
          "height": 34
        }
      },
      "source": [
        "lr.fit(X_train, y_train)"
      ],
      "execution_count": null,
      "outputs": [
        {
          "output_type": "execute_result",
          "data": {
            "text/plain": [
              "LinearRegression(copy_X=True, fit_intercept=True, n_jobs=None, normalize=False)"
            ]
          },
          "metadata": {
            "tags": []
          },
          "execution_count": 16
        }
      ]
    },
    {
      "cell_type": "code",
      "metadata": {
        "id": "rwaaMUbg70SN"
      },
      "source": [
        "pred = lr.predict(X_test)"
      ],
      "execution_count": null,
      "outputs": []
    },
    {
      "cell_type": "code",
      "metadata": {
        "id": "MMkjBXtu70SY",
        "outputId": "cd2a3d8c-0e7e-442e-e26e-3226fe290a21",
        "colab": {
          "base_uri": "https://localhost:8080/",
          "height": 34
        }
      },
      "source": [
        "rmse_metric = np.sqrt(metrics.mean_squared_error(y_test, pred))\n",
        "print(rmse_metric)"
      ],
      "execution_count": null,
      "outputs": [
        {
          "output_type": "stream",
          "text": [
            "3.7752265861612697\n"
          ],
          "name": "stdout"
        }
      ]
    },
    {
      "cell_type": "markdown",
      "metadata": {
        "id": "buypfK2g70Si"
      },
      "source": [
        "# Implementando treino e teste com cross validation"
      ]
    },
    {
      "cell_type": "markdown",
      "metadata": {
        "id": "ZAk1a4Gr70So"
      },
      "source": [
        "Observaremos os resultados utilizando K-Folds Cross Validation"
      ]
    },
    {
      "cell_type": "code",
      "metadata": {
        "id": "wdIjf9MD70Ss",
        "outputId": "5201a55a-df64-4506-a7b4-ce489b7c56a1",
        "colab": {
          "base_uri": "https://localhost:8080/",
          "height": 54
        }
      },
      "source": [
        "kf = KFold(n_splits=10, shuffle=True, random_state=42)\n",
        "data = df.iloc[:,:-1]\n",
        "y = df[\"label\"]\n",
        "scores = []\n",
        "\n",
        "for i in range(10):\n",
        "    result = next(kf.split(data), None)\n",
        "    X_train = data.iloc[result[0]]\n",
        "    X_test = data.iloc[result[1]]\n",
        "    y_train = y.iloc[result[0]]\n",
        "    y_test = y.iloc[result[1]]\n",
        "    \n",
        "model = lr.fit(X_train, y_train)\n",
        "pred = lr.predict(X_test)\n",
        "scores.append(np.sqrt(metrics.mean_squared_error(y_test, pred)))\n",
        "\n",
        "print(\"Scores from iteration: \", scores)\n",
        "print(\"Mean from K-fold: \", np.mean(scores))"
      ],
      "execution_count": null,
      "outputs": [
        {
          "output_type": "stream",
          "text": [
            "Scores from iteration:  [3.781305487943111]\n",
            "Mean from K-fold:  3.781305487943111\n"
          ],
          "name": "stdout"
        }
      ]
    },
    {
      "cell_type": "code",
      "metadata": {
        "id": "PRopiRmz70S4"
      },
      "source": [
        "kfold = KFold(n_splits=10, shuffle=True, random_state=42)"
      ],
      "execution_count": null,
      "outputs": []
    },
    {
      "cell_type": "code",
      "metadata": {
        "id": "nxJhvVgi70TA"
      },
      "source": [
        "mses = []\n",
        "for idx_train, idx_test in kfold.split(X, y):\n",
        "    X_train, y_train = X[idx_train], y[idx_train]\n",
        "    X_test, y_test = X[idx_test], y[idx_test]\n",
        "    lr.fit(X_train, y_train)\n",
        "    y_pred = lr.predict(X_test)\n",
        "    mses.append(metrics.mean_squared_error(y_test, y_pred))\n",
        "    \n",
        "mse = np.mean(mses)\n",
        "rmse = np.sqrt(mse)"
      ],
      "execution_count": null,
      "outputs": []
    },
    {
      "cell_type": "code",
      "metadata": {
        "id": "fRjSD4uX70TN",
        "outputId": "7883399d-adcd-45df-c711-1b39b32d1d89",
        "colab": {
          "base_uri": "https://localhost:8080/",
          "height": 54
        }
      },
      "source": [
        "print(mse)\n",
        "print(rmse)"
      ],
      "execution_count": null,
      "outputs": [
        {
          "output_type": "stream",
          "text": [
            "14.338197201216364\n",
            "3.786581202247796\n"
          ],
          "name": "stdout"
        }
      ]
    },
    {
      "cell_type": "markdown",
      "metadata": {
        "id": "Oyytd3gr70TY"
      },
      "source": [
        "# Treinando com diferentes algoritmos\n",
        "\n",
        "Utilizando:\n",
        "- Linear Regression\n",
        "- Random Forest\n",
        "- Gradient Boosting\n",
        "- Xgboost (com gpu)"
      ]
    },
    {
      "cell_type": "code",
      "metadata": {
        "id": "fqPQYaUh70Tk"
      },
      "source": [
        "models = {}\n",
        "models[\"LR\"] = {'model': LinearRegression()}\n",
        "models[\"RFR\"] = {'model': RandomForestRegressor()}\n",
        "models[\"GB\"] = {'model': GradientBoostingRegressor()}\n",
        "models[\"XGB\"] = {'model': XGBRegressor(tree_method='gpu_hist')}"
      ],
      "execution_count": null,
      "outputs": []
    },
    {
      "cell_type": "code",
      "metadata": {
        "id": "lDb2_lMO70T0",
        "outputId": "ae1724d5-2957-4c14-a932-cc57191f24dc",
        "colab": {
          "base_uri": "https://localhost:8080/",
          "height": 164
        }
      },
      "source": [
        "for item in models:\n",
        "    start = time.time()\n",
        "    print(f\"Treinando {item}\")\n",
        "    models[item]['model'].fit(X_train, y_train)\n",
        "    models[item]['y_pred'] = models[item]['model'].predict(X_test)\n",
        "    models[item]['rmse'] = np.sqrt(metrics.mean_squared_error(y_test, models[item]['y_pred']))\n",
        "    models[item]['execution'] = time.time() - start"
      ],
      "execution_count": null,
      "outputs": [
        {
          "output_type": "stream",
          "text": [
            "Treinando LR\n",
            "Treinando RFR\n",
            "Treinando GB\n",
            "Treinando XGB\n"
          ],
          "name": "stdout"
        },
        {
          "output_type": "stream",
          "text": [
            "/usr/local/lib/python3.6/dist-packages/xgboost/core.py:587: FutureWarning: Series.base is deprecated and will be removed in a future version\n",
            "  if getattr(data, 'base', None) is not None and \\\n"
          ],
          "name": "stderr"
        },
        {
          "output_type": "stream",
          "text": [
            "[21:34:18] WARNING: /workspace/src/objective/regression_obj.cu:152: reg:linear is now deprecated in favor of reg:squarederror.\n"
          ],
          "name": "stdout"
        }
      ]
    },
    {
      "cell_type": "code",
      "metadata": {
        "id": "JNVUrwZZ70T6"
      },
      "source": [
        "train = pd.DataFrame(models)"
      ],
      "execution_count": null,
      "outputs": []
    },
    {
      "cell_type": "code",
      "metadata": {
        "id": "_a34UwbB70UC",
        "outputId": "3d25ed2f-fccb-4150-ca4a-b8169e82cb4f",
        "colab": {
          "base_uri": "https://localhost:8080/",
          "height": 175
        }
      },
      "source": [
        "train.T[['y_pred', 'rmse', 'execution']]"
      ],
      "execution_count": null,
      "outputs": [
        {
          "output_type": "execute_result",
          "data": {
            "text/html": [
              "<div>\n",
              "<style scoped>\n",
              "    .dataframe tbody tr th:only-of-type {\n",
              "        vertical-align: middle;\n",
              "    }\n",
              "\n",
              "    .dataframe tbody tr th {\n",
              "        vertical-align: top;\n",
              "    }\n",
              "\n",
              "    .dataframe thead th {\n",
              "        text-align: right;\n",
              "    }\n",
              "</style>\n",
              "<table border=\"1\" class=\"dataframe\">\n",
              "  <thead>\n",
              "    <tr style=\"text-align: right;\">\n",
              "      <th></th>\n",
              "      <th>y_pred</th>\n",
              "      <th>rmse</th>\n",
              "      <th>execution</th>\n",
              "    </tr>\n",
              "  </thead>\n",
              "  <tbody>\n",
              "    <tr>\n",
              "      <th>LR</th>\n",
              "      <td>[48.349358418838605, 48.492168364459786, 48.78...</td>\n",
              "      <td>3.80425</td>\n",
              "      <td>0.967633</td>\n",
              "    </tr>\n",
              "    <tr>\n",
              "      <th>RFR</th>\n",
              "      <td>[48.42009136199951, 49.10262470245361, 50.0304...</td>\n",
              "      <td>3.71906</td>\n",
              "      <td>2547.36</td>\n",
              "    </tr>\n",
              "    <tr>\n",
              "      <th>GB</th>\n",
              "      <td>[48.509154451655085, 48.716102438985246, 49.15...</td>\n",
              "      <td>3.76883</td>\n",
              "      <td>520.354</td>\n",
              "    </tr>\n",
              "    <tr>\n",
              "      <th>XGB</th>\n",
              "      <td>[48.70565, 48.564407, 48.976498, 48.941372, 49...</td>\n",
              "      <td>3.76575</td>\n",
              "      <td>3.72172</td>\n",
              "    </tr>\n",
              "  </tbody>\n",
              "</table>\n",
              "</div>"
            ],
            "text/plain": [
              "                                                y_pred     rmse execution\n",
              "LR   [48.349358418838605, 48.492168364459786, 48.78...  3.80425  0.967633\n",
              "RFR  [48.42009136199951, 49.10262470245361, 50.0304...  3.71906   2547.36\n",
              "GB   [48.509154451655085, 48.716102438985246, 49.15...  3.76883   520.354\n",
              "XGB  [48.70565, 48.564407, 48.976498, 48.941372, 49...  3.76575   3.72172"
            ]
          },
          "metadata": {
            "tags": []
          },
          "execution_count": 27
        }
      ]
    },
    {
      "cell_type": "markdown",
      "metadata": {
        "id": "08DEUBC8UUZa"
      },
      "source": [
        "# Treinando com XGBoost"
      ]
    },
    {
      "cell_type": "code",
      "metadata": {
        "id": "3TRK-u2Q70UK"
      },
      "source": [
        "xgr = xgb.XGBRegressor(tree_method='gpu_hist', objective ='reg:squarederror') # gpu enabled"
      ],
      "execution_count": null,
      "outputs": []
    },
    {
      "cell_type": "code",
      "metadata": {
        "id": "BLnBspc0Utk-",
        "outputId": "9d5bf5ec-dd8d-4886-8e9c-e3784bdc22b8",
        "colab": {
          "base_uri": "https://localhost:8080/",
          "height": 166
        }
      },
      "source": [
        "xgr.fit(X_train, y_train)"
      ],
      "execution_count": null,
      "outputs": [
        {
          "output_type": "execute_result",
          "data": {
            "text/plain": [
              "XGBRegressor(base_score=0.5, booster='gbtree', colsample_bylevel=1,\n",
              "             colsample_bynode=1, colsample_bytree=1, gamma=0,\n",
              "             importance_type='gain', learning_rate=0.1, max_delta_step=0,\n",
              "             max_depth=3, min_child_weight=1, missing=None, n_estimators=100,\n",
              "             n_jobs=1, nthread=None, objective='reg:squarederror',\n",
              "             random_state=0, reg_alpha=0, reg_lambda=1, scale_pos_weight=1,\n",
              "             seed=None, silent=None, subsample=1, tree_method='gpu_hist',\n",
              "             verbosity=1)"
            ]
          },
          "metadata": {
            "tags": []
          },
          "execution_count": 19
        }
      ]
    },
    {
      "cell_type": "code",
      "metadata": {
        "id": "jZy6csr43QKH"
      },
      "source": [
        "pred = xgr.predict(X_test)"
      ],
      "execution_count": null,
      "outputs": []
    },
    {
      "cell_type": "code",
      "metadata": {
        "id": "XF_vQjq13asP",
        "outputId": "f4a2ef84-96c4-4530-86e3-154527c1eed6",
        "colab": {
          "base_uri": "https://localhost:8080/",
          "height": 36
        }
      },
      "source": [
        "rmse = np.sqrt(metrics.mean_squared_error(y_test, pred))\n",
        "rmse"
      ],
      "execution_count": null,
      "outputs": [
        {
          "output_type": "execute_result",
          "data": {
            "text/plain": [
              "3.7386514349957443"
            ]
          },
          "metadata": {
            "tags": []
          },
          "execution_count": 21
        }
      ]
    },
    {
      "cell_type": "markdown",
      "metadata": {
        "id": "iPGayR2ZZlyh"
      },
      "source": [
        "# Importância das features"
      ]
    },
    {
      "cell_type": "code",
      "metadata": {
        "id": "_RaiaMS6980w",
        "outputId": "5c40b946-0a45-4536-86c8-ca0503d12a11",
        "colab": {
          "base_uri": "https://localhost:8080/",
          "height": 314
        }
      },
      "source": [
        "# Testando\n",
        "xgb.plot_importance(xgr)"
      ],
      "execution_count": null,
      "outputs": [
        {
          "output_type": "execute_result",
          "data": {
            "text/plain": [
              "<matplotlib.axes._subplots.AxesSubplot at 0x7f9b8f7a43c8>"
            ]
          },
          "metadata": {
            "tags": []
          },
          "execution_count": 22
        },
        {
          "output_type": "display_data",
          "data": {
            "image/png": "[encoded data removed]",
            "text/plain": [
              "<Figure size 432x288 with 1 Axes>"
            ]
          },
          "metadata": {
            "tags": [],
            "needs_background": "light"
          }
        }
      ]
    },
    {
      "cell_type": "code",
      "metadata": {
        "id": "LiTo-FOSVjJx",
        "outputId": "f5db66a4-add1-4550-f8ae-19bac3c73aa7",
        "colab": {
          "base_uri": "https://localhost:8080/",
          "height": 352
        }
      },
      "source": [
        "xgr.get_booster().feature_names = column_names\n",
        "print(xgr.get_booster().feature_names)\n",
        "xgb.plot_importance(xgr)"
      ],
      "execution_count": null,
      "outputs": [
        {
          "output_type": "stream",
          "text": [
            "['day_of_week', 'slot_of_day', 'lane', 'size5', 'min5', 'max5', 'avg5', 'std5', 'size30', 'min30', 'max30', 'avg30', 'std30', 'size1w', 'min1w', 'max1w', 'avg1w', 'std1w', 'size2w', 'min2w', 'max2w', 'avg2w', 'std2w', 'working_day', 'speed_limit', 'label']\n"
          ],
          "name": "stdout"
        },
        {
          "output_type": "execute_result",
          "data": {
            "text/plain": [
              "<matplotlib.axes._subplots.AxesSubplot at 0x7f9b86070cf8>"
            ]
          },
          "metadata": {
            "tags": []
          },
          "execution_count": 23
        },
        {
          "output_type": "display_data",
          "data": {
            "image/png": "[encoded data removed]",
            "text/plain": [
              "<Figure size 432x288 with 1 Axes>"
            ]
          },
          "metadata": {
            "tags": [],
            "needs_background": "light"
          }
        }
      ]
    },
    {
      "cell_type": "markdown",
      "metadata": {
        "id": "CKf_xAnEZ33m"
      },
      "source": [
        "# Usando early stopping e eval_set"
      ]
    },
    {
      "cell_type": "code",
      "metadata": {
        "id": "O9FGFTqYmTIa"
      },
      "source": [
        "eval_set = [(X_val, y_val)]"
      ],
      "execution_count": null,
      "outputs": []
    },
    {
      "cell_type": "markdown",
      "metadata": {
        "id": "y0Z1Wro1Xog4"
      },
      "source": [
        "Definindo parâmetros para uso no Random Search"
      ]
    },
    {
      "cell_type": "code",
      "metadata": {
        "id": "57-Ak_1YMdlG"
      },
      "source": [
        "params = {\n",
        "        'learning_rate': [0.1, 0.01],\n",
        "        'max_depth': [3, 5, 7, 9, 12],\n",
        "}"
      ],
      "execution_count": null,
      "outputs": []
    },
    {
      "cell_type": "code",
      "metadata": {
        "id": "EOzqH5_LWnsi"
      },
      "source": [
        "# Instaciando novo modelo\n",
        "model = xgb.XGBRegressor(n_estimators=3000, tree_method='gpu_hist', objective ='reg:squarederror')"
      ],
      "execution_count": null,
      "outputs": []
    },
    {
      "cell_type": "code",
      "metadata": {
        "id": "tDjJEISaWz1A"
      },
      "source": [
        "# Utility function to report best scores\n",
        "def report(results, n_top=3):\n",
        "    for i in range(1, n_top + 1):\n",
        "        candidates = np.flatnonzero(results['rank_test_score'] == i)\n",
        "        for candidate in candidates:\n",
        "            print(\"Model with rank: {0}\".format(i))\n",
        "            print(\"Mean validation score: {0:.3f} (std: {1:.3f})\"\n",
        "                  .format(results['mean_test_score'][candidate],\n",
        "                          results['std_test_score'][candidate]))\n",
        "            print(\"Parameters: {0}\".format(results['params'][candidate]))\n",
        "            print(\"\")\n"
      ],
      "execution_count": null,
      "outputs": []
    },
    {
      "cell_type": "code",
      "metadata": {
        "id": "60kBXN5YWovU"
      },
      "source": [
        "# randomized search\n",
        "n_iter_search = 10\n",
        "random_search = RandomizedSearchCV(model, param_distributions=params,\n",
        "                                   n_iter=n_iter_search, cv=5, random_state=seed, verbose=2)"
      ],
      "execution_count": null,
      "outputs": []
    },
    {
      "cell_type": "markdown",
      "metadata": {
        "id": "-fquEzyB-QIM"
      },
      "source": [
        "1- Utilizar treino + validação para fazer Randomized Search.  \n",
        "2- Com os hyperparameters, fazer treino com os melhores.  \n",
        "3- Avaliar o algoritmo utilizando o conjunto de teste.  \n",
        "4- Tabular todos os resultados em uma planilha a título de comparação (algoritmos e seus hiperparâmetros)."
      ]
    },
    {
      "cell_type": "markdown",
      "metadata": {
        "id": "Uuu0NvhCgSS_"
      },
      "source": [
        "Unindo dados de treino e validação/teste e validação para treinamento no Randomized Search"
      ]
    },
    {
      "cell_type": "code",
      "metadata": {
        "id": "UI28B3l-4Sm5"
      },
      "source": [
        "data = np.concatenate((X_train, X_val), axis=0)\n",
        "target = np.concatenate((y_train, y_val))"
      ],
      "execution_count": null,
      "outputs": []
    },
    {
      "cell_type": "code",
      "metadata": {
        "id": "jmmfMTKRWoio",
        "outputId": "12c76832-8e36-41d6-b584-a3bef6e2fc9e",
        "colab": {
          "base_uri": "https://localhost:8080/",
          "height": 1000
        }
      },
      "source": [
        "start = time()\n",
        "random_search.fit(X=data, y=target)\n",
        "\n",
        "print(\"RandomizedSearchCV took %.2f seconds for %d candidates\"\n",
        "      \" parameter settings.\" % ((time() - start), n_iter_search))\n",
        "\n",
        "report(random_search.cv_results_, 7)"
      ],
      "execution_count": null,
      "outputs": [
        {
          "output_type": "stream",
          "text": [
            "Fitting 5 folds for each of 10 candidates, totalling 50 fits\n"
          ],
          "name": "stdout"
        },
        {
          "output_type": "stream",
          "text": [
            "[Parallel(n_jobs=1)]: Using backend SequentialBackend with 1 concurrent workers.\n"
          ],
          "name": "stderr"
        },
        {
          "output_type": "stream",
          "text": [
            "[CV] max_depth=3, learning_rate=0.1 ..................................\n",
            "[CV] ................... max_depth=3, learning_rate=0.1, total=  24.7s\n"
          ],
          "name": "stdout"
        },
        {
          "output_type": "stream",
          "text": [
            "[Parallel(n_jobs=1)]: Done   1 out of   1 | elapsed:   24.7s remaining:    0.0s\n"
          ],
          "name": "stderr"
        },
        {
          "output_type": "stream",
          "text": [
            "[CV] max_depth=3, learning_rate=0.1 ..................................\n",
            "[CV] ................... max_depth=3, learning_rate=0.1, total=  24.7s\n",
            "[CV] max_depth=3, learning_rate=0.1 ..................................\n",
            "[CV] ................... max_depth=3, learning_rate=0.1, total=  24.7s\n",
            "[CV] max_depth=3, learning_rate=0.1 ..................................\n",
            "[CV] ................... max_depth=3, learning_rate=0.1, total=  24.8s\n",
            "[CV] max_depth=3, learning_rate=0.1 ..................................\n",
            "[CV] ................... max_depth=3, learning_rate=0.1, total=  24.8s\n",
            "[CV] max_depth=5, learning_rate=0.1 ..................................\n",
            "[CV] ................... max_depth=5, learning_rate=0.1, total=  29.9s\n",
            "[CV] max_depth=5, learning_rate=0.1 ..................................\n",
            "[CV] ................... max_depth=5, learning_rate=0.1, total=  30.2s\n",
            "[CV] max_depth=5, learning_rate=0.1 ..................................\n",
            "[CV] ................... max_depth=5, learning_rate=0.1, total=  29.9s\n",
            "[CV] max_depth=5, learning_rate=0.1 ..................................\n",
            "[CV] ................... max_depth=5, learning_rate=0.1, total=  29.8s\n",
            "[CV] max_depth=5, learning_rate=0.1 ..................................\n",
            "[CV] ................... max_depth=5, learning_rate=0.1, total=  29.9s\n",
            "[CV] max_depth=7, learning_rate=0.1 ..................................\n",
            "[CV] ................... max_depth=7, learning_rate=0.1, total=  43.8s\n",
            "[CV] max_depth=7, learning_rate=0.1 ..................................\n",
            "[CV] ................... max_depth=7, learning_rate=0.1, total=  43.8s\n",
            "[CV] max_depth=7, learning_rate=0.1 ..................................\n",
            "[CV] ................... max_depth=7, learning_rate=0.1, total=  43.8s\n",
            "[CV] max_depth=7, learning_rate=0.1 ..................................\n",
            "[CV] ................... max_depth=7, learning_rate=0.1, total=  43.9s\n",
            "[CV] max_depth=7, learning_rate=0.1 ..................................\n",
            "[CV] ................... max_depth=7, learning_rate=0.1, total=  44.4s\n",
            "[CV] max_depth=9, learning_rate=0.1 ..................................\n",
            "[CV] ................... max_depth=9, learning_rate=0.1, total= 1.5min\n",
            "[CV] max_depth=9, learning_rate=0.1 ..................................\n",
            "[CV] ................... max_depth=9, learning_rate=0.1, total= 1.5min\n",
            "[CV] max_depth=9, learning_rate=0.1 ..................................\n",
            "[CV] ................... max_depth=9, learning_rate=0.1, total= 1.5min\n",
            "[CV] max_depth=9, learning_rate=0.1 ..................................\n",
            "[CV] ................... max_depth=9, learning_rate=0.1, total= 1.5min\n",
            "[CV] max_depth=9, learning_rate=0.1 ..................................\n",
            "[CV] ................... max_depth=9, learning_rate=0.1, total= 1.5min\n",
            "[CV] max_depth=12, learning_rate=0.1 .................................\n",
            "[CV] .................. max_depth=12, learning_rate=0.1, total= 6.4min\n",
            "[CV] max_depth=12, learning_rate=0.1 .................................\n",
            "[CV] .................. max_depth=12, learning_rate=0.1, total= 6.4min\n",
            "[CV] max_depth=12, learning_rate=0.1 .................................\n",
            "[CV] .................. max_depth=12, learning_rate=0.1, total= 6.3min\n",
            "[CV] max_depth=12, learning_rate=0.1 .................................\n",
            "[CV] .................. max_depth=12, learning_rate=0.1, total= 6.3min\n",
            "[CV] max_depth=12, learning_rate=0.1 .................................\n",
            "[CV] .................. max_depth=12, learning_rate=0.1, total= 6.3min\n",
            "[CV] max_depth=3, learning_rate=0.01 .................................\n",
            "[CV] .................. max_depth=3, learning_rate=0.01, total=  25.5s\n",
            "[CV] max_depth=3, learning_rate=0.01 .................................\n",
            "[CV] .................. max_depth=3, learning_rate=0.01, total=  26.2s\n",
            "[CV] max_depth=3, learning_rate=0.01 .................................\n",
            "[CV] .................. max_depth=3, learning_rate=0.01, total=  25.5s\n",
            "[CV] max_depth=3, learning_rate=0.01 .................................\n",
            "[CV] .................. max_depth=3, learning_rate=0.01, total=  25.6s\n",
            "[CV] max_depth=3, learning_rate=0.01 .................................\n",
            "[CV] .................. max_depth=3, learning_rate=0.01, total=  25.7s\n",
            "[CV] max_depth=5, learning_rate=0.01 .................................\n",
            "[CV] .................. max_depth=5, learning_rate=0.01, total=  31.5s\n",
            "[CV] max_depth=5, learning_rate=0.01 .................................\n",
            "[CV] .................. max_depth=5, learning_rate=0.01, total=  31.5s\n",
            "[CV] max_depth=5, learning_rate=0.01 .................................\n",
            "[CV] .................. max_depth=5, learning_rate=0.01, total=  31.5s\n",
            "[CV] max_depth=5, learning_rate=0.01 .................................\n",
            "[CV] .................. max_depth=5, learning_rate=0.01, total=  31.6s\n",
            "[CV] max_depth=5, learning_rate=0.01 .................................\n",
            "[CV] .................. max_depth=5, learning_rate=0.01, total=  31.6s\n",
            "[CV] max_depth=7, learning_rate=0.01 .................................\n",
            "[CV] .................. max_depth=7, learning_rate=0.01, total=  45.4s\n",
            "[CV] max_depth=7, learning_rate=0.01 .................................\n",
            "[CV] .................. max_depth=7, learning_rate=0.01, total=  45.6s\n",
            "[CV] max_depth=7, learning_rate=0.01 .................................\n",
            "[CV] .................. max_depth=7, learning_rate=0.01, total=  45.3s\n",
            "[CV] max_depth=7, learning_rate=0.01 .................................\n",
            "[CV] .................. max_depth=7, learning_rate=0.01, total=  44.9s\n",
            "[CV] max_depth=7, learning_rate=0.01 .................................\n",
            "[CV] .................. max_depth=7, learning_rate=0.01, total=  45.4s\n",
            "[CV] max_depth=9, learning_rate=0.01 .................................\n",
            "[CV] .................. max_depth=9, learning_rate=0.01, total= 1.5min\n",
            "[CV] max_depth=9, learning_rate=0.01 .................................\n",
            "[CV] .................. max_depth=9, learning_rate=0.01, total= 1.4min\n",
            "[CV] max_depth=9, learning_rate=0.01 .................................\n",
            "[CV] .................. max_depth=9, learning_rate=0.01, total= 1.4min\n",
            "[CV] max_depth=9, learning_rate=0.01 .................................\n",
            "[CV] .................. max_depth=9, learning_rate=0.01, total= 1.4min\n",
            "[CV] max_depth=9, learning_rate=0.01 .................................\n",
            "[CV] .................. max_depth=9, learning_rate=0.01, total= 1.4min\n",
            "[CV] max_depth=12, learning_rate=0.01 ................................\n",
            "[CV] ................. max_depth=12, learning_rate=0.01, total= 5.3min\n",
            "[CV] max_depth=12, learning_rate=0.01 ................................\n",
            "[CV] ................. max_depth=12, learning_rate=0.01, total= 5.3min\n",
            "[CV] max_depth=12, learning_rate=0.01 ................................\n",
            "[CV] ................. max_depth=12, learning_rate=0.01, total= 5.2min\n",
            "[CV] max_depth=12, learning_rate=0.01 ................................\n",
            "[CV] ................. max_depth=12, learning_rate=0.01, total= 5.4min\n",
            "[CV] max_depth=12, learning_rate=0.01 ................................\n",
            "[CV] ................. max_depth=12, learning_rate=0.01, total= 5.4min\n"
          ],
          "name": "stdout"
        },
        {
          "output_type": "stream",
          "text": [
            "[Parallel(n_jobs=1)]: Done  50 out of  50 | elapsed: 89.9min finished\n"
          ],
          "name": "stderr"
        },
        {
          "output_type": "stream",
          "text": [
            "RandomizedSearchCV took 5723.82 seconds for 10 candidates parameter settings.\n",
            "Model with rank: 1\n",
            "Mean validation score: 0.864 (std: 0.001)\n",
            "Parameters: {'max_depth': 12, 'learning_rate': 0.01}\n",
            "\n",
            "Model with rank: 2\n",
            "Mean validation score: 0.864 (std: 0.000)\n",
            "Parameters: {'max_depth': 9, 'learning_rate': 0.01}\n",
            "\n",
            "Model with rank: 3\n",
            "Mean validation score: 0.863 (std: 0.000)\n",
            "Parameters: {'max_depth': 7, 'learning_rate': 0.01}\n",
            "\n",
            "Model with rank: 4\n",
            "Mean validation score: 0.861 (std: 0.000)\n",
            "Parameters: {'max_depth': 5, 'learning_rate': 0.01}\n",
            "\n",
            "Model with rank: 5\n",
            "Mean validation score: 0.861 (std: 0.000)\n",
            "Parameters: {'max_depth': 5, 'learning_rate': 0.1}\n",
            "\n",
            "Model with rank: 6\n",
            "Mean validation score: 0.860 (std: 0.000)\n",
            "Parameters: {'max_depth': 3, 'learning_rate': 0.1}\n",
            "\n",
            "Model with rank: 7\n",
            "Mean validation score: 0.860 (std: 0.000)\n",
            "Parameters: {'max_depth': 7, 'learning_rate': 0.1}\n",
            "\n"
          ],
          "name": "stdout"
        }
      ]
    },
    {
      "cell_type": "code",
      "metadata": {
        "id": "aVtcVdWQ3yH7",
        "outputId": "2b91ee98-f52d-47e2-b27e-30aee3e3b8db",
        "colab": {
          "base_uri": "https://localhost:8080/",
          "height": 36
        }
      },
      "source": [
        "random_search.best_params_"
      ],
      "execution_count": null,
      "outputs": [
        {
          "output_type": "execute_result",
          "data": {
            "text/plain": [
              "{'learning_rate': 0.01, 'max_depth': 12}"
            ]
          },
          "metadata": {
            "tags": []
          },
          "execution_count": 33
        }
      ]
    },
    {
      "cell_type": "code",
      "metadata": {
        "id": "Yra-w7Gb33Gv",
        "outputId": "8d2b2838-71e2-441a-d4d0-9f78e043b40d",
        "colab": {
          "base_uri": "https://localhost:8080/",
          "height": 166
        }
      },
      "source": [
        "random_search.best_estimator_"
      ],
      "execution_count": null,
      "outputs": [
        {
          "output_type": "execute_result",
          "data": {
            "text/plain": [
              "XGBRegressor(base_score=0.5, booster='gbtree', colsample_bylevel=1,\n",
              "             colsample_bynode=1, colsample_bytree=1, gamma=0,\n",
              "             importance_type='gain', learning_rate=0.01, max_delta_step=0,\n",
              "             max_depth=12, min_child_weight=1, missing=None, n_estimators=3000,\n",
              "             n_jobs=1, nthread=None, objective='reg:squarederror',\n",
              "             random_state=0, reg_alpha=0, reg_lambda=1, scale_pos_weight=1,\n",
              "             seed=None, silent=None, subsample=1, tree_method='gpu_hist',\n",
              "             verbosity=1)"
            ]
          },
          "metadata": {
            "tags": []
          },
          "execution_count": 34
        }
      ]
    },
    {
      "cell_type": "markdown",
      "metadata": {
        "id": "ta-smMaHbUdx"
      },
      "source": [
        "# Bateria de treinamentos com XGBoost"
      ]
    },
    {
      "cell_type": "code",
      "metadata": {
        "id": "SMOezatHhgFW",
        "outputId": "1bb6e10a-a134-4d1c-e840-0eca5e4bb53c",
        "colab": {
          "base_uri": "https://localhost:8080/",
          "height": 162
        }
      },
      "source": [
        "model_1 = xgb.XGBRegressor(n_estimators=3000, tree_method='gpu_hist', objective ='reg:squarederror', learning_rate=0.01,\n",
        "                            max_depth=12, random_state=seed)\n",
        "\n",
        "model_1.fit(X_train, y_train, eval_set=eval_set, eval_metric=\"rmse\", early_stopping_rounds=20, verbose=False)"
      ],
      "execution_count": null,
      "outputs": [
        {
          "output_type": "execute_result",
          "data": {
            "text/plain": [
              "XGBRegressor(base_score=0.5, booster='gbtree', colsample_bylevel=1,\n",
              "             colsample_bynode=1, colsample_bytree=1, gamma=0,\n",
              "             importance_type='gain', learning_rate=0.01, max_delta_step=0,\n",
              "             max_depth=12, min_child_weight=1, missing=None, n_estimators=3000,\n",
              "             n_jobs=1, nthread=None, objective='reg:squarederror',\n",
              "             random_state=42, reg_alpha=0, reg_lambda=1, scale_pos_weight=1,\n",
              "             seed=None, silent=None, subsample=1, tree_method='gpu_hist',\n",
              "             verbosity=1)"
            ]
          },
          "metadata": {
            "tags": []
          },
          "execution_count": 16
        }
      ]
    },
    {
      "cell_type": "code",
      "metadata": {
        "id": "1c9emGukp62i",
        "outputId": "1bffa947-7ac3-4827-9e7e-4607b13e944f",
        "colab": {
          "base_uri": "https://localhost:8080/",
          "height": 72
        }
      },
      "source": [
        "pred = model_1.predict(X_test, ntree_limit=model_1.best_ntree_limit)\n",
        "\n",
        "rmse = np.sqrt(metrics.mean_squared_error(y_test, pred))\n",
        "\n",
        "print(f\"RMSE: {rmse}\")\n",
        "print(f\"Best Score: {model_1.best_score}\\nBest ntree: {model_1.best_ntree_limit}\")"
      ],
      "execution_count": null,
      "outputs": [
        {
          "output_type": "stream",
          "text": [
            "RMSE: 3.746037923953082\n",
            "Best Score: 3.748977\n",
            "Best ntree: 855\n"
          ],
          "name": "stdout"
        }
      ]
    },
    {
      "cell_type": "code",
      "metadata": {
        "id": "13s7ZGKIHb-Z",
        "outputId": "a4d7c59c-597b-40d5-a093-02a0824abb40",
        "colab": {
          "base_uri": "https://localhost:8080/",
          "height": 162
        }
      },
      "source": [
        "model_2 = xgb.XGBRegressor(n_estimators=3000, tree_method='gpu_hist', objective ='reg:squarederror', learning_rate=0.01,\n",
        "                            max_depth=9, random_state=seed)\n",
        "\n",
        "model_2.fit(X_train, y_train, eval_set=eval_set, eval_metric=\"rmse\", early_stopping_rounds=20, verbose=False)"
      ],
      "execution_count": null,
      "outputs": [
        {
          "output_type": "execute_result",
          "data": {
            "text/plain": [
              "XGBRegressor(base_score=0.5, booster='gbtree', colsample_bylevel=1,\n",
              "             colsample_bynode=1, colsample_bytree=1, gamma=0,\n",
              "             importance_type='gain', learning_rate=0.01, max_delta_step=0,\n",
              "             max_depth=9, min_child_weight=1, missing=None, n_estimators=3000,\n",
              "             n_jobs=1, nthread=None, objective='reg:squarederror',\n",
              "             random_state=42, reg_alpha=0, reg_lambda=1, scale_pos_weight=1,\n",
              "             seed=None, silent=None, subsample=1, tree_method='gpu_hist',\n",
              "             verbosity=1)"
            ]
          },
          "metadata": {
            "tags": []
          },
          "execution_count": 20
        }
      ]
    },
    {
      "cell_type": "code",
      "metadata": {
        "id": "AyatELeiH6Mv",
        "outputId": "e594916f-029c-4e83-fcd4-b9e493c8fc2c",
        "colab": {
          "base_uri": "https://localhost:8080/",
          "height": 72
        }
      },
      "source": [
        "pred_2 = model_2.predict(X_test, ntree_limit=model_2.best_ntree_limit)\n",
        "\n",
        "rmse_2 = np.sqrt(metrics.mean_squared_error(y_test, pred_2))\n",
        "print(f\"RMSE: {rmse_2}\")\n",
        "print(f\"Best Score: {model_2.best_score}\\nBest ntree: {model_2.best_ntree_limit}\")"
      ],
      "execution_count": null,
      "outputs": [
        {
          "output_type": "stream",
          "text": [
            "RMSE: 3.761557234578361\n",
            "Best Score: 3.766927\n",
            "Best ntree: 785\n"
          ],
          "name": "stdout"
        }
      ]
    },
    {
      "cell_type": "code",
      "metadata": {
        "id": "LqjUCgcdISFF",
        "outputId": "ccc53365-a0cf-4e06-c1ee-56c94aa1a4db",
        "colab": {
          "base_uri": "https://localhost:8080/",
          "height": 162
        }
      },
      "source": [
        "model_3 = xgb.XGBRegressor(n_estimators=3000, tree_method='gpu_hist', objective ='reg:squarederror', learning_rate=0.01,\n",
        "                            max_depth=7, random_state=seed)\n",
        "\n",
        "model_3.fit(X_train, y_train, eval_set=eval_set, eval_metric=\"rmse\", early_stopping_rounds=20, verbose=False)"
      ],
      "execution_count": null,
      "outputs": [
        {
          "output_type": "execute_result",
          "data": {
            "text/plain": [
              "XGBRegressor(base_score=0.5, booster='gbtree', colsample_bylevel=1,\n",
              "             colsample_bynode=1, colsample_bytree=1, gamma=0,\n",
              "             importance_type='gain', learning_rate=0.01, max_delta_step=0,\n",
              "             max_depth=7, min_child_weight=1, missing=None, n_estimators=3000,\n",
              "             n_jobs=1, nthread=None, objective='reg:squarederror',\n",
              "             random_state=42, reg_alpha=0, reg_lambda=1, scale_pos_weight=1,\n",
              "             seed=None, silent=None, subsample=1, tree_method='gpu_hist',\n",
              "             verbosity=1)"
            ]
          },
          "metadata": {
            "tags": []
          },
          "execution_count": 23
        }
      ]
    },
    {
      "cell_type": "code",
      "metadata": {
        "id": "hdGkvKxMIZFE",
        "outputId": "78192aee-364a-4c26-fcaa-f9a339fb2c05",
        "colab": {
          "base_uri": "https://localhost:8080/",
          "height": 72
        }
      },
      "source": [
        "pred_3 = model_3.predict(X_test, ntree_limit=model_3.best_ntree_limit)\n",
        "\n",
        "rmse_3 = np.sqrt(metrics.mean_squared_error(y_test, pred_3))\n",
        "print(f\"RMSE: {rmse_3}\")\n",
        "print(f\"Best Score: {model_3.best_score}\\nBest ntree: {model_3.best_ntree_limit}\")"
      ],
      "execution_count": null,
      "outputs": [
        {
          "output_type": "stream",
          "text": [
            "RMSE: 3.778523101712348\n",
            "Best Score: 3.781463\n",
            "Best ntree: 1706\n"
          ],
          "name": "stdout"
        }
      ]
    },
    {
      "cell_type": "code",
      "metadata": {
        "id": "eFdwE0zvMY2v",
        "outputId": "15120105-80a8-4b4a-f2a4-24b6fe0f5b82",
        "colab": {
          "base_uri": "https://localhost:8080/",
          "height": 162
        }
      },
      "source": [
        "# Instaciando novo modelo\n",
        "model_4 = xgb.XGBRegressor(tree_method='gpu_hist', objective ='reg:squarederror',\n",
        "                           max_depth=5, learning_rate=0.01, n_estimators=5000)\n",
        "\n",
        "model_4.fit(X_train, y_train, eval_set=eval_set, eval_metric=\"rmse\", early_stopping_rounds=20, verbose=False)"
      ],
      "execution_count": null,
      "outputs": [
        {
          "output_type": "execute_result",
          "data": {
            "text/plain": [
              "XGBRegressor(base_score=0.5, booster='gbtree', colsample_bylevel=1,\n",
              "             colsample_bynode=1, colsample_bytree=1, gamma=0,\n",
              "             importance_type='gain', learning_rate=0.01, max_delta_step=0,\n",
              "             max_depth=5, min_child_weight=1, missing=None, n_estimators=5000,\n",
              "             n_jobs=1, nthread=None, objective='reg:squarederror',\n",
              "             random_state=0, reg_alpha=0, reg_lambda=1, scale_pos_weight=1,\n",
              "             seed=None, silent=None, subsample=1, tree_method='gpu_hist',\n",
              "             verbosity=1)"
            ]
          },
          "metadata": {
            "tags": []
          },
          "execution_count": 29
        }
      ]
    },
    {
      "cell_type": "code",
      "metadata": {
        "id": "RlgvvQMPNVwo",
        "outputId": "1afb6f0e-bf89-4f49-8f3d-636d7c1e1b78",
        "colab": {
          "base_uri": "https://localhost:8080/",
          "height": 72
        }
      },
      "source": [
        "pred_4 = model_4.predict(X_test, ntree_limit=model_4.best_ntree_limit)\n",
        "\n",
        "rmse_4 = np.sqrt(metrics.mean_squared_error(y_test, pred_4))\n",
        "print(f\"RMSE: {rmse_4}\")\n",
        "print(f\"Best Score: {model_4.best_score}\\nBest ntree: {model_4.best_ntree_limit}\")"
      ],
      "execution_count": null,
      "outputs": [
        {
          "output_type": "stream",
          "text": [
            "RMSE: 3.794371903380169\n",
            "Best Score: 3.796256\n",
            "Best ntree: 4161\n"
          ],
          "name": "stdout"
        }
      ]
    },
    {
      "cell_type": "code",
      "metadata": {
        "id": "ySIFYoJqrKBL",
        "outputId": "d5b99c4c-bb97-486e-8ed2-aa9594ee00e9",
        "colab": {
          "base_uri": "https://localhost:8080/",
          "height": 162
        }
      },
      "source": [
        "model_5 = xgb.XGBRegressor(n_estimators=3000, tree_method='gpu_hist', objective ='reg:squarederror', learning_rate=0.1,\n",
        "                            max_depth=5, random_state=seed)\n",
        "\n",
        "model_5.fit(X_train, y_train, eval_set=eval_set, eval_metric=\"rmse\", early_stopping_rounds=20, verbose=False)"
      ],
      "execution_count": null,
      "outputs": [
        {
          "output_type": "execute_result",
          "data": {
            "text/plain": [
              "XGBRegressor(base_score=0.5, booster='gbtree', colsample_bylevel=1,\n",
              "             colsample_bynode=1, colsample_bytree=1, gamma=0,\n",
              "             importance_type='gain', learning_rate=0.1, max_delta_step=0,\n",
              "             max_depth=5, min_child_weight=1, missing=None, n_estimators=3000,\n",
              "             n_jobs=1, nthread=None, objective='reg:squarederror',\n",
              "             random_state=42, reg_alpha=0, reg_lambda=1, scale_pos_weight=1,\n",
              "             seed=None, silent=None, subsample=1, tree_method='gpu_hist',\n",
              "             verbosity=1)"
            ]
          },
          "metadata": {
            "tags": []
          },
          "execution_count": 31
        }
      ]
    },
    {
      "cell_type": "code",
      "metadata": {
        "id": "r0XvsiX6MtNv",
        "outputId": "7ba45ebd-69be-49ad-ccbc-488c89944c1e",
        "colab": {
          "base_uri": "https://localhost:8080/",
          "height": 72
        }
      },
      "source": [
        "pred_5 = model_5.predict(X_test, ntree_limit=model_5.best_ntree_limit)\n",
        "\n",
        "rmse_5 = np.sqrt(metrics.mean_squared_error(y_test, pred_5))\n",
        "print(f\"RMSE: {rmse_5}\")\n",
        "print(f\"Best Score: {model_5.best_score}\\nBest ntree: {model_5.best_ntree_limit}\")"
      ],
      "execution_count": null,
      "outputs": [
        {
          "output_type": "stream",
          "text": [
            "RMSE: 3.792886068435074\n",
            "Best Score: 3.792131\n",
            "Best ntree: 696\n"
          ],
          "name": "stdout"
        }
      ]
    },
    {
      "cell_type": "code",
      "metadata": {
        "id": "g8upvm3NZrHV",
        "outputId": "645912bc-a685-4532-83fa-93edd70c2405",
        "colab": {
          "base_uri": "https://localhost:8080/",
          "height": 162
        }
      },
      "source": [
        "model_6 = xgb.XGBRegressor(n_estimators=3000, tree_method='gpu_hist', objective ='reg:squarederror', learning_rate=0.1,\n",
        "                            max_depth=3, random_state=seed)\n",
        "\n",
        "model_6.fit(X_train, y_train, eval_set=eval_set, eval_metric=\"rmse\", early_stopping_rounds=20, verbose=False)"
      ],
      "execution_count": null,
      "outputs": [
        {
          "output_type": "execute_result",
          "data": {
            "text/plain": [
              "XGBRegressor(base_score=0.5, booster='gbtree', colsample_bylevel=1,\n",
              "             colsample_bynode=1, colsample_bytree=1, gamma=0,\n",
              "             importance_type='gain', learning_rate=0.1, max_delta_step=0,\n",
              "             max_depth=3, min_child_weight=1, missing=None, n_estimators=3000,\n",
              "             n_jobs=1, nthread=None, objective='reg:squarederror',\n",
              "             random_state=42, reg_alpha=0, reg_lambda=1, scale_pos_weight=1,\n",
              "             seed=None, silent=None, subsample=1, tree_method='gpu_hist',\n",
              "             verbosity=1)"
            ]
          },
          "metadata": {
            "tags": []
          },
          "execution_count": 33
        }
      ]
    },
    {
      "cell_type": "code",
      "metadata": {
        "id": "n83FPnHWZ4Tp",
        "outputId": "8dd48a6b-6d4f-4e53-b926-b381d51c9067",
        "colab": {
          "base_uri": "https://localhost:8080/",
          "height": 72
        }
      },
      "source": [
        "pred_6 = model_6.predict(X_test, ntree_limit=model_6.best_ntree_limit)\n",
        "\n",
        "rmse_6 = np.sqrt(metrics.mean_squared_error(y_test, pred_6))\n",
        "print(f\"RMSE: {rmse_6}\")\n",
        "print(f\"Best Score: {model_6.best_score}\\nBest ntree: {model_6.best_ntree_limit}\")"
      ],
      "execution_count": null,
      "outputs": [
        {
          "output_type": "stream",
          "text": [
            "RMSE: 3.813442792112462\n",
            "Best Score: 3.818644\n",
            "Best ntree: 1322\n"
          ],
          "name": "stdout"
        }
      ]
    },
    {
      "cell_type": "code",
      "metadata": {
        "id": "i68mKS_vaHf2",
        "outputId": "0fdda115-4e5f-4dd0-b6bf-6ca5c5b45424",
        "colab": {
          "base_uri": "https://localhost:8080/",
          "height": 162
        }
      },
      "source": [
        "model_7 = xgb.XGBRegressor(n_estimators=3000, tree_method='gpu_hist', objective ='reg:squarederror', learning_rate=0.1,\n",
        "                            max_depth=7, random_state=seed)\n",
        "\n",
        "model_7.fit(X_train, y_train, eval_set=eval_set, eval_metric=\"rmse\", early_stopping_rounds=20, verbose=False)"
      ],
      "execution_count": null,
      "outputs": [
        {
          "output_type": "execute_result",
          "data": {
            "text/plain": [
              "XGBRegressor(base_score=0.5, booster='gbtree', colsample_bylevel=1,\n",
              "             colsample_bynode=1, colsample_bytree=1, gamma=0,\n",
              "             importance_type='gain', learning_rate=0.1, max_delta_step=0,\n",
              "             max_depth=7, min_child_weight=1, missing=None, n_estimators=3000,\n",
              "             n_jobs=1, nthread=None, objective='reg:squarederror',\n",
              "             random_state=42, reg_alpha=0, reg_lambda=1, scale_pos_weight=1,\n",
              "             seed=None, silent=None, subsample=1, tree_method='gpu_hist',\n",
              "             verbosity=1)"
            ]
          },
          "metadata": {
            "tags": []
          },
          "execution_count": 36
        }
      ]
    },
    {
      "cell_type": "code",
      "metadata": {
        "id": "JnBNSG73aRK-",
        "outputId": "98b93f5d-580f-4744-b401-3d3e9e2e09f1",
        "colab": {
          "base_uri": "https://localhost:8080/",
          "height": 72
        }
      },
      "source": [
        "pred_7 = model_7.predict(X_test, ntree_limit=model_7.best_ntree_limit)\n",
        "\n",
        "rmse_7 = np.sqrt(metrics.mean_squared_error(y_test, pred_7))\n",
        "print(f\"RMSE: {rmse_7}\")\n",
        "print(f\"Best Score: {model_7.best_score}\\nBest ntree: {model_7.best_ntree_limit}\")"
      ],
      "execution_count": null,
      "outputs": [
        {
          "output_type": "stream",
          "text": [
            "RMSE: 3.7812545355186513\n",
            "Best Score: 3.781269\n",
            "Best ntree: 279\n"
          ],
          "name": "stdout"
        }
      ]
    },
    {
      "cell_type": "code",
      "metadata": {
        "id": "7vcPA_IKcKhj",
        "outputId": "4d7619a0-9da4-41e5-9fca-9b8f7991ca4d",
        "colab": {
          "base_uri": "https://localhost:8080/",
          "height": 162
        }
      },
      "source": [
        "model_8 = xgb.XGBRegressor(n_estimators=3000, tree_method='gpu_hist', objective ='reg:squarederror', learning_rate=0.01,\n",
        "                            max_depth=12, random_state=seed)\n",
        "\n",
        "model_8.fit(X_train, y_train, eval_set=eval_set, eval_metric=\"rmse\", early_stopping_rounds=30, verbose=False)"
      ],
      "execution_count": null,
      "outputs": [
        {
          "output_type": "execute_result",
          "data": {
            "text/plain": [
              "XGBRegressor(base_score=0.5, booster='gbtree', colsample_bylevel=1,\n",
              "             colsample_bynode=1, colsample_bytree=1, gamma=0,\n",
              "             importance_type='gain', learning_rate=0.01, max_delta_step=0,\n",
              "             max_depth=12, min_child_weight=1, missing=None, n_estimators=3000,\n",
              "             n_jobs=1, nthread=None, objective='reg:squarederror',\n",
              "             random_state=42, reg_alpha=0, reg_lambda=1, scale_pos_weight=1,\n",
              "             seed=None, silent=None, subsample=1, tree_method='gpu_hist',\n",
              "             verbosity=1)"
            ]
          },
          "metadata": {
            "tags": []
          },
          "execution_count": 38
        }
      ]
    },
    {
      "cell_type": "code",
      "metadata": {
        "id": "vUuhYOhmcdoq",
        "outputId": "bba0f3db-233a-4876-b4da-a6a28500f6b2",
        "colab": {
          "base_uri": "https://localhost:8080/",
          "height": 72
        }
      },
      "source": [
        "pred_8 = model_8.predict(X_test, ntree_limit=model_8.best_ntree_limit)\n",
        "\n",
        "rmse_8 = np.sqrt(metrics.mean_squared_error(y_test, pred_8))\n",
        "print(f\"RMSE: {rmse_8}\")\n",
        "print(f\"Best Score: {model_8.best_score}\\nBest ntree: {model_8.best_ntree_limit}\")"
      ],
      "execution_count": null,
      "outputs": [
        {
          "output_type": "stream",
          "text": [
            "RMSE: 3.746037923953082\n",
            "Best Score: 3.748977\n",
            "Best ntree: 855\n"
          ],
          "name": "stdout"
        }
      ]
    },
    {
      "cell_type": "code",
      "metadata": {
        "id": "WVSEbFiGdlr5",
        "outputId": "4a2055f1-9817-4f04-da47-fa4ca27beb97",
        "colab": {
          "base_uri": "https://localhost:8080/",
          "height": 162
        }
      },
      "source": [
        "model_9 = xgb.XGBRegressor(n_estimators=3000, tree_method='gpu_hist', objective ='reg:squarederror', learning_rate=0.01,\n",
        "                            max_depth=15, random_state=seed)\n",
        "\n",
        "model_9.fit(X_train, y_train, eval_set=eval_set, eval_metric=\"rmse\", early_stopping_rounds=20, verbose=False)"
      ],
      "execution_count": null,
      "outputs": [
        {
          "output_type": "execute_result",
          "data": {
            "text/plain": [
              "XGBRegressor(base_score=0.5, booster='gbtree', colsample_bylevel=1,\n",
              "             colsample_bynode=1, colsample_bytree=1, gamma=0,\n",
              "             importance_type='gain', learning_rate=0.01, max_delta_step=0,\n",
              "             max_depth=15, min_child_weight=1, missing=None, n_estimators=3000,\n",
              "             n_jobs=1, nthread=None, objective='reg:squarederror',\n",
              "             random_state=42, reg_alpha=0, reg_lambda=1, scale_pos_weight=1,\n",
              "             seed=None, silent=None, subsample=1, tree_method='gpu_hist',\n",
              "             verbosity=1)"
            ]
          },
          "metadata": {
            "tags": []
          },
          "execution_count": 42
        }
      ]
    },
    {
      "cell_type": "code",
      "metadata": {
        "id": "A0gqjDMIdzHm",
        "outputId": "9b5c03e8-6ab7-4cfd-adde-0496104dc2fc",
        "colab": {
          "base_uri": "https://localhost:8080/",
          "height": 72
        }
      },
      "source": [
        "pred_9 = model_9.predict(X_test, ntree_limit=model_9.best_ntree_limit)\n",
        "\n",
        "rmse_9 = np.sqrt(metrics.mean_squared_error(y_test, pred_9))\n",
        "print(f\"RMSE: {rmse_9}\")\n",
        "print(f\"Best Score: {model_9.best_score}\\nBest ntree: {model_9.best_ntree_limit}\")"
      ],
      "execution_count": null,
      "outputs": [
        {
          "output_type": "stream",
          "text": [
            "RMSE: 3.7547198899401932\n",
            "Best Score: 3.754291\n",
            "Best ntree: 819\n"
          ],
          "name": "stdout"
        }
      ]
    },
    {
      "cell_type": "markdown",
      "metadata": {
        "id": "vW95KCROzy8V"
      },
      "source": [
        "# Salvando modelos"
      ]
    },
    {
      "cell_type": "code",
      "metadata": {
        "id": "cNhxgry6FBaP"
      },
      "source": [
        "# Evitando retrabalho, já que todas as variáveis começam por 'model_\"\n",
        "\n",
        "for i in range(1,10):\n",
        "  joblib.dump(vars()[f'model_{i}'], f'{path}/model_{i}.pkl')"
      ],
      "execution_count": null,
      "outputs": []
    },
    {
      "cell_type": "markdown",
      "metadata": {
        "id": "Rrq80SD83sQd"
      },
      "source": [
        "# Feature importance do melhor modelo\n",
        "\n",
        "O modelo de melhor desempenho foi o modelo armazenado na variável `model_1`, com RMSE de 3,74603.  \n",
        "Vamos desenhar a importância das features deste modelo."
      ]
    },
    {
      "cell_type": "code",
      "metadata": {
        "id": "KAz1_LejCIxh"
      },
      "source": [
        "model_1 = joblib.load(f'{path}/model_1.pkl')"
      ],
      "execution_count": null,
      "outputs": []
    },
    {
      "cell_type": "code",
      "metadata": {
        "id": "JBRpKrn13rpw",
        "outputId": "828f7735-34b4-49e4-d2c3-8b068b2cccc6",
        "colab": {
          "base_uri": "https://localhost:8080/",
          "height": 90
        }
      },
      "source": [
        "model_1.feature_importances_"
      ],
      "execution_count": null,
      "outputs": [
        {
          "output_type": "execute_result",
          "data": {
            "text/plain": [
              "array([0.0019743 , 0.00427621, 0.00454823, 0.00363982, 0.00330007,\n",
              "       0.00370572, 0.0054574 , 0.00374809, 0.00471139, 0.00390885,\n",
              "       0.00405207, 0.9370167 , 0.00459172, 0.00394977, 0.01111963],\n",
              "      dtype=float32)"
            ]
          },
          "metadata": {
            "tags": []
          },
          "execution_count": 17
        }
      ]
    },
    {
      "cell_type": "code",
      "metadata": {
        "id": "gbv38lJQXxrN"
      },
      "source": [
        "model_1.get_booster().feature_names = column_names"
      ],
      "execution_count": null,
      "outputs": []
    },
    {
      "cell_type": "code",
      "metadata": {
        "id": "xjWHDjM2Nkr1",
        "outputId": "d9e464ce-a6d7-46e4-bcc1-2379e4f03468",
        "colab": {
          "base_uri": "https://localhost:8080/",
          "height": 476
        }
      },
      "source": [
        "xgb.plot_importance(model_1.get_booster())"
      ],
      "execution_count": null,
      "outputs": [
        {
          "output_type": "execute_result",
          "data": {
            "text/plain": [
              "<matplotlib.axes._subplots.AxesSubplot at 0x7fbad03a10b8>"
            ]
          },
          "metadata": {
            "tags": []
          },
          "execution_count": 42
        },
        {
          "output_type": "display_data",
          "data": {
            "image/png": "[encoded data removed]",
            "text/plain": [
              "<Figure size 1008x504 with 1 Axes>"
            ]
          },
          "metadata": {
            "tags": [],
            "needs_background": "light"
          }
        }
      ]
    },
    {
      "cell_type": "code",
      "metadata": {
        "id": "oHvyuAm6KPyD",
        "outputId": "5331cfc2-62b8-4ae7-8cc5-67df272b60fa",
        "colab": {
          "base_uri": "https://localhost:8080/",
          "height": 446
        }
      },
      "source": [
        "# Get the booster from the xgbmodel\n",
        "booster = model_1.get_booster()\n",
        "\n",
        "importance = booster.get_score(importance_type=\"weight\")\n",
        "\n",
        "total = sum(importance.values())\n",
        "\n",
        "# iter into keys\n",
        "for key in importance.keys():\n",
        "    importance[key] = importance[key]/total\n",
        "\n",
        "keys = list(importance.keys())\n",
        "values = list(importance.values())\n",
        "\n",
        "data = pd.DataFrame(data=values, index=keys, columns=[\"score\"]).sort_values(by = \"score\", ascending=True)\n",
        "data.plot(kind='barh')"
      ],
      "execution_count": null,
      "outputs": [
        {
          "output_type": "execute_result",
          "data": {
            "text/plain": [
              "<matplotlib.axes._subplots.AxesSubplot at 0x7fbabce99c88>"
            ]
          },
          "metadata": {
            "tags": []
          },
          "execution_count": 45
        },
        {
          "output_type": "display_data",
          "data": {
            "image/png": "[encoded data removed]",
            "text/plain": [
              "<Figure size 1008x504 with 1 Axes>"
            ]
          },
          "metadata": {
            "tags": [],
            "needs_background": "light"
          }
        }
      ]
    },
    {
      "cell_type": "markdown",
      "metadata": {
        "id": "EvjOa1vTO-2v"
      },
      "source": [
        "# Treinando modelos separadamente para features de 5 minutos"
      ]
    },
    {
      "cell_type": "code",
      "metadata": {
        "id": "edaUGpgVPNWU"
      },
      "source": [
        "# Instanciando melhor modelo\n",
        "\n",
        "best_xgb = xgb.XGBRegressor(n_estimators=3000, tree_method='gpu_hist', objective ='reg:squarederror', learning_rate=0.01,\n",
        "                            max_depth=12, random_state=seed)"
      ],
      "execution_count": null,
      "outputs": []
    },
    {
      "cell_type": "markdown",
      "metadata": {
        "id": "_ItvUZHWc7Bm"
      },
      "source": [
        "Retirando features de 30 minutos do dataset"
      ]
    },
    {
      "cell_type": "code",
      "metadata": {
        "id": "qDCO6vIWdQ0F",
        "outputId": "19aa5897-d17f-4f68-f0e9-2aeaeedcb20e",
        "colab": {
          "base_uri": "https://localhost:8080/",
          "height": 226
        }
      },
      "source": [
        "df.head()"
      ],
      "execution_count": null,
      "outputs": [
        {
          "output_type": "execute_result",
          "data": {
            "text/html": [
              "<div>\n",
              "<style scoped>\n",
              "    .dataframe tbody tr th:only-of-type {\n",
              "        vertical-align: middle;\n",
              "    }\n",
              "\n",
              "    .dataframe tbody tr th {\n",
              "        vertical-align: top;\n",
              "    }\n",
              "\n",
              "    .dataframe thead th {\n",
              "        text-align: right;\n",
              "    }\n",
              "</style>\n",
              "<table border=\"1\" class=\"dataframe\">\n",
              "  <thead>\n",
              "    <tr style=\"text-align: right;\">\n",
              "      <th></th>\n",
              "      <th>day_of_week</th>\n",
              "      <th>slot_of_day</th>\n",
              "      <th>lane</th>\n",
              "      <th>size5</th>\n",
              "      <th>min5</th>\n",
              "      <th>max5</th>\n",
              "      <th>avg5</th>\n",
              "      <th>std5</th>\n",
              "      <th>size30</th>\n",
              "      <th>min30</th>\n",
              "      <th>max30</th>\n",
              "      <th>avg30</th>\n",
              "      <th>std30</th>\n",
              "      <th>size1w</th>\n",
              "      <th>min1w</th>\n",
              "      <th>max1w</th>\n",
              "      <th>avg1w</th>\n",
              "      <th>std1w</th>\n",
              "      <th>size2w</th>\n",
              "      <th>min2w</th>\n",
              "      <th>max2w</th>\n",
              "      <th>avg2w</th>\n",
              "      <th>std2w</th>\n",
              "      <th>working_day</th>\n",
              "      <th>speed_limit</th>\n",
              "      <th>label</th>\n",
              "    </tr>\n",
              "  </thead>\n",
              "  <tbody>\n",
              "    <tr>\n",
              "      <th>0</th>\n",
              "      <td>4</td>\n",
              "      <td>0</td>\n",
              "      <td>3</td>\n",
              "      <td>33</td>\n",
              "      <td>32.0</td>\n",
              "      <td>59.0</td>\n",
              "      <td>49.484848</td>\n",
              "      <td>6.035859</td>\n",
              "      <td>168.0</td>\n",
              "      <td>25.0</td>\n",
              "      <td>61.0</td>\n",
              "      <td>49.678571</td>\n",
              "      <td>5.961505</td>\n",
              "      <td>55.0</td>\n",
              "      <td>40.0</td>\n",
              "      <td>58.0</td>\n",
              "      <td>49.654545</td>\n",
              "      <td>4.521537</td>\n",
              "      <td>32.0</td>\n",
              "      <td>25.0</td>\n",
              "      <td>58.0</td>\n",
              "      <td>47.56250</td>\n",
              "      <td>7.676822</td>\n",
              "      <td>1</td>\n",
              "      <td>67</td>\n",
              "      <td>50.799999</td>\n",
              "    </tr>\n",
              "    <tr>\n",
              "      <th>1</th>\n",
              "      <td>4</td>\n",
              "      <td>1</td>\n",
              "      <td>3</td>\n",
              "      <td>34</td>\n",
              "      <td>35.0</td>\n",
              "      <td>62.0</td>\n",
              "      <td>51.735294</td>\n",
              "      <td>5.569396</td>\n",
              "      <td>174.0</td>\n",
              "      <td>25.0</td>\n",
              "      <td>62.0</td>\n",
              "      <td>50.114943</td>\n",
              "      <td>6.018984</td>\n",
              "      <td>51.0</td>\n",
              "      <td>37.0</td>\n",
              "      <td>60.0</td>\n",
              "      <td>49.862743</td>\n",
              "      <td>5.250657</td>\n",
              "      <td>26.0</td>\n",
              "      <td>33.0</td>\n",
              "      <td>59.0</td>\n",
              "      <td>50.76923</td>\n",
              "      <td>4.979247</td>\n",
              "      <td>1</td>\n",
              "      <td>67</td>\n",
              "      <td>52.692307</td>\n",
              "    </tr>\n",
              "    <tr>\n",
              "      <th>2</th>\n",
              "      <td>4</td>\n",
              "      <td>2</td>\n",
              "      <td>3</td>\n",
              "      <td>32</td>\n",
              "      <td>37.0</td>\n",
              "      <td>60.0</td>\n",
              "      <td>51.593750</td>\n",
              "      <td>5.011608</td>\n",
              "      <td>188.0</td>\n",
              "      <td>25.0</td>\n",
              "      <td>62.0</td>\n",
              "      <td>50.494681</td>\n",
              "      <td>5.920122</td>\n",
              "      <td>30.0</td>\n",
              "      <td>37.0</td>\n",
              "      <td>56.0</td>\n",
              "      <td>48.966667</td>\n",
              "      <td>5.186414</td>\n",
              "      <td>24.0</td>\n",
              "      <td>11.0</td>\n",
              "      <td>56.0</td>\n",
              "      <td>47.25000</td>\n",
              "      <td>9.138973</td>\n",
              "      <td>1</td>\n",
              "      <td>67</td>\n",
              "      <td>50.000000</td>\n",
              "    </tr>\n",
              "    <tr>\n",
              "      <th>3</th>\n",
              "      <td>4</td>\n",
              "      <td>3</td>\n",
              "      <td>3</td>\n",
              "      <td>30</td>\n",
              "      <td>31.0</td>\n",
              "      <td>57.0</td>\n",
              "      <td>49.266666</td>\n",
              "      <td>5.519260</td>\n",
              "      <td>185.0</td>\n",
              "      <td>29.0</td>\n",
              "      <td>62.0</td>\n",
              "      <td>50.437838</td>\n",
              "      <td>5.835370</td>\n",
              "      <td>21.0</td>\n",
              "      <td>37.0</td>\n",
              "      <td>58.0</td>\n",
              "      <td>49.190475</td>\n",
              "      <td>5.188073</td>\n",
              "      <td>21.0</td>\n",
              "      <td>40.0</td>\n",
              "      <td>55.0</td>\n",
              "      <td>48.57143</td>\n",
              "      <td>4.593696</td>\n",
              "      <td>1</td>\n",
              "      <td>67</td>\n",
              "      <td>48.615383</td>\n",
              "    </tr>\n",
              "    <tr>\n",
              "      <th>4</th>\n",
              "      <td>4</td>\n",
              "      <td>4</td>\n",
              "      <td>3</td>\n",
              "      <td>37</td>\n",
              "      <td>31.0</td>\n",
              "      <td>60.0</td>\n",
              "      <td>50.135136</td>\n",
              "      <td>5.619282</td>\n",
              "      <td>196.0</td>\n",
              "      <td>31.0</td>\n",
              "      <td>62.0</td>\n",
              "      <td>50.576531</td>\n",
              "      <td>5.621502</td>\n",
              "      <td>31.0</td>\n",
              "      <td>34.0</td>\n",
              "      <td>58.0</td>\n",
              "      <td>48.870968</td>\n",
              "      <td>5.469811</td>\n",
              "      <td>14.0</td>\n",
              "      <td>42.0</td>\n",
              "      <td>57.0</td>\n",
              "      <td>49.50000</td>\n",
              "      <td>4.238430</td>\n",
              "      <td>1</td>\n",
              "      <td>67</td>\n",
              "      <td>48.000000</td>\n",
              "    </tr>\n",
              "  </tbody>\n",
              "</table>\n",
              "</div>"
            ],
            "text/plain": [
              "   day_of_week  slot_of_day  lane  ...  working_day  speed_limit      label\n",
              "0            4            0     3  ...            1           67  50.799999\n",
              "1            4            1     3  ...            1           67  52.692307\n",
              "2            4            2     3  ...            1           67  50.000000\n",
              "3            4            3     3  ...            1           67  48.615383\n",
              "4            4            4     3  ...            1           67  48.000000\n",
              "\n",
              "[5 rows x 26 columns]"
            ]
          },
          "metadata": {
            "tags": []
          },
          "execution_count": 9
        }
      ]
    },
    {
      "cell_type": "markdown",
      "metadata": {
        "id": "EFgG6cs4fbnw"
      },
      "source": [
        "## Remoção das features"
      ]
    },
    {
      "cell_type": "code",
      "metadata": {
        "id": "QrG2PHY7duhf",
        "outputId": "e4fa0ed9-0863-44ac-bc80-3b4fd9bad3cd",
        "colab": {
          "base_uri": "https://localhost:8080/",
          "height": 35
        }
      },
      "source": [
        "# As colunas que queremos remover estão entre as posições 8 e 12.\n",
        "df.columns[8:13]"
      ],
      "execution_count": null,
      "outputs": [
        {
          "output_type": "execute_result",
          "data": {
            "text/plain": [
              "Index(['size30', 'min30', 'max30', 'avg30', 'std30'], dtype='object')"
            ]
          },
          "metadata": {
            "tags": []
          },
          "execution_count": 15
        }
      ]
    },
    {
      "cell_type": "code",
      "metadata": {
        "id": "ucbDBYCwc6dD"
      },
      "source": [
        "df_5min = df.copy()\n",
        "\n",
        "df_5min.drop(df_5min.iloc[:, 8:13], inplace=True, axis=1) #removing from size30 to std30"
      ],
      "execution_count": null,
      "outputs": []
    },
    {
      "cell_type": "code",
      "metadata": {
        "id": "0pgO3rv7ePfV",
        "outputId": "8e7194b0-cd21-41b9-8901-35c0710b5db8",
        "colab": {
          "base_uri": "https://localhost:8080/",
          "height": 508
        }
      },
      "source": [
        "df_5min.info()"
      ],
      "execution_count": null,
      "outputs": [
        {
          "output_type": "stream",
          "text": [
            "<class 'pandas.core.frame.DataFrame'>\n",
            "Int64Index: 2950522 entries, 0 to 1302562\n",
            "Data columns (total 20 columns):\n",
            " #   Column       Dtype  \n",
            "---  ------       -----  \n",
            " 0   day_of_week  int64  \n",
            " 1   slot_of_day  int64  \n",
            " 2   lane         int64  \n",
            " 3   size5        int64  \n",
            " 4   min5         float64\n",
            " 5   max5         float64\n",
            " 6   avg5         float64\n",
            " 7   std5         float64\n",
            " 8   size1w       float64\n",
            " 9   min1w        float64\n",
            " 10  max1w        float64\n",
            " 11  avg1w        float64\n",
            " 12  std1w        float64\n",
            " 13  size2w       float64\n",
            " 14  min2w        float64\n",
            " 15  max2w        float64\n",
            " 16  avg2w        float64\n",
            " 17  std2w        float64\n",
            " 18  working_day  int64  \n",
            " 19  speed_limit  int64  \n",
            "dtypes: float64(14), int64(6)\n",
            "memory usage: 472.7 MB\n"
          ],
          "name": "stdout"
        }
      ]
    },
    {
      "cell_type": "code",
      "metadata": {
        "id": "TdcSNA0qfP6e"
      },
      "source": [
        "column_names_5min = [*df_5min]"
      ],
      "execution_count": null,
      "outputs": []
    },
    {
      "cell_type": "markdown",
      "metadata": {
        "id": "s5cjA_2Cf-Df"
      },
      "source": [
        "## Divisão em treino, teste e validação"
      ]
    },
    {
      "cell_type": "code",
      "metadata": {
        "id": "2civ0VoEgFXp"
      },
      "source": [
        "X = df.iloc[:,:-1].values\n",
        "y = df[\"label\"].values"
      ],
      "execution_count": null,
      "outputs": []
    },
    {
      "cell_type": "code",
      "metadata": {
        "id": "EvHJ_m0DgNEO"
      },
      "source": [
        "X_train, X_test, y_train, y_test = train_test_split(X, y, test_size=0.2,\n",
        "                                                    random_state = seed, shuffle=True)"
      ],
      "execution_count": null,
      "outputs": []
    },
    {
      "cell_type": "code",
      "metadata": {
        "id": "tY83wx-bgbvC"
      },
      "source": [
        "X_train, X_val, y_train, y_val = train_test_split(X_train, y_train, test_size=0.2, random_state=seed)"
      ],
      "execution_count": null,
      "outputs": []
    },
    {
      "cell_type": "code",
      "metadata": {
        "id": "OWqLz9pPgyjS"
      },
      "source": [
        "eval_set = [(X_val, y_val)]"
      ],
      "execution_count": null,
      "outputs": []
    },
    {
      "cell_type": "markdown",
      "metadata": {
        "id": "I4fydFOvhthD"
      },
      "source": [
        "## Treinamento"
      ]
    },
    {
      "cell_type": "markdown",
      "metadata": {
        "id": "bJlS_da2PN46"
      },
      "source": [
        "Utilizando XGBoost"
      ]
    },
    {
      "cell_type": "code",
      "metadata": {
        "id": "stFNL4ffc3Ph",
        "outputId": "5d86f788-7f77-4e4a-c010-4ae0df6315ce",
        "colab": {
          "base_uri": "https://localhost:8080/",
          "height": 162
        }
      },
      "source": [
        "best_xgb.fit(X_train, y_train, eval_set=eval_set, eval_metric=\"rmse\", early_stopping_rounds=20, verbose=False)"
      ],
      "execution_count": null,
      "outputs": [
        {
          "output_type": "execute_result",
          "data": {
            "text/plain": [
              "XGBRegressor(base_score=0.5, booster='gbtree', colsample_bylevel=1,\n",
              "             colsample_bynode=1, colsample_bytree=1, gamma=0,\n",
              "             importance_type='gain', learning_rate=0.01, max_delta_step=0,\n",
              "             max_depth=12, min_child_weight=1, missing=None, n_estimators=3000,\n",
              "             n_jobs=1, nthread=None, objective='reg:squarederror',\n",
              "             random_state=42, reg_alpha=0, reg_lambda=1, scale_pos_weight=1,\n",
              "             seed=None, silent=None, subsample=1, tree_method='gpu_hist',\n",
              "             verbosity=1)"
            ]
          },
          "metadata": {
            "tags": []
          },
          "execution_count": 37
        }
      ]
    },
    {
      "cell_type": "markdown",
      "metadata": {
        "id": "Kt30WcY0PQfq"
      },
      "source": [
        "Utilizando Linear Regression"
      ]
    },
    {
      "cell_type": "code",
      "metadata": {
        "id": "Nl5oDc62NPqh"
      },
      "source": [
        "lr = LinearRegression()"
      ],
      "execution_count": null,
      "outputs": []
    },
    {
      "cell_type": "code",
      "metadata": {
        "id": "K3TsUlyWhx7N",
        "outputId": "1e69cf10-b0f1-4817-dc33-956061c9f481",
        "colab": {
          "base_uri": "https://localhost:8080/",
          "height": 35
        }
      },
      "source": [
        "lr.fit(X_train, y_train)"
      ],
      "execution_count": null,
      "outputs": [
        {
          "output_type": "execute_result",
          "data": {
            "text/plain": [
              "LinearRegression(copy_X=True, fit_intercept=True, n_jobs=None, normalize=False)"
            ]
          },
          "metadata": {
            "tags": []
          },
          "execution_count": 39
        }
      ]
    },
    {
      "cell_type": "markdown",
      "metadata": {
        "id": "3LI3wT1Xh7Bc"
      },
      "source": [
        "## Predições"
      ]
    },
    {
      "cell_type": "code",
      "metadata": {
        "id": "LFuIEgRNh9bm",
        "outputId": "3a744026-1a8d-4492-b8e3-f329bbdde45e",
        "colab": {
          "base_uri": "https://localhost:8080/",
          "height": 53
        }
      },
      "source": [
        "pred_xgb = best_xgb.predict(X_test, ntree_limit=best_xgb.best_ntree_limit)\n",
        "rmse_xgb = np.sqrt(metrics.mean_squared_error(y_test, pred_xgb))\n",
        "\n",
        "pred_lr = lr.predict(X_test)\n",
        "rmse_lr = np.sqrt(metrics.mean_squared_error(y_test, pred_lr))\n",
        "\n",
        "print(f'RMSE - Linear Regression: {rmse_lr}\\nRMSE - XGBoost: {rmse_xgb}')"
      ],
      "execution_count": null,
      "outputs": [
        {
          "output_type": "stream",
          "text": [
            "RMSE - Linear Regression: 3.954511845708405\n",
            "RMSE - XGBoost: 3.746037923953082\n"
          ],
          "name": "stdout"
        }
      ]
    },
    {
      "cell_type": "markdown",
      "metadata": {
        "id": "0G1UD2icPJF3"
      },
      "source": [
        "# Treinando modelos separadamente para features de 30 minutos"
      ]
    },
    {
      "cell_type": "markdown",
      "metadata": {
        "id": "hJkxFGKldAYe"
      },
      "source": [
        "Retirando features de 05 minutos do dataset"
      ]
    },
    {
      "cell_type": "code",
      "metadata": {
        "id": "cR--hJ6mjjBc",
        "outputId": "a91fd2e8-b2bc-4d0e-e71b-6d86ad91e07c",
        "colab": {
          "base_uri": "https://localhost:8080/",
          "height": 226
        }
      },
      "source": [
        "df.head()"
      ],
      "execution_count": null,
      "outputs": [
        {
          "output_type": "execute_result",
          "data": {
            "text/html": [
              "<div>\n",
              "<style scoped>\n",
              "    .dataframe tbody tr th:only-of-type {\n",
              "        vertical-align: middle;\n",
              "    }\n",
              "\n",
              "    .dataframe tbody tr th {\n",
              "        vertical-align: top;\n",
              "    }\n",
              "\n",
              "    .dataframe thead th {\n",
              "        text-align: right;\n",
              "    }\n",
              "</style>\n",
              "<table border=\"1\" class=\"dataframe\">\n",
              "  <thead>\n",
              "    <tr style=\"text-align: right;\">\n",
              "      <th></th>\n",
              "      <th>day_of_week</th>\n",
              "      <th>slot_of_day</th>\n",
              "      <th>lane</th>\n",
              "      <th>size5</th>\n",
              "      <th>min5</th>\n",
              "      <th>max5</th>\n",
              "      <th>avg5</th>\n",
              "      <th>std5</th>\n",
              "      <th>size30</th>\n",
              "      <th>min30</th>\n",
              "      <th>max30</th>\n",
              "      <th>avg30</th>\n",
              "      <th>std30</th>\n",
              "      <th>working_day</th>\n",
              "      <th>speed_limit</th>\n",
              "      <th>label</th>\n",
              "    </tr>\n",
              "  </thead>\n",
              "  <tbody>\n",
              "    <tr>\n",
              "      <th>0</th>\n",
              "      <td>1</td>\n",
              "      <td>284</td>\n",
              "      <td>3</td>\n",
              "      <td>16</td>\n",
              "      <td>25.0</td>\n",
              "      <td>56.0</td>\n",
              "      <td>49.812500</td>\n",
              "      <td>7.460050</td>\n",
              "      <td>125.0</td>\n",
              "      <td>12.0</td>\n",
              "      <td>60.0</td>\n",
              "      <td>49.224000</td>\n",
              "      <td>7.405797</td>\n",
              "      <td>1</td>\n",
              "      <td>67</td>\n",
              "      <td>49.842106</td>\n",
              "    </tr>\n",
              "    <tr>\n",
              "      <th>1</th>\n",
              "      <td>1</td>\n",
              "      <td>285</td>\n",
              "      <td>3</td>\n",
              "      <td>23</td>\n",
              "      <td>24.0</td>\n",
              "      <td>60.0</td>\n",
              "      <td>48.913044</td>\n",
              "      <td>7.143943</td>\n",
              "      <td>125.0</td>\n",
              "      <td>12.0</td>\n",
              "      <td>60.0</td>\n",
              "      <td>48.992000</td>\n",
              "      <td>7.716472</td>\n",
              "      <td>1</td>\n",
              "      <td>67</td>\n",
              "      <td>53.133335</td>\n",
              "    </tr>\n",
              "    <tr>\n",
              "      <th>2</th>\n",
              "      <td>1</td>\n",
              "      <td>286</td>\n",
              "      <td>3</td>\n",
              "      <td>20</td>\n",
              "      <td>27.0</td>\n",
              "      <td>59.0</td>\n",
              "      <td>49.500000</td>\n",
              "      <td>6.515367</td>\n",
              "      <td>136.0</td>\n",
              "      <td>12.0</td>\n",
              "      <td>60.0</td>\n",
              "      <td>48.926471</td>\n",
              "      <td>7.671215</td>\n",
              "      <td>1</td>\n",
              "      <td>67</td>\n",
              "      <td>49.761906</td>\n",
              "    </tr>\n",
              "    <tr>\n",
              "      <th>3</th>\n",
              "      <td>2</td>\n",
              "      <td>0</td>\n",
              "      <td>2</td>\n",
              "      <td>10</td>\n",
              "      <td>29.0</td>\n",
              "      <td>56.0</td>\n",
              "      <td>48.700000</td>\n",
              "      <td>7.443790</td>\n",
              "      <td>131.0</td>\n",
              "      <td>12.0</td>\n",
              "      <td>60.0</td>\n",
              "      <td>48.587786</td>\n",
              "      <td>7.829159</td>\n",
              "      <td>1</td>\n",
              "      <td>67</td>\n",
              "      <td>46.500000</td>\n",
              "    </tr>\n",
              "    <tr>\n",
              "      <th>4</th>\n",
              "      <td>2</td>\n",
              "      <td>1</td>\n",
              "      <td>3</td>\n",
              "      <td>21</td>\n",
              "      <td>41.0</td>\n",
              "      <td>58.0</td>\n",
              "      <td>50.285713</td>\n",
              "      <td>4.802210</td>\n",
              "      <td>119.0</td>\n",
              "      <td>24.0</td>\n",
              "      <td>60.0</td>\n",
              "      <td>49.445378</td>\n",
              "      <td>6.354642</td>\n",
              "      <td>1</td>\n",
              "      <td>67</td>\n",
              "      <td>45.714287</td>\n",
              "    </tr>\n",
              "  </tbody>\n",
              "</table>\n",
              "</div>"
            ],
            "text/plain": [
              "   day_of_week  slot_of_day  lane  ...  working_day  speed_limit      label\n",
              "0            1          284     3  ...            1           67  49.842106\n",
              "1            1          285     3  ...            1           67  53.133335\n",
              "2            1          286     3  ...            1           67  49.761906\n",
              "3            2            0     2  ...            1           67  46.500000\n",
              "4            2            1     3  ...            1           67  45.714287\n",
              "\n",
              "[5 rows x 16 columns]"
            ]
          },
          "metadata": {
            "tags": []
          },
          "execution_count": 46
        }
      ]
    },
    {
      "cell_type": "markdown",
      "metadata": {
        "id": "V6qO9S1PjjBu"
      },
      "source": [
        "## Remoção das features"
      ]
    },
    {
      "cell_type": "code",
      "metadata": {
        "id": "a0gMMgJOjjBw",
        "outputId": "991fff43-acb0-445b-daae-5cb1efd44bae",
        "colab": {
          "base_uri": "https://localhost:8080/",
          "height": 35
        }
      },
      "source": [
        "# As colunas que queremos remover estão entre as posições 3 e 7.\n",
        "df.columns[3:8]"
      ],
      "execution_count": null,
      "outputs": [
        {
          "output_type": "execute_result",
          "data": {
            "text/plain": [
              "Index(['size5', 'min5', 'max5', 'avg5', 'std5'], dtype='object')"
            ]
          },
          "metadata": {
            "tags": []
          },
          "execution_count": 48
        }
      ]
    },
    {
      "cell_type": "code",
      "metadata": {
        "id": "3Epkm_cWjjB9"
      },
      "source": [
        "df_30min = df.copy()\n",
        "\n",
        "df_30min.drop(df_30min.iloc[:, 3:8], inplace=True, axis=1) #removing from size5 to std5"
      ],
      "execution_count": null,
      "outputs": []
    },
    {
      "cell_type": "code",
      "metadata": {
        "id": "p6dFq7gJjjCG",
        "outputId": "d996cc70-9984-44db-f6ae-72cf45a10c05",
        "colab": {
          "base_uri": "https://localhost:8080/",
          "height": 344
        }
      },
      "source": [
        "df_30min.info()"
      ],
      "execution_count": null,
      "outputs": [
        {
          "output_type": "stream",
          "text": [
            "<class 'pandas.core.frame.DataFrame'>\n",
            "RangeIndex: 981203 entries, 0 to 981202\n",
            "Data columns (total 11 columns):\n",
            " #   Column       Non-Null Count   Dtype  \n",
            "---  ------       --------------   -----  \n",
            " 0   day_of_week  981203 non-null  int64  \n",
            " 1   slot_of_day  981203 non-null  int64  \n",
            " 2   lane         981203 non-null  int64  \n",
            " 3   size30       981203 non-null  float64\n",
            " 4   min30        981203 non-null  float64\n",
            " 5   max30        981203 non-null  float64\n",
            " 6   avg30        981203 non-null  float64\n",
            " 7   std30        981203 non-null  float64\n",
            " 8   working_day  981203 non-null  int64  \n",
            " 9   speed_limit  981203 non-null  int64  \n",
            " 10  label        981203 non-null  float64\n",
            "dtypes: float64(6), int64(5)\n",
            "memory usage: 82.3 MB\n"
          ],
          "name": "stdout"
        }
      ]
    },
    {
      "cell_type": "code",
      "metadata": {
        "id": "ulQA0b5CjjCR"
      },
      "source": [
        "column_names_30min = [*df_30min]"
      ],
      "execution_count": null,
      "outputs": []
    },
    {
      "cell_type": "markdown",
      "metadata": {
        "id": "EXCciTl3jjCZ"
      },
      "source": [
        "## Divisão em treino, teste e validação"
      ]
    },
    {
      "cell_type": "code",
      "metadata": {
        "id": "q4hoKemJjjCa"
      },
      "source": [
        "X = df.iloc[:,:-1].values\n",
        "y = df[\"label\"].values"
      ],
      "execution_count": null,
      "outputs": []
    },
    {
      "cell_type": "code",
      "metadata": {
        "id": "fkaiAvdNjjCj"
      },
      "source": [
        "X_train, X_test, y_train, y_test = train_test_split(X, y, test_size=0.2,\n",
        "                                                    random_state = seed, shuffle=True)"
      ],
      "execution_count": null,
      "outputs": []
    },
    {
      "cell_type": "code",
      "metadata": {
        "id": "Os6-Wz_8jjCr"
      },
      "source": [
        "X_train, X_val, y_train, y_val = train_test_split(X_train, y_train, test_size=0.2, random_state=seed)"
      ],
      "execution_count": null,
      "outputs": []
    },
    {
      "cell_type": "code",
      "metadata": {
        "id": "47AUga5VjjCx"
      },
      "source": [
        "eval_set = [(X_val, y_val)]"
      ],
      "execution_count": null,
      "outputs": []
    },
    {
      "cell_type": "markdown",
      "metadata": {
        "id": "ow1bVXfDjjC3"
      },
      "source": [
        "## Treinamento"
      ]
    },
    {
      "cell_type": "markdown",
      "metadata": {
        "id": "ZX3cHk6BjjC4"
      },
      "source": [
        "Utilizando XGBoost"
      ]
    },
    {
      "cell_type": "code",
      "metadata": {
        "id": "DFrEx1qYjjC6",
        "outputId": "be2d70a1-d96b-40a7-c4ba-494c9d613acb",
        "colab": {
          "base_uri": "https://localhost:8080/",
          "height": 162
        }
      },
      "source": [
        "best_xgb.fit(X_train, y_train, eval_set=eval_set, eval_metric=\"rmse\", early_stopping_rounds=20, verbose=False)"
      ],
      "execution_count": null,
      "outputs": [
        {
          "output_type": "execute_result",
          "data": {
            "text/plain": [
              "XGBRegressor(base_score=0.5, booster='gbtree', colsample_bylevel=1,\n",
              "             colsample_bynode=1, colsample_bytree=1, gamma=0,\n",
              "             importance_type='gain', learning_rate=0.01, max_delta_step=0,\n",
              "             max_depth=12, min_child_weight=1, missing=None, n_estimators=3000,\n",
              "             n_jobs=1, nthread=None, objective='reg:squarederror',\n",
              "             random_state=42, reg_alpha=0, reg_lambda=1, scale_pos_weight=1,\n",
              "             seed=None, silent=None, subsample=1, tree_method='gpu_hist',\n",
              "             verbosity=1)"
            ]
          },
          "metadata": {
            "tags": []
          },
          "execution_count": 58
        }
      ]
    },
    {
      "cell_type": "markdown",
      "metadata": {
        "id": "e_0ZGJgDjjDC"
      },
      "source": [
        "Utilizando Linear Regression"
      ]
    },
    {
      "cell_type": "code",
      "metadata": {
        "id": "4gTo9vSYjjDD"
      },
      "source": [
        "lr = LinearRegression()"
      ],
      "execution_count": null,
      "outputs": []
    },
    {
      "cell_type": "code",
      "metadata": {
        "id": "2uPKF15vjjDH",
        "outputId": "f6b1ade7-6b45-4818-8620-2a71bbdf7c6f",
        "colab": {
          "base_uri": "https://localhost:8080/",
          "height": 35
        }
      },
      "source": [
        "lr.fit(X_train, y_train)"
      ],
      "execution_count": null,
      "outputs": [
        {
          "output_type": "execute_result",
          "data": {
            "text/plain": [
              "LinearRegression(copy_X=True, fit_intercept=True, n_jobs=None, normalize=False)"
            ]
          },
          "metadata": {
            "tags": []
          },
          "execution_count": 60
        }
      ]
    },
    {
      "cell_type": "markdown",
      "metadata": {
        "id": "dAm6-vkDjjDO"
      },
      "source": [
        "## Predições"
      ]
    },
    {
      "cell_type": "code",
      "metadata": {
        "id": "d178L0NVjjDP",
        "outputId": "e966961a-eccf-42cd-8a38-b8ccc1d425b2",
        "colab": {
          "base_uri": "https://localhost:8080/",
          "height": 53
        }
      },
      "source": [
        "pred_xgb = best_xgb.predict(X_test, ntree_limit=best_xgb.best_ntree_limit)\n",
        "rmse_xgb = np.sqrt(metrics.mean_squared_error(y_test, pred_xgb))\n",
        "\n",
        "pred_lr = lr.predict(X_test)\n",
        "rmse_lr = np.sqrt(metrics.mean_squared_error(y_test, pred_lr))\n",
        "\n",
        "print(f'RMSE - Linear Regression: {rmse_lr}\\nRMSE - XGBoost: {rmse_xgb}')"
      ],
      "execution_count": null,
      "outputs": [
        {
          "output_type": "stream",
          "text": [
            "RMSE - Linear Regression: 3.954511845708405\n",
            "RMSE - XGBoost: 3.746037923953082\n"
          ],
          "name": "stdout"
        }
      ]
    },
    {
      "cell_type": "markdown",
      "metadata": {
        "id": "6aQin1WUMIuB"
      },
      "source": [
        "# Utilizando outros meses para treino"
      ]
    },
    {
      "cell_type": "markdown",
      "metadata": {
        "id": "7PksyUkolWeJ"
      },
      "source": [
        "avg5 de 30 minutos a diante é igual ao label de 30 minutos atrás."
      ]
    },
    {
      "cell_type": "code",
      "metadata": {
        "id": "ziAmfp_hMcVW",
        "outputId": "3d90e66f-a4ab-48b4-f2ec-267f406a3a18",
        "colab": {
          "base_uri": "https://localhost:8080/",
          "height": 350
        }
      },
      "source": [
        "agosto = pd.read_csv(f\"{datasets}/2014_08-Traffic_Sensors_Fortaleza.csv\")\n",
        "setembro = pd.read_csv(f\"{datasets}/2014_09-Traffic_Sensors_Fortaleza.csv\")\n",
        "test = pd.read_csv(f\"{datasets}/2014_10-Traffic_Sensors_Fortaleza.csv\")\n",
        "\n",
        "data = pd.concat([agosto, setembro])\n",
        "data.head()"
      ],
      "execution_count": null,
      "outputs": [
        {
          "output_type": "stream",
          "text": [
            "/usr/local/lib/python3.6/dist-packages/IPython/core/interactiveshell.py:2718: DtypeWarning: Columns (0) have mixed types.Specify dtype option on import or set low_memory=False.\n",
            "  interactivity=interactivity, compiler=compiler, result=result)\n"
          ],
          "name": "stderr"
        },
        {
          "output_type": "execute_result",
          "data": {
            "text/html": [
              "<div>\n",
              "<style scoped>\n",
              "    .dataframe tbody tr th:only-of-type {\n",
              "        vertical-align: middle;\n",
              "    }\n",
              "\n",
              "    .dataframe tbody tr th {\n",
              "        vertical-align: top;\n",
              "    }\n",
              "\n",
              "    .dataframe thead th {\n",
              "        text-align: right;\n",
              "    }\n",
              "</style>\n",
              "<table border=\"1\" class=\"dataframe\">\n",
              "  <thead>\n",
              "    <tr style=\"text-align: right;\">\n",
              "      <th></th>\n",
              "      <th>sensor_id</th>\n",
              "      <th>day_of_week</th>\n",
              "      <th>slot_of_day</th>\n",
              "      <th>lane</th>\n",
              "      <th>size5</th>\n",
              "      <th>min5</th>\n",
              "      <th>max5</th>\n",
              "      <th>avg5</th>\n",
              "      <th>std5</th>\n",
              "      <th>size30</th>\n",
              "      <th>min30</th>\n",
              "      <th>max30</th>\n",
              "      <th>avg30</th>\n",
              "      <th>std30</th>\n",
              "      <th>size1w</th>\n",
              "      <th>min1w</th>\n",
              "      <th>max1w</th>\n",
              "      <th>avg1w</th>\n",
              "      <th>std1w</th>\n",
              "      <th>size2w</th>\n",
              "      <th>min2w</th>\n",
              "      <th>max2w</th>\n",
              "      <th>avg2w</th>\n",
              "      <th>std2w</th>\n",
              "      <th>working_day</th>\n",
              "      <th>speed_limit</th>\n",
              "      <th>label</th>\n",
              "      <th>timestamp5</th>\n",
              "    </tr>\n",
              "  </thead>\n",
              "  <tbody>\n",
              "    <tr>\n",
              "      <th>0</th>\n",
              "      <td>1385001</td>\n",
              "      <td>4</td>\n",
              "      <td>0</td>\n",
              "      <td>3</td>\n",
              "      <td>33</td>\n",
              "      <td>32.0</td>\n",
              "      <td>59.0</td>\n",
              "      <td>49.484848</td>\n",
              "      <td>6.035859</td>\n",
              "      <td>168.0</td>\n",
              "      <td>25.0</td>\n",
              "      <td>61.0</td>\n",
              "      <td>49.678571</td>\n",
              "      <td>5.961505</td>\n",
              "      <td>55.0</td>\n",
              "      <td>40.0</td>\n",
              "      <td>58.0</td>\n",
              "      <td>49.654545</td>\n",
              "      <td>4.521537</td>\n",
              "      <td>32.0</td>\n",
              "      <td>25.0</td>\n",
              "      <td>58.0</td>\n",
              "      <td>47.56250</td>\n",
              "      <td>7.676822</td>\n",
              "      <td>1</td>\n",
              "      <td>67</td>\n",
              "      <td>50.799999</td>\n",
              "      <td>2014-08-01 00:00:00</td>\n",
              "    </tr>\n",
              "    <tr>\n",
              "      <th>1</th>\n",
              "      <td>1385001</td>\n",
              "      <td>4</td>\n",
              "      <td>1</td>\n",
              "      <td>3</td>\n",
              "      <td>34</td>\n",
              "      <td>35.0</td>\n",
              "      <td>62.0</td>\n",
              "      <td>51.735294</td>\n",
              "      <td>5.569396</td>\n",
              "      <td>174.0</td>\n",
              "      <td>25.0</td>\n",
              "      <td>62.0</td>\n",
              "      <td>50.114943</td>\n",
              "      <td>6.018984</td>\n",
              "      <td>51.0</td>\n",
              "      <td>37.0</td>\n",
              "      <td>60.0</td>\n",
              "      <td>49.862743</td>\n",
              "      <td>5.250657</td>\n",
              "      <td>26.0</td>\n",
              "      <td>33.0</td>\n",
              "      <td>59.0</td>\n",
              "      <td>50.76923</td>\n",
              "      <td>4.979247</td>\n",
              "      <td>1</td>\n",
              "      <td>67</td>\n",
              "      <td>52.692307</td>\n",
              "      <td>2014-08-01 00:05:00</td>\n",
              "    </tr>\n",
              "    <tr>\n",
              "      <th>2</th>\n",
              "      <td>1385001</td>\n",
              "      <td>4</td>\n",
              "      <td>2</td>\n",
              "      <td>3</td>\n",
              "      <td>32</td>\n",
              "      <td>37.0</td>\n",
              "      <td>60.0</td>\n",
              "      <td>51.593750</td>\n",
              "      <td>5.011608</td>\n",
              "      <td>188.0</td>\n",
              "      <td>25.0</td>\n",
              "      <td>62.0</td>\n",
              "      <td>50.494681</td>\n",
              "      <td>5.920122</td>\n",
              "      <td>30.0</td>\n",
              "      <td>37.0</td>\n",
              "      <td>56.0</td>\n",
              "      <td>48.966667</td>\n",
              "      <td>5.186414</td>\n",
              "      <td>24.0</td>\n",
              "      <td>11.0</td>\n",
              "      <td>56.0</td>\n",
              "      <td>47.25000</td>\n",
              "      <td>9.138973</td>\n",
              "      <td>1</td>\n",
              "      <td>67</td>\n",
              "      <td>50.000000</td>\n",
              "      <td>2014-08-01 00:10:00</td>\n",
              "    </tr>\n",
              "    <tr>\n",
              "      <th>3</th>\n",
              "      <td>1385001</td>\n",
              "      <td>4</td>\n",
              "      <td>3</td>\n",
              "      <td>3</td>\n",
              "      <td>30</td>\n",
              "      <td>31.0</td>\n",
              "      <td>57.0</td>\n",
              "      <td>49.266666</td>\n",
              "      <td>5.519260</td>\n",
              "      <td>185.0</td>\n",
              "      <td>29.0</td>\n",
              "      <td>62.0</td>\n",
              "      <td>50.437838</td>\n",
              "      <td>5.835370</td>\n",
              "      <td>21.0</td>\n",
              "      <td>37.0</td>\n",
              "      <td>58.0</td>\n",
              "      <td>49.190475</td>\n",
              "      <td>5.188073</td>\n",
              "      <td>21.0</td>\n",
              "      <td>40.0</td>\n",
              "      <td>55.0</td>\n",
              "      <td>48.57143</td>\n",
              "      <td>4.593696</td>\n",
              "      <td>1</td>\n",
              "      <td>67</td>\n",
              "      <td>48.615383</td>\n",
              "      <td>2014-08-01 00:15:00</td>\n",
              "    </tr>\n",
              "    <tr>\n",
              "      <th>4</th>\n",
              "      <td>1385001</td>\n",
              "      <td>4</td>\n",
              "      <td>4</td>\n",
              "      <td>3</td>\n",
              "      <td>37</td>\n",
              "      <td>31.0</td>\n",
              "      <td>60.0</td>\n",
              "      <td>50.135136</td>\n",
              "      <td>5.619282</td>\n",
              "      <td>196.0</td>\n",
              "      <td>31.0</td>\n",
              "      <td>62.0</td>\n",
              "      <td>50.576531</td>\n",
              "      <td>5.621502</td>\n",
              "      <td>31.0</td>\n",
              "      <td>34.0</td>\n",
              "      <td>58.0</td>\n",
              "      <td>48.870968</td>\n",
              "      <td>5.469811</td>\n",
              "      <td>14.0</td>\n",
              "      <td>42.0</td>\n",
              "      <td>57.0</td>\n",
              "      <td>49.50000</td>\n",
              "      <td>4.238430</td>\n",
              "      <td>1</td>\n",
              "      <td>67</td>\n",
              "      <td>48.000000</td>\n",
              "      <td>2014-08-01 00:20:00</td>\n",
              "    </tr>\n",
              "  </tbody>\n",
              "</table>\n",
              "</div>"
            ],
            "text/plain": [
              "  sensor_id  day_of_week  ...      label           timestamp5\n",
              "0   1385001            4  ...  50.799999  2014-08-01 00:00:00\n",
              "1   1385001            4  ...  52.692307  2014-08-01 00:05:00\n",
              "2   1385001            4  ...  50.000000  2014-08-01 00:10:00\n",
              "3   1385001            4  ...  48.615383  2014-08-01 00:15:00\n",
              "4   1385001            4  ...  48.000000  2014-08-01 00:20:00\n",
              "\n",
              "[5 rows x 28 columns]"
            ]
          },
          "metadata": {
            "tags": []
          },
          "execution_count": 4
        }
      ]
    },
    {
      "cell_type": "code",
      "metadata": {
        "id": "JMFUKMYjkL0C",
        "outputId": "8981f7cf-c813-4bae-f4f1-1e64f68442f0",
        "colab": {
          "base_uri": "https://localhost:8080/",
          "height": 118
        }
      },
      "source": [
        "data[((data[\"timestamp5\"] == \"2014-08-01 00:30:00\") & (data[\"sensor_id\"] == 1385001))]"
      ],
      "execution_count": null,
      "outputs": [
        {
          "output_type": "execute_result",
          "data": {
            "text/html": [
              "<div>\n",
              "<style scoped>\n",
              "    .dataframe tbody tr th:only-of-type {\n",
              "        vertical-align: middle;\n",
              "    }\n",
              "\n",
              "    .dataframe tbody tr th {\n",
              "        vertical-align: top;\n",
              "    }\n",
              "\n",
              "    .dataframe thead th {\n",
              "        text-align: right;\n",
              "    }\n",
              "</style>\n",
              "<table border=\"1\" class=\"dataframe\">\n",
              "  <thead>\n",
              "    <tr style=\"text-align: right;\">\n",
              "      <th></th>\n",
              "      <th>sensor_id</th>\n",
              "      <th>day_of_week</th>\n",
              "      <th>slot_of_day</th>\n",
              "      <th>lane</th>\n",
              "      <th>size5</th>\n",
              "      <th>min5</th>\n",
              "      <th>max5</th>\n",
              "      <th>avg5</th>\n",
              "      <th>std5</th>\n",
              "      <th>size30</th>\n",
              "      <th>min30</th>\n",
              "      <th>max30</th>\n",
              "      <th>avg30</th>\n",
              "      <th>std30</th>\n",
              "      <th>size1w</th>\n",
              "      <th>min1w</th>\n",
              "      <th>max1w</th>\n",
              "      <th>avg1w</th>\n",
              "      <th>std1w</th>\n",
              "      <th>size2w</th>\n",
              "      <th>min2w</th>\n",
              "      <th>max2w</th>\n",
              "      <th>avg2w</th>\n",
              "      <th>std2w</th>\n",
              "      <th>working_day</th>\n",
              "      <th>speed_limit</th>\n",
              "      <th>label</th>\n",
              "      <th>timestamp5</th>\n",
              "    </tr>\n",
              "  </thead>\n",
              "  <tbody>\n",
              "    <tr>\n",
              "      <th>6</th>\n",
              "      <td>1385001</td>\n",
              "      <td>4</td>\n",
              "      <td>6</td>\n",
              "      <td>3</td>\n",
              "      <td>35</td>\n",
              "      <td>30.0</td>\n",
              "      <td>59.0</td>\n",
              "      <td>50.8</td>\n",
              "      <td>6.060646</td>\n",
              "      <td>200.0</td>\n",
              "      <td>30.0</td>\n",
              "      <td>62.0</td>\n",
              "      <td>50.685</td>\n",
              "      <td>5.617453</td>\n",
              "      <td>29.0</td>\n",
              "      <td>24.0</td>\n",
              "      <td>59.0</td>\n",
              "      <td>47.862068</td>\n",
              "      <td>6.218572</td>\n",
              "      <td>14.0</td>\n",
              "      <td>40.0</td>\n",
              "      <td>57.0</td>\n",
              "      <td>50.57143</td>\n",
              "      <td>4.100771</td>\n",
              "      <td>1</td>\n",
              "      <td>67</td>\n",
              "      <td>51.416668</td>\n",
              "      <td>2014-08-01 00:30:00</td>\n",
              "    </tr>\n",
              "  </tbody>\n",
              "</table>\n",
              "</div>"
            ],
            "text/plain": [
              "  sensor_id  day_of_week  ...      label           timestamp5\n",
              "6   1385001            4  ...  51.416668  2014-08-01 00:30:00\n",
              "\n",
              "[1 rows x 28 columns]"
            ]
          },
          "metadata": {
            "tags": []
          },
          "execution_count": 10
        }
      ]
    },
    {
      "cell_type": "markdown",
      "metadata": {
        "id": "MXTRcU52O0cq"
      },
      "source": [
        "## Retirando features desnecessárias"
      ]
    },
    {
      "cell_type": "code",
      "metadata": {
        "id": "92xV-gBaOz4p"
      },
      "source": [
        "del data['sensor_id']\n",
        "del data['timestamp5']\n",
        "\n",
        "del test['sensor_id']\n",
        "del test['timestamp5']"
      ],
      "execution_count": null,
      "outputs": []
    },
    {
      "cell_type": "code",
      "metadata": {
        "id": "kP_qoAyfPLxb",
        "outputId": "b13c96f0-8031-4dfb-e6d7-c07d1c4874a9",
        "colab": {
          "base_uri": "https://localhost:8080/",
          "height": 226
        }
      },
      "source": [
        "data.head()"
      ],
      "execution_count": null,
      "outputs": [
        {
          "output_type": "execute_result",
          "data": {
            "text/html": [
              "<div>\n",
              "<style scoped>\n",
              "    .dataframe tbody tr th:only-of-type {\n",
              "        vertical-align: middle;\n",
              "    }\n",
              "\n",
              "    .dataframe tbody tr th {\n",
              "        vertical-align: top;\n",
              "    }\n",
              "\n",
              "    .dataframe thead th {\n",
              "        text-align: right;\n",
              "    }\n",
              "</style>\n",
              "<table border=\"1\" class=\"dataframe\">\n",
              "  <thead>\n",
              "    <tr style=\"text-align: right;\">\n",
              "      <th></th>\n",
              "      <th>day_of_week</th>\n",
              "      <th>slot_of_day</th>\n",
              "      <th>lane</th>\n",
              "      <th>size5</th>\n",
              "      <th>min5</th>\n",
              "      <th>max5</th>\n",
              "      <th>avg5</th>\n",
              "      <th>std5</th>\n",
              "      <th>size30</th>\n",
              "      <th>min30</th>\n",
              "      <th>max30</th>\n",
              "      <th>avg30</th>\n",
              "      <th>std30</th>\n",
              "      <th>size1w</th>\n",
              "      <th>min1w</th>\n",
              "      <th>max1w</th>\n",
              "      <th>avg1w</th>\n",
              "      <th>std1w</th>\n",
              "      <th>size2w</th>\n",
              "      <th>min2w</th>\n",
              "      <th>max2w</th>\n",
              "      <th>avg2w</th>\n",
              "      <th>std2w</th>\n",
              "      <th>working_day</th>\n",
              "      <th>speed_limit</th>\n",
              "      <th>label</th>\n",
              "    </tr>\n",
              "  </thead>\n",
              "  <tbody>\n",
              "    <tr>\n",
              "      <th>0</th>\n",
              "      <td>4</td>\n",
              "      <td>0</td>\n",
              "      <td>3</td>\n",
              "      <td>33</td>\n",
              "      <td>32.0</td>\n",
              "      <td>59.0</td>\n",
              "      <td>49.484848</td>\n",
              "      <td>6.035859</td>\n",
              "      <td>168.0</td>\n",
              "      <td>25.0</td>\n",
              "      <td>61.0</td>\n",
              "      <td>49.678571</td>\n",
              "      <td>5.961505</td>\n",
              "      <td>55.0</td>\n",
              "      <td>40.0</td>\n",
              "      <td>58.0</td>\n",
              "      <td>49.654545</td>\n",
              "      <td>4.521537</td>\n",
              "      <td>32.0</td>\n",
              "      <td>25.0</td>\n",
              "      <td>58.0</td>\n",
              "      <td>47.56250</td>\n",
              "      <td>7.676822</td>\n",
              "      <td>1</td>\n",
              "      <td>67</td>\n",
              "      <td>50.799999</td>\n",
              "    </tr>\n",
              "    <tr>\n",
              "      <th>1</th>\n",
              "      <td>4</td>\n",
              "      <td>1</td>\n",
              "      <td>3</td>\n",
              "      <td>34</td>\n",
              "      <td>35.0</td>\n",
              "      <td>62.0</td>\n",
              "      <td>51.735294</td>\n",
              "      <td>5.569396</td>\n",
              "      <td>174.0</td>\n",
              "      <td>25.0</td>\n",
              "      <td>62.0</td>\n",
              "      <td>50.114943</td>\n",
              "      <td>6.018984</td>\n",
              "      <td>51.0</td>\n",
              "      <td>37.0</td>\n",
              "      <td>60.0</td>\n",
              "      <td>49.862743</td>\n",
              "      <td>5.250657</td>\n",
              "      <td>26.0</td>\n",
              "      <td>33.0</td>\n",
              "      <td>59.0</td>\n",
              "      <td>50.76923</td>\n",
              "      <td>4.979247</td>\n",
              "      <td>1</td>\n",
              "      <td>67</td>\n",
              "      <td>52.692307</td>\n",
              "    </tr>\n",
              "    <tr>\n",
              "      <th>2</th>\n",
              "      <td>4</td>\n",
              "      <td>2</td>\n",
              "      <td>3</td>\n",
              "      <td>32</td>\n",
              "      <td>37.0</td>\n",
              "      <td>60.0</td>\n",
              "      <td>51.593750</td>\n",
              "      <td>5.011608</td>\n",
              "      <td>188.0</td>\n",
              "      <td>25.0</td>\n",
              "      <td>62.0</td>\n",
              "      <td>50.494681</td>\n",
              "      <td>5.920122</td>\n",
              "      <td>30.0</td>\n",
              "      <td>37.0</td>\n",
              "      <td>56.0</td>\n",
              "      <td>48.966667</td>\n",
              "      <td>5.186414</td>\n",
              "      <td>24.0</td>\n",
              "      <td>11.0</td>\n",
              "      <td>56.0</td>\n",
              "      <td>47.25000</td>\n",
              "      <td>9.138973</td>\n",
              "      <td>1</td>\n",
              "      <td>67</td>\n",
              "      <td>50.000000</td>\n",
              "    </tr>\n",
              "    <tr>\n",
              "      <th>3</th>\n",
              "      <td>4</td>\n",
              "      <td>3</td>\n",
              "      <td>3</td>\n",
              "      <td>30</td>\n",
              "      <td>31.0</td>\n",
              "      <td>57.0</td>\n",
              "      <td>49.266666</td>\n",
              "      <td>5.519260</td>\n",
              "      <td>185.0</td>\n",
              "      <td>29.0</td>\n",
              "      <td>62.0</td>\n",
              "      <td>50.437838</td>\n",
              "      <td>5.835370</td>\n",
              "      <td>21.0</td>\n",
              "      <td>37.0</td>\n",
              "      <td>58.0</td>\n",
              "      <td>49.190475</td>\n",
              "      <td>5.188073</td>\n",
              "      <td>21.0</td>\n",
              "      <td>40.0</td>\n",
              "      <td>55.0</td>\n",
              "      <td>48.57143</td>\n",
              "      <td>4.593696</td>\n",
              "      <td>1</td>\n",
              "      <td>67</td>\n",
              "      <td>48.615383</td>\n",
              "    </tr>\n",
              "    <tr>\n",
              "      <th>4</th>\n",
              "      <td>4</td>\n",
              "      <td>4</td>\n",
              "      <td>3</td>\n",
              "      <td>37</td>\n",
              "      <td>31.0</td>\n",
              "      <td>60.0</td>\n",
              "      <td>50.135136</td>\n",
              "      <td>5.619282</td>\n",
              "      <td>196.0</td>\n",
              "      <td>31.0</td>\n",
              "      <td>62.0</td>\n",
              "      <td>50.576531</td>\n",
              "      <td>5.621502</td>\n",
              "      <td>31.0</td>\n",
              "      <td>34.0</td>\n",
              "      <td>58.0</td>\n",
              "      <td>48.870968</td>\n",
              "      <td>5.469811</td>\n",
              "      <td>14.0</td>\n",
              "      <td>42.0</td>\n",
              "      <td>57.0</td>\n",
              "      <td>49.50000</td>\n",
              "      <td>4.238430</td>\n",
              "      <td>1</td>\n",
              "      <td>67</td>\n",
              "      <td>48.000000</td>\n",
              "    </tr>\n",
              "  </tbody>\n",
              "</table>\n",
              "</div>"
            ],
            "text/plain": [
              "   day_of_week  slot_of_day  lane  ...  working_day  speed_limit      label\n",
              "0            4            0     3  ...            1           67  50.799999\n",
              "1            4            1     3  ...            1           67  52.692307\n",
              "2            4            2     3  ...            1           67  50.000000\n",
              "3            4            3     3  ...            1           67  48.615383\n",
              "4            4            4     3  ...            1           67  48.000000\n",
              "\n",
              "[5 rows x 26 columns]"
            ]
          },
          "metadata": {
            "tags": []
          },
          "execution_count": 11
        }
      ]
    },
    {
      "cell_type": "markdown",
      "metadata": {
        "id": "MqnjifZ-PRYm"
      },
      "source": [
        "## Split do dataset de treino e validação"
      ]
    },
    {
      "cell_type": "code",
      "metadata": {
        "id": "PnugP2mIPREF"
      },
      "source": [
        "label = data[\"label\"].values\n",
        "tr_data = data.iloc[:,:-1].values\n",
        "\n",
        "X = test.iloc[:,:-1].values\n",
        "y = test[\"label\"].values\n",
        "\n",
        "X_val, X_test, y_val, y_test = train_test_split(X, y, test_size=0.5)"
      ],
      "execution_count": null,
      "outputs": []
    },
    {
      "cell_type": "markdown",
      "metadata": {
        "id": "B7H5cvyXTVkA"
      },
      "source": [
        "## Treinando\n",
        "Realizando treinamento com Regressão Linear e XGBoost."
      ]
    },
    {
      "cell_type": "code",
      "metadata": {
        "id": "TnALZezxQBzv"
      },
      "source": [
        "eval_set = [(X_val, y_val)]"
      ],
      "execution_count": null,
      "outputs": []
    },
    {
      "cell_type": "code",
      "metadata": {
        "id": "m_kC_pHXFlH-",
        "outputId": "ab9281be-dbf7-4715-d01d-eb3d468691b8",
        "colab": {
          "base_uri": "https://localhost:8080/",
          "height": 35
        }
      },
      "source": [
        "lr = LinearRegression()\n",
        "\n",
        "lr.fit(tr_data, label)"
      ],
      "execution_count": null,
      "outputs": [
        {
          "output_type": "execute_result",
          "data": {
            "text/plain": [
              "LinearRegression(copy_X=True, fit_intercept=True, n_jobs=None, normalize=False)"
            ]
          },
          "metadata": {
            "tags": []
          },
          "execution_count": 8
        }
      ]
    },
    {
      "cell_type": "code",
      "metadata": {
        "id": "TiB4XyUXHPvR",
        "outputId": "a62bab97-f23c-4abc-a2ad-dc1e8afcd204",
        "colab": {
          "base_uri": "https://localhost:8080/",
          "height": 35
        }
      },
      "source": [
        "pred = lr.predict(X_test)\n",
        "\n",
        "rmse = np.sqrt(metrics.mean_squared_error(y_test, pred))\n",
        "print(rmse)"
      ],
      "execution_count": null,
      "outputs": [
        {
          "output_type": "stream",
          "text": [
            "3.92862189551909\n"
          ],
          "name": "stdout"
        }
      ]
    },
    {
      "cell_type": "code",
      "metadata": {
        "id": "2xam6XeWP7cz"
      },
      "source": [
        "xgboost = xgb.XGBRegressor(n_estimators=3000, tree_method='gpu_hist', objective ='reg:squarederror', learning_rate=0.01,\n",
        "                            max_depth=12, random_state=seed)"
      ],
      "execution_count": null,
      "outputs": []
    },
    {
      "cell_type": "code",
      "metadata": {
        "id": "eH7R5p2MShPy",
        "outputId": "09453b98-01c5-4c50-e5ca-1f54dcf02d87",
        "colab": {
          "base_uri": "https://localhost:8080/",
          "height": 162
        }
      },
      "source": [
        "xgboost.fit(tr_data, label, eval_set=eval_set, eval_metric=\"rmse\", early_stopping_rounds=20, verbose=False)"
      ],
      "execution_count": null,
      "outputs": [
        {
          "output_type": "execute_result",
          "data": {
            "text/plain": [
              "XGBRegressor(base_score=0.5, booster='gbtree', colsample_bylevel=1,\n",
              "             colsample_bynode=1, colsample_bytree=1, gamma=0,\n",
              "             importance_type='gain', learning_rate=0.01, max_delta_step=0,\n",
              "             max_depth=12, min_child_weight=1, missing=None, n_estimators=3000,\n",
              "             n_jobs=1, nthread=None, objective='reg:squarederror',\n",
              "             random_state=42, reg_alpha=0, reg_lambda=1, scale_pos_weight=1,\n",
              "             seed=None, silent=None, subsample=1, tree_method='gpu_hist',\n",
              "             verbosity=1)"
            ]
          },
          "metadata": {
            "tags": []
          },
          "execution_count": 11
        }
      ]
    },
    {
      "cell_type": "code",
      "metadata": {
        "id": "cO7eskXnSt5Q",
        "outputId": "8e356091-ab68-4d03-a77e-97efa0807bb0",
        "colab": {
          "base_uri": "https://localhost:8080/",
          "height": 35
        }
      },
      "source": [
        "pred_xgb = xgboost.predict(X_test, ntree_limit=xgboost.best_ntree_limit)\n",
        "rmse_xgb = np.sqrt(metrics.mean_squared_error(y_test, pred_xgb))\n",
        "\n",
        "rmse_xgb"
      ],
      "execution_count": null,
      "outputs": [
        {
          "output_type": "execute_result",
          "data": {
            "text/plain": [
              "3.8013414627917927"
            ]
          },
          "metadata": {
            "tags": []
          },
          "execution_count": 12
        }
      ]
    },
    {
      "cell_type": "code",
      "metadata": {
        "id": "aGgUq47gYObr",
        "outputId": "aed9fdbe-f879-45b7-f807-0b3a86c8d0cd",
        "colab": {
          "base_uri": "https://localhost:8080/",
          "height": 35
        }
      },
      "source": [
        "print(xgboost.best_ntree_limit, xgboost.best_score)"
      ],
      "execution_count": null,
      "outputs": [
        {
          "output_type": "stream",
          "text": [
            "855 3.798028\n"
          ],
          "name": "stdout"
        }
      ]
    },
    {
      "cell_type": "markdown",
      "metadata": {
        "id": "RU3RKFcvYxj7"
      },
      "source": [
        "## Importância das features"
      ]
    },
    {
      "cell_type": "code",
      "metadata": {
        "id": "zBLmLsA0aJY5",
        "outputId": "56e19941-b46a-475e-b0a5-0777f75f85c5",
        "colab": {
          "base_uri": "https://localhost:8080/",
          "height": 489
        }
      },
      "source": [
        "column_names = [*data]\n",
        "column_names"
      ],
      "execution_count": null,
      "outputs": [
        {
          "output_type": "execute_result",
          "data": {
            "text/plain": [
              "['day_of_week',\n",
              " 'slot_of_day',\n",
              " 'lane',\n",
              " 'size5',\n",
              " 'min5',\n",
              " 'max5',\n",
              " 'avg5',\n",
              " 'std5',\n",
              " 'size30',\n",
              " 'min30',\n",
              " 'max30',\n",
              " 'avg30',\n",
              " 'std30',\n",
              " 'size1w',\n",
              " 'min1w',\n",
              " 'max1w',\n",
              " 'avg1w',\n",
              " 'std1w',\n",
              " 'size2w',\n",
              " 'min2w',\n",
              " 'max2w',\n",
              " 'avg2w',\n",
              " 'std2w',\n",
              " 'working_day',\n",
              " 'speed_limit',\n",
              " 'label']"
            ]
          },
          "metadata": {
            "tags": []
          },
          "execution_count": 14
        }
      ]
    },
    {
      "cell_type": "code",
      "metadata": {
        "id": "Nqxr6ZeraHrN"
      },
      "source": [
        "xgboost.get_booster().feature_names = column_names"
      ],
      "execution_count": null,
      "outputs": []
    },
    {
      "cell_type": "code",
      "metadata": {
        "id": "01TfUvwFYGpI",
        "outputId": "744fea23-42f7-44cd-e795-423afd79b6b7",
        "colab": {
          "base_uri": "https://localhost:8080/",
          "height": 283
        }
      },
      "source": [
        "feature_important = xgboost.get_booster().get_score(importance_type='gain')\n",
        "keys = list(feature_important.keys())\n",
        "values = list(feature_important.values())\n",
        "\n",
        "dt = pd.DataFrame(data=values, index=keys, columns=[\"score\"]).sort_values(by = \"score\", ascending=False)\n",
        "dt.plot(kind='barh')"
      ],
      "execution_count": null,
      "outputs": [
        {
          "output_type": "execute_result",
          "data": {
            "text/plain": [
              "<matplotlib.axes._subplots.AxesSubplot at 0x7f9d99436518>"
            ]
          },
          "metadata": {
            "tags": []
          },
          "execution_count": 16
        },
        {
          "output_type": "display_data",
          "data": {
            "image/png": "[encoded data removed]",
            "text/plain": [
              "<Figure size 432x288 with 1 Axes>"
            ]
          },
          "metadata": {
            "tags": [],
            "needs_background": "light"
          }
        }
      ]
    },
    {
      "cell_type": "code",
      "metadata": {
        "id": "XWqNu_brZ-o1",
        "outputId": "e07823ed-6f79-44d1-eaa3-dc358253ebb5",
        "colab": {
          "base_uri": "https://localhost:8080/",
          "height": 283
        }
      },
      "source": [
        "feature_important = xgboost.get_booster().get_score(importance_type='weight')\n",
        "keys = list(feature_important.keys())\n",
        "values = list(feature_important.values())\n",
        "\n",
        "dt = pd.DataFrame(data=values, index=keys, columns=[\"score\"]).sort_values(by = \"score\", ascending=False)\n",
        "dt.plot(kind='barh')"
      ],
      "execution_count": null,
      "outputs": [
        {
          "output_type": "execute_result",
          "data": {
            "text/plain": [
              "<matplotlib.axes._subplots.AxesSubplot at 0x7f9d9957f198>"
            ]
          },
          "metadata": {
            "tags": []
          },
          "execution_count": 17
        },
        {
          "output_type": "display_data",
          "data": {
            "image/png": "[encoded data removed]",
            "text/plain": [
              "<Figure size 432x288 with 1 Axes>"
            ]
          },
          "metadata": {
            "tags": [],
            "needs_background": "light"
          }
        }
      ]
    },
    {
      "cell_type": "markdown",
      "metadata": {
        "id": "Hiw5TRwXoaSG"
      },
      "source": [
        "# Treinando somente com avg30\n",
        "Conforme a importância das features mostrou, a feature `avg30` é bem mais importante que as outras. Portanto será realizado o treinamento e teste somente com esta feature."
      ]
    },
    {
      "cell_type": "code",
      "metadata": {
        "id": "gVYEWa6zom6A"
      },
      "source": [
        "data.head()"
      ],
      "execution_count": null,
      "outputs": []
    },
    {
      "cell_type": "code",
      "metadata": {
        "id": "HJBUSoDLv0z3",
        "outputId": "13257b5b-2a0e-4796-c049-d34eaabd96b6",
        "colab": {
          "base_uri": "https://localhost:8080/",
          "height": 235
        }
      },
      "source": [
        "data[\"avg30\"]"
      ],
      "execution_count": null,
      "outputs": [
        {
          "output_type": "execute_result",
          "data": {
            "text/plain": [
              "0          49.678571\n",
              "1          50.114943\n",
              "2          50.494681\n",
              "3          50.437838\n",
              "4          50.576531\n",
              "             ...    \n",
              "1302558    21.720000\n",
              "1302559    20.541667\n",
              "1302560    15.555556\n",
              "1302561    12.937500\n",
              "1302562    19.600000\n",
              "Name: avg30, Length: 2950522, dtype: float64"
            ]
          },
          "metadata": {
            "tags": []
          },
          "execution_count": 29
        }
      ]
    },
    {
      "cell_type": "code",
      "metadata": {
        "id": "uFtd9ip_uZWd"
      },
      "source": [
        "label = data[\"label\"].values\n",
        "tr_data = data[\"avg30\"].values\n",
        "\n",
        "X = test[\"avg30\"].values\n",
        "y = test[\"label\"].values\n",
        "\n",
        "X_val, X_test, y_val, y_test = train_test_split(X, y, test_size=0.5)"
      ],
      "execution_count": null,
      "outputs": []
    },
    {
      "cell_type": "code",
      "metadata": {
        "id": "J9S-fHOjyKDg"
      },
      "source": [
        "X_val = X_val.reshape(-1, 1)\n",
        "X_test = X_test.reshape(-1, 1)\n",
        "y_val = y_val.reshape(-1, 1)\n",
        "y_test = y_test.reshape(-1, 1)"
      ],
      "execution_count": null,
      "outputs": []
    },
    {
      "cell_type": "markdown",
      "metadata": {
        "id": "2EVrUrTKwQYY"
      },
      "source": [
        "## Treinando\n",
        "Realizando treinamento com Regressão Linear e XGBoost."
      ]
    },
    {
      "cell_type": "code",
      "metadata": {
        "id": "OLEmSFxcxWTl"
      },
      "source": [
        "tr_data = tr_data.reshape(-1, 1)"
      ],
      "execution_count": null,
      "outputs": []
    },
    {
      "cell_type": "code",
      "metadata": {
        "id": "fSHCLZg_xo9J",
        "outputId": "db8f069c-103d-4c58-896c-073f55b0ddde",
        "colab": {
          "base_uri": "https://localhost:8080/",
          "height": 144
        }
      },
      "source": [
        "tr_data"
      ],
      "execution_count": null,
      "outputs": [
        {
          "output_type": "execute_result",
          "data": {
            "text/plain": [
              "array([[49.67857143],\n",
              "       [50.11494253],\n",
              "       [50.49468085],\n",
              "       ...,\n",
              "       [15.55555556],\n",
              "       [12.9375    ],\n",
              "       [19.6       ]])"
            ]
          },
          "metadata": {
            "tags": []
          },
          "execution_count": 61
        }
      ]
    },
    {
      "cell_type": "code",
      "metadata": {
        "id": "aUvVs6aGwq2Q",
        "outputId": "c9ea8b8e-2583-4e1b-8f09-7767c05ad786",
        "colab": {
          "base_uri": "https://localhost:8080/",
          "height": 35
        }
      },
      "source": [
        "tr_data.shape"
      ],
      "execution_count": null,
      "outputs": [
        {
          "output_type": "execute_result",
          "data": {
            "text/plain": [
              "(2950522, 1)"
            ]
          },
          "metadata": {
            "tags": []
          },
          "execution_count": 62
        }
      ]
    },
    {
      "cell_type": "code",
      "metadata": {
        "id": "jhs6Tzs_wQYa"
      },
      "source": [
        "eval_set = [(X_val, y_val)]"
      ],
      "execution_count": null,
      "outputs": []
    },
    {
      "cell_type": "code",
      "metadata": {
        "id": "0HOfCHoZwQYp",
        "outputId": "b2dcafbf-be18-4587-fe2f-e5119af9632c",
        "colab": {
          "base_uri": "https://localhost:8080/",
          "height": 35
        }
      },
      "source": [
        "lr = LinearRegression()\n",
        "\n",
        "lr.fit(tr_data, label)"
      ],
      "execution_count": null,
      "outputs": [
        {
          "output_type": "execute_result",
          "data": {
            "text/plain": [
              "LinearRegression(copy_X=True, fit_intercept=True, n_jobs=None, normalize=False)"
            ]
          },
          "metadata": {
            "tags": []
          },
          "execution_count": 64
        }
      ]
    },
    {
      "cell_type": "code",
      "metadata": {
        "id": "H-4kdglcwQY1",
        "outputId": "06c78d94-ffc8-4e1b-d5cd-4d0389a24bcb",
        "colab": {
          "base_uri": "https://localhost:8080/",
          "height": 35
        }
      },
      "source": [
        "pred = lr.predict(X_test)\n",
        "\n",
        "rmse = np.sqrt(metrics.mean_squared_error(y_test, pred))\n",
        "print(rmse)"
      ],
      "execution_count": null,
      "outputs": [
        {
          "output_type": "stream",
          "text": [
            "4.144602153463623\n"
          ],
          "name": "stdout"
        }
      ]
    },
    {
      "cell_type": "code",
      "metadata": {
        "id": "k-fsjWXowQY7"
      },
      "source": [
        "xgboost = xgb.XGBRegressor(n_estimators=3000, tree_method='gpu_hist', objective ='reg:squarederror', learning_rate=0.01,\n",
        "                            max_depth=12, random_state=seed)"
      ],
      "execution_count": null,
      "outputs": []
    },
    {
      "cell_type": "code",
      "metadata": {
        "id": "7bU-j7ADwQZB",
        "outputId": "bc4530a5-eb62-42d3-c10b-3b373ccc40f3",
        "colab": {
          "base_uri": "https://localhost:8080/",
          "height": 162
        }
      },
      "source": [
        "xgboost.fit(tr_data, label, eval_set=eval_set, eval_metric=\"rmse\", early_stopping_rounds=20, verbose=False)"
      ],
      "execution_count": null,
      "outputs": [
        {
          "output_type": "execute_result",
          "data": {
            "text/plain": [
              "XGBRegressor(base_score=0.5, booster='gbtree', colsample_bylevel=1,\n",
              "             colsample_bynode=1, colsample_bytree=1, gamma=0,\n",
              "             importance_type='gain', learning_rate=0.01, max_delta_step=0,\n",
              "             max_depth=12, min_child_weight=1, missing=None, n_estimators=3000,\n",
              "             n_jobs=1, nthread=None, objective='reg:squarederror',\n",
              "             random_state=42, reg_alpha=0, reg_lambda=1, scale_pos_weight=1,\n",
              "             seed=None, silent=None, subsample=1, tree_method='gpu_hist',\n",
              "             verbosity=1)"
            ]
          },
          "metadata": {
            "tags": []
          },
          "execution_count": 67
        }
      ]
    },
    {
      "cell_type": "code",
      "metadata": {
        "id": "NN8U6gCDwQZH",
        "outputId": "7046d481-efc3-4565-e9e7-f6e957049c28",
        "colab": {
          "base_uri": "https://localhost:8080/",
          "height": 35
        }
      },
      "source": [
        "pred_xgb = xgboost.predict(X_test, ntree_limit=xgboost.best_ntree_limit)\n",
        "rmse_xgb = np.sqrt(metrics.mean_squared_error(y_test, pred_xgb))\n",
        "\n",
        "rmse_xgb"
      ],
      "execution_count": null,
      "outputs": [
        {
          "output_type": "execute_result",
          "data": {
            "text/plain": [
              "4.141584907225499"
            ]
          },
          "metadata": {
            "tags": []
          },
          "execution_count": 68
        }
      ]
    },
    {
      "cell_type": "code",
      "metadata": {
        "id": "uA5s8-PZwQZR",
        "outputId": "9b481f5b-8045-4ce3-cc5f-de3bc205d8f2",
        "colab": {
          "base_uri": "https://localhost:8080/",
          "height": 35
        }
      },
      "source": [
        "print(xgboost.best_ntree_limit, xgboost.best_score)"
      ],
      "execution_count": null,
      "outputs": [
        {
          "output_type": "stream",
          "text": [
            "1001 4.147957\n"
          ],
          "name": "stdout"
        }
      ]
    },
    {
      "cell_type": "markdown",
      "metadata": {
        "id": "uMaffFnhwQZX"
      },
      "source": [
        "## Importância das features"
      ]
    },
    {
      "cell_type": "code",
      "metadata": {
        "id": "uRQMg3XWwQZk",
        "outputId": "acd78a61-42a2-4ac2-c509-abd3086e83a2",
        "colab": {
          "base_uri": "https://localhost:8080/",
          "height": 283
        }
      },
      "source": [
        "feature_important = xgboost.get_booster().get_score(importance_type='gain')\n",
        "keys = list(feature_important.keys())\n",
        "values = list(feature_important.values())\n",
        "\n",
        "dt = pd.DataFrame(data=values, index=keys, columns=[\"score\"]).sort_values(by = \"score\", ascending=False)\n",
        "dt.plot(kind='barh')"
      ],
      "execution_count": null,
      "outputs": [
        {
          "output_type": "execute_result",
          "data": {
            "text/plain": [
              "<matplotlib.axes._subplots.AxesSubplot at 0x7f4bb9b77588>"
            ]
          },
          "metadata": {
            "tags": []
          },
          "execution_count": 72
        },
        {
          "output_type": "display_data",
          "data": {
            "image/png": "[encoded data removed]",
            "text/plain": [
              "<Figure size 432x288 with 1 Axes>"
            ]
          },
          "metadata": {
            "tags": [],
            "needs_background": "light"
          }
        }
      ]
    },
    {
      "cell_type": "code",
      "metadata": {
        "id": "ZwHF1BVEwQZo",
        "outputId": "dee91631-9ea9-49d3-a512-868eabe3cc7d",
        "colab": {
          "base_uri": "https://localhost:8080/",
          "height": 283
        }
      },
      "source": [
        "feature_important = xgboost.get_booster().get_score(importance_type='weight')\n",
        "keys = list(feature_important.keys())\n",
        "values = list(feature_important.values())\n",
        "\n",
        "dt = pd.DataFrame(data=values, index=keys, columns=[\"score\"]).sort_values(by = \"score\", ascending=False)\n",
        "dt.plot(kind='barh')"
      ],
      "execution_count": null,
      "outputs": [
        {
          "output_type": "execute_result",
          "data": {
            "text/plain": [
              "<matplotlib.axes._subplots.AxesSubplot at 0x7f4bb9e86a58>"
            ]
          },
          "metadata": {
            "tags": []
          },
          "execution_count": 73
        },
        {
          "output_type": "display_data",
          "data": {
            "image/png": "[encoded data removed]",
            "text/plain": [
              "<Figure size 432x288 with 1 Axes>"
            ]
          },
          "metadata": {
            "tags": [],
            "needs_background": "light"
          }
        }
      ]
    },
    {
      "cell_type": "markdown",
      "metadata": {
        "id": "scjVfzPBBAkY"
      },
      "source": [
        "# Ajustando label para 02 horas adiante"
      ]
    },
    {
      "cell_type": "code",
      "metadata": {
        "id": "szlt9-v5BMlM",
        "outputId": "0bd4487a-4355-4af6-8006-39eee10e3f08",
        "colab": {
          "base_uri": "https://localhost:8080/",
          "height": 345
        }
      },
      "source": [
        "agosto = pd.read_csv(f\"{datasets}/2014_08-Traffic_Sensors_Fortaleza.csv\", parse_dates=[\"timestamp5\"])\n",
        "setembro = pd.read_csv(f\"{datasets}/2014_09-Traffic_Sensors_Fortaleza.csv\", parse_dates=[\"timestamp5\"])\n",
        "test = pd.read_csv(f\"{datasets}/2014_10-Traffic_Sensors_Fortaleza.csv\", parse_dates=[\"timestamp5\"])\n",
        "\n",
        "data = pd.concat([agosto, setembro], ignore_index=True)\n",
        "data.head()"
      ],
      "execution_count": null,
      "outputs": [
        {
          "output_type": "stream",
          "text": [
            "/usr/local/lib/python3.6/dist-packages/IPython/core/interactiveshell.py:2718: DtypeWarning: Columns (0) have mixed types.Specify dtype option on import or set low_memory=False.\n",
            "  interactivity=interactivity, compiler=compiler, result=result)\n"
          ],
          "name": "stderr"
        },
        {
          "output_type": "execute_result",
          "data": {
            "text/html": [
              "<div>\n",
              "<style scoped>\n",
              "    .dataframe tbody tr th:only-of-type {\n",
              "        vertical-align: middle;\n",
              "    }\n",
              "\n",
              "    .dataframe tbody tr th {\n",
              "        vertical-align: top;\n",
              "    }\n",
              "\n",
              "    .dataframe thead th {\n",
              "        text-align: right;\n",
              "    }\n",
              "</style>\n",
              "<table border=\"1\" class=\"dataframe\">\n",
              "  <thead>\n",
              "    <tr style=\"text-align: right;\">\n",
              "      <th></th>\n",
              "      <th>sensor_id</th>\n",
              "      <th>day_of_week</th>\n",
              "      <th>slot_of_day</th>\n",
              "      <th>lane</th>\n",
              "      <th>size5</th>\n",
              "      <th>min5</th>\n",
              "      <th>max5</th>\n",
              "      <th>avg5</th>\n",
              "      <th>std5</th>\n",
              "      <th>size30</th>\n",
              "      <th>min30</th>\n",
              "      <th>max30</th>\n",
              "      <th>avg30</th>\n",
              "      <th>std30</th>\n",
              "      <th>size1w</th>\n",
              "      <th>min1w</th>\n",
              "      <th>max1w</th>\n",
              "      <th>avg1w</th>\n",
              "      <th>std1w</th>\n",
              "      <th>size2w</th>\n",
              "      <th>min2w</th>\n",
              "      <th>max2w</th>\n",
              "      <th>avg2w</th>\n",
              "      <th>std2w</th>\n",
              "      <th>working_day</th>\n",
              "      <th>speed_limit</th>\n",
              "      <th>label</th>\n",
              "      <th>timestamp5</th>\n",
              "    </tr>\n",
              "  </thead>\n",
              "  <tbody>\n",
              "    <tr>\n",
              "      <th>0</th>\n",
              "      <td>1385001</td>\n",
              "      <td>4</td>\n",
              "      <td>0</td>\n",
              "      <td>3</td>\n",
              "      <td>33</td>\n",
              "      <td>32.0</td>\n",
              "      <td>59.0</td>\n",
              "      <td>49.484848</td>\n",
              "      <td>6.035859</td>\n",
              "      <td>168.0</td>\n",
              "      <td>25.0</td>\n",
              "      <td>61.0</td>\n",
              "      <td>49.678571</td>\n",
              "      <td>5.961505</td>\n",
              "      <td>55.0</td>\n",
              "      <td>40.0</td>\n",
              "      <td>58.0</td>\n",
              "      <td>49.654545</td>\n",
              "      <td>4.521537</td>\n",
              "      <td>32.0</td>\n",
              "      <td>25.0</td>\n",
              "      <td>58.0</td>\n",
              "      <td>47.56250</td>\n",
              "      <td>7.676822</td>\n",
              "      <td>1</td>\n",
              "      <td>67</td>\n",
              "      <td>50.799999</td>\n",
              "      <td>2014-08-01 00:00:00</td>\n",
              "    </tr>\n",
              "    <tr>\n",
              "      <th>1</th>\n",
              "      <td>1385001</td>\n",
              "      <td>4</td>\n",
              "      <td>1</td>\n",
              "      <td>3</td>\n",
              "      <td>34</td>\n",
              "      <td>35.0</td>\n",
              "      <td>62.0</td>\n",
              "      <td>51.735294</td>\n",
              "      <td>5.569396</td>\n",
              "      <td>174.0</td>\n",
              "      <td>25.0</td>\n",
              "      <td>62.0</td>\n",
              "      <td>50.114943</td>\n",
              "      <td>6.018984</td>\n",
              "      <td>51.0</td>\n",
              "      <td>37.0</td>\n",
              "      <td>60.0</td>\n",
              "      <td>49.862743</td>\n",
              "      <td>5.250657</td>\n",
              "      <td>26.0</td>\n",
              "      <td>33.0</td>\n",
              "      <td>59.0</td>\n",
              "      <td>50.76923</td>\n",
              "      <td>4.979247</td>\n",
              "      <td>1</td>\n",
              "      <td>67</td>\n",
              "      <td>52.692307</td>\n",
              "      <td>2014-08-01 00:05:00</td>\n",
              "    </tr>\n",
              "    <tr>\n",
              "      <th>2</th>\n",
              "      <td>1385001</td>\n",
              "      <td>4</td>\n",
              "      <td>2</td>\n",
              "      <td>3</td>\n",
              "      <td>32</td>\n",
              "      <td>37.0</td>\n",
              "      <td>60.0</td>\n",
              "      <td>51.593750</td>\n",
              "      <td>5.011608</td>\n",
              "      <td>188.0</td>\n",
              "      <td>25.0</td>\n",
              "      <td>62.0</td>\n",
              "      <td>50.494681</td>\n",
              "      <td>5.920122</td>\n",
              "      <td>30.0</td>\n",
              "      <td>37.0</td>\n",
              "      <td>56.0</td>\n",
              "      <td>48.966667</td>\n",
              "      <td>5.186414</td>\n",
              "      <td>24.0</td>\n",
              "      <td>11.0</td>\n",
              "      <td>56.0</td>\n",
              "      <td>47.25000</td>\n",
              "      <td>9.138973</td>\n",
              "      <td>1</td>\n",
              "      <td>67</td>\n",
              "      <td>50.000000</td>\n",
              "      <td>2014-08-01 00:10:00</td>\n",
              "    </tr>\n",
              "    <tr>\n",
              "      <th>3</th>\n",
              "      <td>1385001</td>\n",
              "      <td>4</td>\n",
              "      <td>3</td>\n",
              "      <td>3</td>\n",
              "      <td>30</td>\n",
              "      <td>31.0</td>\n",
              "      <td>57.0</td>\n",
              "      <td>49.266666</td>\n",
              "      <td>5.519260</td>\n",
              "      <td>185.0</td>\n",
              "      <td>29.0</td>\n",
              "      <td>62.0</td>\n",
              "      <td>50.437838</td>\n",
              "      <td>5.835370</td>\n",
              "      <td>21.0</td>\n",
              "      <td>37.0</td>\n",
              "      <td>58.0</td>\n",
              "      <td>49.190475</td>\n",
              "      <td>5.188073</td>\n",
              "      <td>21.0</td>\n",
              "      <td>40.0</td>\n",
              "      <td>55.0</td>\n",
              "      <td>48.57143</td>\n",
              "      <td>4.593696</td>\n",
              "      <td>1</td>\n",
              "      <td>67</td>\n",
              "      <td>48.615383</td>\n",
              "      <td>2014-08-01 00:15:00</td>\n",
              "    </tr>\n",
              "    <tr>\n",
              "      <th>4</th>\n",
              "      <td>1385001</td>\n",
              "      <td>4</td>\n",
              "      <td>4</td>\n",
              "      <td>3</td>\n",
              "      <td>37</td>\n",
              "      <td>31.0</td>\n",
              "      <td>60.0</td>\n",
              "      <td>50.135136</td>\n",
              "      <td>5.619282</td>\n",
              "      <td>196.0</td>\n",
              "      <td>31.0</td>\n",
              "      <td>62.0</td>\n",
              "      <td>50.576531</td>\n",
              "      <td>5.621502</td>\n",
              "      <td>31.0</td>\n",
              "      <td>34.0</td>\n",
              "      <td>58.0</td>\n",
              "      <td>48.870968</td>\n",
              "      <td>5.469811</td>\n",
              "      <td>14.0</td>\n",
              "      <td>42.0</td>\n",
              "      <td>57.0</td>\n",
              "      <td>49.50000</td>\n",
              "      <td>4.238430</td>\n",
              "      <td>1</td>\n",
              "      <td>67</td>\n",
              "      <td>48.000000</td>\n",
              "      <td>2014-08-01 00:20:00</td>\n",
              "    </tr>\n",
              "  </tbody>\n",
              "</table>\n",
              "</div>"
            ],
            "text/plain": [
              "  sensor_id  day_of_week  ...      label          timestamp5\n",
              "0   1385001            4  ...  50.799999 2014-08-01 00:00:00\n",
              "1   1385001            4  ...  52.692307 2014-08-01 00:05:00\n",
              "2   1385001            4  ...  50.000000 2014-08-01 00:10:00\n",
              "3   1385001            4  ...  48.615383 2014-08-01 00:15:00\n",
              "4   1385001            4  ...  48.000000 2014-08-01 00:20:00\n",
              "\n",
              "[5 rows x 28 columns]"
            ]
          },
          "metadata": {
            "tags": []
          },
          "execution_count": 3
        }
      ]
    },
    {
      "cell_type": "markdown",
      "metadata": {
        "id": "r2tL3mS-q9cv"
      },
      "source": [
        "### Dados de treino"
      ]
    },
    {
      "cell_type": "code",
      "metadata": {
        "id": "ylJIUQv4p5ZE"
      },
      "source": [
        "data_copy = data.copy()"
      ],
      "execution_count": null,
      "outputs": []
    },
    {
      "cell_type": "code",
      "metadata": {
        "id": "Li45uKGFp5ZH",
        "outputId": "c9cde7d9-9231-4f71-b9cb-018a8fbd5e1a",
        "colab": {
          "base_uri": "https://localhost:8080/",
          "height": 35
        }
      },
      "source": [
        "data_copy.index[-1]"
      ],
      "execution_count": null,
      "outputs": [
        {
          "output_type": "execute_result",
          "data": {
            "text/plain": [
              "2950521"
            ]
          },
          "metadata": {
            "tags": []
          },
          "execution_count": 11
        }
      ]
    },
    {
      "cell_type": "code",
      "metadata": {
        "id": "np1jOp7Jpj9v",
        "outputId": "2b5550c8-7c1f-4c9a-d4db-1250216f23c3"
      },
      "source": [
        "# before transformation\n",
        "data_copy.head(10)"
      ],
      "execution_count": null,
      "outputs": [
        {
          "output_type": "execute_result",
          "data": {
            "text/html": [
              "<div>\n",
              "<style scoped>\n",
              "    .dataframe tbody tr th:only-of-type {\n",
              "        vertical-align: middle;\n",
              "    }\n",
              "\n",
              "    .dataframe tbody tr th {\n",
              "        vertical-align: top;\n",
              "    }\n",
              "\n",
              "    .dataframe thead th {\n",
              "        text-align: right;\n",
              "    }\n",
              "</style>\n",
              "<table border=\"1\" class=\"dataframe\">\n",
              "  <thead>\n",
              "    <tr style=\"text-align: right;\">\n",
              "      <th></th>\n",
              "      <th>sensor_id</th>\n",
              "      <th>day_of_week</th>\n",
              "      <th>slot_of_day</th>\n",
              "      <th>lane</th>\n",
              "      <th>size5</th>\n",
              "      <th>min5</th>\n",
              "      <th>max5</th>\n",
              "      <th>avg5</th>\n",
              "      <th>std5</th>\n",
              "      <th>size30</th>\n",
              "      <th>...</th>\n",
              "      <th>std1w</th>\n",
              "      <th>size2w</th>\n",
              "      <th>min2w</th>\n",
              "      <th>max2w</th>\n",
              "      <th>avg2w</th>\n",
              "      <th>std2w</th>\n",
              "      <th>working_day</th>\n",
              "      <th>speed_limit</th>\n",
              "      <th>label</th>\n",
              "      <th>timestamp5</th>\n",
              "    </tr>\n",
              "  </thead>\n",
              "  <tbody>\n",
              "    <tr>\n",
              "      <th>0</th>\n",
              "      <td>1385001</td>\n",
              "      <td>4</td>\n",
              "      <td>0</td>\n",
              "      <td>3</td>\n",
              "      <td>33</td>\n",
              "      <td>32.0</td>\n",
              "      <td>59.0</td>\n",
              "      <td>49.484848</td>\n",
              "      <td>6.035859</td>\n",
              "      <td>168.0</td>\n",
              "      <td>...</td>\n",
              "      <td>4.521537</td>\n",
              "      <td>32.0</td>\n",
              "      <td>25.0</td>\n",
              "      <td>58.0</td>\n",
              "      <td>47.562500</td>\n",
              "      <td>7.676822</td>\n",
              "      <td>1</td>\n",
              "      <td>67</td>\n",
              "      <td>50.799999</td>\n",
              "      <td>2014-08-01 00:00:00</td>\n",
              "    </tr>\n",
              "    <tr>\n",
              "      <th>1</th>\n",
              "      <td>1385001</td>\n",
              "      <td>4</td>\n",
              "      <td>1</td>\n",
              "      <td>3</td>\n",
              "      <td>34</td>\n",
              "      <td>35.0</td>\n",
              "      <td>62.0</td>\n",
              "      <td>51.735294</td>\n",
              "      <td>5.569396</td>\n",
              "      <td>174.0</td>\n",
              "      <td>...</td>\n",
              "      <td>5.250657</td>\n",
              "      <td>26.0</td>\n",
              "      <td>33.0</td>\n",
              "      <td>59.0</td>\n",
              "      <td>50.769230</td>\n",
              "      <td>4.979247</td>\n",
              "      <td>1</td>\n",
              "      <td>67</td>\n",
              "      <td>52.692307</td>\n",
              "      <td>2014-08-01 00:05:00</td>\n",
              "    </tr>\n",
              "    <tr>\n",
              "      <th>2</th>\n",
              "      <td>1385001</td>\n",
              "      <td>4</td>\n",
              "      <td>2</td>\n",
              "      <td>3</td>\n",
              "      <td>32</td>\n",
              "      <td>37.0</td>\n",
              "      <td>60.0</td>\n",
              "      <td>51.593750</td>\n",
              "      <td>5.011608</td>\n",
              "      <td>188.0</td>\n",
              "      <td>...</td>\n",
              "      <td>5.186414</td>\n",
              "      <td>24.0</td>\n",
              "      <td>11.0</td>\n",
              "      <td>56.0</td>\n",
              "      <td>47.250000</td>\n",
              "      <td>9.138973</td>\n",
              "      <td>1</td>\n",
              "      <td>67</td>\n",
              "      <td>50.000000</td>\n",
              "      <td>2014-08-01 00:10:00</td>\n",
              "    </tr>\n",
              "    <tr>\n",
              "      <th>3</th>\n",
              "      <td>1385001</td>\n",
              "      <td>4</td>\n",
              "      <td>3</td>\n",
              "      <td>3</td>\n",
              "      <td>30</td>\n",
              "      <td>31.0</td>\n",
              "      <td>57.0</td>\n",
              "      <td>49.266666</td>\n",
              "      <td>5.519260</td>\n",
              "      <td>185.0</td>\n",
              "      <td>...</td>\n",
              "      <td>5.188073</td>\n",
              "      <td>21.0</td>\n",
              "      <td>40.0</td>\n",
              "      <td>55.0</td>\n",
              "      <td>48.571430</td>\n",
              "      <td>4.593696</td>\n",
              "      <td>1</td>\n",
              "      <td>67</td>\n",
              "      <td>48.615383</td>\n",
              "      <td>2014-08-01 00:15:00</td>\n",
              "    </tr>\n",
              "    <tr>\n",
              "      <th>4</th>\n",
              "      <td>1385001</td>\n",
              "      <td>4</td>\n",
              "      <td>4</td>\n",
              "      <td>3</td>\n",
              "      <td>37</td>\n",
              "      <td>31.0</td>\n",
              "      <td>60.0</td>\n",
              "      <td>50.135136</td>\n",
              "      <td>5.619282</td>\n",
              "      <td>196.0</td>\n",
              "      <td>...</td>\n",
              "      <td>5.469811</td>\n",
              "      <td>14.0</td>\n",
              "      <td>42.0</td>\n",
              "      <td>57.0</td>\n",
              "      <td>49.500000</td>\n",
              "      <td>4.238430</td>\n",
              "      <td>1</td>\n",
              "      <td>67</td>\n",
              "      <td>48.000000</td>\n",
              "      <td>2014-08-01 00:20:00</td>\n",
              "    </tr>\n",
              "    <tr>\n",
              "      <th>5</th>\n",
              "      <td>1385001</td>\n",
              "      <td>4</td>\n",
              "      <td>5</td>\n",
              "      <td>3</td>\n",
              "      <td>32</td>\n",
              "      <td>32.0</td>\n",
              "      <td>58.0</td>\n",
              "      <td>50.500000</td>\n",
              "      <td>5.442885</td>\n",
              "      <td>198.0</td>\n",
              "      <td>...</td>\n",
              "      <td>5.435704</td>\n",
              "      <td>19.0</td>\n",
              "      <td>32.0</td>\n",
              "      <td>58.0</td>\n",
              "      <td>46.684212</td>\n",
              "      <td>7.616137</td>\n",
              "      <td>1</td>\n",
              "      <td>67</td>\n",
              "      <td>47.909092</td>\n",
              "      <td>2014-08-01 00:25:00</td>\n",
              "    </tr>\n",
              "    <tr>\n",
              "      <th>6</th>\n",
              "      <td>1385001</td>\n",
              "      <td>4</td>\n",
              "      <td>6</td>\n",
              "      <td>3</td>\n",
              "      <td>35</td>\n",
              "      <td>30.0</td>\n",
              "      <td>59.0</td>\n",
              "      <td>50.800000</td>\n",
              "      <td>6.060646</td>\n",
              "      <td>200.0</td>\n",
              "      <td>...</td>\n",
              "      <td>6.218572</td>\n",
              "      <td>14.0</td>\n",
              "      <td>40.0</td>\n",
              "      <td>57.0</td>\n",
              "      <td>50.571430</td>\n",
              "      <td>4.100771</td>\n",
              "      <td>1</td>\n",
              "      <td>67</td>\n",
              "      <td>51.416668</td>\n",
              "      <td>2014-08-01 00:30:00</td>\n",
              "    </tr>\n",
              "    <tr>\n",
              "      <th>7</th>\n",
              "      <td>1385001</td>\n",
              "      <td>4</td>\n",
              "      <td>7</td>\n",
              "      <td>3</td>\n",
              "      <td>26</td>\n",
              "      <td>44.0</td>\n",
              "      <td>60.0</td>\n",
              "      <td>52.692307</td>\n",
              "      <td>3.516655</td>\n",
              "      <td>192.0</td>\n",
              "      <td>...</td>\n",
              "      <td>5.138901</td>\n",
              "      <td>22.0</td>\n",
              "      <td>36.0</td>\n",
              "      <td>60.0</td>\n",
              "      <td>50.454544</td>\n",
              "      <td>5.323424</td>\n",
              "      <td>1</td>\n",
              "      <td>67</td>\n",
              "      <td>48.368420</td>\n",
              "      <td>2014-08-01 00:35:00</td>\n",
              "    </tr>\n",
              "    <tr>\n",
              "      <th>8</th>\n",
              "      <td>1385001</td>\n",
              "      <td>4</td>\n",
              "      <td>8</td>\n",
              "      <td>3</td>\n",
              "      <td>32</td>\n",
              "      <td>38.0</td>\n",
              "      <td>60.0</td>\n",
              "      <td>50.000000</td>\n",
              "      <td>5.618051</td>\n",
              "      <td>192.0</td>\n",
              "      <td>...</td>\n",
              "      <td>6.514599</td>\n",
              "      <td>18.0</td>\n",
              "      <td>43.0</td>\n",
              "      <td>58.0</td>\n",
              "      <td>51.611111</td>\n",
              "      <td>4.584259</td>\n",
              "      <td>1</td>\n",
              "      <td>67</td>\n",
              "      <td>49.863636</td>\n",
              "      <td>2014-08-01 00:40:00</td>\n",
              "    </tr>\n",
              "    <tr>\n",
              "      <th>9</th>\n",
              "      <td>1385001</td>\n",
              "      <td>4</td>\n",
              "      <td>9</td>\n",
              "      <td>3</td>\n",
              "      <td>26</td>\n",
              "      <td>27.0</td>\n",
              "      <td>57.0</td>\n",
              "      <td>48.615383</td>\n",
              "      <td>7.452810</td>\n",
              "      <td>188.0</td>\n",
              "      <td>...</td>\n",
              "      <td>5.607089</td>\n",
              "      <td>11.0</td>\n",
              "      <td>42.0</td>\n",
              "      <td>56.0</td>\n",
              "      <td>49.636364</td>\n",
              "      <td>4.656818</td>\n",
              "      <td>1</td>\n",
              "      <td>67</td>\n",
              "      <td>48.666668</td>\n",
              "      <td>2014-08-01 00:45:00</td>\n",
              "    </tr>\n",
              "  </tbody>\n",
              "</table>\n",
              "<p>10 rows × 28 columns</p>\n",
              "</div>"
            ],
            "text/plain": [
              "  sensor_id  day_of_week  slot_of_day  lane  size5  min5  max5       avg5  \\\n",
              "0   1385001            4            0     3     33  32.0  59.0  49.484848   \n",
              "1   1385001            4            1     3     34  35.0  62.0  51.735294   \n",
              "2   1385001            4            2     3     32  37.0  60.0  51.593750   \n",
              "3   1385001            4            3     3     30  31.0  57.0  49.266666   \n",
              "4   1385001            4            4     3     37  31.0  60.0  50.135136   \n",
              "5   1385001            4            5     3     32  32.0  58.0  50.500000   \n",
              "6   1385001            4            6     3     35  30.0  59.0  50.800000   \n",
              "7   1385001            4            7     3     26  44.0  60.0  52.692307   \n",
              "8   1385001            4            8     3     32  38.0  60.0  50.000000   \n",
              "9   1385001            4            9     3     26  27.0  57.0  48.615383   \n",
              "\n",
              "       std5  size30  ...     std1w  size2w  min2w  max2w      avg2w     std2w  \\\n",
              "0  6.035859   168.0  ...  4.521537    32.0   25.0   58.0  47.562500  7.676822   \n",
              "1  5.569396   174.0  ...  5.250657    26.0   33.0   59.0  50.769230  4.979247   \n",
              "2  5.011608   188.0  ...  5.186414    24.0   11.0   56.0  47.250000  9.138973   \n",
              "3  5.519260   185.0  ...  5.188073    21.0   40.0   55.0  48.571430  4.593696   \n",
              "4  5.619282   196.0  ...  5.469811    14.0   42.0   57.0  49.500000  4.238430   \n",
              "5  5.442885   198.0  ...  5.435704    19.0   32.0   58.0  46.684212  7.616137   \n",
              "6  6.060646   200.0  ...  6.218572    14.0   40.0   57.0  50.571430  4.100771   \n",
              "7  3.516655   192.0  ...  5.138901    22.0   36.0   60.0  50.454544  5.323424   \n",
              "8  5.618051   192.0  ...  6.514599    18.0   43.0   58.0  51.611111  4.584259   \n",
              "9  7.452810   188.0  ...  5.607089    11.0   42.0   56.0  49.636364  4.656818   \n",
              "\n",
              "   working_day  speed_limit      label          timestamp5  \n",
              "0            1           67  50.799999 2014-08-01 00:00:00  \n",
              "1            1           67  52.692307 2014-08-01 00:05:00  \n",
              "2            1           67  50.000000 2014-08-01 00:10:00  \n",
              "3            1           67  48.615383 2014-08-01 00:15:00  \n",
              "4            1           67  48.000000 2014-08-01 00:20:00  \n",
              "5            1           67  47.909092 2014-08-01 00:25:00  \n",
              "6            1           67  51.416668 2014-08-01 00:30:00  \n",
              "7            1           67  48.368420 2014-08-01 00:35:00  \n",
              "8            1           67  49.863636 2014-08-01 00:40:00  \n",
              "9            1           67  48.666668 2014-08-01 00:45:00  \n",
              "\n",
              "[10 rows x 28 columns]"
            ]
          },
          "metadata": {
            "tags": []
          },
          "execution_count": 12
        }
      ]
    },
    {
      "cell_type": "code",
      "metadata": {
        "id": "uOXH-Ov3pj9x"
      },
      "source": [
        "hours_added = datetime.timedelta(hours = 2)\n",
        "\n",
        "# Create a data series that combines the information about sensor_id & timestamp5\n",
        "sen_time = data_copy['sensor_id'].astype(str) + data_copy['timestamp5'].astype(str)\n",
        "\n",
        "# Create a dictionary of the corresponding { sensor_id + timestamp5 : avg5 } values\n",
        "dictionary = pd.Series(data_copy['avg5'].values, sen_time).to_dict()\n",
        "\n",
        "# Create a data series combining the timestamp5 + 2 hours information\n",
        "timePlus2h = data_copy['timestamp5'] + hours_added\n",
        "\n",
        "# Create a mapping column that combines the sensor_id & timestamp5+2h\n",
        "sensor_timePlus2h = (data_copy['sensor_id'].astype(str) + timePlus2h.astype(str))\n",
        "\n",
        "# Create a new_label series by mapping the dictionary onto sensor_timePlus2h\n",
        "new_label = sensor_timePlus2h.map(dictionary)\n",
        "\n",
        "# Extract indices where this series has non-NaN values\n",
        "where = new_label.notnull()\n",
        "\n",
        "# Replace the values in the 'label' column with only non-NaN new_label values\n",
        "data_copy.loc[where, 'label'] = new_label.loc[where]"
      ],
      "execution_count": null,
      "outputs": []
    },
    {
      "cell_type": "code",
      "metadata": {
        "id": "lgmRlTcBpj91",
        "outputId": "a69a32e2-c4ca-4a7d-86e7-97a8ef07c6ed"
      },
      "source": [
        "data_copy.head(10)"
      ],
      "execution_count": null,
      "outputs": [
        {
          "output_type": "execute_result",
          "data": {
            "text/html": [
              "<div>\n",
              "<style scoped>\n",
              "    .dataframe tbody tr th:only-of-type {\n",
              "        vertical-align: middle;\n",
              "    }\n",
              "\n",
              "    .dataframe tbody tr th {\n",
              "        vertical-align: top;\n",
              "    }\n",
              "\n",
              "    .dataframe thead th {\n",
              "        text-align: right;\n",
              "    }\n",
              "</style>\n",
              "<table border=\"1\" class=\"dataframe\">\n",
              "  <thead>\n",
              "    <tr style=\"text-align: right;\">\n",
              "      <th></th>\n",
              "      <th>sensor_id</th>\n",
              "      <th>day_of_week</th>\n",
              "      <th>slot_of_day</th>\n",
              "      <th>lane</th>\n",
              "      <th>size5</th>\n",
              "      <th>min5</th>\n",
              "      <th>max5</th>\n",
              "      <th>avg5</th>\n",
              "      <th>std5</th>\n",
              "      <th>size30</th>\n",
              "      <th>...</th>\n",
              "      <th>std1w</th>\n",
              "      <th>size2w</th>\n",
              "      <th>min2w</th>\n",
              "      <th>max2w</th>\n",
              "      <th>avg2w</th>\n",
              "      <th>std2w</th>\n",
              "      <th>working_day</th>\n",
              "      <th>speed_limit</th>\n",
              "      <th>label</th>\n",
              "      <th>timestamp5</th>\n",
              "    </tr>\n",
              "  </thead>\n",
              "  <tbody>\n",
              "    <tr>\n",
              "      <th>0</th>\n",
              "      <td>1385001</td>\n",
              "      <td>4</td>\n",
              "      <td>0</td>\n",
              "      <td>3</td>\n",
              "      <td>33</td>\n",
              "      <td>32.0</td>\n",
              "      <td>59.0</td>\n",
              "      <td>49.484848</td>\n",
              "      <td>6.035859</td>\n",
              "      <td>168.0</td>\n",
              "      <td>...</td>\n",
              "      <td>4.521537</td>\n",
              "      <td>32.0</td>\n",
              "      <td>25.0</td>\n",
              "      <td>58.0</td>\n",
              "      <td>47.562500</td>\n",
              "      <td>7.676822</td>\n",
              "      <td>1</td>\n",
              "      <td>67</td>\n",
              "      <td>50.809525</td>\n",
              "      <td>2014-08-01 00:00:00</td>\n",
              "    </tr>\n",
              "    <tr>\n",
              "      <th>1</th>\n",
              "      <td>1385001</td>\n",
              "      <td>4</td>\n",
              "      <td>1</td>\n",
              "      <td>3</td>\n",
              "      <td>34</td>\n",
              "      <td>35.0</td>\n",
              "      <td>62.0</td>\n",
              "      <td>51.735294</td>\n",
              "      <td>5.569396</td>\n",
              "      <td>174.0</td>\n",
              "      <td>...</td>\n",
              "      <td>5.250657</td>\n",
              "      <td>26.0</td>\n",
              "      <td>33.0</td>\n",
              "      <td>59.0</td>\n",
              "      <td>50.769230</td>\n",
              "      <td>4.979247</td>\n",
              "      <td>1</td>\n",
              "      <td>67</td>\n",
              "      <td>48.500000</td>\n",
              "      <td>2014-08-01 00:05:00</td>\n",
              "    </tr>\n",
              "    <tr>\n",
              "      <th>2</th>\n",
              "      <td>1385001</td>\n",
              "      <td>4</td>\n",
              "      <td>2</td>\n",
              "      <td>3</td>\n",
              "      <td>32</td>\n",
              "      <td>37.0</td>\n",
              "      <td>60.0</td>\n",
              "      <td>51.593750</td>\n",
              "      <td>5.011608</td>\n",
              "      <td>188.0</td>\n",
              "      <td>...</td>\n",
              "      <td>5.186414</td>\n",
              "      <td>24.0</td>\n",
              "      <td>11.0</td>\n",
              "      <td>56.0</td>\n",
              "      <td>47.250000</td>\n",
              "      <td>9.138973</td>\n",
              "      <td>1</td>\n",
              "      <td>67</td>\n",
              "      <td>51.611110</td>\n",
              "      <td>2014-08-01 00:10:00</td>\n",
              "    </tr>\n",
              "    <tr>\n",
              "      <th>3</th>\n",
              "      <td>1385001</td>\n",
              "      <td>4</td>\n",
              "      <td>3</td>\n",
              "      <td>3</td>\n",
              "      <td>30</td>\n",
              "      <td>31.0</td>\n",
              "      <td>57.0</td>\n",
              "      <td>49.266666</td>\n",
              "      <td>5.519260</td>\n",
              "      <td>185.0</td>\n",
              "      <td>...</td>\n",
              "      <td>5.188073</td>\n",
              "      <td>21.0</td>\n",
              "      <td>40.0</td>\n",
              "      <td>55.0</td>\n",
              "      <td>48.571430</td>\n",
              "      <td>4.593696</td>\n",
              "      <td>1</td>\n",
              "      <td>67</td>\n",
              "      <td>49.055557</td>\n",
              "      <td>2014-08-01 00:15:00</td>\n",
              "    </tr>\n",
              "    <tr>\n",
              "      <th>4</th>\n",
              "      <td>1385001</td>\n",
              "      <td>4</td>\n",
              "      <td>4</td>\n",
              "      <td>3</td>\n",
              "      <td>37</td>\n",
              "      <td>31.0</td>\n",
              "      <td>60.0</td>\n",
              "      <td>50.135136</td>\n",
              "      <td>5.619282</td>\n",
              "      <td>196.0</td>\n",
              "      <td>...</td>\n",
              "      <td>5.469811</td>\n",
              "      <td>14.0</td>\n",
              "      <td>42.0</td>\n",
              "      <td>57.0</td>\n",
              "      <td>49.500000</td>\n",
              "      <td>4.238430</td>\n",
              "      <td>1</td>\n",
              "      <td>67</td>\n",
              "      <td>49.947370</td>\n",
              "      <td>2014-08-01 00:20:00</td>\n",
              "    </tr>\n",
              "    <tr>\n",
              "      <th>5</th>\n",
              "      <td>1385001</td>\n",
              "      <td>4</td>\n",
              "      <td>5</td>\n",
              "      <td>3</td>\n",
              "      <td>32</td>\n",
              "      <td>32.0</td>\n",
              "      <td>58.0</td>\n",
              "      <td>50.500000</td>\n",
              "      <td>5.442885</td>\n",
              "      <td>198.0</td>\n",
              "      <td>...</td>\n",
              "      <td>5.435704</td>\n",
              "      <td>19.0</td>\n",
              "      <td>32.0</td>\n",
              "      <td>58.0</td>\n",
              "      <td>46.684212</td>\n",
              "      <td>7.616137</td>\n",
              "      <td>1</td>\n",
              "      <td>67</td>\n",
              "      <td>47.400000</td>\n",
              "      <td>2014-08-01 00:25:00</td>\n",
              "    </tr>\n",
              "    <tr>\n",
              "      <th>6</th>\n",
              "      <td>1385001</td>\n",
              "      <td>4</td>\n",
              "      <td>6</td>\n",
              "      <td>3</td>\n",
              "      <td>35</td>\n",
              "      <td>30.0</td>\n",
              "      <td>59.0</td>\n",
              "      <td>50.800000</td>\n",
              "      <td>6.060646</td>\n",
              "      <td>200.0</td>\n",
              "      <td>...</td>\n",
              "      <td>6.218572</td>\n",
              "      <td>14.0</td>\n",
              "      <td>40.0</td>\n",
              "      <td>57.0</td>\n",
              "      <td>50.571430</td>\n",
              "      <td>4.100771</td>\n",
              "      <td>1</td>\n",
              "      <td>67</td>\n",
              "      <td>49.000000</td>\n",
              "      <td>2014-08-01 00:30:00</td>\n",
              "    </tr>\n",
              "    <tr>\n",
              "      <th>7</th>\n",
              "      <td>1385001</td>\n",
              "      <td>4</td>\n",
              "      <td>7</td>\n",
              "      <td>3</td>\n",
              "      <td>26</td>\n",
              "      <td>44.0</td>\n",
              "      <td>60.0</td>\n",
              "      <td>52.692307</td>\n",
              "      <td>3.516655</td>\n",
              "      <td>192.0</td>\n",
              "      <td>...</td>\n",
              "      <td>5.138901</td>\n",
              "      <td>22.0</td>\n",
              "      <td>36.0</td>\n",
              "      <td>60.0</td>\n",
              "      <td>50.454544</td>\n",
              "      <td>5.323424</td>\n",
              "      <td>1</td>\n",
              "      <td>67</td>\n",
              "      <td>49.700000</td>\n",
              "      <td>2014-08-01 00:35:00</td>\n",
              "    </tr>\n",
              "    <tr>\n",
              "      <th>8</th>\n",
              "      <td>1385001</td>\n",
              "      <td>4</td>\n",
              "      <td>8</td>\n",
              "      <td>3</td>\n",
              "      <td>32</td>\n",
              "      <td>38.0</td>\n",
              "      <td>60.0</td>\n",
              "      <td>50.000000</td>\n",
              "      <td>5.618051</td>\n",
              "      <td>192.0</td>\n",
              "      <td>...</td>\n",
              "      <td>6.514599</td>\n",
              "      <td>18.0</td>\n",
              "      <td>43.0</td>\n",
              "      <td>58.0</td>\n",
              "      <td>51.611111</td>\n",
              "      <td>4.584259</td>\n",
              "      <td>1</td>\n",
              "      <td>67</td>\n",
              "      <td>48.384617</td>\n",
              "      <td>2014-08-01 00:40:00</td>\n",
              "    </tr>\n",
              "    <tr>\n",
              "      <th>9</th>\n",
              "      <td>1385001</td>\n",
              "      <td>4</td>\n",
              "      <td>9</td>\n",
              "      <td>3</td>\n",
              "      <td>26</td>\n",
              "      <td>27.0</td>\n",
              "      <td>57.0</td>\n",
              "      <td>48.615383</td>\n",
              "      <td>7.452810</td>\n",
              "      <td>188.0</td>\n",
              "      <td>...</td>\n",
              "      <td>5.607089</td>\n",
              "      <td>11.0</td>\n",
              "      <td>42.0</td>\n",
              "      <td>56.0</td>\n",
              "      <td>49.636364</td>\n",
              "      <td>4.656818</td>\n",
              "      <td>1</td>\n",
              "      <td>67</td>\n",
              "      <td>49.875000</td>\n",
              "      <td>2014-08-01 00:45:00</td>\n",
              "    </tr>\n",
              "  </tbody>\n",
              "</table>\n",
              "<p>10 rows × 28 columns</p>\n",
              "</div>"
            ],
            "text/plain": [
              "  sensor_id  day_of_week  slot_of_day  lane  size5  min5  max5       avg5  \\\n",
              "0   1385001            4            0     3     33  32.0  59.0  49.484848   \n",
              "1   1385001            4            1     3     34  35.0  62.0  51.735294   \n",
              "2   1385001            4            2     3     32  37.0  60.0  51.593750   \n",
              "3   1385001            4            3     3     30  31.0  57.0  49.266666   \n",
              "4   1385001            4            4     3     37  31.0  60.0  50.135136   \n",
              "5   1385001            4            5     3     32  32.0  58.0  50.500000   \n",
              "6   1385001            4            6     3     35  30.0  59.0  50.800000   \n",
              "7   1385001            4            7     3     26  44.0  60.0  52.692307   \n",
              "8   1385001            4            8     3     32  38.0  60.0  50.000000   \n",
              "9   1385001            4            9     3     26  27.0  57.0  48.615383   \n",
              "\n",
              "       std5  size30  ...     std1w  size2w  min2w  max2w      avg2w     std2w  \\\n",
              "0  6.035859   168.0  ...  4.521537    32.0   25.0   58.0  47.562500  7.676822   \n",
              "1  5.569396   174.0  ...  5.250657    26.0   33.0   59.0  50.769230  4.979247   \n",
              "2  5.011608   188.0  ...  5.186414    24.0   11.0   56.0  47.250000  9.138973   \n",
              "3  5.519260   185.0  ...  5.188073    21.0   40.0   55.0  48.571430  4.593696   \n",
              "4  5.619282   196.0  ...  5.469811    14.0   42.0   57.0  49.500000  4.238430   \n",
              "5  5.442885   198.0  ...  5.435704    19.0   32.0   58.0  46.684212  7.616137   \n",
              "6  6.060646   200.0  ...  6.218572    14.0   40.0   57.0  50.571430  4.100771   \n",
              "7  3.516655   192.0  ...  5.138901    22.0   36.0   60.0  50.454544  5.323424   \n",
              "8  5.618051   192.0  ...  6.514599    18.0   43.0   58.0  51.611111  4.584259   \n",
              "9  7.452810   188.0  ...  5.607089    11.0   42.0   56.0  49.636364  4.656818   \n",
              "\n",
              "   working_day  speed_limit      label          timestamp5  \n",
              "0            1           67  50.809525 2014-08-01 00:00:00  \n",
              "1            1           67  48.500000 2014-08-01 00:05:00  \n",
              "2            1           67  51.611110 2014-08-01 00:10:00  \n",
              "3            1           67  49.055557 2014-08-01 00:15:00  \n",
              "4            1           67  49.947370 2014-08-01 00:20:00  \n",
              "5            1           67  47.400000 2014-08-01 00:25:00  \n",
              "6            1           67  49.000000 2014-08-01 00:30:00  \n",
              "7            1           67  49.700000 2014-08-01 00:35:00  \n",
              "8            1           67  48.384617 2014-08-01 00:40:00  \n",
              "9            1           67  49.875000 2014-08-01 00:45:00  \n",
              "\n",
              "[10 rows x 28 columns]"
            ]
          },
          "metadata": {
            "tags": []
          },
          "execution_count": 14
        }
      ]
    },
    {
      "cell_type": "code",
      "metadata": {
        "id": "RZPhNPpqp5ZU",
        "outputId": "26f4dd86-d8df-4319-aa7e-5e4a00e65551"
      },
      "source": [
        "data_copy.tail()"
      ],
      "execution_count": null,
      "outputs": [
        {
          "output_type": "execute_result",
          "data": {
            "text/html": [
              "<div>\n",
              "<style scoped>\n",
              "    .dataframe tbody tr th:only-of-type {\n",
              "        vertical-align: middle;\n",
              "    }\n",
              "\n",
              "    .dataframe tbody tr th {\n",
              "        vertical-align: top;\n",
              "    }\n",
              "\n",
              "    .dataframe thead th {\n",
              "        text-align: right;\n",
              "    }\n",
              "</style>\n",
              "<table border=\"1\" class=\"dataframe\">\n",
              "  <thead>\n",
              "    <tr style=\"text-align: right;\">\n",
              "      <th></th>\n",
              "      <th>sensor_id</th>\n",
              "      <th>day_of_week</th>\n",
              "      <th>slot_of_day</th>\n",
              "      <th>lane</th>\n",
              "      <th>size5</th>\n",
              "      <th>min5</th>\n",
              "      <th>max5</th>\n",
              "      <th>avg5</th>\n",
              "      <th>std5</th>\n",
              "      <th>size30</th>\n",
              "      <th>...</th>\n",
              "      <th>std1w</th>\n",
              "      <th>size2w</th>\n",
              "      <th>min2w</th>\n",
              "      <th>max2w</th>\n",
              "      <th>avg2w</th>\n",
              "      <th>std2w</th>\n",
              "      <th>working_day</th>\n",
              "      <th>speed_limit</th>\n",
              "      <th>label</th>\n",
              "      <th>timestamp5</th>\n",
              "    </tr>\n",
              "  </thead>\n",
              "  <tbody>\n",
              "    <tr>\n",
              "      <th>2950517</th>\n",
              "      <td>AT911</td>\n",
              "      <td>1</td>\n",
              "      <td>279</td>\n",
              "      <td>1</td>\n",
              "      <td>4</td>\n",
              "      <td>4.0</td>\n",
              "      <td>19.0</td>\n",
              "      <td>11.0</td>\n",
              "      <td>5.43139</td>\n",
              "      <td>25.0</td>\n",
              "      <td>...</td>\n",
              "      <td>10.274023</td>\n",
              "      <td>2.0</td>\n",
              "      <td>9.0</td>\n",
              "      <td>14.0</td>\n",
              "      <td>11.500000</td>\n",
              "      <td>2.500000</td>\n",
              "      <td>1</td>\n",
              "      <td>60</td>\n",
              "      <td>20.000000</td>\n",
              "      <td>2014-09-30 23:15:00</td>\n",
              "    </tr>\n",
              "    <tr>\n",
              "      <th>2950518</th>\n",
              "      <td>AT911</td>\n",
              "      <td>1</td>\n",
              "      <td>280</td>\n",
              "      <td>1</td>\n",
              "      <td>2</td>\n",
              "      <td>3.0</td>\n",
              "      <td>6.0</td>\n",
              "      <td>4.5</td>\n",
              "      <td>1.50000</td>\n",
              "      <td>24.0</td>\n",
              "      <td>...</td>\n",
              "      <td>3.500000</td>\n",
              "      <td>3.0</td>\n",
              "      <td>8.0</td>\n",
              "      <td>67.0</td>\n",
              "      <td>37.666668</td>\n",
              "      <td>24.087803</td>\n",
              "      <td>1</td>\n",
              "      <td>60</td>\n",
              "      <td>21.799999</td>\n",
              "      <td>2014-09-30 23:20:00</td>\n",
              "    </tr>\n",
              "    <tr>\n",
              "      <th>2950519</th>\n",
              "      <td>AT911</td>\n",
              "      <td>1</td>\n",
              "      <td>282</td>\n",
              "      <td>2</td>\n",
              "      <td>1</td>\n",
              "      <td>37.0</td>\n",
              "      <td>37.0</td>\n",
              "      <td>37.0</td>\n",
              "      <td>0.00000</td>\n",
              "      <td>18.0</td>\n",
              "      <td>...</td>\n",
              "      <td>4.000000</td>\n",
              "      <td>2.0</td>\n",
              "      <td>5.0</td>\n",
              "      <td>9.0</td>\n",
              "      <td>7.000000</td>\n",
              "      <td>2.000000</td>\n",
              "      <td>1</td>\n",
              "      <td>60</td>\n",
              "      <td>20.500000</td>\n",
              "      <td>2014-09-30 23:30:00</td>\n",
              "    </tr>\n",
              "    <tr>\n",
              "      <th>2950520</th>\n",
              "      <td>AT911</td>\n",
              "      <td>1</td>\n",
              "      <td>283</td>\n",
              "      <td>1</td>\n",
              "      <td>1</td>\n",
              "      <td>13.0</td>\n",
              "      <td>13.0</td>\n",
              "      <td>13.0</td>\n",
              "      <td>0.00000</td>\n",
              "      <td>16.0</td>\n",
              "      <td>...</td>\n",
              "      <td>15.572412</td>\n",
              "      <td>3.0</td>\n",
              "      <td>4.0</td>\n",
              "      <td>41.0</td>\n",
              "      <td>24.333334</td>\n",
              "      <td>15.326085</td>\n",
              "      <td>1</td>\n",
              "      <td>60</td>\n",
              "      <td>14.333333</td>\n",
              "      <td>2014-09-30 23:35:00</td>\n",
              "    </tr>\n",
              "    <tr>\n",
              "      <th>2950521</th>\n",
              "      <td>AT911</td>\n",
              "      <td>1</td>\n",
              "      <td>286</td>\n",
              "      <td>1</td>\n",
              "      <td>5</td>\n",
              "      <td>4.0</td>\n",
              "      <td>75.0</td>\n",
              "      <td>21.8</td>\n",
              "      <td>26.70131</td>\n",
              "      <td>20.0</td>\n",
              "      <td>...</td>\n",
              "      <td>1.500000</td>\n",
              "      <td>1.0</td>\n",
              "      <td>42.0</td>\n",
              "      <td>42.0</td>\n",
              "      <td>42.000000</td>\n",
              "      <td>0.000000</td>\n",
              "      <td>1</td>\n",
              "      <td>60</td>\n",
              "      <td>18.666666</td>\n",
              "      <td>2014-09-30 23:50:00</td>\n",
              "    </tr>\n",
              "  </tbody>\n",
              "</table>\n",
              "<p>5 rows × 28 columns</p>\n",
              "</div>"
            ],
            "text/plain": [
              "        sensor_id  day_of_week  slot_of_day  lane  size5  min5  max5  avg5  \\\n",
              "2950517     AT911            1          279     1      4   4.0  19.0  11.0   \n",
              "2950518     AT911            1          280     1      2   3.0   6.0   4.5   \n",
              "2950519     AT911            1          282     2      1  37.0  37.0  37.0   \n",
              "2950520     AT911            1          283     1      1  13.0  13.0  13.0   \n",
              "2950521     AT911            1          286     1      5   4.0  75.0  21.8   \n",
              "\n",
              "             std5  size30  ...      std1w  size2w  min2w  max2w      avg2w  \\\n",
              "2950517   5.43139    25.0  ...  10.274023     2.0    9.0   14.0  11.500000   \n",
              "2950518   1.50000    24.0  ...   3.500000     3.0    8.0   67.0  37.666668   \n",
              "2950519   0.00000    18.0  ...   4.000000     2.0    5.0    9.0   7.000000   \n",
              "2950520   0.00000    16.0  ...  15.572412     3.0    4.0   41.0  24.333334   \n",
              "2950521  26.70131    20.0  ...   1.500000     1.0   42.0   42.0  42.000000   \n",
              "\n",
              "             std2w  working_day  speed_limit      label          timestamp5  \n",
              "2950517   2.500000            1           60  20.000000 2014-09-30 23:15:00  \n",
              "2950518  24.087803            1           60  21.799999 2014-09-30 23:20:00  \n",
              "2950519   2.000000            1           60  20.500000 2014-09-30 23:30:00  \n",
              "2950520  15.326085            1           60  14.333333 2014-09-30 23:35:00  \n",
              "2950521   0.000000            1           60  18.666666 2014-09-30 23:50:00  \n",
              "\n",
              "[5 rows x 28 columns]"
            ]
          },
          "metadata": {
            "tags": []
          },
          "execution_count": 15
        }
      ]
    },
    {
      "cell_type": "code",
      "metadata": {
        "id": "sCOc44Q0p5ZX",
        "outputId": "05cfac04-7481-49f7-dc43-34a83238eeb8"
      },
      "source": [
        "data_copy.isna().sum()"
      ],
      "execution_count": null,
      "outputs": [
        {
          "output_type": "execute_result",
          "data": {
            "text/plain": [
              "sensor_id      0\n",
              "day_of_week    0\n",
              "slot_of_day    0\n",
              "lane           0\n",
              "size5          0\n",
              "min5           0\n",
              "max5           0\n",
              "avg5           0\n",
              "std5           0\n",
              "size30         0\n",
              "min30          0\n",
              "max30          0\n",
              "avg30          0\n",
              "std30          0\n",
              "size1w         0\n",
              "min1w          0\n",
              "max1w          0\n",
              "avg1w          0\n",
              "std1w          0\n",
              "size2w         0\n",
              "min2w          0\n",
              "max2w          0\n",
              "avg2w          0\n",
              "std2w          0\n",
              "working_day    0\n",
              "speed_limit    0\n",
              "label          0\n",
              "timestamp5     0\n",
              "dtype: int64"
            ]
          },
          "metadata": {
            "tags": []
          },
          "execution_count": 16
        }
      ]
    },
    {
      "cell_type": "code",
      "metadata": {
        "id": "bQE0P1Tgp5ZY"
      },
      "source": [
        "data_copy.to_csv('data-02hours.csv')\n",
        "!cp data-02hours.csv '/datasets'"
      ],
      "execution_count": null,
      "outputs": []
    },
    {
      "cell_type": "markdown",
      "metadata": {
        "id": "jI08UEC9rCd3"
      },
      "source": [
        "### Dados de teste"
      ]
    },
    {
      "cell_type": "code",
      "metadata": {
        "id": "atEdbD2up5Za"
      },
      "source": [
        "test_copy = test.copy()"
      ],
      "execution_count": null,
      "outputs": []
    },
    {
      "cell_type": "code",
      "metadata": {
        "scrolled": true,
        "id": "6wLHlMaep5Zc",
        "outputId": "3574062c-4851-4572-d098-a125b54b5770",
        "colab": {
          "base_uri": "https://localhost:8080/",
          "height": 35
        }
      },
      "source": [
        "test_copy.index"
      ],
      "execution_count": null,
      "outputs": [
        {
          "output_type": "execute_result",
          "data": {
            "text/plain": [
              "RangeIndex(start=0, stop=1715253, step=1)"
            ]
          },
          "metadata": {
            "tags": []
          },
          "execution_count": 28
        }
      ]
    },
    {
      "cell_type": "code",
      "metadata": {
        "id": "vjRCu4Nkpj-B"
      },
      "source": [
        "hours_added = datetime.timedelta(hours = 2)\n",
        "\n",
        "# Create a data series that combines the information about sensor_id & timestamp5\n",
        "sen_time = test_copy['sensor_id'].astype(str) + test_copy['timestamp5'].astype(str)\n",
        "\n",
        "# Create a dictionary of the corresponding { sensor_id + timestamp5 : avg5 } values\n",
        "dictionary = pd.Series(test_copy['avg5'].values, sen_time).to_dict()\n",
        "\n",
        "# Create a data series combining the timestamp5 + 2 hours information\n",
        "timePlus2h = test_copy['timestamp5'] + hours_added\n",
        "\n",
        "# Create a mapping column that combines the sensor_id & timestamp5+2h\n",
        "sensor_timePlus2h = (test_copy['sensor_id'].astype(str) + timePlus2h.astype(str))\n",
        "\n",
        "# Create a new_label series by mapping the dictionary onto sensor_timePlus2h\n",
        "new_label = sensor_timePlus2h.map(dictionary)\n",
        "\n",
        "# Extract indices where this series has non-NaN values\n",
        "where = new_label.notnull()\n",
        "\n",
        "# Replace the values in the 'label' column with only non-NaN new_label values\n",
        "test_copy.loc[where, 'label'] = new_label.loc[where]"
      ],
      "execution_count": null,
      "outputs": []
    },
    {
      "cell_type": "code",
      "metadata": {
        "id": "8hP56j89pj-D"
      },
      "source": [
        "test_copy.to_csv('test-02hours.csv')"
      ],
      "execution_count": null,
      "outputs": []
    },
    {
      "cell_type": "markdown",
      "metadata": {
        "id": "OsXMJD74rI3v"
      },
      "source": [
        "## Treinando com dataset ajustado para 2 horas"
      ]
    },
    {
      "cell_type": "markdown",
      "metadata": {
        "id": "yx39SAx6rXg-"
      },
      "source": [
        "### Removendo features desnecessárias"
      ]
    },
    {
      "cell_type": "code",
      "metadata": {
        "id": "zi70IGrsrayt",
        "outputId": "fe21526a-2ae4-411c-a3ec-5946c077d51c",
        "colab": {
          "base_uri": "https://localhost:8080/",
          "height": 53
        }
      },
      "source": [
        "## Only if kernel restarted\n",
        "\n",
        "# Agosto + Setembro de 2014\n",
        "data_ver = pd.read_csv(f'{datasets}/data-02hours.csv', parse_dates=[\"timestamp5\"])\n",
        "\n",
        "# Outubro como teste\n",
        "test_ver = pd.read_csv(f'{datasets}/test-02hours.csv', parse_dates=[\"timestamp5\"])"
      ],
      "execution_count": null,
      "outputs": [
        {
          "output_type": "stream",
          "text": [
            "/usr/local/lib/python3.6/dist-packages/IPython/core/interactiveshell.py:2718: DtypeWarning: Columns (1) have mixed types.Specify dtype option on import or set low_memory=False.\n",
            "  interactivity=interactivity, compiler=compiler, result=result)\n"
          ],
          "name": "stderr"
        }
      ]
    },
    {
      "cell_type": "code",
      "metadata": {
        "id": "ZcLHra3fZTAM",
        "outputId": "13349cc5-3caf-4026-9fd8-5e89a368bcfb",
        "colab": {
          "base_uri": "https://localhost:8080/",
          "height": 134
        }
      },
      "source": [
        "hours_added = datetime.timedelta(hours = 2)\n",
        "index = 555555\n",
        "hours_ahead = data.loc[index, \"timestamp5\"] + hours_added\n",
        "\n",
        "print(data.loc[index, [\"sensor_id\", \"label\"]])\n",
        "data[((data[\"timestamp5\"] == hours_ahead) & (data[\"sensor_id\"] == data[\"sensor_id\"].loc[index]))][[\"sensor_id\", \"avg5\"]]"
      ],
      "execution_count": null,
      "outputs": [
        {
          "output_type": "stream",
          "text": [
            "sensor_id    1385133\n",
            "label        40.9595\n",
            "Name: 555555, dtype: object\n"
          ],
          "name": "stdout"
        },
        {
          "output_type": "execute_result",
          "data": {
            "text/html": [
              "<div>\n",
              "<style scoped>\n",
              "    .dataframe tbody tr th:only-of-type {\n",
              "        vertical-align: middle;\n",
              "    }\n",
              "\n",
              "    .dataframe tbody tr th {\n",
              "        vertical-align: top;\n",
              "    }\n",
              "\n",
              "    .dataframe thead th {\n",
              "        text-align: right;\n",
              "    }\n",
              "</style>\n",
              "<table border=\"1\" class=\"dataframe\">\n",
              "  <thead>\n",
              "    <tr style=\"text-align: right;\">\n",
              "      <th></th>\n",
              "      <th>sensor_id</th>\n",
              "      <th>avg5</th>\n",
              "    </tr>\n",
              "  </thead>\n",
              "  <tbody>\n",
              "    <tr>\n",
              "      <th>555579</th>\n",
              "      <td>1385133</td>\n",
              "      <td>39.241665</td>\n",
              "    </tr>\n",
              "  </tbody>\n",
              "</table>\n",
              "</div>"
            ],
            "text/plain": [
              "       sensor_id       avg5\n",
              "555579   1385133  39.241665"
            ]
          },
          "metadata": {
            "tags": []
          },
          "execution_count": 27
        }
      ]
    },
    {
      "cell_type": "code",
      "metadata": {
        "id": "h-qjIp0YrXhA"
      },
      "source": [
        "del data['sensor_id']\n",
        "del data['timestamp5']\n",
        "del data['Unnamed: 0']\n",
        "\n",
        "del test['sensor_id']\n",
        "del test['timestamp5']\n",
        "del test['Unnamed: 0']"
      ],
      "execution_count": null,
      "outputs": []
    },
    {
      "cell_type": "code",
      "metadata": {
        "id": "Hyb2hUmMsXT-",
        "outputId": "ee0ed9d7-4311-499f-ed3d-38e4af407c52",
        "colab": {
          "base_uri": "https://localhost:8080/",
          "height": 224
        }
      },
      "source": [
        "data.head()"
      ],
      "execution_count": null,
      "outputs": [
        {
          "output_type": "execute_result",
          "data": {
            "text/html": [
              "<div>\n",
              "<style scoped>\n",
              "    .dataframe tbody tr th:only-of-type {\n",
              "        vertical-align: middle;\n",
              "    }\n",
              "\n",
              "    .dataframe tbody tr th {\n",
              "        vertical-align: top;\n",
              "    }\n",
              "\n",
              "    .dataframe thead th {\n",
              "        text-align: right;\n",
              "    }\n",
              "</style>\n",
              "<table border=\"1\" class=\"dataframe\">\n",
              "  <thead>\n",
              "    <tr style=\"text-align: right;\">\n",
              "      <th></th>\n",
              "      <th>day_of_week</th>\n",
              "      <th>slot_of_day</th>\n",
              "      <th>lane</th>\n",
              "      <th>size5</th>\n",
              "      <th>min5</th>\n",
              "      <th>max5</th>\n",
              "      <th>avg5</th>\n",
              "      <th>std5</th>\n",
              "      <th>size30</th>\n",
              "      <th>min30</th>\n",
              "      <th>max30</th>\n",
              "      <th>avg30</th>\n",
              "      <th>std30</th>\n",
              "      <th>size1w</th>\n",
              "      <th>min1w</th>\n",
              "      <th>max1w</th>\n",
              "      <th>avg1w</th>\n",
              "      <th>std1w</th>\n",
              "      <th>size2w</th>\n",
              "      <th>min2w</th>\n",
              "      <th>max2w</th>\n",
              "      <th>avg2w</th>\n",
              "      <th>std2w</th>\n",
              "      <th>working_day</th>\n",
              "      <th>speed_limit</th>\n",
              "      <th>label</th>\n",
              "    </tr>\n",
              "  </thead>\n",
              "  <tbody>\n",
              "    <tr>\n",
              "      <th>0</th>\n",
              "      <td>4</td>\n",
              "      <td>0</td>\n",
              "      <td>3</td>\n",
              "      <td>33</td>\n",
              "      <td>32.0</td>\n",
              "      <td>59.0</td>\n",
              "      <td>49.484848</td>\n",
              "      <td>6.035859</td>\n",
              "      <td>168.0</td>\n",
              "      <td>25.0</td>\n",
              "      <td>61.0</td>\n",
              "      <td>49.678571</td>\n",
              "      <td>5.961505</td>\n",
              "      <td>55.0</td>\n",
              "      <td>40.0</td>\n",
              "      <td>58.0</td>\n",
              "      <td>49.654545</td>\n",
              "      <td>4.521537</td>\n",
              "      <td>32.0</td>\n",
              "      <td>25.0</td>\n",
              "      <td>58.0</td>\n",
              "      <td>47.56250</td>\n",
              "      <td>7.676822</td>\n",
              "      <td>1</td>\n",
              "      <td>67</td>\n",
              "      <td>50.809525</td>\n",
              "    </tr>\n",
              "    <tr>\n",
              "      <th>1</th>\n",
              "      <td>4</td>\n",
              "      <td>1</td>\n",
              "      <td>3</td>\n",
              "      <td>34</td>\n",
              "      <td>35.0</td>\n",
              "      <td>62.0</td>\n",
              "      <td>51.735294</td>\n",
              "      <td>5.569396</td>\n",
              "      <td>174.0</td>\n",
              "      <td>25.0</td>\n",
              "      <td>62.0</td>\n",
              "      <td>50.114943</td>\n",
              "      <td>6.018984</td>\n",
              "      <td>51.0</td>\n",
              "      <td>37.0</td>\n",
              "      <td>60.0</td>\n",
              "      <td>49.862743</td>\n",
              "      <td>5.250657</td>\n",
              "      <td>26.0</td>\n",
              "      <td>33.0</td>\n",
              "      <td>59.0</td>\n",
              "      <td>50.76923</td>\n",
              "      <td>4.979247</td>\n",
              "      <td>1</td>\n",
              "      <td>67</td>\n",
              "      <td>48.500000</td>\n",
              "    </tr>\n",
              "    <tr>\n",
              "      <th>2</th>\n",
              "      <td>4</td>\n",
              "      <td>2</td>\n",
              "      <td>3</td>\n",
              "      <td>32</td>\n",
              "      <td>37.0</td>\n",
              "      <td>60.0</td>\n",
              "      <td>51.593750</td>\n",
              "      <td>5.011608</td>\n",
              "      <td>188.0</td>\n",
              "      <td>25.0</td>\n",
              "      <td>62.0</td>\n",
              "      <td>50.494681</td>\n",
              "      <td>5.920122</td>\n",
              "      <td>30.0</td>\n",
              "      <td>37.0</td>\n",
              "      <td>56.0</td>\n",
              "      <td>48.966667</td>\n",
              "      <td>5.186414</td>\n",
              "      <td>24.0</td>\n",
              "      <td>11.0</td>\n",
              "      <td>56.0</td>\n",
              "      <td>47.25000</td>\n",
              "      <td>9.138973</td>\n",
              "      <td>1</td>\n",
              "      <td>67</td>\n",
              "      <td>51.611110</td>\n",
              "    </tr>\n",
              "    <tr>\n",
              "      <th>3</th>\n",
              "      <td>4</td>\n",
              "      <td>3</td>\n",
              "      <td>3</td>\n",
              "      <td>30</td>\n",
              "      <td>31.0</td>\n",
              "      <td>57.0</td>\n",
              "      <td>49.266666</td>\n",
              "      <td>5.519260</td>\n",
              "      <td>185.0</td>\n",
              "      <td>29.0</td>\n",
              "      <td>62.0</td>\n",
              "      <td>50.437838</td>\n",
              "      <td>5.835370</td>\n",
              "      <td>21.0</td>\n",
              "      <td>37.0</td>\n",
              "      <td>58.0</td>\n",
              "      <td>49.190475</td>\n",
              "      <td>5.188073</td>\n",
              "      <td>21.0</td>\n",
              "      <td>40.0</td>\n",
              "      <td>55.0</td>\n",
              "      <td>48.57143</td>\n",
              "      <td>4.593696</td>\n",
              "      <td>1</td>\n",
              "      <td>67</td>\n",
              "      <td>49.055557</td>\n",
              "    </tr>\n",
              "    <tr>\n",
              "      <th>4</th>\n",
              "      <td>4</td>\n",
              "      <td>4</td>\n",
              "      <td>3</td>\n",
              "      <td>37</td>\n",
              "      <td>31.0</td>\n",
              "      <td>60.0</td>\n",
              "      <td>50.135136</td>\n",
              "      <td>5.619282</td>\n",
              "      <td>196.0</td>\n",
              "      <td>31.0</td>\n",
              "      <td>62.0</td>\n",
              "      <td>50.576531</td>\n",
              "      <td>5.621502</td>\n",
              "      <td>31.0</td>\n",
              "      <td>34.0</td>\n",
              "      <td>58.0</td>\n",
              "      <td>48.870968</td>\n",
              "      <td>5.469811</td>\n",
              "      <td>14.0</td>\n",
              "      <td>42.0</td>\n",
              "      <td>57.0</td>\n",
              "      <td>49.50000</td>\n",
              "      <td>4.238430</td>\n",
              "      <td>1</td>\n",
              "      <td>67</td>\n",
              "      <td>49.947370</td>\n",
              "    </tr>\n",
              "  </tbody>\n",
              "</table>\n",
              "</div>"
            ],
            "text/plain": [
              "   day_of_week  slot_of_day  lane  ...  working_day  speed_limit      label\n",
              "0            4            0     3  ...            1           67  50.809525\n",
              "1            4            1     3  ...            1           67  48.500000\n",
              "2            4            2     3  ...            1           67  51.611110\n",
              "3            4            3     3  ...            1           67  49.055557\n",
              "4            4            4     3  ...            1           67  49.947370\n",
              "\n",
              "[5 rows x 26 columns]"
            ]
          },
          "metadata": {
            "tags": []
          },
          "execution_count": 10
        }
      ]
    },
    {
      "cell_type": "markdown",
      "metadata": {
        "id": "JRc9RRe2rXhE"
      },
      "source": [
        "### Divisão em treino, teste e validação"
      ]
    },
    {
      "cell_type": "code",
      "metadata": {
        "id": "dOtJ7V_zrXhF"
      },
      "source": [
        "label = data[\"label\"].values\n",
        "tr_data = data.iloc[:,:-1].values\n",
        "\n",
        "X = test.iloc[:,:-1].values\n",
        "y = test[\"label\"].values\n",
        "\n",
        "X_val, X_test, y_val, y_test = train_test_split(X, y, test_size=0.5)"
      ],
      "execution_count": null,
      "outputs": []
    },
    {
      "cell_type": "markdown",
      "metadata": {
        "id": "Z__T6GsKrXhG"
      },
      "source": [
        "### Treinamento"
      ]
    },
    {
      "cell_type": "code",
      "metadata": {
        "id": "LBvefLZ7rXhH"
      },
      "source": [
        "eval_set = [(X_val, y_val)]"
      ],
      "execution_count": null,
      "outputs": []
    },
    {
      "cell_type": "code",
      "metadata": {
        "id": "CqyYhbgDrXhI",
        "outputId": "803fa0db-ddf3-4929-93a1-136836704a3b",
        "colab": {
          "base_uri": "https://localhost:8080/",
          "height": 35
        }
      },
      "source": [
        "lr = LinearRegression()\n",
        "\n",
        "lr.fit(tr_data, label)"
      ],
      "execution_count": null,
      "outputs": [
        {
          "output_type": "execute_result",
          "data": {
            "text/plain": [
              "LinearRegression(copy_X=True, fit_intercept=True, n_jobs=None, normalize=False)"
            ]
          },
          "metadata": {
            "tags": []
          },
          "execution_count": 13
        }
      ]
    },
    {
      "cell_type": "code",
      "metadata": {
        "id": "dGPGCHO9rXhL",
        "outputId": "d77a9c37-24a8-4e3b-a4c8-611dbd86915c",
        "colab": {
          "base_uri": "https://localhost:8080/",
          "height": 35
        }
      },
      "source": [
        "pred = lr.predict(X_test)\n",
        "\n",
        "rmse = np.sqrt(metrics.mean_squared_error(y_test, pred))\n",
        "print(rmse)"
      ],
      "execution_count": null,
      "outputs": [
        {
          "output_type": "stream",
          "text": [
            "4.7824085617720895\n"
          ],
          "name": "stdout"
        }
      ]
    },
    {
      "cell_type": "code",
      "metadata": {
        "id": "usYzhekorXhM"
      },
      "source": [
        "xgboost = xgb.XGBRegressor(n_estimators=3000, tree_method='gpu_hist', objective ='reg:squarederror', learning_rate=0.01,\n",
        "                            max_depth=12, random_state=seed)"
      ],
      "execution_count": null,
      "outputs": []
    },
    {
      "cell_type": "code",
      "metadata": {
        "id": "gRmZdr7wrXhO"
      },
      "source": [
        "xgboost.fit(tr_data, label, eval_set=eval_set, eval_metric=\"rmse\", early_stopping_rounds=20)"
      ],
      "execution_count": null,
      "outputs": []
    },
    {
      "cell_type": "code",
      "metadata": {
        "id": "HziMR06arXhQ",
        "outputId": "10b5deb0-258f-4fdc-890d-83a9edff6a40",
        "colab": {
          "base_uri": "https://localhost:8080/",
          "height": 35
        }
      },
      "source": [
        "pred_xgb = xgboost.predict(X_test, ntree_limit=xgboost.best_ntree_limit)\n",
        "rmse_xgb = np.sqrt(metrics.mean_squared_error(y_test, pred_xgb))\n",
        "\n",
        "rmse_xgb"
      ],
      "execution_count": null,
      "outputs": [
        {
          "output_type": "execute_result",
          "data": {
            "text/plain": [
              "4.25498473265828"
            ]
          },
          "metadata": {
            "tags": []
          },
          "execution_count": 18
        }
      ]
    },
    {
      "cell_type": "code",
      "metadata": {
        "id": "faTNpp-SrXhR",
        "outputId": "a2812c84-f63c-422e-de93-8506b144d6f4",
        "colab": {
          "base_uri": "https://localhost:8080/",
          "height": 35
        }
      },
      "source": [
        "print(xgboost.best_ntree_limit, xgboost.best_score)"
      ],
      "execution_count": null,
      "outputs": [
        {
          "output_type": "stream",
          "text": [
            "1070 4.25802\n"
          ],
          "name": "stdout"
        }
      ]
    },
    {
      "cell_type": "markdown",
      "metadata": {
        "id": "xfeXVFyuzysT"
      },
      "source": [
        "### Importância das features"
      ]
    },
    {
      "cell_type": "code",
      "metadata": {
        "id": "zf5SNZjkxvcz"
      },
      "source": [
        "column_names = [*data]\n",
        "column_names"
      ],
      "execution_count": null,
      "outputs": []
    },
    {
      "cell_type": "code",
      "metadata": {
        "id": "0yVzJnsrxvc3"
      },
      "source": [
        "xgboost.get_booster().feature_names = column_names"
      ],
      "execution_count": null,
      "outputs": []
    },
    {
      "cell_type": "code",
      "metadata": {
        "id": "iyh3O1YarXhT",
        "outputId": "633d6312-8b6b-496b-8cad-50f8bff6e2ce",
        "colab": {
          "base_uri": "https://localhost:8080/",
          "height": 283
        }
      },
      "source": [
        "feature_important = xgboost.get_booster().get_score(importance_type='gain')\n",
        "keys = list(feature_important.keys())\n",
        "values = list(feature_important.values())\n",
        "\n",
        "dt = pd.DataFrame(data=values, index=keys, columns=[\"score\"]).sort_values(by = \"score\", ascending=False)\n",
        "dt.plot(kind='barh')"
      ],
      "execution_count": null,
      "outputs": [
        {
          "output_type": "execute_result",
          "data": {
            "text/plain": [
              "<matplotlib.axes._subplots.AxesSubplot at 0x7feaafe98f28>"
            ]
          },
          "metadata": {
            "tags": []
          },
          "execution_count": 25
        },
        {
          "output_type": "display_data",
          "data": {
            "image/png": "[encoded data removed]",
            "text/plain": [
              "<Figure size 432x288 with 1 Axes>"
            ]
          },
          "metadata": {
            "tags": [],
            "needs_background": "light"
          }
        }
      ]
    },
    {
      "cell_type": "code",
      "metadata": {
        "id": "ZF5_gRLPrXhU",
        "outputId": "e6d98693-049e-4cf5-d477-e4ad41ac9a1e",
        "colab": {
          "base_uri": "https://localhost:8080/",
          "height": 283
        }
      },
      "source": [
        "feature_important = xgboost.get_booster().get_score(importance_type='weight')\n",
        "keys = list(feature_important.keys())\n",
        "values = list(feature_important.values())\n",
        "\n",
        "dt = pd.DataFrame(data=values, index=keys, columns=[\"score\"]).sort_values(by = \"score\", ascending=False)\n",
        "dt.plot(kind='barh')"
      ],
      "execution_count": null,
      "outputs": [
        {
          "output_type": "execute_result",
          "data": {
            "text/plain": [
              "<matplotlib.axes._subplots.AxesSubplot at 0x7feab0654668>"
            ]
          },
          "metadata": {
            "tags": []
          },
          "execution_count": 26
        },
        {
          "output_type": "display_data",
          "data": {
            "image/png": "[encoded data removed]",
            "text/plain": [
              "<Figure size 432x288 with 1 Axes>"
            ]
          },
          "metadata": {
            "tags": [],
            "needs_background": "light"
          }
        }
      ]
    },
    {
      "cell_type": "markdown",
      "metadata": {
        "id": "gy1fT2QSpj-E"
      },
      "source": [
        "# Ajustando label para 03 horas adiante"
      ]
    },
    {
      "cell_type": "code",
      "metadata": {
        "id": "gGlCcs58pj-E"
      },
      "source": [
        "data_copy = data.copy()"
      ],
      "execution_count": null,
      "outputs": []
    },
    {
      "cell_type": "code",
      "metadata": {
        "id": "b8U-EoI6pj-F",
        "outputId": "c9cde7d9-9231-4f71-b9cb-018a8fbd5e1a",
        "colab": {
          "base_uri": "https://localhost:8080/",
          "height": 35
        }
      },
      "source": [
        "data_copy.index[-1]"
      ],
      "execution_count": null,
      "outputs": [
        {
          "output_type": "execute_result",
          "data": {
            "text/plain": [
              "2950521"
            ]
          },
          "metadata": {
            "tags": []
          },
          "execution_count": 11
        }
      ]
    },
    {
      "cell_type": "code",
      "metadata": {
        "id": "eU6jSpPxpj-H",
        "outputId": "cf89126b-8ad4-4726-866a-2095a668f575"
      },
      "source": [
        "# before transformation\n",
        "data_copy.head(10)"
      ],
      "execution_count": null,
      "outputs": [
        {
          "output_type": "execute_result",
          "data": {
            "text/html": [
              "<div>\n",
              "<style scoped>\n",
              "    .dataframe tbody tr th:only-of-type {\n",
              "        vertical-align: middle;\n",
              "    }\n",
              "\n",
              "    .dataframe tbody tr th {\n",
              "        vertical-align: top;\n",
              "    }\n",
              "\n",
              "    .dataframe thead th {\n",
              "        text-align: right;\n",
              "    }\n",
              "</style>\n",
              "<table border=\"1\" class=\"dataframe\">\n",
              "  <thead>\n",
              "    <tr style=\"text-align: right;\">\n",
              "      <th></th>\n",
              "      <th>sensor_id</th>\n",
              "      <th>day_of_week</th>\n",
              "      <th>slot_of_day</th>\n",
              "      <th>lane</th>\n",
              "      <th>size5</th>\n",
              "      <th>min5</th>\n",
              "      <th>max5</th>\n",
              "      <th>avg5</th>\n",
              "      <th>std5</th>\n",
              "      <th>size30</th>\n",
              "      <th>...</th>\n",
              "      <th>std1w</th>\n",
              "      <th>size2w</th>\n",
              "      <th>min2w</th>\n",
              "      <th>max2w</th>\n",
              "      <th>avg2w</th>\n",
              "      <th>std2w</th>\n",
              "      <th>working_day</th>\n",
              "      <th>speed_limit</th>\n",
              "      <th>label</th>\n",
              "      <th>timestamp5</th>\n",
              "    </tr>\n",
              "  </thead>\n",
              "  <tbody>\n",
              "    <tr>\n",
              "      <th>0</th>\n",
              "      <td>1385001</td>\n",
              "      <td>4</td>\n",
              "      <td>0</td>\n",
              "      <td>3</td>\n",
              "      <td>33</td>\n",
              "      <td>32.0</td>\n",
              "      <td>59.0</td>\n",
              "      <td>49.484848</td>\n",
              "      <td>6.035859</td>\n",
              "      <td>168.0</td>\n",
              "      <td>...</td>\n",
              "      <td>4.521537</td>\n",
              "      <td>32.0</td>\n",
              "      <td>25.0</td>\n",
              "      <td>58.0</td>\n",
              "      <td>47.562500</td>\n",
              "      <td>7.676822</td>\n",
              "      <td>1</td>\n",
              "      <td>67</td>\n",
              "      <td>50.799999</td>\n",
              "      <td>2014-08-01 00:00:00</td>\n",
              "    </tr>\n",
              "    <tr>\n",
              "      <th>1</th>\n",
              "      <td>1385001</td>\n",
              "      <td>4</td>\n",
              "      <td>1</td>\n",
              "      <td>3</td>\n",
              "      <td>34</td>\n",
              "      <td>35.0</td>\n",
              "      <td>62.0</td>\n",
              "      <td>51.735294</td>\n",
              "      <td>5.569396</td>\n",
              "      <td>174.0</td>\n",
              "      <td>...</td>\n",
              "      <td>5.250657</td>\n",
              "      <td>26.0</td>\n",
              "      <td>33.0</td>\n",
              "      <td>59.0</td>\n",
              "      <td>50.769230</td>\n",
              "      <td>4.979247</td>\n",
              "      <td>1</td>\n",
              "      <td>67</td>\n",
              "      <td>52.692307</td>\n",
              "      <td>2014-08-01 00:05:00</td>\n",
              "    </tr>\n",
              "    <tr>\n",
              "      <th>2</th>\n",
              "      <td>1385001</td>\n",
              "      <td>4</td>\n",
              "      <td>2</td>\n",
              "      <td>3</td>\n",
              "      <td>32</td>\n",
              "      <td>37.0</td>\n",
              "      <td>60.0</td>\n",
              "      <td>51.593750</td>\n",
              "      <td>5.011608</td>\n",
              "      <td>188.0</td>\n",
              "      <td>...</td>\n",
              "      <td>5.186414</td>\n",
              "      <td>24.0</td>\n",
              "      <td>11.0</td>\n",
              "      <td>56.0</td>\n",
              "      <td>47.250000</td>\n",
              "      <td>9.138973</td>\n",
              "      <td>1</td>\n",
              "      <td>67</td>\n",
              "      <td>50.000000</td>\n",
              "      <td>2014-08-01 00:10:00</td>\n",
              "    </tr>\n",
              "    <tr>\n",
              "      <th>3</th>\n",
              "      <td>1385001</td>\n",
              "      <td>4</td>\n",
              "      <td>3</td>\n",
              "      <td>3</td>\n",
              "      <td>30</td>\n",
              "      <td>31.0</td>\n",
              "      <td>57.0</td>\n",
              "      <td>49.266666</td>\n",
              "      <td>5.519260</td>\n",
              "      <td>185.0</td>\n",
              "      <td>...</td>\n",
              "      <td>5.188073</td>\n",
              "      <td>21.0</td>\n",
              "      <td>40.0</td>\n",
              "      <td>55.0</td>\n",
              "      <td>48.571430</td>\n",
              "      <td>4.593696</td>\n",
              "      <td>1</td>\n",
              "      <td>67</td>\n",
              "      <td>48.615383</td>\n",
              "      <td>2014-08-01 00:15:00</td>\n",
              "    </tr>\n",
              "    <tr>\n",
              "      <th>4</th>\n",
              "      <td>1385001</td>\n",
              "      <td>4</td>\n",
              "      <td>4</td>\n",
              "      <td>3</td>\n",
              "      <td>37</td>\n",
              "      <td>31.0</td>\n",
              "      <td>60.0</td>\n",
              "      <td>50.135136</td>\n",
              "      <td>5.619282</td>\n",
              "      <td>196.0</td>\n",
              "      <td>...</td>\n",
              "      <td>5.469811</td>\n",
              "      <td>14.0</td>\n",
              "      <td>42.0</td>\n",
              "      <td>57.0</td>\n",
              "      <td>49.500000</td>\n",
              "      <td>4.238430</td>\n",
              "      <td>1</td>\n",
              "      <td>67</td>\n",
              "      <td>48.000000</td>\n",
              "      <td>2014-08-01 00:20:00</td>\n",
              "    </tr>\n",
              "    <tr>\n",
              "      <th>5</th>\n",
              "      <td>1385001</td>\n",
              "      <td>4</td>\n",
              "      <td>5</td>\n",
              "      <td>3</td>\n",
              "      <td>32</td>\n",
              "      <td>32.0</td>\n",
              "      <td>58.0</td>\n",
              "      <td>50.500000</td>\n",
              "      <td>5.442885</td>\n",
              "      <td>198.0</td>\n",
              "      <td>...</td>\n",
              "      <td>5.435704</td>\n",
              "      <td>19.0</td>\n",
              "      <td>32.0</td>\n",
              "      <td>58.0</td>\n",
              "      <td>46.684212</td>\n",
              "      <td>7.616137</td>\n",
              "      <td>1</td>\n",
              "      <td>67</td>\n",
              "      <td>47.909092</td>\n",
              "      <td>2014-08-01 00:25:00</td>\n",
              "    </tr>\n",
              "    <tr>\n",
              "      <th>6</th>\n",
              "      <td>1385001</td>\n",
              "      <td>4</td>\n",
              "      <td>6</td>\n",
              "      <td>3</td>\n",
              "      <td>35</td>\n",
              "      <td>30.0</td>\n",
              "      <td>59.0</td>\n",
              "      <td>50.800000</td>\n",
              "      <td>6.060646</td>\n",
              "      <td>200.0</td>\n",
              "      <td>...</td>\n",
              "      <td>6.218572</td>\n",
              "      <td>14.0</td>\n",
              "      <td>40.0</td>\n",
              "      <td>57.0</td>\n",
              "      <td>50.571430</td>\n",
              "      <td>4.100771</td>\n",
              "      <td>1</td>\n",
              "      <td>67</td>\n",
              "      <td>51.416668</td>\n",
              "      <td>2014-08-01 00:30:00</td>\n",
              "    </tr>\n",
              "    <tr>\n",
              "      <th>7</th>\n",
              "      <td>1385001</td>\n",
              "      <td>4</td>\n",
              "      <td>7</td>\n",
              "      <td>3</td>\n",
              "      <td>26</td>\n",
              "      <td>44.0</td>\n",
              "      <td>60.0</td>\n",
              "      <td>52.692307</td>\n",
              "      <td>3.516655</td>\n",
              "      <td>192.0</td>\n",
              "      <td>...</td>\n",
              "      <td>5.138901</td>\n",
              "      <td>22.0</td>\n",
              "      <td>36.0</td>\n",
              "      <td>60.0</td>\n",
              "      <td>50.454544</td>\n",
              "      <td>5.323424</td>\n",
              "      <td>1</td>\n",
              "      <td>67</td>\n",
              "      <td>48.368420</td>\n",
              "      <td>2014-08-01 00:35:00</td>\n",
              "    </tr>\n",
              "    <tr>\n",
              "      <th>8</th>\n",
              "      <td>1385001</td>\n",
              "      <td>4</td>\n",
              "      <td>8</td>\n",
              "      <td>3</td>\n",
              "      <td>32</td>\n",
              "      <td>38.0</td>\n",
              "      <td>60.0</td>\n",
              "      <td>50.000000</td>\n",
              "      <td>5.618051</td>\n",
              "      <td>192.0</td>\n",
              "      <td>...</td>\n",
              "      <td>6.514599</td>\n",
              "      <td>18.0</td>\n",
              "      <td>43.0</td>\n",
              "      <td>58.0</td>\n",
              "      <td>51.611111</td>\n",
              "      <td>4.584259</td>\n",
              "      <td>1</td>\n",
              "      <td>67</td>\n",
              "      <td>49.863636</td>\n",
              "      <td>2014-08-01 00:40:00</td>\n",
              "    </tr>\n",
              "    <tr>\n",
              "      <th>9</th>\n",
              "      <td>1385001</td>\n",
              "      <td>4</td>\n",
              "      <td>9</td>\n",
              "      <td>3</td>\n",
              "      <td>26</td>\n",
              "      <td>27.0</td>\n",
              "      <td>57.0</td>\n",
              "      <td>48.615383</td>\n",
              "      <td>7.452810</td>\n",
              "      <td>188.0</td>\n",
              "      <td>...</td>\n",
              "      <td>5.607089</td>\n",
              "      <td>11.0</td>\n",
              "      <td>42.0</td>\n",
              "      <td>56.0</td>\n",
              "      <td>49.636364</td>\n",
              "      <td>4.656818</td>\n",
              "      <td>1</td>\n",
              "      <td>67</td>\n",
              "      <td>48.666668</td>\n",
              "      <td>2014-08-01 00:45:00</td>\n",
              "    </tr>\n",
              "  </tbody>\n",
              "</table>\n",
              "<p>10 rows × 28 columns</p>\n",
              "</div>"
            ],
            "text/plain": [
              "  sensor_id  day_of_week  slot_of_day  lane  size5  min5  max5       avg5  \\\n",
              "0   1385001            4            0     3     33  32.0  59.0  49.484848   \n",
              "1   1385001            4            1     3     34  35.0  62.0  51.735294   \n",
              "2   1385001            4            2     3     32  37.0  60.0  51.593750   \n",
              "3   1385001            4            3     3     30  31.0  57.0  49.266666   \n",
              "4   1385001            4            4     3     37  31.0  60.0  50.135136   \n",
              "5   1385001            4            5     3     32  32.0  58.0  50.500000   \n",
              "6   1385001            4            6     3     35  30.0  59.0  50.800000   \n",
              "7   1385001            4            7     3     26  44.0  60.0  52.692307   \n",
              "8   1385001            4            8     3     32  38.0  60.0  50.000000   \n",
              "9   1385001            4            9     3     26  27.0  57.0  48.615383   \n",
              "\n",
              "       std5  size30  ...     std1w  size2w  min2w  max2w      avg2w     std2w  \\\n",
              "0  6.035859   168.0  ...  4.521537    32.0   25.0   58.0  47.562500  7.676822   \n",
              "1  5.569396   174.0  ...  5.250657    26.0   33.0   59.0  50.769230  4.979247   \n",
              "2  5.011608   188.0  ...  5.186414    24.0   11.0   56.0  47.250000  9.138973   \n",
              "3  5.519260   185.0  ...  5.188073    21.0   40.0   55.0  48.571430  4.593696   \n",
              "4  5.619282   196.0  ...  5.469811    14.0   42.0   57.0  49.500000  4.238430   \n",
              "5  5.442885   198.0  ...  5.435704    19.0   32.0   58.0  46.684212  7.616137   \n",
              "6  6.060646   200.0  ...  6.218572    14.0   40.0   57.0  50.571430  4.100771   \n",
              "7  3.516655   192.0  ...  5.138901    22.0   36.0   60.0  50.454544  5.323424   \n",
              "8  5.618051   192.0  ...  6.514599    18.0   43.0   58.0  51.611111  4.584259   \n",
              "9  7.452810   188.0  ...  5.607089    11.0   42.0   56.0  49.636364  4.656818   \n",
              "\n",
              "   working_day  speed_limit      label          timestamp5  \n",
              "0            1           67  50.799999 2014-08-01 00:00:00  \n",
              "1            1           67  52.692307 2014-08-01 00:05:00  \n",
              "2            1           67  50.000000 2014-08-01 00:10:00  \n",
              "3            1           67  48.615383 2014-08-01 00:15:00  \n",
              "4            1           67  48.000000 2014-08-01 00:20:00  \n",
              "5            1           67  47.909092 2014-08-01 00:25:00  \n",
              "6            1           67  51.416668 2014-08-01 00:30:00  \n",
              "7            1           67  48.368420 2014-08-01 00:35:00  \n",
              "8            1           67  49.863636 2014-08-01 00:40:00  \n",
              "9            1           67  48.666668 2014-08-01 00:45:00  \n",
              "\n",
              "[10 rows x 28 columns]"
            ]
          },
          "metadata": {
            "tags": []
          },
          "execution_count": 24
        }
      ]
    },
    {
      "cell_type": "code",
      "metadata": {
        "id": "VWwYB6capj-J"
      },
      "source": [
        "hours_added = datetime.timedelta(hours = 3)\n",
        "\n",
        "# Create a data series that combines the information about sensor_id & timestamp5\n",
        "sen_time = data_copy['sensor_id'].astype(str) + data_copy['timestamp5'].astype(str)\n",
        "\n",
        "# Create a dictionary of the corresponding { sensor_id + timestamp5 : avg5 } values\n",
        "dictionary = pd.Series(data_copy['avg5'].values, sen_time).to_dict()\n",
        "\n",
        "# Create a data series combining the timestamp5 + 3 hours information\n",
        "timePlus3h = data_copy['timestamp5'] + hours_added\n",
        "\n",
        "# Create a mapping column that combines the sensor_id & timestamp5+3h\n",
        "sensor_timePlus3h = (data_copy['sensor_id'].astype(str) + timePlus3h.astype(str))\n",
        "\n",
        "# Create a new_label series by mapping the dictionary onto sensor_timePlus3h\n",
        "new_label = sensor_timePlus3h.map(dictionary)\n",
        "\n",
        "# Extract indices where this series has non-NaN values\n",
        "where = new_label.notnull()\n",
        "\n",
        "# Replace the values in the 'label' column with only non-NaN new_label values\n",
        "data_copy.loc[where, 'label'] = new_label.loc[where]"
      ],
      "execution_count": null,
      "outputs": []
    },
    {
      "cell_type": "code",
      "metadata": {
        "scrolled": false,
        "id": "Ucd06Dq7pj-N"
      },
      "source": [
        "data_copy.to_csv('data-03hours.csv')"
      ],
      "execution_count": null,
      "outputs": []
    },
    {
      "cell_type": "code",
      "metadata": {
        "id": "uMaBxAx0pj-O"
      },
      "source": [
        "test_copy = test.copy()"
      ],
      "execution_count": null,
      "outputs": []
    },
    {
      "cell_type": "code",
      "metadata": {
        "scrolled": true,
        "id": "I7NTl2V6pj-P",
        "outputId": "3574062c-4851-4572-d098-a125b54b5770",
        "colab": {
          "base_uri": "https://localhost:8080/",
          "height": 35
        }
      },
      "source": [
        "test_copy.index"
      ],
      "execution_count": null,
      "outputs": [
        {
          "output_type": "execute_result",
          "data": {
            "text/plain": [
              "RangeIndex(start=0, stop=1715253, step=1)"
            ]
          },
          "metadata": {
            "tags": []
          },
          "execution_count": 32
        }
      ]
    },
    {
      "cell_type": "code",
      "metadata": {
        "id": "JO3zjllqpj-Q"
      },
      "source": [
        "hours_added = datetime.timedelta(hours = 3)\n",
        "\n",
        "# Create a data series that combines the information about sensor_id & timestamp5\n",
        "sen_time = test_copy['sensor_id'].astype(str) + test_copy['timestamp5'].astype(str)\n",
        "\n",
        "# Create a dictionary of the corresponding { sensor_id + timestamp5 : avg5 } values\n",
        "dictionary = pd.Series(test_copy['avg5'].values, sen_time).to_dict()\n",
        "\n",
        "# Create a data series combining the timestamp5 + 3 hours information\n",
        "timePlus3h = test_copy['timestamp5'] + hours_added\n",
        "\n",
        "# Create a mapping column that combines the sensor_id & timestamp5+3h\n",
        "sensor_timePlus3h = (test_copy['sensor_id'].astype(str) + timePlus3h.astype(str))\n",
        "\n",
        "# Create a new_label series by mapping the dictionary onto sensor_timePlus3h\n",
        "new_label = sensor_timePlus3h.map(dictionary)\n",
        "\n",
        "# Extract indices where this series has non-NaN values\n",
        "where = new_label.notnull()\n",
        "\n",
        "# Replace the values in the 'label' column with only non-NaN new_label values\n",
        "test_copy.loc[where, 'label'] = new_label.loc[where]"
      ],
      "execution_count": null,
      "outputs": []
    },
    {
      "cell_type": "code",
      "metadata": {
        "id": "LfK-305Rpj-Q"
      },
      "source": [
        "test_copy.to_csv('test-03hours.csv')"
      ],
      "execution_count": null,
      "outputs": []
    },
    {
      "cell_type": "markdown",
      "metadata": {
        "id": "Scaal95oE-HX"
      },
      "source": [
        "## Treinando com dataset ajustado para 3 horas"
      ]
    },
    {
      "cell_type": "markdown",
      "metadata": {
        "id": "NicIFkp-EijX"
      },
      "source": [
        "### Removendo features desnecessárias"
      ]
    },
    {
      "cell_type": "code",
      "metadata": {
        "id": "s3c_IXrzEijZ",
        "outputId": "56accd56-8b2c-4aa4-cf99-da8dc6c5dafc",
        "colab": {
          "base_uri": "https://localhost:8080/",
          "height": 53
        }
      },
      "source": [
        "## Only if kernel restarted\n",
        "\n",
        "# Agosto + Setembro de 2014\n",
        "data = pd.read_csv(f'{datasets}/data-03hours.csv', parse_dates=[\"timestamp5\"])\n",
        "\n",
        "# Outubro como teste\n",
        "test = pd.read_csv(f'{datasets}/test-03hours.csv', parse_dates=[\"timestamp5\"])"
      ],
      "execution_count": null,
      "outputs": [
        {
          "output_type": "stream",
          "text": [
            "/usr/local/lib/python3.6/dist-packages/IPython/core/interactiveshell.py:2718: DtypeWarning: Columns (1) have mixed types.Specify dtype option on import or set low_memory=False.\n",
            "  interactivity=interactivity, compiler=compiler, result=result)\n"
          ],
          "name": "stderr"
        }
      ]
    },
    {
      "cell_type": "code",
      "metadata": {
        "id": "gl9pENvJc4G9",
        "outputId": "a129eb04-4442-4606-a968-17fa3bfdac30",
        "colab": {
          "base_uri": "https://localhost:8080/",
          "height": 134
        }
      },
      "source": [
        "hours_added = datetime.timedelta(hours = 3)\n",
        "index = 1000001\n",
        "hours_ahead = data.loc[index, \"timestamp5\"] + hours_added\n",
        "\n",
        "print(data.loc[index, [\"sensor_id\", \"label\"]])\n",
        "data[((data[\"timestamp5\"] == hours_ahead) & (data[\"sensor_id\"] == data[\"sensor_id\"].loc[index]))][[\"sensor_id\", \"avg5\"]]"
      ],
      "execution_count": null,
      "outputs": [
        {
          "output_type": "stream",
          "text": [
            "sensor_id    01385254\n",
            "label         41.1111\n",
            "Name: 1000001, dtype: object\n"
          ],
          "name": "stdout"
        },
        {
          "output_type": "execute_result",
          "data": {
            "text/html": [
              "<div>\n",
              "<style scoped>\n",
              "    .dataframe tbody tr th:only-of-type {\n",
              "        vertical-align: middle;\n",
              "    }\n",
              "\n",
              "    .dataframe tbody tr th {\n",
              "        vertical-align: top;\n",
              "    }\n",
              "\n",
              "    .dataframe thead th {\n",
              "        text-align: right;\n",
              "    }\n",
              "</style>\n",
              "<table border=\"1\" class=\"dataframe\">\n",
              "  <thead>\n",
              "    <tr style=\"text-align: right;\">\n",
              "      <th></th>\n",
              "      <th>sensor_id</th>\n",
              "      <th>avg5</th>\n",
              "    </tr>\n",
              "  </thead>\n",
              "  <tbody>\n",
              "    <tr>\n",
              "      <th>1000037</th>\n",
              "      <td>01385254</td>\n",
              "      <td>41.11111</td>\n",
              "    </tr>\n",
              "  </tbody>\n",
              "</table>\n",
              "</div>"
            ],
            "text/plain": [
              "        sensor_id      avg5\n",
              "1000037  01385254  41.11111"
            ]
          },
          "metadata": {
            "tags": []
          },
          "execution_count": 37
        }
      ]
    },
    {
      "cell_type": "code",
      "metadata": {
        "id": "3FXEQy4LEije"
      },
      "source": [
        "del data['sensor_id']\n",
        "del data['timestamp5']\n",
        "del data['Unnamed: 0']\n",
        "\n",
        "del test['sensor_id']\n",
        "del test['timestamp5']\n",
        "del test['Unnamed: 0']"
      ],
      "execution_count": null,
      "outputs": []
    },
    {
      "cell_type": "code",
      "metadata": {
        "id": "wVZMzhfpEijh",
        "outputId": "3bc8a1ea-1d5a-4524-c77e-8be9afc8e640",
        "colab": {
          "base_uri": "https://localhost:8080/",
          "height": 215
        }
      },
      "source": [
        "data.head()"
      ],
      "execution_count": null,
      "outputs": [
        {
          "output_type": "execute_result",
          "data": {
            "text/html": [
              "<div>\n",
              "<style scoped>\n",
              "    .dataframe tbody tr th:only-of-type {\n",
              "        vertical-align: middle;\n",
              "    }\n",
              "\n",
              "    .dataframe tbody tr th {\n",
              "        vertical-align: top;\n",
              "    }\n",
              "\n",
              "    .dataframe thead th {\n",
              "        text-align: right;\n",
              "    }\n",
              "</style>\n",
              "<table border=\"1\" class=\"dataframe\">\n",
              "  <thead>\n",
              "    <tr style=\"text-align: right;\">\n",
              "      <th></th>\n",
              "      <th>day_of_week</th>\n",
              "      <th>slot_of_day</th>\n",
              "      <th>lane</th>\n",
              "      <th>size5</th>\n",
              "      <th>min5</th>\n",
              "      <th>max5</th>\n",
              "      <th>avg5</th>\n",
              "      <th>std5</th>\n",
              "      <th>size30</th>\n",
              "      <th>min30</th>\n",
              "      <th>max30</th>\n",
              "      <th>avg30</th>\n",
              "      <th>std30</th>\n",
              "      <th>size1w</th>\n",
              "      <th>min1w</th>\n",
              "      <th>max1w</th>\n",
              "      <th>avg1w</th>\n",
              "      <th>std1w</th>\n",
              "      <th>size2w</th>\n",
              "      <th>min2w</th>\n",
              "      <th>max2w</th>\n",
              "      <th>avg2w</th>\n",
              "      <th>std2w</th>\n",
              "      <th>working_day</th>\n",
              "      <th>speed_limit</th>\n",
              "      <th>label</th>\n",
              "    </tr>\n",
              "  </thead>\n",
              "  <tbody>\n",
              "    <tr>\n",
              "      <th>0</th>\n",
              "      <td>4</td>\n",
              "      <td>0</td>\n",
              "      <td>3</td>\n",
              "      <td>33</td>\n",
              "      <td>32.0</td>\n",
              "      <td>59.0</td>\n",
              "      <td>49.484848</td>\n",
              "      <td>6.035859</td>\n",
              "      <td>168.0</td>\n",
              "      <td>25.0</td>\n",
              "      <td>61.0</td>\n",
              "      <td>49.678571</td>\n",
              "      <td>5.961505</td>\n",
              "      <td>55.0</td>\n",
              "      <td>40.0</td>\n",
              "      <td>58.0</td>\n",
              "      <td>49.654545</td>\n",
              "      <td>4.521537</td>\n",
              "      <td>32.0</td>\n",
              "      <td>25.0</td>\n",
              "      <td>58.0</td>\n",
              "      <td>47.56250</td>\n",
              "      <td>7.676822</td>\n",
              "      <td>1</td>\n",
              "      <td>67</td>\n",
              "      <td>41.375000</td>\n",
              "    </tr>\n",
              "    <tr>\n",
              "      <th>1</th>\n",
              "      <td>4</td>\n",
              "      <td>1</td>\n",
              "      <td>3</td>\n",
              "      <td>34</td>\n",
              "      <td>35.0</td>\n",
              "      <td>62.0</td>\n",
              "      <td>51.735294</td>\n",
              "      <td>5.569396</td>\n",
              "      <td>174.0</td>\n",
              "      <td>25.0</td>\n",
              "      <td>62.0</td>\n",
              "      <td>50.114943</td>\n",
              "      <td>6.018984</td>\n",
              "      <td>51.0</td>\n",
              "      <td>37.0</td>\n",
              "      <td>60.0</td>\n",
              "      <td>49.862743</td>\n",
              "      <td>5.250657</td>\n",
              "      <td>26.0</td>\n",
              "      <td>33.0</td>\n",
              "      <td>59.0</td>\n",
              "      <td>50.76923</td>\n",
              "      <td>4.979247</td>\n",
              "      <td>1</td>\n",
              "      <td>67</td>\n",
              "      <td>51.083332</td>\n",
              "    </tr>\n",
              "    <tr>\n",
              "      <th>2</th>\n",
              "      <td>4</td>\n",
              "      <td>2</td>\n",
              "      <td>3</td>\n",
              "      <td>32</td>\n",
              "      <td>37.0</td>\n",
              "      <td>60.0</td>\n",
              "      <td>51.593750</td>\n",
              "      <td>5.011608</td>\n",
              "      <td>188.0</td>\n",
              "      <td>25.0</td>\n",
              "      <td>62.0</td>\n",
              "      <td>50.494681</td>\n",
              "      <td>5.920122</td>\n",
              "      <td>30.0</td>\n",
              "      <td>37.0</td>\n",
              "      <td>56.0</td>\n",
              "      <td>48.966667</td>\n",
              "      <td>5.186414</td>\n",
              "      <td>24.0</td>\n",
              "      <td>11.0</td>\n",
              "      <td>56.0</td>\n",
              "      <td>47.25000</td>\n",
              "      <td>9.138973</td>\n",
              "      <td>1</td>\n",
              "      <td>67</td>\n",
              "      <td>49.916668</td>\n",
              "    </tr>\n",
              "    <tr>\n",
              "      <th>3</th>\n",
              "      <td>4</td>\n",
              "      <td>3</td>\n",
              "      <td>3</td>\n",
              "      <td>30</td>\n",
              "      <td>31.0</td>\n",
              "      <td>57.0</td>\n",
              "      <td>49.266666</td>\n",
              "      <td>5.519260</td>\n",
              "      <td>185.0</td>\n",
              "      <td>29.0</td>\n",
              "      <td>62.0</td>\n",
              "      <td>50.437838</td>\n",
              "      <td>5.835370</td>\n",
              "      <td>21.0</td>\n",
              "      <td>37.0</td>\n",
              "      <td>58.0</td>\n",
              "      <td>49.190475</td>\n",
              "      <td>5.188073</td>\n",
              "      <td>21.0</td>\n",
              "      <td>40.0</td>\n",
              "      <td>55.0</td>\n",
              "      <td>48.57143</td>\n",
              "      <td>4.593696</td>\n",
              "      <td>1</td>\n",
              "      <td>67</td>\n",
              "      <td>48.375000</td>\n",
              "    </tr>\n",
              "    <tr>\n",
              "      <th>4</th>\n",
              "      <td>4</td>\n",
              "      <td>4</td>\n",
              "      <td>3</td>\n",
              "      <td>37</td>\n",
              "      <td>31.0</td>\n",
              "      <td>60.0</td>\n",
              "      <td>50.135136</td>\n",
              "      <td>5.619282</td>\n",
              "      <td>196.0</td>\n",
              "      <td>31.0</td>\n",
              "      <td>62.0</td>\n",
              "      <td>50.576531</td>\n",
              "      <td>5.621502</td>\n",
              "      <td>31.0</td>\n",
              "      <td>34.0</td>\n",
              "      <td>58.0</td>\n",
              "      <td>48.870968</td>\n",
              "      <td>5.469811</td>\n",
              "      <td>14.0</td>\n",
              "      <td>42.0</td>\n",
              "      <td>57.0</td>\n",
              "      <td>49.50000</td>\n",
              "      <td>4.238430</td>\n",
              "      <td>1</td>\n",
              "      <td>67</td>\n",
              "      <td>46.800000</td>\n",
              "    </tr>\n",
              "  </tbody>\n",
              "</table>\n",
              "</div>"
            ],
            "text/plain": [
              "   day_of_week  slot_of_day  lane  ...  working_day  speed_limit      label\n",
              "0            4            0     3  ...            1           67  41.375000\n",
              "1            4            1     3  ...            1           67  51.083332\n",
              "2            4            2     3  ...            1           67  49.916668\n",
              "3            4            3     3  ...            1           67  48.375000\n",
              "4            4            4     3  ...            1           67  46.800000\n",
              "\n",
              "[5 rows x 26 columns]"
            ]
          },
          "metadata": {
            "tags": []
          },
          "execution_count": 5
        }
      ]
    },
    {
      "cell_type": "markdown",
      "metadata": {
        "id": "lJGFAhATEijl"
      },
      "source": [
        "### Divisão em treino, teste e validação"
      ]
    },
    {
      "cell_type": "code",
      "metadata": {
        "id": "NvU99p4QEijm"
      },
      "source": [
        "label = data[\"label\"].values\n",
        "tr_data = data.iloc[:,:-1].values\n",
        "\n",
        "X = test.iloc[:,:-1].values\n",
        "y = test[\"label\"].values\n",
        "\n",
        "X_val, X_test, y_val, y_test = train_test_split(X, y, test_size=0.5)"
      ],
      "execution_count": null,
      "outputs": []
    },
    {
      "cell_type": "markdown",
      "metadata": {
        "id": "QPK5iTF0Eijo"
      },
      "source": [
        "### Treinamento"
      ]
    },
    {
      "cell_type": "code",
      "metadata": {
        "id": "_Gzd48cwEijo"
      },
      "source": [
        "eval_set = [(X_val, y_val)]"
      ],
      "execution_count": null,
      "outputs": []
    },
    {
      "cell_type": "code",
      "metadata": {
        "id": "flPE-2ZXEijr",
        "outputId": "0524367a-5268-45f9-f25e-a19de40834f4",
        "colab": {
          "base_uri": "https://localhost:8080/",
          "height": 34
        }
      },
      "source": [
        "lr = LinearRegression()\n",
        "\n",
        "lr.fit(tr_data, label)"
      ],
      "execution_count": null,
      "outputs": [
        {
          "output_type": "execute_result",
          "data": {
            "text/plain": [
              "LinearRegression(copy_X=True, fit_intercept=True, n_jobs=None, normalize=False)"
            ]
          },
          "metadata": {
            "tags": []
          },
          "execution_count": 8
        }
      ]
    },
    {
      "cell_type": "code",
      "metadata": {
        "id": "u86cbMUsEijt",
        "outputId": "88410815-ff38-46a3-f59e-d83ea09de8c3",
        "colab": {
          "base_uri": "https://localhost:8080/",
          "height": 34
        }
      },
      "source": [
        "pred = lr.predict(X_test)\n",
        "\n",
        "rmse = np.sqrt(metrics.mean_squared_error(y_test, pred))\n",
        "print(rmse)"
      ],
      "execution_count": null,
      "outputs": [
        {
          "output_type": "stream",
          "text": [
            "5.205065304464194\n"
          ],
          "name": "stdout"
        }
      ]
    },
    {
      "cell_type": "code",
      "metadata": {
        "id": "BRhYVSlOEijv"
      },
      "source": [
        "xgboost = xgb.XGBRegressor(n_estimators=3000, tree_method='gpu_hist', objective ='reg:squarederror', learning_rate=0.01,\n",
        "                            max_depth=12, random_state=seed)"
      ],
      "execution_count": null,
      "outputs": []
    },
    {
      "cell_type": "code",
      "metadata": {
        "id": "vCMKtYgUgkO-"
      },
      "source": [
        "xgboost.fit(tr_data, label, eval_set=eval_set, eval_metric=\"rmse\", early_stopping_rounds=20)"
      ],
      "execution_count": null,
      "outputs": []
    },
    {
      "cell_type": "code",
      "metadata": {
        "id": "IajMUyhbEijx",
        "outputId": "79f79dca-657c-4cf5-d735-b9fb15c6b311",
        "colab": {
          "base_uri": "https://localhost:8080/",
          "height": 35
        }
      },
      "source": [
        "pred_xgb = xgboost.predict(X_test, ntree_limit=xgboost.best_ntree_limit)\n",
        "rmse_xgb = np.sqrt(metrics.mean_squared_error(y_test, pred_xgb))\n",
        "\n",
        "rmse_xgb"
      ],
      "execution_count": null,
      "outputs": [
        {
          "output_type": "execute_result",
          "data": {
            "text/plain": [
              "4.472752026589287"
            ]
          },
          "metadata": {
            "tags": []
          },
          "execution_count": 14
        }
      ]
    },
    {
      "cell_type": "code",
      "metadata": {
        "id": "p37C2FU-Eijy",
        "outputId": "3333d380-d9fc-4b1e-ad0e-2fcef3dd6981",
        "colab": {
          "base_uri": "https://localhost:8080/",
          "height": 35
        }
      },
      "source": [
        "print(xgboost.best_ntree_limit, xgboost.best_score)"
      ],
      "execution_count": null,
      "outputs": [
        {
          "output_type": "stream",
          "text": [
            "1349 4.482382\n"
          ],
          "name": "stdout"
        }
      ]
    },
    {
      "cell_type": "markdown",
      "metadata": {
        "id": "wJT5gFZSEij1"
      },
      "source": [
        "### Importância das features"
      ]
    },
    {
      "cell_type": "code",
      "metadata": {
        "id": "1wVV28FUEij1"
      },
      "source": [
        "column_names = [*data]\n",
        "column_names"
      ],
      "execution_count": null,
      "outputs": []
    },
    {
      "cell_type": "code",
      "metadata": {
        "id": "FtHzBUozEij3"
      },
      "source": [
        "xgboost.get_booster().feature_names = column_names"
      ],
      "execution_count": null,
      "outputs": []
    },
    {
      "cell_type": "code",
      "metadata": {
        "id": "ccQ6oE2JEij8",
        "outputId": "db3dabf6-24a8-43fa-971f-21274687ba34",
        "colab": {
          "base_uri": "https://localhost:8080/",
          "height": 283
        }
      },
      "source": [
        "feature_important = xgboost.get_booster().get_score(importance_type='gain')\n",
        "keys = list(feature_important.keys())\n",
        "values = list(feature_important.values())\n",
        "\n",
        "dt = pd.DataFrame(data=values, index=keys, columns=[\"score\"]).sort_values(by = \"score\", ascending=False)\n",
        "dt.plot(kind='barh')"
      ],
      "execution_count": null,
      "outputs": [
        {
          "output_type": "execute_result",
          "data": {
            "text/plain": [
              "<matplotlib.axes._subplots.AxesSubplot at 0x7fde39750a90>"
            ]
          },
          "metadata": {
            "tags": []
          },
          "execution_count": 18
        },
        {
          "output_type": "display_data",
          "data": {
            "image/png": "[encoded data removed]",
            "text/plain": [
              "<Figure size 432x288 with 1 Axes>"
            ]
          },
          "metadata": {
            "tags": [],
            "needs_background": "light"
          }
        }
      ]
    },
    {
      "cell_type": "code",
      "metadata": {
        "id": "50LKATXtEij_",
        "outputId": "35213f94-fb4e-419d-fe1d-ac7926426b5e",
        "colab": {
          "base_uri": "https://localhost:8080/",
          "height": 283
        }
      },
      "source": [
        "feature_important = xgboost.get_booster().get_score(importance_type='weight')\n",
        "keys = list(feature_important.keys())\n",
        "values = list(feature_important.values())\n",
        "\n",
        "dt = pd.DataFrame(data=values, index=keys, columns=[\"score\"]).sort_values(by = \"score\", ascending=False)\n",
        "dt.plot(kind='barh')"
      ],
      "execution_count": null,
      "outputs": [
        {
          "output_type": "execute_result",
          "data": {
            "text/plain": [
              "<matplotlib.axes._subplots.AxesSubplot at 0x7fde3b25ada0>"
            ]
          },
          "metadata": {
            "tags": []
          },
          "execution_count": 19
        },
        {
          "output_type": "display_data",
          "data": {
            "image/png": "[encoded data removed]",
            "text/plain": [
              "<Figure size 432x288 with 1 Axes>"
            ]
          },
          "metadata": {
            "tags": [],
            "needs_background": "light"
          }
        }
      ]
    },
    {
      "cell_type": "markdown",
      "metadata": {
        "id": "zMesM-EMpj-W"
      },
      "source": [
        "# Ajustando label para 06 horas adiante"
      ]
    },
    {
      "cell_type": "code",
      "metadata": {
        "id": "js-Y2DD7pj-X"
      },
      "source": [
        "data_copy = data.copy()"
      ],
      "execution_count": null,
      "outputs": []
    },
    {
      "cell_type": "code",
      "metadata": {
        "id": "duuK5jknpj-Z",
        "outputId": "c9cde7d9-9231-4f71-b9cb-018a8fbd5e1a",
        "colab": {
          "base_uri": "https://localhost:8080/",
          "height": 35
        }
      },
      "source": [
        "data_copy.index[-1]"
      ],
      "execution_count": null,
      "outputs": [
        {
          "output_type": "execute_result",
          "data": {
            "text/plain": [
              "2950521"
            ]
          },
          "metadata": {
            "tags": []
          },
          "execution_count": 36
        }
      ]
    },
    {
      "cell_type": "code",
      "metadata": {
        "id": "C1IgmC6lpj-d",
        "outputId": "87872144-46d7-4a87-d999-9da78bd697f0"
      },
      "source": [
        "# before transformation\n",
        "data_copy.head(10)"
      ],
      "execution_count": null,
      "outputs": [
        {
          "output_type": "execute_result",
          "data": {
            "text/html": [
              "<div>\n",
              "<style scoped>\n",
              "    .dataframe tbody tr th:only-of-type {\n",
              "        vertical-align: middle;\n",
              "    }\n",
              "\n",
              "    .dataframe tbody tr th {\n",
              "        vertical-align: top;\n",
              "    }\n",
              "\n",
              "    .dataframe thead th {\n",
              "        text-align: right;\n",
              "    }\n",
              "</style>\n",
              "<table border=\"1\" class=\"dataframe\">\n",
              "  <thead>\n",
              "    <tr style=\"text-align: right;\">\n",
              "      <th></th>\n",
              "      <th>sensor_id</th>\n",
              "      <th>day_of_week</th>\n",
              "      <th>slot_of_day</th>\n",
              "      <th>lane</th>\n",
              "      <th>size5</th>\n",
              "      <th>min5</th>\n",
              "      <th>max5</th>\n",
              "      <th>avg5</th>\n",
              "      <th>std5</th>\n",
              "      <th>size30</th>\n",
              "      <th>...</th>\n",
              "      <th>std1w</th>\n",
              "      <th>size2w</th>\n",
              "      <th>min2w</th>\n",
              "      <th>max2w</th>\n",
              "      <th>avg2w</th>\n",
              "      <th>std2w</th>\n",
              "      <th>working_day</th>\n",
              "      <th>speed_limit</th>\n",
              "      <th>label</th>\n",
              "      <th>timestamp5</th>\n",
              "    </tr>\n",
              "  </thead>\n",
              "  <tbody>\n",
              "    <tr>\n",
              "      <th>0</th>\n",
              "      <td>1385001</td>\n",
              "      <td>4</td>\n",
              "      <td>0</td>\n",
              "      <td>3</td>\n",
              "      <td>33</td>\n",
              "      <td>32.0</td>\n",
              "      <td>59.0</td>\n",
              "      <td>49.484848</td>\n",
              "      <td>6.035859</td>\n",
              "      <td>168.0</td>\n",
              "      <td>...</td>\n",
              "      <td>4.521537</td>\n",
              "      <td>32.0</td>\n",
              "      <td>25.0</td>\n",
              "      <td>58.0</td>\n",
              "      <td>47.562500</td>\n",
              "      <td>7.676822</td>\n",
              "      <td>1</td>\n",
              "      <td>67</td>\n",
              "      <td>50.799999</td>\n",
              "      <td>2014-08-01 00:00:00</td>\n",
              "    </tr>\n",
              "    <tr>\n",
              "      <th>1</th>\n",
              "      <td>1385001</td>\n",
              "      <td>4</td>\n",
              "      <td>1</td>\n",
              "      <td>3</td>\n",
              "      <td>34</td>\n",
              "      <td>35.0</td>\n",
              "      <td>62.0</td>\n",
              "      <td>51.735294</td>\n",
              "      <td>5.569396</td>\n",
              "      <td>174.0</td>\n",
              "      <td>...</td>\n",
              "      <td>5.250657</td>\n",
              "      <td>26.0</td>\n",
              "      <td>33.0</td>\n",
              "      <td>59.0</td>\n",
              "      <td>50.769230</td>\n",
              "      <td>4.979247</td>\n",
              "      <td>1</td>\n",
              "      <td>67</td>\n",
              "      <td>52.692307</td>\n",
              "      <td>2014-08-01 00:05:00</td>\n",
              "    </tr>\n",
              "    <tr>\n",
              "      <th>2</th>\n",
              "      <td>1385001</td>\n",
              "      <td>4</td>\n",
              "      <td>2</td>\n",
              "      <td>3</td>\n",
              "      <td>32</td>\n",
              "      <td>37.0</td>\n",
              "      <td>60.0</td>\n",
              "      <td>51.593750</td>\n",
              "      <td>5.011608</td>\n",
              "      <td>188.0</td>\n",
              "      <td>...</td>\n",
              "      <td>5.186414</td>\n",
              "      <td>24.0</td>\n",
              "      <td>11.0</td>\n",
              "      <td>56.0</td>\n",
              "      <td>47.250000</td>\n",
              "      <td>9.138973</td>\n",
              "      <td>1</td>\n",
              "      <td>67</td>\n",
              "      <td>50.000000</td>\n",
              "      <td>2014-08-01 00:10:00</td>\n",
              "    </tr>\n",
              "    <tr>\n",
              "      <th>3</th>\n",
              "      <td>1385001</td>\n",
              "      <td>4</td>\n",
              "      <td>3</td>\n",
              "      <td>3</td>\n",
              "      <td>30</td>\n",
              "      <td>31.0</td>\n",
              "      <td>57.0</td>\n",
              "      <td>49.266666</td>\n",
              "      <td>5.519260</td>\n",
              "      <td>185.0</td>\n",
              "      <td>...</td>\n",
              "      <td>5.188073</td>\n",
              "      <td>21.0</td>\n",
              "      <td>40.0</td>\n",
              "      <td>55.0</td>\n",
              "      <td>48.571430</td>\n",
              "      <td>4.593696</td>\n",
              "      <td>1</td>\n",
              "      <td>67</td>\n",
              "      <td>48.615383</td>\n",
              "      <td>2014-08-01 00:15:00</td>\n",
              "    </tr>\n",
              "    <tr>\n",
              "      <th>4</th>\n",
              "      <td>1385001</td>\n",
              "      <td>4</td>\n",
              "      <td>4</td>\n",
              "      <td>3</td>\n",
              "      <td>37</td>\n",
              "      <td>31.0</td>\n",
              "      <td>60.0</td>\n",
              "      <td>50.135136</td>\n",
              "      <td>5.619282</td>\n",
              "      <td>196.0</td>\n",
              "      <td>...</td>\n",
              "      <td>5.469811</td>\n",
              "      <td>14.0</td>\n",
              "      <td>42.0</td>\n",
              "      <td>57.0</td>\n",
              "      <td>49.500000</td>\n",
              "      <td>4.238430</td>\n",
              "      <td>1</td>\n",
              "      <td>67</td>\n",
              "      <td>48.000000</td>\n",
              "      <td>2014-08-01 00:20:00</td>\n",
              "    </tr>\n",
              "    <tr>\n",
              "      <th>5</th>\n",
              "      <td>1385001</td>\n",
              "      <td>4</td>\n",
              "      <td>5</td>\n",
              "      <td>3</td>\n",
              "      <td>32</td>\n",
              "      <td>32.0</td>\n",
              "      <td>58.0</td>\n",
              "      <td>50.500000</td>\n",
              "      <td>5.442885</td>\n",
              "      <td>198.0</td>\n",
              "      <td>...</td>\n",
              "      <td>5.435704</td>\n",
              "      <td>19.0</td>\n",
              "      <td>32.0</td>\n",
              "      <td>58.0</td>\n",
              "      <td>46.684212</td>\n",
              "      <td>7.616137</td>\n",
              "      <td>1</td>\n",
              "      <td>67</td>\n",
              "      <td>47.909092</td>\n",
              "      <td>2014-08-01 00:25:00</td>\n",
              "    </tr>\n",
              "    <tr>\n",
              "      <th>6</th>\n",
              "      <td>1385001</td>\n",
              "      <td>4</td>\n",
              "      <td>6</td>\n",
              "      <td>3</td>\n",
              "      <td>35</td>\n",
              "      <td>30.0</td>\n",
              "      <td>59.0</td>\n",
              "      <td>50.800000</td>\n",
              "      <td>6.060646</td>\n",
              "      <td>200.0</td>\n",
              "      <td>...</td>\n",
              "      <td>6.218572</td>\n",
              "      <td>14.0</td>\n",
              "      <td>40.0</td>\n",
              "      <td>57.0</td>\n",
              "      <td>50.571430</td>\n",
              "      <td>4.100771</td>\n",
              "      <td>1</td>\n",
              "      <td>67</td>\n",
              "      <td>51.416668</td>\n",
              "      <td>2014-08-01 00:30:00</td>\n",
              "    </tr>\n",
              "    <tr>\n",
              "      <th>7</th>\n",
              "      <td>1385001</td>\n",
              "      <td>4</td>\n",
              "      <td>7</td>\n",
              "      <td>3</td>\n",
              "      <td>26</td>\n",
              "      <td>44.0</td>\n",
              "      <td>60.0</td>\n",
              "      <td>52.692307</td>\n",
              "      <td>3.516655</td>\n",
              "      <td>192.0</td>\n",
              "      <td>...</td>\n",
              "      <td>5.138901</td>\n",
              "      <td>22.0</td>\n",
              "      <td>36.0</td>\n",
              "      <td>60.0</td>\n",
              "      <td>50.454544</td>\n",
              "      <td>5.323424</td>\n",
              "      <td>1</td>\n",
              "      <td>67</td>\n",
              "      <td>48.368420</td>\n",
              "      <td>2014-08-01 00:35:00</td>\n",
              "    </tr>\n",
              "    <tr>\n",
              "      <th>8</th>\n",
              "      <td>1385001</td>\n",
              "      <td>4</td>\n",
              "      <td>8</td>\n",
              "      <td>3</td>\n",
              "      <td>32</td>\n",
              "      <td>38.0</td>\n",
              "      <td>60.0</td>\n",
              "      <td>50.000000</td>\n",
              "      <td>5.618051</td>\n",
              "      <td>192.0</td>\n",
              "      <td>...</td>\n",
              "      <td>6.514599</td>\n",
              "      <td>18.0</td>\n",
              "      <td>43.0</td>\n",
              "      <td>58.0</td>\n",
              "      <td>51.611111</td>\n",
              "      <td>4.584259</td>\n",
              "      <td>1</td>\n",
              "      <td>67</td>\n",
              "      <td>49.863636</td>\n",
              "      <td>2014-08-01 00:40:00</td>\n",
              "    </tr>\n",
              "    <tr>\n",
              "      <th>9</th>\n",
              "      <td>1385001</td>\n",
              "      <td>4</td>\n",
              "      <td>9</td>\n",
              "      <td>3</td>\n",
              "      <td>26</td>\n",
              "      <td>27.0</td>\n",
              "      <td>57.0</td>\n",
              "      <td>48.615383</td>\n",
              "      <td>7.452810</td>\n",
              "      <td>188.0</td>\n",
              "      <td>...</td>\n",
              "      <td>5.607089</td>\n",
              "      <td>11.0</td>\n",
              "      <td>42.0</td>\n",
              "      <td>56.0</td>\n",
              "      <td>49.636364</td>\n",
              "      <td>4.656818</td>\n",
              "      <td>1</td>\n",
              "      <td>67</td>\n",
              "      <td>48.666668</td>\n",
              "      <td>2014-08-01 00:45:00</td>\n",
              "    </tr>\n",
              "  </tbody>\n",
              "</table>\n",
              "<p>10 rows × 28 columns</p>\n",
              "</div>"
            ],
            "text/plain": [
              "  sensor_id  day_of_week  slot_of_day  lane  size5  min5  max5       avg5  \\\n",
              "0   1385001            4            0     3     33  32.0  59.0  49.484848   \n",
              "1   1385001            4            1     3     34  35.0  62.0  51.735294   \n",
              "2   1385001            4            2     3     32  37.0  60.0  51.593750   \n",
              "3   1385001            4            3     3     30  31.0  57.0  49.266666   \n",
              "4   1385001            4            4     3     37  31.0  60.0  50.135136   \n",
              "5   1385001            4            5     3     32  32.0  58.0  50.500000   \n",
              "6   1385001            4            6     3     35  30.0  59.0  50.800000   \n",
              "7   1385001            4            7     3     26  44.0  60.0  52.692307   \n",
              "8   1385001            4            8     3     32  38.0  60.0  50.000000   \n",
              "9   1385001            4            9     3     26  27.0  57.0  48.615383   \n",
              "\n",
              "       std5  size30  ...     std1w  size2w  min2w  max2w      avg2w     std2w  \\\n",
              "0  6.035859   168.0  ...  4.521537    32.0   25.0   58.0  47.562500  7.676822   \n",
              "1  5.569396   174.0  ...  5.250657    26.0   33.0   59.0  50.769230  4.979247   \n",
              "2  5.011608   188.0  ...  5.186414    24.0   11.0   56.0  47.250000  9.138973   \n",
              "3  5.519260   185.0  ...  5.188073    21.0   40.0   55.0  48.571430  4.593696   \n",
              "4  5.619282   196.0  ...  5.469811    14.0   42.0   57.0  49.500000  4.238430   \n",
              "5  5.442885   198.0  ...  5.435704    19.0   32.0   58.0  46.684212  7.616137   \n",
              "6  6.060646   200.0  ...  6.218572    14.0   40.0   57.0  50.571430  4.100771   \n",
              "7  3.516655   192.0  ...  5.138901    22.0   36.0   60.0  50.454544  5.323424   \n",
              "8  5.618051   192.0  ...  6.514599    18.0   43.0   58.0  51.611111  4.584259   \n",
              "9  7.452810   188.0  ...  5.607089    11.0   42.0   56.0  49.636364  4.656818   \n",
              "\n",
              "   working_day  speed_limit      label          timestamp5  \n",
              "0            1           67  50.799999 2014-08-01 00:00:00  \n",
              "1            1           67  52.692307 2014-08-01 00:05:00  \n",
              "2            1           67  50.000000 2014-08-01 00:10:00  \n",
              "3            1           67  48.615383 2014-08-01 00:15:00  \n",
              "4            1           67  48.000000 2014-08-01 00:20:00  \n",
              "5            1           67  47.909092 2014-08-01 00:25:00  \n",
              "6            1           67  51.416668 2014-08-01 00:30:00  \n",
              "7            1           67  48.368420 2014-08-01 00:35:00  \n",
              "8            1           67  49.863636 2014-08-01 00:40:00  \n",
              "9            1           67  48.666668 2014-08-01 00:45:00  \n",
              "\n",
              "[10 rows x 28 columns]"
            ]
          },
          "metadata": {
            "tags": []
          },
          "execution_count": 37
        }
      ]
    },
    {
      "cell_type": "code",
      "metadata": {
        "id": "t1-Ed9_9pj-e"
      },
      "source": [
        "hours_added = datetime.timedelta(hours = 6)\n",
        "\n",
        "# Create a data series that combines the information about sensor_id & timestamp5\n",
        "sen_time = data_copy['sensor_id'].astype(str) + data_copy['timestamp5'].astype(str)\n",
        "\n",
        "# Create a dictionary of the corresponding { sensor_id + timestamp5 : avg5 } values\n",
        "dictionary = pd.Series(data_copy['avg5'].values, sen_time).to_dict()\n",
        "\n",
        "# Create a data series combining the timestamp5 + 6 hours information\n",
        "timePlus6h = data_copy['timestamp5'] + hours_added\n",
        "\n",
        "# Create a mapping column that combines the sensor_id & timestamp5+6h\n",
        "sensor_timePlus6h = (data_copy['sensor_id'].astype(str) + timePlus6h.astype(str))\n",
        "\n",
        "# Create a new_label series by mapping the dictionary onto sensor_timePlus6h\n",
        "new_label = sensor_timePlus6h.map(dictionary)\n",
        "\n",
        "# Extract indices where this series has non-NaN values\n",
        "where = new_label.notnull()\n",
        "\n",
        "# Replace the values in the 'label' column with only non-NaN new_label values\n",
        "data_copy.loc[where, 'label'] = new_label.loc[where]"
      ],
      "execution_count": null,
      "outputs": []
    },
    {
      "cell_type": "code",
      "metadata": {
        "scrolled": false,
        "id": "jCUsG4QVpj-f"
      },
      "source": [
        "data_copy.to_csv('data-06hours.csv')"
      ],
      "execution_count": null,
      "outputs": []
    },
    {
      "cell_type": "code",
      "metadata": {
        "id": "IZKwVp94pj-g"
      },
      "source": [
        "test_copy = test.copy()"
      ],
      "execution_count": null,
      "outputs": []
    },
    {
      "cell_type": "code",
      "metadata": {
        "scrolled": true,
        "id": "_YRMXdWQpj-h",
        "outputId": "3574062c-4851-4572-d098-a125b54b5770",
        "colab": {
          "base_uri": "https://localhost:8080/",
          "height": 35
        }
      },
      "source": [
        "test_copy.index"
      ],
      "execution_count": null,
      "outputs": [
        {
          "output_type": "execute_result",
          "data": {
            "text/plain": [
              "RangeIndex(start=0, stop=1715253, step=1)"
            ]
          },
          "metadata": {
            "tags": []
          },
          "execution_count": 41
        }
      ]
    },
    {
      "cell_type": "code",
      "metadata": {
        "id": "bOsYSlDdpj-i"
      },
      "source": [
        "hours_added = datetime.timedelta(hours = 6)\n",
        "\n",
        "# Create a data series that combines the information about sensor_id & timestamp5\n",
        "sen_time = test_copy['sensor_id'].astype(str) + test_copy['timestamp5'].astype(str)\n",
        "\n",
        "# Create a dictionary of the corresponding { sensor_id + timestamp5 : avg5 } values\n",
        "dictionary = pd.Series(test_copy['avg5'].values, sen_time).to_dict()\n",
        "\n",
        "# Create a data series combining the timestamp5 + 6 hours information\n",
        "timePlus6h = test_copy['timestamp5'] + hours_added\n",
        "\n",
        "# Create a mapping column that combines the sensor_id & timestamp5+6h\n",
        "sensor_timePlus6h = (test_copy['sensor_id'].astype(str) + timePlus6h.astype(str))\n",
        "\n",
        "# Create a new_label series by mapping the dictionary onto sensor_timePlus6h\n",
        "new_label = sensor_timePlus6h.map(dictionary)\n",
        "\n",
        "# Extract indices where this series has non-NaN values\n",
        "where = new_label.notnull()\n",
        "\n",
        "# Replace the values in the 'label' column with only non-NaN new_label values\n",
        "test_copy.loc[where, 'label'] = new_label.loc[where]"
      ],
      "execution_count": null,
      "outputs": []
    },
    {
      "cell_type": "code",
      "metadata": {
        "id": "gUs-JCr6pj-j"
      },
      "source": [
        "test_copy.to_csv('test-06hours.csv')"
      ],
      "execution_count": null,
      "outputs": []
    },
    {
      "cell_type": "markdown",
      "metadata": {
        "id": "rfbGMmCCi4fg"
      },
      "source": [
        "## Treinando com dataset ajustado para 6 horas"
      ]
    },
    {
      "cell_type": "markdown",
      "metadata": {
        "id": "30kFgNC8-5V5"
      },
      "source": [
        "### Removendo features desnecessárias"
      ]
    },
    {
      "cell_type": "code",
      "metadata": {
        "id": "0WvjlCHQi_Ev",
        "outputId": "261280ee-b4f6-457b-cfb4-bbf2631d2af7",
        "colab": {
          "base_uri": "https://localhost:8080/",
          "height": 53
        }
      },
      "source": [
        "## Only if kernel restarted\n",
        "\n",
        "# Agosto + Setembro de 2014\n",
        "data = pd.read_csv(f'{datasets}/data-06hours.csv', parse_dates=[\"timestamp5\"])\n",
        "\n",
        "# Outubro como teste\n",
        "test = pd.read_csv(f'{datasets}/test-06hours.csv', parse_dates=[\"timestamp5\"])"
      ],
      "execution_count": null,
      "outputs": [
        {
          "output_type": "stream",
          "text": [
            "/usr/local/lib/python3.6/dist-packages/IPython/core/interactiveshell.py:2718: DtypeWarning: Columns (1) have mixed types.Specify dtype option on import or set low_memory=False.\n",
            "  interactivity=interactivity, compiler=compiler, result=result)\n"
          ],
          "name": "stderr"
        }
      ]
    },
    {
      "cell_type": "code",
      "metadata": {
        "id": "NtbeVvV0djq5",
        "outputId": "1d8215ba-4a8f-4019-cf7b-87281b34ddd1",
        "colab": {
          "base_uri": "https://localhost:8080/",
          "height": 152
        }
      },
      "source": [
        "hours_added = datetime.timedelta(hours = 6)\n",
        "index = 100045\n",
        "hours_ahead = data.loc[index, \"timestamp5\"] + hours_added\n",
        "\n",
        "print(data.loc[index, [\"sensor_id\", \"label\", \"timestamp5\"]], hours_ahead)\n",
        "data[((data[\"timestamp5\"] == hours_ahead) & (data[\"sensor_id\"] == data[\"sensor_id\"].loc[index]))][[\"sensor_id\", \"avg5\"]]"
      ],
      "execution_count": null,
      "outputs": [
        {
          "output_type": "stream",
          "text": [
            "sensor_id                 1385034\n",
            "label                      23.875\n",
            "timestamp5    2014-08-01 23:50:00\n",
            "Name: 100045, dtype: object 2014-08-02 05:50:00\n"
          ],
          "name": "stdout"
        },
        {
          "output_type": "execute_result",
          "data": {
            "text/html": [
              "<div>\n",
              "<style scoped>\n",
              "    .dataframe tbody tr th:only-of-type {\n",
              "        vertical-align: middle;\n",
              "    }\n",
              "\n",
              "    .dataframe tbody tr th {\n",
              "        vertical-align: top;\n",
              "    }\n",
              "\n",
              "    .dataframe thead th {\n",
              "        text-align: right;\n",
              "    }\n",
              "</style>\n",
              "<table border=\"1\" class=\"dataframe\">\n",
              "  <thead>\n",
              "    <tr style=\"text-align: right;\">\n",
              "      <th></th>\n",
              "      <th>sensor_id</th>\n",
              "      <th>avg5</th>\n",
              "    </tr>\n",
              "  </thead>\n",
              "  <tbody>\n",
              "    <tr>\n",
              "      <th>100114</th>\n",
              "      <td>1385034</td>\n",
              "      <td>23.875</td>\n",
              "    </tr>\n",
              "  </tbody>\n",
              "</table>\n",
              "</div>"
            ],
            "text/plain": [
              "       sensor_id    avg5\n",
              "100114   1385034  23.875"
            ]
          },
          "metadata": {
            "tags": []
          },
          "execution_count": 84
        }
      ]
    },
    {
      "cell_type": "code",
      "metadata": {
        "id": "R7pIhLvdfWU5",
        "outputId": "9b855fbe-c068-4b6d-c87d-90683100ec7a",
        "colab": {
          "base_uri": "https://localhost:8080/",
          "height": 626
        }
      },
      "source": [
        "data[((data[\"timestamp5\"] == hours_ahead))]"
      ],
      "execution_count": null,
      "outputs": [
        {
          "output_type": "execute_result",
          "data": {
            "text/html": [
              "<div>\n",
              "<style scoped>\n",
              "    .dataframe tbody tr th:only-of-type {\n",
              "        vertical-align: middle;\n",
              "    }\n",
              "\n",
              "    .dataframe tbody tr th {\n",
              "        vertical-align: top;\n",
              "    }\n",
              "\n",
              "    .dataframe thead th {\n",
              "        text-align: right;\n",
              "    }\n",
              "</style>\n",
              "<table border=\"1\" class=\"dataframe\">\n",
              "  <thead>\n",
              "    <tr style=\"text-align: right;\">\n",
              "      <th></th>\n",
              "      <th>Unnamed: 0</th>\n",
              "      <th>sensor_id</th>\n",
              "      <th>day_of_week</th>\n",
              "      <th>slot_of_day</th>\n",
              "      <th>lane</th>\n",
              "      <th>size5</th>\n",
              "      <th>min5</th>\n",
              "      <th>max5</th>\n",
              "      <th>avg5</th>\n",
              "      <th>std5</th>\n",
              "      <th>size30</th>\n",
              "      <th>min30</th>\n",
              "      <th>max30</th>\n",
              "      <th>avg30</th>\n",
              "      <th>std30</th>\n",
              "      <th>size1w</th>\n",
              "      <th>min1w</th>\n",
              "      <th>max1w</th>\n",
              "      <th>avg1w</th>\n",
              "      <th>std1w</th>\n",
              "      <th>size2w</th>\n",
              "      <th>min2w</th>\n",
              "      <th>max2w</th>\n",
              "      <th>avg2w</th>\n",
              "      <th>std2w</th>\n",
              "      <th>working_day</th>\n",
              "      <th>speed_limit</th>\n",
              "      <th>label</th>\n",
              "      <th>timestamp5</th>\n",
              "    </tr>\n",
              "  </thead>\n",
              "  <tbody>\n",
              "    <tr>\n",
              "      <th>5152</th>\n",
              "      <td>5152</td>\n",
              "      <td>1385001</td>\n",
              "      <td>1</td>\n",
              "      <td>110</td>\n",
              "      <td>3</td>\n",
              "      <td>153</td>\n",
              "      <td>7.0</td>\n",
              "      <td>48.0</td>\n",
              "      <td>24.398693</td>\n",
              "      <td>7.500187</td>\n",
              "      <td>801.0</td>\n",
              "      <td>4.0</td>\n",
              "      <td>48.0</td>\n",
              "      <td>22.242197</td>\n",
              "      <td>7.179438</td>\n",
              "      <td>101.0</td>\n",
              "      <td>4.0</td>\n",
              "      <td>39.0</td>\n",
              "      <td>18.504950</td>\n",
              "      <td>8.276919</td>\n",
              "      <td>122.0</td>\n",
              "      <td>13.0</td>\n",
              "      <td>56.0</td>\n",
              "      <td>35.500000</td>\n",
              "      <td>12.368820</td>\n",
              "      <td>1</td>\n",
              "      <td>67</td>\n",
              "      <td>35.471910</td>\n",
              "      <td>2014-08-19 09:10:00</td>\n",
              "    </tr>\n",
              "    <tr>\n",
              "      <th>13823</th>\n",
              "      <td>13823</td>\n",
              "      <td>1385002</td>\n",
              "      <td>1</td>\n",
              "      <td>110</td>\n",
              "      <td>3</td>\n",
              "      <td>159</td>\n",
              "      <td>14.0</td>\n",
              "      <td>55.0</td>\n",
              "      <td>35.559750</td>\n",
              "      <td>9.254332</td>\n",
              "      <td>917.0</td>\n",
              "      <td>12.0</td>\n",
              "      <td>60.0</td>\n",
              "      <td>34.567067</td>\n",
              "      <td>9.871869</td>\n",
              "      <td>162.0</td>\n",
              "      <td>10.0</td>\n",
              "      <td>61.0</td>\n",
              "      <td>38.771606</td>\n",
              "      <td>10.744665</td>\n",
              "      <td>145.0</td>\n",
              "      <td>13.0</td>\n",
              "      <td>70.0</td>\n",
              "      <td>34.344826</td>\n",
              "      <td>11.302962</td>\n",
              "      <td>1</td>\n",
              "      <td>67</td>\n",
              "      <td>34.244755</td>\n",
              "      <td>2014-08-19 09:10:00</td>\n",
              "    </tr>\n",
              "    <tr>\n",
              "      <th>21202</th>\n",
              "      <td>21202</td>\n",
              "      <td>1385006</td>\n",
              "      <td>1</td>\n",
              "      <td>110</td>\n",
              "      <td>2</td>\n",
              "      <td>49</td>\n",
              "      <td>14.0</td>\n",
              "      <td>57.0</td>\n",
              "      <td>30.142857</td>\n",
              "      <td>9.657396</td>\n",
              "      <td>287.0</td>\n",
              "      <td>12.0</td>\n",
              "      <td>57.0</td>\n",
              "      <td>28.672474</td>\n",
              "      <td>7.818323</td>\n",
              "      <td>43.0</td>\n",
              "      <td>14.0</td>\n",
              "      <td>52.0</td>\n",
              "      <td>26.953489</td>\n",
              "      <td>7.511088</td>\n",
              "      <td>54.0</td>\n",
              "      <td>13.0</td>\n",
              "      <td>47.0</td>\n",
              "      <td>26.518518</td>\n",
              "      <td>8.130283</td>\n",
              "      <td>1</td>\n",
              "      <td>67</td>\n",
              "      <td>31.216217</td>\n",
              "      <td>2014-08-19 09:10:00</td>\n",
              "    </tr>\n",
              "    <tr>\n",
              "      <th>28562</th>\n",
              "      <td>28562</td>\n",
              "      <td>1385007</td>\n",
              "      <td>1</td>\n",
              "      <td>110</td>\n",
              "      <td>2</td>\n",
              "      <td>54</td>\n",
              "      <td>13.0</td>\n",
              "      <td>56.0</td>\n",
              "      <td>26.777779</td>\n",
              "      <td>10.407737</td>\n",
              "      <td>265.0</td>\n",
              "      <td>8.0</td>\n",
              "      <td>56.0</td>\n",
              "      <td>27.366038</td>\n",
              "      <td>9.528011</td>\n",
              "      <td>42.0</td>\n",
              "      <td>15.0</td>\n",
              "      <td>53.0</td>\n",
              "      <td>27.571428</td>\n",
              "      <td>8.883219</td>\n",
              "      <td>42.0</td>\n",
              "      <td>13.0</td>\n",
              "      <td>51.0</td>\n",
              "      <td>24.857143</td>\n",
              "      <td>8.870957</td>\n",
              "      <td>1</td>\n",
              "      <td>67</td>\n",
              "      <td>24.260870</td>\n",
              "      <td>2014-08-19 09:10:00</td>\n",
              "    </tr>\n",
              "    <tr>\n",
              "      <th>46725</th>\n",
              "      <td>46725</td>\n",
              "      <td>1385018</td>\n",
              "      <td>1</td>\n",
              "      <td>110</td>\n",
              "      <td>4</td>\n",
              "      <td>113</td>\n",
              "      <td>13.0</td>\n",
              "      <td>48.0</td>\n",
              "      <td>35.150444</td>\n",
              "      <td>8.960307</td>\n",
              "      <td>687.0</td>\n",
              "      <td>6.0</td>\n",
              "      <td>57.0</td>\n",
              "      <td>31.612809</td>\n",
              "      <td>9.665212</td>\n",
              "      <td>101.0</td>\n",
              "      <td>17.0</td>\n",
              "      <td>49.0</td>\n",
              "      <td>38.089108</td>\n",
              "      <td>5.565272</td>\n",
              "      <td>138.0</td>\n",
              "      <td>16.0</td>\n",
              "      <td>49.0</td>\n",
              "      <td>35.652172</td>\n",
              "      <td>6.852115</td>\n",
              "      <td>1</td>\n",
              "      <td>67</td>\n",
              "      <td>36.447760</td>\n",
              "      <td>2014-08-19 09:10:00</td>\n",
              "    </tr>\n",
              "    <tr>\n",
              "      <th>...</th>\n",
              "      <td>...</td>\n",
              "      <td>...</td>\n",
              "      <td>...</td>\n",
              "      <td>...</td>\n",
              "      <td>...</td>\n",
              "      <td>...</td>\n",
              "      <td>...</td>\n",
              "      <td>...</td>\n",
              "      <td>...</td>\n",
              "      <td>...</td>\n",
              "      <td>...</td>\n",
              "      <td>...</td>\n",
              "      <td>...</td>\n",
              "      <td>...</td>\n",
              "      <td>...</td>\n",
              "      <td>...</td>\n",
              "      <td>...</td>\n",
              "      <td>...</td>\n",
              "      <td>...</td>\n",
              "      <td>...</td>\n",
              "      <td>...</td>\n",
              "      <td>...</td>\n",
              "      <td>...</td>\n",
              "      <td>...</td>\n",
              "      <td>...</td>\n",
              "      <td>...</td>\n",
              "      <td>...</td>\n",
              "      <td>...</td>\n",
              "      <td>...</td>\n",
              "    </tr>\n",
              "    <tr>\n",
              "      <th>1626867</th>\n",
              "      <td>1626867</td>\n",
              "      <td>FS108</td>\n",
              "      <td>1</td>\n",
              "      <td>110</td>\n",
              "      <td>1</td>\n",
              "      <td>22</td>\n",
              "      <td>10.0</td>\n",
              "      <td>56.0</td>\n",
              "      <td>39.454544</td>\n",
              "      <td>13.203743</td>\n",
              "      <td>164.0</td>\n",
              "      <td>10.0</td>\n",
              "      <td>64.0</td>\n",
              "      <td>45.951220</td>\n",
              "      <td>7.823358</td>\n",
              "      <td>22.0</td>\n",
              "      <td>15.0</td>\n",
              "      <td>57.0</td>\n",
              "      <td>43.090908</td>\n",
              "      <td>10.179789</td>\n",
              "      <td>17.0</td>\n",
              "      <td>33.0</td>\n",
              "      <td>55.0</td>\n",
              "      <td>47.000000</td>\n",
              "      <td>6.173949</td>\n",
              "      <td>1</td>\n",
              "      <td>60</td>\n",
              "      <td>45.769230</td>\n",
              "      <td>2014-08-19 09:10:00</td>\n",
              "    </tr>\n",
              "    <tr>\n",
              "      <th>1630717</th>\n",
              "      <td>1630717</td>\n",
              "      <td>FS110</td>\n",
              "      <td>1</td>\n",
              "      <td>110</td>\n",
              "      <td>3</td>\n",
              "      <td>98</td>\n",
              "      <td>22.0</td>\n",
              "      <td>57.0</td>\n",
              "      <td>43.561226</td>\n",
              "      <td>7.063944</td>\n",
              "      <td>612.0</td>\n",
              "      <td>10.0</td>\n",
              "      <td>63.0</td>\n",
              "      <td>43.936275</td>\n",
              "      <td>7.675881</td>\n",
              "      <td>93.0</td>\n",
              "      <td>23.0</td>\n",
              "      <td>68.0</td>\n",
              "      <td>45.870968</td>\n",
              "      <td>7.233771</td>\n",
              "      <td>91.0</td>\n",
              "      <td>15.0</td>\n",
              "      <td>61.0</td>\n",
              "      <td>43.934067</td>\n",
              "      <td>7.751359</td>\n",
              "      <td>1</td>\n",
              "      <td>60</td>\n",
              "      <td>46.345680</td>\n",
              "      <td>2014-08-19 09:10:00</td>\n",
              "    </tr>\n",
              "    <tr>\n",
              "      <th>1635296</th>\n",
              "      <td>1635296</td>\n",
              "      <td>FS111</td>\n",
              "      <td>1</td>\n",
              "      <td>110</td>\n",
              "      <td>3</td>\n",
              "      <td>62</td>\n",
              "      <td>22.0</td>\n",
              "      <td>69.0</td>\n",
              "      <td>46.725807</td>\n",
              "      <td>8.130328</td>\n",
              "      <td>463.0</td>\n",
              "      <td>17.0</td>\n",
              "      <td>69.0</td>\n",
              "      <td>45.881210</td>\n",
              "      <td>7.458809</td>\n",
              "      <td>65.0</td>\n",
              "      <td>23.0</td>\n",
              "      <td>64.0</td>\n",
              "      <td>46.784615</td>\n",
              "      <td>8.008635</td>\n",
              "      <td>56.0</td>\n",
              "      <td>13.0</td>\n",
              "      <td>61.0</td>\n",
              "      <td>45.589287</td>\n",
              "      <td>8.620525</td>\n",
              "      <td>1</td>\n",
              "      <td>60</td>\n",
              "      <td>44.986668</td>\n",
              "      <td>2014-08-19 09:10:00</td>\n",
              "    </tr>\n",
              "    <tr>\n",
              "      <th>1639920</th>\n",
              "      <td>1639920</td>\n",
              "      <td>FS114</td>\n",
              "      <td>1</td>\n",
              "      <td>110</td>\n",
              "      <td>3</td>\n",
              "      <td>94</td>\n",
              "      <td>23.0</td>\n",
              "      <td>68.0</td>\n",
              "      <td>50.202130</td>\n",
              "      <td>5.762276</td>\n",
              "      <td>614.0</td>\n",
              "      <td>17.0</td>\n",
              "      <td>79.0</td>\n",
              "      <td>49.716612</td>\n",
              "      <td>6.428597</td>\n",
              "      <td>82.0</td>\n",
              "      <td>16.0</td>\n",
              "      <td>65.0</td>\n",
              "      <td>50.719513</td>\n",
              "      <td>7.724327</td>\n",
              "      <td>100.0</td>\n",
              "      <td>13.0</td>\n",
              "      <td>75.0</td>\n",
              "      <td>44.570000</td>\n",
              "      <td>9.897732</td>\n",
              "      <td>1</td>\n",
              "      <td>60</td>\n",
              "      <td>51.659092</td>\n",
              "      <td>2014-08-19 09:10:00</td>\n",
              "    </tr>\n",
              "    <tr>\n",
              "      <th>1644351</th>\n",
              "      <td>1644351</td>\n",
              "      <td>FS115</td>\n",
              "      <td>1</td>\n",
              "      <td>110</td>\n",
              "      <td>3</td>\n",
              "      <td>110</td>\n",
              "      <td>27.0</td>\n",
              "      <td>73.0</td>\n",
              "      <td>48.781820</td>\n",
              "      <td>6.113148</td>\n",
              "      <td>677.0</td>\n",
              "      <td>20.0</td>\n",
              "      <td>78.0</td>\n",
              "      <td>47.881832</td>\n",
              "      <td>6.842666</td>\n",
              "      <td>113.0</td>\n",
              "      <td>29.0</td>\n",
              "      <td>68.0</td>\n",
              "      <td>46.929203</td>\n",
              "      <td>6.114999</td>\n",
              "      <td>100.0</td>\n",
              "      <td>27.0</td>\n",
              "      <td>67.0</td>\n",
              "      <td>48.790001</td>\n",
              "      <td>7.577988</td>\n",
              "      <td>1</td>\n",
              "      <td>60</td>\n",
              "      <td>49.170000</td>\n",
              "      <td>2014-08-19 09:10:00</td>\n",
              "    </tr>\n",
              "  </tbody>\n",
              "</table>\n",
              "<p>214 rows × 29 columns</p>\n",
              "</div>"
            ],
            "text/plain": [
              "         Unnamed: 0 sensor_id  ...      label          timestamp5\n",
              "5152           5152   1385001  ...  35.471910 2014-08-19 09:10:00\n",
              "13823         13823   1385002  ...  34.244755 2014-08-19 09:10:00\n",
              "21202         21202   1385006  ...  31.216217 2014-08-19 09:10:00\n",
              "28562         28562   1385007  ...  24.260870 2014-08-19 09:10:00\n",
              "46725         46725   1385018  ...  36.447760 2014-08-19 09:10:00\n",
              "...             ...       ...  ...        ...                 ...\n",
              "1626867     1626867     FS108  ...  45.769230 2014-08-19 09:10:00\n",
              "1630717     1630717     FS110  ...  46.345680 2014-08-19 09:10:00\n",
              "1635296     1635296     FS111  ...  44.986668 2014-08-19 09:10:00\n",
              "1639920     1639920     FS114  ...  51.659092 2014-08-19 09:10:00\n",
              "1644351     1644351     FS115  ...  49.170000 2014-08-19 09:10:00\n",
              "\n",
              "[214 rows x 29 columns]"
            ]
          },
          "metadata": {
            "tags": []
          },
          "execution_count": 73
        }
      ]
    },
    {
      "cell_type": "code",
      "metadata": {
        "id": "zdHlZMrLp6Hm",
        "outputId": "b3788a90-3130-4cf5-9198-03c82893f8f0",
        "colab": {
          "base_uri": "https://localhost:8080/",
          "height": 134
        }
      },
      "source": [
        "data[((data[\"timestamp5\"] == \"2014-08-01 00:00:00\") & (data[\"sensor_id\"] == 1385001))]"
      ],
      "execution_count": null,
      "outputs": [
        {
          "output_type": "execute_result",
          "data": {
            "text/html": [
              "<div>\n",
              "<style scoped>\n",
              "    .dataframe tbody tr th:only-of-type {\n",
              "        vertical-align: middle;\n",
              "    }\n",
              "\n",
              "    .dataframe tbody tr th {\n",
              "        vertical-align: top;\n",
              "    }\n",
              "\n",
              "    .dataframe thead th {\n",
              "        text-align: right;\n",
              "    }\n",
              "</style>\n",
              "<table border=\"1\" class=\"dataframe\">\n",
              "  <thead>\n",
              "    <tr style=\"text-align: right;\">\n",
              "      <th></th>\n",
              "      <th>Unnamed: 0</th>\n",
              "      <th>sensor_id</th>\n",
              "      <th>day_of_week</th>\n",
              "      <th>slot_of_day</th>\n",
              "      <th>lane</th>\n",
              "      <th>size5</th>\n",
              "      <th>min5</th>\n",
              "      <th>max5</th>\n",
              "      <th>avg5</th>\n",
              "      <th>std5</th>\n",
              "      <th>size30</th>\n",
              "      <th>min30</th>\n",
              "      <th>max30</th>\n",
              "      <th>avg30</th>\n",
              "      <th>std30</th>\n",
              "      <th>size1w</th>\n",
              "      <th>min1w</th>\n",
              "      <th>max1w</th>\n",
              "      <th>avg1w</th>\n",
              "      <th>std1w</th>\n",
              "      <th>size2w</th>\n",
              "      <th>min2w</th>\n",
              "      <th>max2w</th>\n",
              "      <th>avg2w</th>\n",
              "      <th>std2w</th>\n",
              "      <th>working_day</th>\n",
              "      <th>speed_limit</th>\n",
              "      <th>label</th>\n",
              "      <th>timestamp5</th>\n",
              "    </tr>\n",
              "  </thead>\n",
              "  <tbody>\n",
              "    <tr>\n",
              "      <th>0</th>\n",
              "      <td>0</td>\n",
              "      <td>1385001</td>\n",
              "      <td>4</td>\n",
              "      <td>0</td>\n",
              "      <td>3</td>\n",
              "      <td>33</td>\n",
              "      <td>32.0</td>\n",
              "      <td>59.0</td>\n",
              "      <td>49.484848</td>\n",
              "      <td>6.035859</td>\n",
              "      <td>168.0</td>\n",
              "      <td>25.0</td>\n",
              "      <td>61.0</td>\n",
              "      <td>49.678571</td>\n",
              "      <td>5.961505</td>\n",
              "      <td>55.0</td>\n",
              "      <td>40.0</td>\n",
              "      <td>58.0</td>\n",
              "      <td>49.654545</td>\n",
              "      <td>4.521537</td>\n",
              "      <td>32.0</td>\n",
              "      <td>25.0</td>\n",
              "      <td>58.0</td>\n",
              "      <td>47.5625</td>\n",
              "      <td>7.676822</td>\n",
              "      <td>1</td>\n",
              "      <td>67</td>\n",
              "      <td>40.21898</td>\n",
              "      <td>2014-08-01 00:00:00</td>\n",
              "    </tr>\n",
              "  </tbody>\n",
              "</table>\n",
              "</div>"
            ],
            "text/plain": [
              "   Unnamed: 0 sensor_id  ...     label           timestamp5\n",
              "0           0   1385001  ...  40.21898  2014-08-01 00:00:00\n",
              "\n",
              "[1 rows x 29 columns]"
            ]
          },
          "metadata": {
            "tags": []
          },
          "execution_count": 21
        }
      ]
    },
    {
      "cell_type": "code",
      "metadata": {
        "id": "bf5irfS9p8Tr",
        "outputId": "78d30665-c218-45bb-d498-75e3866aad0f",
        "colab": {
          "base_uri": "https://localhost:8080/",
          "height": 69
        }
      },
      "source": [
        "data[((data[\"timestamp5\"] == \"2014-08-01 00:06:00\") & (data[\"sensor_id\"] == 1385001))]"
      ],
      "execution_count": null,
      "outputs": [
        {
          "output_type": "execute_result",
          "data": {
            "text/html": [
              "<div>\n",
              "<style scoped>\n",
              "    .dataframe tbody tr th:only-of-type {\n",
              "        vertical-align: middle;\n",
              "    }\n",
              "\n",
              "    .dataframe tbody tr th {\n",
              "        vertical-align: top;\n",
              "    }\n",
              "\n",
              "    .dataframe thead th {\n",
              "        text-align: right;\n",
              "    }\n",
              "</style>\n",
              "<table border=\"1\" class=\"dataframe\">\n",
              "  <thead>\n",
              "    <tr style=\"text-align: right;\">\n",
              "      <th></th>\n",
              "      <th>sensor_id</th>\n",
              "      <th>day_of_week</th>\n",
              "      <th>slot_of_day</th>\n",
              "      <th>lane</th>\n",
              "      <th>size5</th>\n",
              "      <th>min5</th>\n",
              "      <th>max5</th>\n",
              "      <th>avg5</th>\n",
              "      <th>std5</th>\n",
              "      <th>size30</th>\n",
              "      <th>min30</th>\n",
              "      <th>max30</th>\n",
              "      <th>avg30</th>\n",
              "      <th>std30</th>\n",
              "      <th>size1w</th>\n",
              "      <th>min1w</th>\n",
              "      <th>max1w</th>\n",
              "      <th>avg1w</th>\n",
              "      <th>std1w</th>\n",
              "      <th>size2w</th>\n",
              "      <th>min2w</th>\n",
              "      <th>max2w</th>\n",
              "      <th>avg2w</th>\n",
              "      <th>std2w</th>\n",
              "      <th>working_day</th>\n",
              "      <th>speed_limit</th>\n",
              "      <th>label</th>\n",
              "      <th>timestamp5</th>\n",
              "    </tr>\n",
              "  </thead>\n",
              "  <tbody>\n",
              "  </tbody>\n",
              "</table>\n",
              "</div>"
            ],
            "text/plain": [
              "Empty DataFrame\n",
              "Columns: [sensor_id, day_of_week, slot_of_day, lane, size5, min5, max5, avg5, std5, size30, min30, max30, avg30, std30, size1w, min1w, max1w, avg1w, std1w, size2w, min2w, max2w, avg2w, std2w, working_day, speed_limit, label, timestamp5]\n",
              "Index: []"
            ]
          },
          "metadata": {
            "tags": []
          },
          "execution_count": 25
        }
      ]
    },
    {
      "cell_type": "code",
      "metadata": {
        "id": "yroXfyhZi_Ez"
      },
      "source": [
        "del data['sensor_id']\n",
        "del data['timestamp5']\n",
        "del data['Unnamed: 0']\n",
        "\n",
        "del test['sensor_id']\n",
        "del test['timestamp5']\n",
        "del test['Unnamed: 0']"
      ],
      "execution_count": null,
      "outputs": []
    },
    {
      "cell_type": "code",
      "metadata": {
        "id": "qStanyhYi_E0",
        "outputId": "c05b5dfb-7088-4d1c-fbc7-0fb935e8e78e",
        "colab": {
          "base_uri": "https://localhost:8080/",
          "height": 326
        }
      },
      "source": [
        "data.head()"
      ],
      "execution_count": null,
      "outputs": [
        {
          "output_type": "execute_result",
          "data": {
            "text/html": [
              "<div>\n",
              "<style scoped>\n",
              "    .dataframe tbody tr th:only-of-type {\n",
              "        vertical-align: middle;\n",
              "    }\n",
              "\n",
              "    .dataframe tbody tr th {\n",
              "        vertical-align: top;\n",
              "    }\n",
              "\n",
              "    .dataframe thead th {\n",
              "        text-align: right;\n",
              "    }\n",
              "</style>\n",
              "<table border=\"1\" class=\"dataframe\">\n",
              "  <thead>\n",
              "    <tr style=\"text-align: right;\">\n",
              "      <th></th>\n",
              "      <th>Unnamed: 0</th>\n",
              "      <th>sensor_id</th>\n",
              "      <th>day_of_week</th>\n",
              "      <th>slot_of_day</th>\n",
              "      <th>lane</th>\n",
              "      <th>size5</th>\n",
              "      <th>min5</th>\n",
              "      <th>max5</th>\n",
              "      <th>avg5</th>\n",
              "      <th>std5</th>\n",
              "      <th>size30</th>\n",
              "      <th>min30</th>\n",
              "      <th>max30</th>\n",
              "      <th>avg30</th>\n",
              "      <th>std30</th>\n",
              "      <th>size1w</th>\n",
              "      <th>min1w</th>\n",
              "      <th>max1w</th>\n",
              "      <th>avg1w</th>\n",
              "      <th>std1w</th>\n",
              "      <th>size2w</th>\n",
              "      <th>min2w</th>\n",
              "      <th>max2w</th>\n",
              "      <th>avg2w</th>\n",
              "      <th>std2w</th>\n",
              "      <th>working_day</th>\n",
              "      <th>speed_limit</th>\n",
              "      <th>label</th>\n",
              "      <th>timestamp5</th>\n",
              "    </tr>\n",
              "  </thead>\n",
              "  <tbody>\n",
              "    <tr>\n",
              "      <th>0</th>\n",
              "      <td>0</td>\n",
              "      <td>1385001</td>\n",
              "      <td>4</td>\n",
              "      <td>0</td>\n",
              "      <td>3</td>\n",
              "      <td>33</td>\n",
              "      <td>32.0</td>\n",
              "      <td>59.0</td>\n",
              "      <td>49.484848</td>\n",
              "      <td>6.035859</td>\n",
              "      <td>168.0</td>\n",
              "      <td>25.0</td>\n",
              "      <td>61.0</td>\n",
              "      <td>49.678571</td>\n",
              "      <td>5.961505</td>\n",
              "      <td>55.0</td>\n",
              "      <td>40.0</td>\n",
              "      <td>58.0</td>\n",
              "      <td>49.654545</td>\n",
              "      <td>4.521537</td>\n",
              "      <td>32.0</td>\n",
              "      <td>25.0</td>\n",
              "      <td>58.0</td>\n",
              "      <td>47.56250</td>\n",
              "      <td>7.676822</td>\n",
              "      <td>1</td>\n",
              "      <td>67</td>\n",
              "      <td>40.218980</td>\n",
              "      <td>2014-08-01 00:00:00</td>\n",
              "    </tr>\n",
              "    <tr>\n",
              "      <th>1</th>\n",
              "      <td>1</td>\n",
              "      <td>1385001</td>\n",
              "      <td>4</td>\n",
              "      <td>1</td>\n",
              "      <td>3</td>\n",
              "      <td>34</td>\n",
              "      <td>35.0</td>\n",
              "      <td>62.0</td>\n",
              "      <td>51.735294</td>\n",
              "      <td>5.569396</td>\n",
              "      <td>174.0</td>\n",
              "      <td>25.0</td>\n",
              "      <td>62.0</td>\n",
              "      <td>50.114943</td>\n",
              "      <td>6.018984</td>\n",
              "      <td>51.0</td>\n",
              "      <td>37.0</td>\n",
              "      <td>60.0</td>\n",
              "      <td>49.862743</td>\n",
              "      <td>5.250657</td>\n",
              "      <td>26.0</td>\n",
              "      <td>33.0</td>\n",
              "      <td>59.0</td>\n",
              "      <td>50.76923</td>\n",
              "      <td>4.979247</td>\n",
              "      <td>1</td>\n",
              "      <td>67</td>\n",
              "      <td>52.692307</td>\n",
              "      <td>2014-08-01 00:05:00</td>\n",
              "    </tr>\n",
              "    <tr>\n",
              "      <th>2</th>\n",
              "      <td>2</td>\n",
              "      <td>1385001</td>\n",
              "      <td>4</td>\n",
              "      <td>2</td>\n",
              "      <td>3</td>\n",
              "      <td>32</td>\n",
              "      <td>37.0</td>\n",
              "      <td>60.0</td>\n",
              "      <td>51.593750</td>\n",
              "      <td>5.011608</td>\n",
              "      <td>188.0</td>\n",
              "      <td>25.0</td>\n",
              "      <td>62.0</td>\n",
              "      <td>50.494681</td>\n",
              "      <td>5.920122</td>\n",
              "      <td>30.0</td>\n",
              "      <td>37.0</td>\n",
              "      <td>56.0</td>\n",
              "      <td>48.966667</td>\n",
              "      <td>5.186414</td>\n",
              "      <td>24.0</td>\n",
              "      <td>11.0</td>\n",
              "      <td>56.0</td>\n",
              "      <td>47.25000</td>\n",
              "      <td>9.138973</td>\n",
              "      <td>1</td>\n",
              "      <td>67</td>\n",
              "      <td>35.758774</td>\n",
              "      <td>2014-08-01 00:10:00</td>\n",
              "    </tr>\n",
              "    <tr>\n",
              "      <th>3</th>\n",
              "      <td>3</td>\n",
              "      <td>1385001</td>\n",
              "      <td>4</td>\n",
              "      <td>3</td>\n",
              "      <td>3</td>\n",
              "      <td>30</td>\n",
              "      <td>31.0</td>\n",
              "      <td>57.0</td>\n",
              "      <td>49.266666</td>\n",
              "      <td>5.519260</td>\n",
              "      <td>185.0</td>\n",
              "      <td>29.0</td>\n",
              "      <td>62.0</td>\n",
              "      <td>50.437838</td>\n",
              "      <td>5.835370</td>\n",
              "      <td>21.0</td>\n",
              "      <td>37.0</td>\n",
              "      <td>58.0</td>\n",
              "      <td>49.190475</td>\n",
              "      <td>5.188073</td>\n",
              "      <td>21.0</td>\n",
              "      <td>40.0</td>\n",
              "      <td>55.0</td>\n",
              "      <td>48.57143</td>\n",
              "      <td>4.593696</td>\n",
              "      <td>1</td>\n",
              "      <td>67</td>\n",
              "      <td>36.402985</td>\n",
              "      <td>2014-08-01 00:15:00</td>\n",
              "    </tr>\n",
              "    <tr>\n",
              "      <th>4</th>\n",
              "      <td>4</td>\n",
              "      <td>1385001</td>\n",
              "      <td>4</td>\n",
              "      <td>4</td>\n",
              "      <td>3</td>\n",
              "      <td>37</td>\n",
              "      <td>31.0</td>\n",
              "      <td>60.0</td>\n",
              "      <td>50.135136</td>\n",
              "      <td>5.619282</td>\n",
              "      <td>196.0</td>\n",
              "      <td>31.0</td>\n",
              "      <td>62.0</td>\n",
              "      <td>50.576531</td>\n",
              "      <td>5.621502</td>\n",
              "      <td>31.0</td>\n",
              "      <td>34.0</td>\n",
              "      <td>58.0</td>\n",
              "      <td>48.870968</td>\n",
              "      <td>5.469811</td>\n",
              "      <td>14.0</td>\n",
              "      <td>42.0</td>\n",
              "      <td>57.0</td>\n",
              "      <td>49.50000</td>\n",
              "      <td>4.238430</td>\n",
              "      <td>1</td>\n",
              "      <td>67</td>\n",
              "      <td>36.008698</td>\n",
              "      <td>2014-08-01 00:20:00</td>\n",
              "    </tr>\n",
              "  </tbody>\n",
              "</table>\n",
              "</div>"
            ],
            "text/plain": [
              "   Unnamed: 0 sensor_id  ...      label           timestamp5\n",
              "0           0   1385001  ...  40.218980  2014-08-01 00:00:00\n",
              "1           1   1385001  ...  52.692307  2014-08-01 00:05:00\n",
              "2           2   1385001  ...  35.758774  2014-08-01 00:10:00\n",
              "3           3   1385001  ...  36.402985  2014-08-01 00:15:00\n",
              "4           4   1385001  ...  36.008698  2014-08-01 00:20:00\n",
              "\n",
              "[5 rows x 29 columns]"
            ]
          },
          "metadata": {
            "tags": []
          },
          "execution_count": 23
        }
      ]
    },
    {
      "cell_type": "markdown",
      "metadata": {
        "id": "fGCjJCKL-kpq"
      },
      "source": [
        "### Divisão em treino, teste e validação"
      ]
    },
    {
      "cell_type": "code",
      "metadata": {
        "id": "LyoUcV84jJ73"
      },
      "source": [
        "label = data[\"label\"].values\n",
        "tr_data = data.iloc[:,:-1].values\n",
        "\n",
        "X = test.iloc[:,:-1].values\n",
        "y = test[\"label\"].values\n",
        "\n",
        "X_val, X_test, y_val, y_test = train_test_split(X, y, test_size=0.5)"
      ],
      "execution_count": null,
      "outputs": []
    },
    {
      "cell_type": "markdown",
      "metadata": {
        "id": "LGMMtb4S_Ups"
      },
      "source": [
        "### Treinamento"
      ]
    },
    {
      "cell_type": "code",
      "metadata": {
        "id": "FKHXSKqI_Xu8"
      },
      "source": [
        "eval_set = [(X_val, y_val)]"
      ],
      "execution_count": null,
      "outputs": []
    },
    {
      "cell_type": "code",
      "metadata": {
        "id": "h6vuvWDFjXBT",
        "outputId": "058008a3-b3d1-402d-9cac-38db328165a2",
        "colab": {
          "base_uri": "https://localhost:8080/",
          "height": 35
        }
      },
      "source": [
        "lr = LinearRegression()\n",
        "\n",
        "lr.fit(tr_data, label)"
      ],
      "execution_count": null,
      "outputs": [
        {
          "output_type": "execute_result",
          "data": {
            "text/plain": [
              "LinearRegression(copy_X=True, fit_intercept=True, n_jobs=None, normalize=False)"
            ]
          },
          "metadata": {
            "tags": []
          },
          "execution_count": 9
        }
      ]
    },
    {
      "cell_type": "code",
      "metadata": {
        "id": "mvREPgDDjXBV",
        "outputId": "e8ba82f7-2691-40b2-98bb-533dbe045419",
        "colab": {
          "base_uri": "https://localhost:8080/",
          "height": 35
        }
      },
      "source": [
        "pred = lr.predict(X_test)\n",
        "\n",
        "rmse = np.sqrt(metrics.mean_squared_error(y_test, pred))\n",
        "print(rmse)"
      ],
      "execution_count": null,
      "outputs": [
        {
          "output_type": "stream",
          "text": [
            "5.687933875921128\n"
          ],
          "name": "stdout"
        }
      ]
    },
    {
      "cell_type": "code",
      "metadata": {
        "id": "JEO_BLnKjXBW"
      },
      "source": [
        "xgboost = xgb.XGBRegressor(n_estimators=3000, tree_method='gpu_hist', objective ='reg:squarederror', learning_rate=0.01,\n",
        "                            max_depth=12, random_state=seed)"
      ],
      "execution_count": null,
      "outputs": []
    },
    {
      "cell_type": "code",
      "metadata": {
        "id": "BokUaX5ZjXBY",
        "outputId": "c2d332fc-a2d0-423b-9964-ec6aefd7fc72",
        "colab": {
          "base_uri": "https://localhost:8080/",
          "height": 161
        }
      },
      "source": [
        "xgboost.fit(tr_data, label, eval_set=eval_set, eval_metric=\"rmse\", early_stopping_rounds=20, verbose=False)"
      ],
      "execution_count": null,
      "outputs": [
        {
          "output_type": "execute_result",
          "data": {
            "text/plain": [
              "XGBRegressor(base_score=0.5, booster='gbtree', colsample_bylevel=1,\n",
              "             colsample_bynode=1, colsample_bytree=1, gamma=0,\n",
              "             importance_type='gain', learning_rate=0.01, max_delta_step=0,\n",
              "             max_depth=12, min_child_weight=1, missing=None, n_estimators=3000,\n",
              "             n_jobs=1, nthread=None, objective='reg:squarederror',\n",
              "             random_state=42, reg_alpha=0, reg_lambda=1, scale_pos_weight=1,\n",
              "             seed=None, silent=None, subsample=1, tree_method='gpu_hist',\n",
              "             verbosity=1)"
            ]
          },
          "metadata": {
            "tags": []
          },
          "execution_count": 12
        }
      ]
    },
    {
      "cell_type": "code",
      "metadata": {
        "id": "00KRolTDjXBa",
        "outputId": "53578c8f-98b6-4086-a47a-3983bf583d55",
        "colab": {
          "base_uri": "https://localhost:8080/",
          "height": 35
        }
      },
      "source": [
        "pred_xgb = xgboost.predict(X_test, ntree_limit=xgboost.best_ntree_limit)\n",
        "rmse_xgb = np.sqrt(metrics.mean_squared_error(y_test, pred_xgb))\n",
        "\n",
        "rmse_xgb"
      ],
      "execution_count": null,
      "outputs": [
        {
          "output_type": "execute_result",
          "data": {
            "text/plain": [
              "4.738049193975156"
            ]
          },
          "metadata": {
            "tags": []
          },
          "execution_count": 13
        }
      ]
    },
    {
      "cell_type": "code",
      "metadata": {
        "id": "PB7lSlIejXBc",
        "outputId": "7a6d6902-e756-4d83-a59d-a85bf95ea87d",
        "colab": {
          "base_uri": "https://localhost:8080/",
          "height": 35
        }
      },
      "source": [
        "print(xgboost.best_ntree_limit, xgboost.best_score)"
      ],
      "execution_count": null,
      "outputs": [
        {
          "output_type": "stream",
          "text": [
            "2497 4.731042\n"
          ],
          "name": "stdout"
        }
      ]
    },
    {
      "cell_type": "markdown",
      "metadata": {
        "id": "wo4z7EcLjXBe"
      },
      "source": [
        "### Importância das features"
      ]
    },
    {
      "cell_type": "code",
      "metadata": {
        "id": "SMvYAOVmjXBe"
      },
      "source": [
        "column_names = [*data]"
      ],
      "execution_count": null,
      "outputs": []
    },
    {
      "cell_type": "code",
      "metadata": {
        "id": "i2meW18NjXBf"
      },
      "source": [
        "xgboost.get_booster().feature_names = column_names"
      ],
      "execution_count": null,
      "outputs": []
    },
    {
      "cell_type": "code",
      "metadata": {
        "id": "k25a5FEWjXBh",
        "outputId": "151a9974-a010-4e3a-ac63-975e558cf495",
        "colab": {
          "base_uri": "https://localhost:8080/",
          "height": 283
        }
      },
      "source": [
        "feature_important = xgboost.get_booster().get_score(importance_type='gain')\n",
        "keys = list(feature_important.keys())\n",
        "values = list(feature_important.values())\n",
        "\n",
        "dt = pd.DataFrame(data=values, index=keys, columns=[\"score\"]).sort_values(by = \"score\", ascending=False)\n",
        "dt.plot(kind='barh')"
      ],
      "execution_count": null,
      "outputs": [
        {
          "output_type": "execute_result",
          "data": {
            "text/plain": [
              "<matplotlib.axes._subplots.AxesSubplot at 0x7f0b602e64a8>"
            ]
          },
          "metadata": {
            "tags": []
          },
          "execution_count": 17
        },
        {
          "output_type": "display_data",
          "data": {
            "image/png": "[encoded data removed]",
            "text/plain": [
              "<Figure size 432x288 with 1 Axes>"
            ]
          },
          "metadata": {
            "tags": [],
            "needs_background": "light"
          }
        }
      ]
    },
    {
      "cell_type": "code",
      "metadata": {
        "id": "10D1dt6ijXBj",
        "outputId": "2213a10f-ca0c-405e-b832-2c81abfcf4b6",
        "colab": {
          "base_uri": "https://localhost:8080/",
          "height": 283
        }
      },
      "source": [
        "feature_important = xgboost.get_booster().get_score(importance_type='weight')\n",
        "keys = list(feature_important.keys())\n",
        "values = list(feature_important.values())\n",
        "\n",
        "dt = pd.DataFrame(data=values, index=keys, columns=[\"score\"]).sort_values(by = \"score\", ascending=False)\n",
        "dt.plot(kind='barh')"
      ],
      "execution_count": null,
      "outputs": [
        {
          "output_type": "execute_result",
          "data": {
            "text/plain": [
              "<matplotlib.axes._subplots.AxesSubplot at 0x7f0b60d60588>"
            ]
          },
          "metadata": {
            "tags": []
          },
          "execution_count": 18
        },
        {
          "output_type": "display_data",
          "data": {
            "image/png": "[encoded data removed]",
            "text/plain": [
              "<Figure size 432x288 with 1 Axes>"
            ]
          },
          "metadata": {
            "tags": [],
            "needs_background": "light"
          }
        }
      ]
    },
    {
      "cell_type": "markdown",
      "metadata": {
        "id": "dG7L4_tkmyCJ"
      },
      "source": [
        ""
      ]
    },
    {
      "cell_type": "markdown",
      "metadata": {
        "id": "RtNcvn2-dRZS"
      },
      "source": [
        "# Treinando com dataset de 06 horas"
      ]
    },
    {
      "cell_type": "code",
      "metadata": {
        "id": "xxrkjRN_dUgz"
      },
      "source": [
        "# Agosto + Setembro de 2014\n",
        "data = pd.read_csv(f'{datasets}/data-06hours.csv', parse_dates=[\"timestamp5\"])\n",
        "\n",
        "# Outubro como teste\n",
        "test = pd.read_csv(f'{datasets}/test-06hours.csv', parse_dates=[\"timestamp5\"])"
      ],
      "execution_count": null,
      "outputs": []
    },
    {
      "cell_type": "markdown",
      "metadata": {
        "id": "WNdvcIChdW8f"
      },
      "source": [
        "## Treinando sem features relacionadas a 1week e 2week"
      ]
    },
    {
      "cell_type": "code",
      "metadata": {
        "id": "CU3MTyQ1d7Dq",
        "outputId": "3dc3fe4e-3aef-415e-f2c2-db686253663e",
        "colab": {
          "base_uri": "https://localhost:8080/",
          "height": 125
        }
      },
      "source": [
        "data.columns"
      ],
      "execution_count": null,
      "outputs": [
        {
          "output_type": "execute_result",
          "data": {
            "text/plain": [
              "Index(['Unnamed: 0', 'sensor_id', 'day_of_week', 'slot_of_day', 'lane',\n",
              "       'size5', 'min5', 'max5', 'avg5', 'std5', 'size30', 'min30', 'max30',\n",
              "       'avg30', 'std30', 'size1w', 'min1w', 'max1w', 'avg1w', 'std1w',\n",
              "       'size2w', 'min2w', 'max2w', 'avg2w', 'std2w', 'working_day',\n",
              "       'speed_limit', 'label', 'timestamp5'],\n",
              "      dtype='object')"
            ]
          },
          "metadata": {
            "tags": []
          },
          "execution_count": 7
        }
      ]
    },
    {
      "cell_type": "code",
      "metadata": {
        "id": "uYpFsXMYfZhi",
        "outputId": "a38dc7ec-6b8c-4db0-8373-711ffd35bdc7",
        "colab": {
          "base_uri": "https://localhost:8080/",
          "height": 71
        }
      },
      "source": [
        "data.columns[15:25]"
      ],
      "execution_count": null,
      "outputs": [
        {
          "output_type": "execute_result",
          "data": {
            "text/plain": [
              "Index(['size1w', 'min1w', 'max1w', 'avg1w', 'std1w', 'size2w', 'min2w',\n",
              "       'max2w', 'avg2w', 'std2w'],\n",
              "      dtype='object')"
            ]
          },
          "metadata": {
            "tags": []
          },
          "execution_count": 11
        }
      ]
    },
    {
      "cell_type": "code",
      "metadata": {
        "id": "Ftzwh11DeIFN"
      },
      "source": [
        "data.drop(data.iloc[:, 15:25], inplace=True, axis=1) #removing from size1w to std2w\n",
        "\n",
        "del data['sensor_id']\n",
        "del data['timestamp5']\n",
        "del data['Unnamed: 0']\n",
        "\n",
        "test.drop(test.iloc[:, 15:25], inplace=True, axis=1) #removing from size1w to std2w\n",
        "del test['sensor_id']\n",
        "del test['timestamp5']\n",
        "del test['Unnamed: 0']"
      ],
      "execution_count": null,
      "outputs": []
    },
    {
      "cell_type": "markdown",
      "metadata": {
        "id": "DJlcgd6lhOCI"
      },
      "source": [
        "### Divisão em treino, teste e validação"
      ]
    },
    {
      "cell_type": "code",
      "metadata": {
        "id": "7zl3EpOMgNu_"
      },
      "source": [
        "label = data[\"label\"].values\n",
        "tr_data = data.iloc[:,:-1].values\n",
        "\n",
        "X = test.iloc[:,:-1].values\n",
        "y = test[\"label\"].values\n",
        "\n",
        "X_val, X_test, y_val, y_test = train_test_split(X, y, test_size=0.5)"
      ],
      "execution_count": null,
      "outputs": []
    },
    {
      "cell_type": "markdown",
      "metadata": {
        "id": "-VLLSLYQhcdB"
      },
      "source": [
        "### Treinamento"
      ]
    },
    {
      "cell_type": "code",
      "metadata": {
        "id": "5cu80dQkhcdB"
      },
      "source": [
        "eval_set = [(X_val, y_val)]"
      ],
      "execution_count": null,
      "outputs": []
    },
    {
      "cell_type": "code",
      "metadata": {
        "id": "B9AppRNFhcdF",
        "outputId": "a7070427-d4c8-4312-d813-6a8926685a85",
        "colab": {
          "base_uri": "https://localhost:8080/",
          "height": 35
        }
      },
      "source": [
        "lr = LinearRegression()\n",
        "\n",
        "lr.fit(tr_data, label)"
      ],
      "execution_count": null,
      "outputs": [
        {
          "output_type": "execute_result",
          "data": {
            "text/plain": [
              "LinearRegression(copy_X=True, fit_intercept=True, n_jobs=None, normalize=False)"
            ]
          },
          "metadata": {
            "tags": []
          },
          "execution_count": 15
        }
      ]
    },
    {
      "cell_type": "code",
      "metadata": {
        "id": "ClOLbwmshcdI",
        "outputId": "3f5801d6-98b5-468c-c5b1-968dbca082e9",
        "colab": {
          "base_uri": "https://localhost:8080/",
          "height": 35
        }
      },
      "source": [
        "pred = lr.predict(X_test)\n",
        "\n",
        "rmse = np.sqrt(metrics.mean_squared_error(y_test, pred))\n",
        "print(rmse)"
      ],
      "execution_count": null,
      "outputs": [
        {
          "output_type": "stream",
          "text": [
            "5.806425304548339\n"
          ],
          "name": "stdout"
        }
      ]
    },
    {
      "cell_type": "code",
      "metadata": {
        "id": "Lb4ZMWD8jAkL"
      },
      "source": [
        "xgboost = xgb.XGBRegressor(n_estimators=3000, tree_method='gpu_hist', objective ='reg:squarederror', learning_rate=0.01,\n",
        "                            max_depth=12, random_state=seed)"
      ],
      "execution_count": null,
      "outputs": []
    },
    {
      "cell_type": "code",
      "metadata": {
        "id": "-FEdT_5SjAkQ",
        "outputId": "cb63c159-77fc-4f95-fad4-899f0c12ce20",
        "colab": {
          "base_uri": "https://localhost:8080/",
          "height": 161
        }
      },
      "source": [
        "xgboost.fit(tr_data, label, eval_set=eval_set, eval_metric=\"rmse\", early_stopping_rounds=20, verbose=False)"
      ],
      "execution_count": null,
      "outputs": [
        {
          "output_type": "execute_result",
          "data": {
            "text/plain": [
              "XGBRegressor(base_score=0.5, booster='gbtree', colsample_bylevel=1,\n",
              "             colsample_bynode=1, colsample_bytree=1, gamma=0,\n",
              "             importance_type='gain', learning_rate=0.01, max_delta_step=0,\n",
              "             max_depth=12, min_child_weight=1, missing=None, n_estimators=3000,\n",
              "             n_jobs=1, nthread=None, objective='reg:squarederror',\n",
              "             random_state=42, reg_alpha=0, reg_lambda=1, scale_pos_weight=1,\n",
              "             seed=None, silent=None, subsample=1, tree_method='gpu_hist',\n",
              "             verbosity=1)"
            ]
          },
          "metadata": {
            "tags": []
          },
          "execution_count": 18
        }
      ]
    },
    {
      "cell_type": "code",
      "metadata": {
        "id": "S1IsLLfajAkS",
        "outputId": "9c2266c3-e76c-4152-ece5-c2d7365fe370",
        "colab": {
          "base_uri": "https://localhost:8080/",
          "height": 35
        }
      },
      "source": [
        "pred_xgb = xgboost.predict(X_test, ntree_limit=xgboost.best_ntree_limit)\n",
        "rmse_xgb = np.sqrt(metrics.mean_squared_error(y_test, pred_xgb))\n",
        "\n",
        "rmse_xgb"
      ],
      "execution_count": null,
      "outputs": [
        {
          "output_type": "execute_result",
          "data": {
            "text/plain": [
              "4.857775341870436"
            ]
          },
          "metadata": {
            "tags": []
          },
          "execution_count": 19
        }
      ]
    },
    {
      "cell_type": "code",
      "metadata": {
        "id": "em6oQf69jAkU",
        "outputId": "81d58d3a-676a-4f53-db9c-1d2888390c8c",
        "colab": {
          "base_uri": "https://localhost:8080/",
          "height": 35
        }
      },
      "source": [
        "print(xgboost.best_ntree_limit, xgboost.best_score)"
      ],
      "execution_count": null,
      "outputs": [
        {
          "output_type": "stream",
          "text": [
            "1381 4.859262\n"
          ],
          "name": "stdout"
        }
      ]
    },
    {
      "cell_type": "markdown",
      "metadata": {
        "id": "NlRdJyH0jAkZ"
      },
      "source": [
        "### Importância das features"
      ]
    },
    {
      "cell_type": "code",
      "metadata": {
        "id": "vOIf2BqSjAka"
      },
      "source": [
        "column_names = [*data]"
      ],
      "execution_count": null,
      "outputs": []
    },
    {
      "cell_type": "code",
      "metadata": {
        "id": "4D0KonDAjAkc"
      },
      "source": [
        "xgboost.get_booster().feature_names = column_names"
      ],
      "execution_count": null,
      "outputs": []
    },
    {
      "cell_type": "code",
      "metadata": {
        "id": "BxBkLY-GjAkd",
        "outputId": "ff703613-4caf-467a-8f2b-2d09917fd951",
        "colab": {
          "base_uri": "https://localhost:8080/",
          "height": 283
        }
      },
      "source": [
        "feature_important = xgboost.get_booster().get_score(importance_type='gain')\n",
        "keys = list(feature_important.keys())\n",
        "values = list(feature_important.values())\n",
        "\n",
        "dt = pd.DataFrame(data=values, index=keys, columns=[\"score\"]).sort_values(by = \"score\", ascending=False)\n",
        "dt.plot(kind='barh')"
      ],
      "execution_count": null,
      "outputs": [
        {
          "output_type": "execute_result",
          "data": {
            "text/plain": [
              "<matplotlib.axes._subplots.AxesSubplot at 0x7f9680f9e2e8>"
            ]
          },
          "metadata": {
            "tags": []
          },
          "execution_count": 23
        },
        {
          "output_type": "display_data",
          "data": {
            "image/png": "[encoded data removed]",
            "text/plain": [
              "<Figure size 432x288 with 1 Axes>"
            ]
          },
          "metadata": {
            "tags": [],
            "needs_background": "light"
          }
        }
      ]
    },
    {
      "cell_type": "code",
      "metadata": {
        "id": "kFZcLbG_jAkf",
        "outputId": "91a363f0-89de-410f-a62c-1c413b25b45c",
        "colab": {
          "base_uri": "https://localhost:8080/",
          "height": 283
        }
      },
      "source": [
        "feature_important = xgboost.get_booster().get_score(importance_type='weight')\n",
        "keys = list(feature_important.keys())\n",
        "values = list(feature_important.values())\n",
        "\n",
        "dt = pd.DataFrame(data=values, index=keys, columns=[\"score\"]).sort_values(by = \"score\", ascending=False)\n",
        "dt.plot(kind='barh')"
      ],
      "execution_count": null,
      "outputs": [
        {
          "output_type": "execute_result",
          "data": {
            "text/plain": [
              "<matplotlib.axes._subplots.AxesSubplot at 0x7f968418c550>"
            ]
          },
          "metadata": {
            "tags": []
          },
          "execution_count": 24
        },
        {
          "output_type": "display_data",
          "data": {
            "image/png": "[encoded data removed]",
            "text/plain": [
              "<Figure size 432x288 with 1 Axes>"
            ]
          },
          "metadata": {
            "tags": [],
            "needs_background": "light"
          }
        }
      ]
    },
    {
      "cell_type": "markdown",
      "metadata": {
        "id": "x7TOs6AMoS4o"
      },
      "source": [
        "## Treinando somente com features de 5 minutos"
      ]
    },
    {
      "cell_type": "code",
      "metadata": {
        "id": "vjLMFaLhoc-a",
        "outputId": "cfbfb8d9-cd6d-41f6-8869-2581ab40762c",
        "colab": {
          "base_uri": "https://localhost:8080/",
          "height": 53
        }
      },
      "source": [
        "# Agosto + Setembro de 2014\n",
        "data = pd.read_csv(f'{datasets}/data-06hours.csv', parse_dates=[\"timestamp5\"])\n",
        "\n",
        "# Outubro como teste\n",
        "test = pd.read_csv(f'{datasets}/test-06hours.csv', parse_dates=[\"timestamp5\"])"
      ],
      "execution_count": null,
      "outputs": [
        {
          "output_type": "stream",
          "text": [
            "/usr/local/lib/python3.6/dist-packages/IPython/core/interactiveshell.py:2718: DtypeWarning: Columns (1) have mixed types.Specify dtype option on import or set low_memory=False.\n",
            "  interactivity=interactivity, compiler=compiler, result=result)\n"
          ],
          "name": "stderr"
        }
      ]
    },
    {
      "cell_type": "code",
      "metadata": {
        "id": "kHXYh0szor7Z",
        "outputId": "c6904e18-3974-4522-b25b-9e662efe0713",
        "colab": {
          "base_uri": "https://localhost:8080/",
          "height": 125
        }
      },
      "source": [
        "data.columns"
      ],
      "execution_count": null,
      "outputs": [
        {
          "output_type": "execute_result",
          "data": {
            "text/plain": [
              "Index(['Unnamed: 0', 'sensor_id', 'day_of_week', 'slot_of_day', 'lane',\n",
              "       'size5', 'min5', 'max5', 'avg5', 'std5', 'size30', 'min30', 'max30',\n",
              "       'avg30', 'std30', 'size1w', 'min1w', 'max1w', 'avg1w', 'std1w',\n",
              "       'size2w', 'min2w', 'max2w', 'avg2w', 'std2w', 'working_day',\n",
              "       'speed_limit', 'label', 'timestamp5'],\n",
              "      dtype='object')"
            ]
          },
          "metadata": {
            "tags": []
          },
          "execution_count": 26
        }
      ]
    },
    {
      "cell_type": "code",
      "metadata": {
        "id": "u-6Liv1lor7c",
        "outputId": "3d080f70-6349-4512-b0f2-88ddd6caf1ce",
        "colab": {
          "base_uri": "https://localhost:8080/",
          "height": 89
        }
      },
      "source": [
        "data.columns[10:25]"
      ],
      "execution_count": null,
      "outputs": [
        {
          "output_type": "execute_result",
          "data": {
            "text/plain": [
              "Index(['size30', 'min30', 'max30', 'avg30', 'std30', 'size1w', 'min1w',\n",
              "       'max1w', 'avg1w', 'std1w', 'size2w', 'min2w', 'max2w', 'avg2w',\n",
              "       'std2w'],\n",
              "      dtype='object')"
            ]
          },
          "metadata": {
            "tags": []
          },
          "execution_count": 29
        }
      ]
    },
    {
      "cell_type": "code",
      "metadata": {
        "id": "ZGREjw2Kor7d"
      },
      "source": [
        "data.drop(data.iloc[:, 10:25], inplace=True, axis=1) #removing from size1w to std2w\n",
        "\n",
        "del data['sensor_id']\n",
        "del data['timestamp5']\n",
        "del data['Unnamed: 0']\n",
        "\n",
        "test.drop(test.iloc[:, 10:25], inplace=True, axis=1) #removing from size1w to std2w\n",
        "del test['sensor_id']\n",
        "del test['timestamp5']\n",
        "del test['Unnamed: 0']"
      ],
      "execution_count": null,
      "outputs": []
    },
    {
      "cell_type": "markdown",
      "metadata": {
        "id": "if1usCHHor7f"
      },
      "source": [
        "### Divisão em treino, teste e validação"
      ]
    },
    {
      "cell_type": "code",
      "metadata": {
        "id": "G_PfV-mRor7f"
      },
      "source": [
        "label = data[\"label\"].values\n",
        "tr_data = data.iloc[:,:-1].values\n",
        "\n",
        "X = test.iloc[:,:-1].values\n",
        "y = test[\"label\"].values\n",
        "\n",
        "X_val, X_test, y_val, y_test = train_test_split(X, y, test_size=0.5)"
      ],
      "execution_count": null,
      "outputs": []
    },
    {
      "cell_type": "markdown",
      "metadata": {
        "id": "N6BIObg4or7h"
      },
      "source": [
        "### Treinamento"
      ]
    },
    {
      "cell_type": "code",
      "metadata": {
        "id": "_x-ilt12or7h"
      },
      "source": [
        "eval_set = [(X_val, y_val)]"
      ],
      "execution_count": null,
      "outputs": []
    },
    {
      "cell_type": "code",
      "metadata": {
        "id": "DRI9Bcj9or7i",
        "outputId": "a68beb43-bfee-4e95-c99b-34afa01ed9a1",
        "colab": {
          "base_uri": "https://localhost:8080/",
          "height": 35
        }
      },
      "source": [
        "lr = LinearRegression()\n",
        "\n",
        "lr.fit(tr_data, label)"
      ],
      "execution_count": null,
      "outputs": [
        {
          "output_type": "execute_result",
          "data": {
            "text/plain": [
              "LinearRegression(copy_X=True, fit_intercept=True, n_jobs=None, normalize=False)"
            ]
          },
          "metadata": {
            "tags": []
          },
          "execution_count": 33
        }
      ]
    },
    {
      "cell_type": "code",
      "metadata": {
        "id": "U85WmzcUor7l",
        "outputId": "c0e035a4-b61a-423d-f54d-c10acaa93919",
        "colab": {
          "base_uri": "https://localhost:8080/",
          "height": 35
        }
      },
      "source": [
        "pred = lr.predict(X_test)\n",
        "\n",
        "rmse = np.sqrt(metrics.mean_squared_error(y_test, pred))\n",
        "print(rmse)"
      ],
      "execution_count": null,
      "outputs": [
        {
          "output_type": "stream",
          "text": [
            "6.185177970311919\n"
          ],
          "name": "stdout"
        }
      ]
    },
    {
      "cell_type": "code",
      "metadata": {
        "id": "Wl2UWJoior7n"
      },
      "source": [
        "xgboost = xgb.XGBRegressor(n_estimators=3000, tree_method='gpu_hist', objective ='reg:squarederror', learning_rate=0.01,\n",
        "                            max_depth=12, random_state=seed)"
      ],
      "execution_count": null,
      "outputs": []
    },
    {
      "cell_type": "code",
      "metadata": {
        "id": "8ym6uq6Por7p",
        "outputId": "5b35da3f-32c9-4bbb-80ab-17d93946c66a",
        "colab": {
          "base_uri": "https://localhost:8080/",
          "height": 161
        }
      },
      "source": [
        "xgboost.fit(tr_data, label, eval_set=eval_set, eval_metric=\"rmse\", early_stopping_rounds=20, verbose=False)"
      ],
      "execution_count": null,
      "outputs": [
        {
          "output_type": "execute_result",
          "data": {
            "text/plain": [
              "XGBRegressor(base_score=0.5, booster='gbtree', colsample_bylevel=1,\n",
              "             colsample_bynode=1, colsample_bytree=1, gamma=0,\n",
              "             importance_type='gain', learning_rate=0.01, max_delta_step=0,\n",
              "             max_depth=12, min_child_weight=1, missing=None, n_estimators=3000,\n",
              "             n_jobs=1, nthread=None, objective='reg:squarederror',\n",
              "             random_state=42, reg_alpha=0, reg_lambda=1, scale_pos_weight=1,\n",
              "             seed=None, silent=None, subsample=1, tree_method='gpu_hist',\n",
              "             verbosity=1)"
            ]
          },
          "metadata": {
            "tags": []
          },
          "execution_count": 36
        }
      ]
    },
    {
      "cell_type": "code",
      "metadata": {
        "id": "-pNbrlGoor7q",
        "outputId": "0932a25d-29a0-484f-ad54-7670700346bf",
        "colab": {
          "base_uri": "https://localhost:8080/",
          "height": 35
        }
      },
      "source": [
        "pred_xgb = xgboost.predict(X_test, ntree_limit=xgboost.best_ntree_limit)\n",
        "rmse_xgb = np.sqrt(metrics.mean_squared_error(y_test, pred_xgb))\n",
        "\n",
        "rmse_xgb"
      ],
      "execution_count": null,
      "outputs": [
        {
          "output_type": "execute_result",
          "data": {
            "text/plain": [
              "5.2264203873224195"
            ]
          },
          "metadata": {
            "tags": []
          },
          "execution_count": 37
        }
      ]
    },
    {
      "cell_type": "code",
      "metadata": {
        "id": "haKoVNKDor7s",
        "outputId": "fbb358cc-07ee-4ca5-bee8-7f853ae80678",
        "colab": {
          "base_uri": "https://localhost:8080/",
          "height": 35
        }
      },
      "source": [
        "print(xgboost.best_ntree_limit, xgboost.best_score)"
      ],
      "execution_count": null,
      "outputs": [
        {
          "output_type": "stream",
          "text": [
            "797 5.224231\n"
          ],
          "name": "stdout"
        }
      ]
    },
    {
      "cell_type": "markdown",
      "metadata": {
        "id": "Xs2UNXQoor7v"
      },
      "source": [
        "### Importância das features"
      ]
    },
    {
      "cell_type": "code",
      "metadata": {
        "id": "iFTp1Egror7v"
      },
      "source": [
        "column_names = [*data]"
      ],
      "execution_count": null,
      "outputs": []
    },
    {
      "cell_type": "code",
      "metadata": {
        "id": "Y98X6DUXor7x"
      },
      "source": [
        "xgboost.get_booster().feature_names = column_names"
      ],
      "execution_count": null,
      "outputs": []
    },
    {
      "cell_type": "code",
      "metadata": {
        "id": "7BDlVZQKor7y",
        "outputId": "55f49e0a-f574-4665-a383-3b0285a9b356",
        "colab": {
          "base_uri": "https://localhost:8080/",
          "height": 283
        }
      },
      "source": [
        "feature_important = xgboost.get_booster().get_score(importance_type='gain')\n",
        "keys = list(feature_important.keys())\n",
        "values = list(feature_important.values())\n",
        "\n",
        "dt = pd.DataFrame(data=values, index=keys, columns=[\"score\"]).sort_values(by = \"score\", ascending=False)\n",
        "dt.plot(kind='barh')"
      ],
      "execution_count": null,
      "outputs": [
        {
          "output_type": "execute_result",
          "data": {
            "text/plain": [
              "<matplotlib.axes._subplots.AxesSubplot at 0x7f9676501da0>"
            ]
          },
          "metadata": {
            "tags": []
          },
          "execution_count": 54
        },
        {
          "output_type": "display_data",
          "data": {
            "image/png": "[encoded data removed]",
            "text/plain": [
              "<Figure size 432x288 with 1 Axes>"
            ]
          },
          "metadata": {
            "tags": [],
            "needs_background": "light"
          }
        }
      ]
    },
    {
      "cell_type": "code",
      "metadata": {
        "id": "Odr0M9SYor7z",
        "outputId": "cc1a2e69-1b02-4361-e9d1-af0f592d5e33",
        "colab": {
          "base_uri": "https://localhost:8080/",
          "height": 283
        }
      },
      "source": [
        "feature_important = xgboost.get_booster().get_score(importance_type='weight')\n",
        "keys = list(feature_important.keys())\n",
        "values = list(feature_important.values())\n",
        "\n",
        "dt = pd.DataFrame(data=values, index=keys, columns=[\"score\"]).sort_values(by = \"score\", ascending=False)\n",
        "dt.plot(kind='barh')"
      ],
      "execution_count": null,
      "outputs": [
        {
          "output_type": "execute_result",
          "data": {
            "text/plain": [
              "<matplotlib.axes._subplots.AxesSubplot at 0x7f9683a4c358>"
            ]
          },
          "metadata": {
            "tags": []
          },
          "execution_count": 55
        },
        {
          "output_type": "display_data",
          "data": {
            "image/png": "[encoded data removed]",
            "text/plain": [
              "<Figure size 432x288 with 1 Axes>"
            ]
          },
          "metadata": {
            "tags": [],
            "needs_background": "light"
          }
        }
      ]
    },
    {
      "cell_type": "markdown",
      "metadata": {
        "id": "7eryamVykPNq"
      },
      "source": [
        "## Treinando somente com features de 30 minutos"
      ]
    },
    {
      "cell_type": "code",
      "metadata": {
        "id": "wBMCLgEPkPNr",
        "outputId": "9fb57ac2-f4a5-4da9-f614-fbc3b733d9cf",
        "colab": {
          "base_uri": "https://localhost:8080/",
          "height": 53
        }
      },
      "source": [
        "# Agosto + Setembro de 2014\n",
        "data = pd.read_csv(f'{datasets}/data-06hours.csv', parse_dates=[\"timestamp5\"])\n",
        "\n",
        "# Outubro como teste\n",
        "test = pd.read_csv(f'{datasets}/test-06hours.csv', parse_dates=[\"timestamp5\"])"
      ],
      "execution_count": null,
      "outputs": [
        {
          "output_type": "stream",
          "text": [
            "/usr/local/lib/python3.6/dist-packages/IPython/core/interactiveshell.py:2718: DtypeWarning: Columns (1) have mixed types.Specify dtype option on import or set low_memory=False.\n",
            "  interactivity=interactivity, compiler=compiler, result=result)\n"
          ],
          "name": "stderr"
        }
      ]
    },
    {
      "cell_type": "code",
      "metadata": {
        "id": "ghQSIIb5kPNt",
        "outputId": "164e50ef-b669-448a-d8a0-acf6c3d58302",
        "colab": {
          "base_uri": "https://localhost:8080/",
          "height": 125
        }
      },
      "source": [
        "data.columns"
      ],
      "execution_count": null,
      "outputs": [
        {
          "output_type": "execute_result",
          "data": {
            "text/plain": [
              "Index(['Unnamed: 0', 'sensor_id', 'day_of_week', 'slot_of_day', 'lane',\n",
              "       'size5', 'min5', 'max5', 'avg5', 'std5', 'size30', 'min30', 'max30',\n",
              "       'avg30', 'std30', 'size1w', 'min1w', 'max1w', 'avg1w', 'std1w',\n",
              "       'size2w', 'min2w', 'max2w', 'avg2w', 'std2w', 'working_day',\n",
              "       'speed_limit', 'label', 'timestamp5'],\n",
              "      dtype='object')"
            ]
          },
          "metadata": {
            "tags": []
          },
          "execution_count": 24
        }
      ]
    },
    {
      "cell_type": "code",
      "metadata": {
        "id": "J4sgUu1tkPNx"
      },
      "source": [
        "data.drop(data.iloc[:, 5:10], inplace=True, axis=1) #removing from size1w to std2w\n",
        "data.drop(data.iloc[:, 10:20], inplace=True, axis=1) #removing from size1w to std2w\n",
        "\n",
        "del data['sensor_id']\n",
        "del data['timestamp5']\n",
        "del data['Unnamed: 0']\n",
        "\n",
        "test.drop(test.iloc[:, 5:10], inplace=True, axis=1) #removing from size1w to std2w\n",
        "test.drop(test.iloc[:, 10:20], inplace=True, axis=1) #removing from size1w to std2w\n",
        "del test['sensor_id']\n",
        "del test['timestamp5']\n",
        "del test['Unnamed: 0']"
      ],
      "execution_count": null,
      "outputs": []
    },
    {
      "cell_type": "markdown",
      "metadata": {
        "id": "DTer5OlokPNz"
      },
      "source": [
        "### Divisão em treino, teste e validação"
      ]
    },
    {
      "cell_type": "code",
      "metadata": {
        "id": "DOWmGCgQkPN0"
      },
      "source": [
        "label = data[\"label\"].values\n",
        "tr_data = data.iloc[:,:-1].values\n",
        "\n",
        "X = test.iloc[:,:-1].values\n",
        "y = test[\"label\"].values\n",
        "\n",
        "X_val, X_test, y_val, y_test = train_test_split(X, y, test_size=0.5)"
      ],
      "execution_count": null,
      "outputs": []
    },
    {
      "cell_type": "markdown",
      "metadata": {
        "id": "seDWXFH4kPN4"
      },
      "source": [
        "### Treinamento"
      ]
    },
    {
      "cell_type": "code",
      "metadata": {
        "id": "HnFWkCZ_kPN4"
      },
      "source": [
        "eval_set = [(X_val, y_val)]"
      ],
      "execution_count": null,
      "outputs": []
    },
    {
      "cell_type": "code",
      "metadata": {
        "id": "1aZDhCegkPN7",
        "outputId": "030b84c4-94b2-4d79-f30e-f64aaff9d7b9",
        "colab": {
          "base_uri": "https://localhost:8080/",
          "height": 35
        }
      },
      "source": [
        "lr = LinearRegression()\n",
        "\n",
        "lr.fit(tr_data, label)"
      ],
      "execution_count": null,
      "outputs": [
        {
          "output_type": "execute_result",
          "data": {
            "text/plain": [
              "LinearRegression(copy_X=True, fit_intercept=True, n_jobs=None, normalize=False)"
            ]
          },
          "metadata": {
            "tags": []
          },
          "execution_count": 31
        }
      ]
    },
    {
      "cell_type": "code",
      "metadata": {
        "id": "Wc4g8PdNkPN8",
        "outputId": "712530ca-4d72-40a6-a358-15ea22038ee3",
        "colab": {
          "base_uri": "https://localhost:8080/",
          "height": 35
        }
      },
      "source": [
        "pred = lr.predict(X_test)\n",
        "\n",
        "rmse = np.sqrt(metrics.mean_squared_error(y_test, pred))\n",
        "print(rmse)"
      ],
      "execution_count": null,
      "outputs": [
        {
          "output_type": "stream",
          "text": [
            "5.812976549870418\n"
          ],
          "name": "stdout"
        }
      ]
    },
    {
      "cell_type": "code",
      "metadata": {
        "id": "Wc105LMtkPOB"
      },
      "source": [
        "xgboost = xgb.XGBRegressor(n_estimators=3000, tree_method='gpu_hist', objective ='reg:squarederror', learning_rate=0.01,\n",
        "                            max_depth=12, random_state=seed)"
      ],
      "execution_count": null,
      "outputs": []
    },
    {
      "cell_type": "code",
      "metadata": {
        "id": "9mOHJpjMkPOD",
        "outputId": "3491088a-b290-4bba-acb6-a423989b723d",
        "colab": {
          "base_uri": "https://localhost:8080/",
          "height": 161
        }
      },
      "source": [
        "xgboost.fit(tr_data, label, eval_set=eval_set, eval_metric=\"rmse\", early_stopping_rounds=20, verbose=False)"
      ],
      "execution_count": null,
      "outputs": [
        {
          "output_type": "execute_result",
          "data": {
            "text/plain": [
              "XGBRegressor(base_score=0.5, booster='gbtree', colsample_bylevel=1,\n",
              "             colsample_bynode=1, colsample_bytree=1, gamma=0,\n",
              "             importance_type='gain', learning_rate=0.01, max_delta_step=0,\n",
              "             max_depth=12, min_child_weight=1, missing=None, n_estimators=3000,\n",
              "             n_jobs=1, nthread=None, objective='reg:squarederror',\n",
              "             random_state=42, reg_alpha=0, reg_lambda=1, scale_pos_weight=1,\n",
              "             seed=None, silent=None, subsample=1, tree_method='gpu_hist',\n",
              "             verbosity=1)"
            ]
          },
          "metadata": {
            "tags": []
          },
          "execution_count": 34
        }
      ]
    },
    {
      "cell_type": "code",
      "metadata": {
        "id": "3ByyNw7jkPOF",
        "outputId": "9d63ff69-dfeb-4c6c-fd8e-fb4014e5bf56",
        "colab": {
          "base_uri": "https://localhost:8080/",
          "height": 35
        }
      },
      "source": [
        "pred_xgb = xgboost.predict(X_test, ntree_limit=xgboost.best_ntree_limit)\n",
        "rmse_xgb = np.sqrt(metrics.mean_squared_error(y_test, pred_xgb))\n",
        "\n",
        "rmse_xgb"
      ],
      "execution_count": null,
      "outputs": [
        {
          "output_type": "execute_result",
          "data": {
            "text/plain": [
              "4.8676348465225505"
            ]
          },
          "metadata": {
            "tags": []
          },
          "execution_count": 35
        }
      ]
    },
    {
      "cell_type": "code",
      "metadata": {
        "id": "6OLZ5yWWkPOH",
        "outputId": "40ca4276-4c4b-45bd-f41a-054cd9e8c5a6",
        "colab": {
          "base_uri": "https://localhost:8080/",
          "height": 35
        }
      },
      "source": [
        "print(xgboost.best_ntree_limit, xgboost.best_score)"
      ],
      "execution_count": null,
      "outputs": [
        {
          "output_type": "stream",
          "text": [
            "1020 4.878304\n"
          ],
          "name": "stdout"
        }
      ]
    },
    {
      "cell_type": "markdown",
      "metadata": {
        "id": "uL5ll1oRkPOK"
      },
      "source": [
        "### Importância das features"
      ]
    },
    {
      "cell_type": "code",
      "metadata": {
        "id": "4XRmSwqwkPOK"
      },
      "source": [
        "column_names = [*data]"
      ],
      "execution_count": null,
      "outputs": []
    },
    {
      "cell_type": "code",
      "metadata": {
        "id": "sy7TN08wkPOL"
      },
      "source": [
        "xgboost.get_booster().feature_names = column_names"
      ],
      "execution_count": null,
      "outputs": []
    },
    {
      "cell_type": "code",
      "metadata": {
        "id": "aLHKK2DJkPON",
        "outputId": "754f85c6-81a1-48ec-d499-a1af637308e6",
        "colab": {
          "base_uri": "https://localhost:8080/",
          "height": 283
        }
      },
      "source": [
        "feature_important = xgboost.get_booster().get_score(importance_type='gain')\n",
        "keys = list(feature_important.keys())\n",
        "values = list(feature_important.values())\n",
        "\n",
        "dt = pd.DataFrame(data=values, index=keys, columns=[\"score\"]).sort_values(by = \"score\", ascending=False)\n",
        "dt.plot(kind='barh')"
      ],
      "execution_count": null,
      "outputs": [
        {
          "output_type": "execute_result",
          "data": {
            "text/plain": [
              "<matplotlib.axes._subplots.AxesSubplot at 0x7f3282cc8f60>"
            ]
          },
          "metadata": {
            "tags": []
          },
          "execution_count": 39
        },
        {
          "output_type": "display_data",
          "data": {
            "image/png": "[encoded data removed]",
            "text/plain": [
              "<Figure size 432x288 with 1 Axes>"
            ]
          },
          "metadata": {
            "tags": [],
            "needs_background": "light"
          }
        }
      ]
    },
    {
      "cell_type": "code",
      "metadata": {
        "id": "Ts6Z1Y_SkPOO",
        "outputId": "fb50d4d0-9de1-4dcb-fceb-c13e53239dfc",
        "colab": {
          "base_uri": "https://localhost:8080/",
          "height": 283
        }
      },
      "source": [
        "feature_important = xgboost.get_booster().get_score(importance_type='weight')\n",
        "keys = list(feature_important.keys())\n",
        "values = list(feature_important.values())\n",
        "\n",
        "dt = pd.DataFrame(data=values, index=keys, columns=[\"score\"]).sort_values(by = \"score\", ascending=False)\n",
        "dt.plot(kind='barh')"
      ],
      "execution_count": null,
      "outputs": [
        {
          "output_type": "execute_result",
          "data": {
            "text/plain": [
              "<matplotlib.axes._subplots.AxesSubplot at 0x7f3283144748>"
            ]
          },
          "metadata": {
            "tags": []
          },
          "execution_count": 40
        },
        {
          "output_type": "display_data",
          "data": {
            "image/png": "[encoded data removed]",
            "text/plain": [
              "<Figure size 432x288 with 1 Axes>"
            ]
          },
          "metadata": {
            "tags": [],
            "needs_background": "light"
          }
        }
      ]
    },
    {
      "cell_type": "markdown",
      "metadata": {
        "id": "bGINc7F94mXm"
      },
      "source": [
        "## Treinando somente com avg30\n",
        "Conforme a importância das features mostrou, a feature `avg30` é bem mais importante que as outras. Portanto será realizado o treinamento e teste somente com esta feature."
      ]
    },
    {
      "cell_type": "code",
      "metadata": {
        "id": "gf7DdkC94mXq",
        "outputId": "4eab5057-1905-411d-9be2-640c04a79b22",
        "colab": {
          "base_uri": "https://localhost:8080/",
          "height": 53
        }
      },
      "source": [
        "# Agosto + Setembro de 2014\n",
        "data = pd.read_csv(f'{datasets}/data-06hours.csv', parse_dates=[\"timestamp5\"])\n",
        "\n",
        "# Outubro como teste\n",
        "test = pd.read_csv(f'{datasets}/test-06hours.csv', parse_dates=[\"timestamp5\"])"
      ],
      "execution_count": null,
      "outputs": [
        {
          "output_type": "stream",
          "text": [
            "/usr/local/lib/python3.6/dist-packages/IPython/core/interactiveshell.py:2718: DtypeWarning: Columns (1) have mixed types.Specify dtype option on import or set low_memory=False.\n",
            "  interactivity=interactivity, compiler=compiler, result=result)\n"
          ],
          "name": "stderr"
        }
      ]
    },
    {
      "cell_type": "markdown",
      "metadata": {
        "id": "7Yj7fzJNZF3D"
      },
      "source": [
        "### Divisão em treino, teste e validação"
      ]
    },
    {
      "cell_type": "code",
      "metadata": {
        "id": "8vj1OesP4mXw",
        "outputId": "9059bf63-d7c9-4921-84a7-313ee39fab8b",
        "colab": {
          "base_uri": "https://localhost:8080/",
          "height": 233
        }
      },
      "source": [
        "data[\"avg30\"]"
      ],
      "execution_count": null,
      "outputs": [
        {
          "output_type": "execute_result",
          "data": {
            "text/plain": [
              "0          49.678571\n",
              "1          50.114943\n",
              "2          50.494681\n",
              "3          50.437838\n",
              "4          50.576531\n",
              "             ...    \n",
              "2950517    21.720000\n",
              "2950518    20.541667\n",
              "2950519    15.555556\n",
              "2950520    12.937500\n",
              "2950521    19.600000\n",
              "Name: avg30, Length: 2950522, dtype: float64"
            ]
          },
          "metadata": {
            "tags": []
          },
          "execution_count": 6
        }
      ]
    },
    {
      "cell_type": "code",
      "metadata": {
        "id": "tPO9H__34mX1"
      },
      "source": [
        "label = data[\"label\"].values\n",
        "tr_data = data[\"avg30\"].values\n",
        "\n",
        "X = test[\"avg30\"].values\n",
        "y = test[\"label\"].values\n",
        "\n",
        "X_val, X_test, y_val, y_test = train_test_split(X, y, test_size=0.5)"
      ],
      "execution_count": null,
      "outputs": []
    },
    {
      "cell_type": "code",
      "metadata": {
        "id": "axT56L-d4mX4"
      },
      "source": [
        "X_val = X_val.reshape(-1, 1)\n",
        "X_test = X_test.reshape(-1, 1)\n",
        "y_val = y_val.reshape(-1, 1)\n",
        "y_test = y_test.reshape(-1, 1)"
      ],
      "execution_count": null,
      "outputs": []
    },
    {
      "cell_type": "markdown",
      "metadata": {
        "id": "rWhpco8P4mX9"
      },
      "source": [
        "### Treinamento\n",
        "Realizando treinamento com Regressão Linear e XGBoost."
      ]
    },
    {
      "cell_type": "code",
      "metadata": {
        "id": "1DhKH4Dk4mX-"
      },
      "source": [
        "tr_data = tr_data.reshape(-1, 1)"
      ],
      "execution_count": null,
      "outputs": []
    },
    {
      "cell_type": "code",
      "metadata": {
        "id": "NuT-bnXz4mYA",
        "outputId": "61644657-b1be-437d-8d98-da1687d955c7",
        "colab": {
          "base_uri": "https://localhost:8080/",
          "height": 143
        }
      },
      "source": [
        "tr_data"
      ],
      "execution_count": null,
      "outputs": [
        {
          "output_type": "execute_result",
          "data": {
            "text/plain": [
              "array([[49.67857143],\n",
              "       [50.11494253],\n",
              "       [50.49468085],\n",
              "       ...,\n",
              "       [15.55555556],\n",
              "       [12.9375    ],\n",
              "       [19.6       ]])"
            ]
          },
          "metadata": {
            "tags": []
          },
          "execution_count": 10
        }
      ]
    },
    {
      "cell_type": "code",
      "metadata": {
        "id": "wm73APW-4mYD",
        "outputId": "1e90276e-d772-437a-fc7a-ac68c4caf21b",
        "colab": {
          "base_uri": "https://localhost:8080/",
          "height": 35
        }
      },
      "source": [
        "tr_data.shape"
      ],
      "execution_count": null,
      "outputs": [
        {
          "output_type": "execute_result",
          "data": {
            "text/plain": [
              "(2950522, 1)"
            ]
          },
          "metadata": {
            "tags": []
          },
          "execution_count": 11
        }
      ]
    },
    {
      "cell_type": "code",
      "metadata": {
        "id": "ryV5mnxD4mYF"
      },
      "source": [
        "eval_set = [(X_val, y_val)]"
      ],
      "execution_count": null,
      "outputs": []
    },
    {
      "cell_type": "code",
      "metadata": {
        "id": "uvCxgjc94mYH",
        "outputId": "7d2b841f-60f5-497d-c38f-74295140e1ac",
        "colab": {
          "base_uri": "https://localhost:8080/",
          "height": 35
        }
      },
      "source": [
        "lr = LinearRegression()\n",
        "\n",
        "lr.fit(tr_data, label)"
      ],
      "execution_count": null,
      "outputs": [
        {
          "output_type": "execute_result",
          "data": {
            "text/plain": [
              "LinearRegression(copy_X=True, fit_intercept=True, n_jobs=None, normalize=False)"
            ]
          },
          "metadata": {
            "tags": []
          },
          "execution_count": 13
        }
      ]
    },
    {
      "cell_type": "code",
      "metadata": {
        "id": "0Dw-14024mYI",
        "outputId": "58417098-d4ae-447f-e4ad-7acc2f9f4834",
        "colab": {
          "base_uri": "https://localhost:8080/",
          "height": 35
        }
      },
      "source": [
        "pred = lr.predict(X_test)\n",
        "\n",
        "rmse = np.sqrt(metrics.mean_squared_error(y_test, pred))\n",
        "print(rmse)"
      ],
      "execution_count": null,
      "outputs": [
        {
          "output_type": "stream",
          "text": [
            "6.070633631899165\n"
          ],
          "name": "stdout"
        }
      ]
    },
    {
      "cell_type": "code",
      "metadata": {
        "id": "qvdg__5o4mYL"
      },
      "source": [
        "xgboost = xgb.XGBRegressor(n_estimators=3000, tree_method='gpu_hist', objective ='reg:squarederror', learning_rate=0.01,\n",
        "                            max_depth=12, random_state=seed)"
      ],
      "execution_count": null,
      "outputs": []
    },
    {
      "cell_type": "code",
      "metadata": {
        "id": "Wiz1Jovu4mYO",
        "outputId": "e183c92a-c32b-4781-aac8-2c2a9f005029",
        "colab": {
          "base_uri": "https://localhost:8080/",
          "height": 161
        }
      },
      "source": [
        "xgboost.fit(tr_data, label, eval_set=eval_set, eval_metric=\"rmse\", early_stopping_rounds=20, verbose=False)"
      ],
      "execution_count": null,
      "outputs": [
        {
          "output_type": "execute_result",
          "data": {
            "text/plain": [
              "XGBRegressor(base_score=0.5, booster='gbtree', colsample_bylevel=1,\n",
              "             colsample_bynode=1, colsample_bytree=1, gamma=0,\n",
              "             importance_type='gain', learning_rate=0.01, max_delta_step=0,\n",
              "             max_depth=12, min_child_weight=1, missing=None, n_estimators=3000,\n",
              "             n_jobs=1, nthread=None, objective='reg:squarederror',\n",
              "             random_state=42, reg_alpha=0, reg_lambda=1, scale_pos_weight=1,\n",
              "             seed=None, silent=None, subsample=1, tree_method='gpu_hist',\n",
              "             verbosity=1)"
            ]
          },
          "metadata": {
            "tags": []
          },
          "execution_count": 16
        }
      ]
    },
    {
      "cell_type": "code",
      "metadata": {
        "id": "1_8gqRzr4mYQ",
        "outputId": "79136159-55e5-4d82-fa70-ff73acf79a27",
        "colab": {
          "base_uri": "https://localhost:8080/",
          "height": 35
        }
      },
      "source": [
        "pred_xgb = xgboost.predict(X_test, ntree_limit=xgboost.best_ntree_limit)\n",
        "rmse_xgb = np.sqrt(metrics.mean_squared_error(y_test, pred_xgb))\n",
        "\n",
        "rmse_xgb"
      ],
      "execution_count": null,
      "outputs": [
        {
          "output_type": "execute_result",
          "data": {
            "text/plain": [
              "6.020196054327272"
            ]
          },
          "metadata": {
            "tags": []
          },
          "execution_count": 17
        }
      ]
    },
    {
      "cell_type": "code",
      "metadata": {
        "id": "4WsqG9Pw4mYT",
        "outputId": "7a149aeb-35a2-4b75-8ec8-9d1fa520dd65",
        "colab": {
          "base_uri": "https://localhost:8080/",
          "height": 35
        }
      },
      "source": [
        "print(xgboost.best_ntree_limit, xgboost.best_score)"
      ],
      "execution_count": null,
      "outputs": [
        {
          "output_type": "stream",
          "text": [
            "1098 6.032063\n"
          ],
          "name": "stdout"
        }
      ]
    },
    {
      "cell_type": "markdown",
      "metadata": {
        "id": "UxEo-J3_I8yZ"
      },
      "source": [
        ""
      ]
    },
    {
      "cell_type": "markdown",
      "metadata": {
        "id": "csVvwqcLLa3N"
      },
      "source": [
        "# Ajustando label para 24 horas adiante"
      ]
    },
    {
      "cell_type": "code",
      "metadata": {
        "id": "aicE-YfBLz2m"
      },
      "source": [
        "agosto = pd.read_csv(f\"{datasets}/2014_08-Traffic_Sensors_Fortaleza.csv\", parse_dates=[\"timestamp5\"])\n",
        "setembro = pd.read_csv(f\"{datasets}/2014_09-Traffic_Sensors_Fortaleza.csv\", parse_dates=[\"timestamp5\"])\n",
        "test = pd.read_csv(f\"{datasets}/2014_10-Traffic_Sensors_Fortaleza.csv\", parse_dates=[\"timestamp5\"])\n",
        "\n",
        "data = pd.concat([agosto, setembro], ignore_index=True)\n",
        "data.head()"
      ],
      "execution_count": null,
      "outputs": []
    },
    {
      "cell_type": "code",
      "metadata": {
        "id": "4HKKmthALa3O"
      },
      "source": [
        "data_copy = data.copy()"
      ],
      "execution_count": null,
      "outputs": []
    },
    {
      "cell_type": "code",
      "metadata": {
        "id": "HfJB5H53La3U",
        "outputId": "8e5d032a-4b09-469d-b4ed-d365c890d87a",
        "colab": {
          "base_uri": "https://localhost:8080/",
          "height": 35
        }
      },
      "source": [
        "data_copy.index[-1]"
      ],
      "execution_count": null,
      "outputs": [
        {
          "output_type": "execute_result",
          "data": {
            "text/plain": [
              "2950521"
            ]
          },
          "metadata": {
            "tags": []
          },
          "execution_count": 5
        }
      ]
    },
    {
      "cell_type": "code",
      "metadata": {
        "id": "y_gvtRANLa3X",
        "outputId": "fa666210-874a-4b1d-d71b-3ed665efd7cc",
        "colab": {
          "base_uri": "https://localhost:8080/",
          "height": 549
        }
      },
      "source": [
        "# before transformation\n",
        "data_copy.head(10)"
      ],
      "execution_count": null,
      "outputs": [
        {
          "output_type": "execute_result",
          "data": {
            "text/html": [
              "<div>\n",
              "<style scoped>\n",
              "    .dataframe tbody tr th:only-of-type {\n",
              "        vertical-align: middle;\n",
              "    }\n",
              "\n",
              "    .dataframe tbody tr th {\n",
              "        vertical-align: top;\n",
              "    }\n",
              "\n",
              "    .dataframe thead th {\n",
              "        text-align: right;\n",
              "    }\n",
              "</style>\n",
              "<table border=\"1\" class=\"dataframe\">\n",
              "  <thead>\n",
              "    <tr style=\"text-align: right;\">\n",
              "      <th></th>\n",
              "      <th>sensor_id</th>\n",
              "      <th>day_of_week</th>\n",
              "      <th>slot_of_day</th>\n",
              "      <th>lane</th>\n",
              "      <th>size5</th>\n",
              "      <th>min5</th>\n",
              "      <th>max5</th>\n",
              "      <th>avg5</th>\n",
              "      <th>std5</th>\n",
              "      <th>size30</th>\n",
              "      <th>min30</th>\n",
              "      <th>max30</th>\n",
              "      <th>avg30</th>\n",
              "      <th>std30</th>\n",
              "      <th>size1w</th>\n",
              "      <th>min1w</th>\n",
              "      <th>max1w</th>\n",
              "      <th>avg1w</th>\n",
              "      <th>std1w</th>\n",
              "      <th>size2w</th>\n",
              "      <th>min2w</th>\n",
              "      <th>max2w</th>\n",
              "      <th>avg2w</th>\n",
              "      <th>std2w</th>\n",
              "      <th>working_day</th>\n",
              "      <th>speed_limit</th>\n",
              "      <th>label</th>\n",
              "      <th>timestamp5</th>\n",
              "    </tr>\n",
              "  </thead>\n",
              "  <tbody>\n",
              "    <tr>\n",
              "      <th>0</th>\n",
              "      <td>1385001</td>\n",
              "      <td>4</td>\n",
              "      <td>0</td>\n",
              "      <td>3</td>\n",
              "      <td>33</td>\n",
              "      <td>32.0</td>\n",
              "      <td>59.0</td>\n",
              "      <td>49.484848</td>\n",
              "      <td>6.035859</td>\n",
              "      <td>168.0</td>\n",
              "      <td>25.0</td>\n",
              "      <td>61.0</td>\n",
              "      <td>49.678571</td>\n",
              "      <td>5.961505</td>\n",
              "      <td>55.0</td>\n",
              "      <td>40.0</td>\n",
              "      <td>58.0</td>\n",
              "      <td>49.654545</td>\n",
              "      <td>4.521537</td>\n",
              "      <td>32.0</td>\n",
              "      <td>25.0</td>\n",
              "      <td>58.0</td>\n",
              "      <td>47.562500</td>\n",
              "      <td>7.676822</td>\n",
              "      <td>1</td>\n",
              "      <td>67</td>\n",
              "      <td>50.799999</td>\n",
              "      <td>2014-08-01 00:00:00</td>\n",
              "    </tr>\n",
              "    <tr>\n",
              "      <th>1</th>\n",
              "      <td>1385001</td>\n",
              "      <td>4</td>\n",
              "      <td>1</td>\n",
              "      <td>3</td>\n",
              "      <td>34</td>\n",
              "      <td>35.0</td>\n",
              "      <td>62.0</td>\n",
              "      <td>51.735294</td>\n",
              "      <td>5.569396</td>\n",
              "      <td>174.0</td>\n",
              "      <td>25.0</td>\n",
              "      <td>62.0</td>\n",
              "      <td>50.114943</td>\n",
              "      <td>6.018984</td>\n",
              "      <td>51.0</td>\n",
              "      <td>37.0</td>\n",
              "      <td>60.0</td>\n",
              "      <td>49.862743</td>\n",
              "      <td>5.250657</td>\n",
              "      <td>26.0</td>\n",
              "      <td>33.0</td>\n",
              "      <td>59.0</td>\n",
              "      <td>50.769230</td>\n",
              "      <td>4.979247</td>\n",
              "      <td>1</td>\n",
              "      <td>67</td>\n",
              "      <td>52.692307</td>\n",
              "      <td>2014-08-01 00:05:00</td>\n",
              "    </tr>\n",
              "    <tr>\n",
              "      <th>2</th>\n",
              "      <td>1385001</td>\n",
              "      <td>4</td>\n",
              "      <td>2</td>\n",
              "      <td>3</td>\n",
              "      <td>32</td>\n",
              "      <td>37.0</td>\n",
              "      <td>60.0</td>\n",
              "      <td>51.593750</td>\n",
              "      <td>5.011608</td>\n",
              "      <td>188.0</td>\n",
              "      <td>25.0</td>\n",
              "      <td>62.0</td>\n",
              "      <td>50.494681</td>\n",
              "      <td>5.920122</td>\n",
              "      <td>30.0</td>\n",
              "      <td>37.0</td>\n",
              "      <td>56.0</td>\n",
              "      <td>48.966667</td>\n",
              "      <td>5.186414</td>\n",
              "      <td>24.0</td>\n",
              "      <td>11.0</td>\n",
              "      <td>56.0</td>\n",
              "      <td>47.250000</td>\n",
              "      <td>9.138973</td>\n",
              "      <td>1</td>\n",
              "      <td>67</td>\n",
              "      <td>50.000000</td>\n",
              "      <td>2014-08-01 00:10:00</td>\n",
              "    </tr>\n",
              "    <tr>\n",
              "      <th>3</th>\n",
              "      <td>1385001</td>\n",
              "      <td>4</td>\n",
              "      <td>3</td>\n",
              "      <td>3</td>\n",
              "      <td>30</td>\n",
              "      <td>31.0</td>\n",
              "      <td>57.0</td>\n",
              "      <td>49.266666</td>\n",
              "      <td>5.519260</td>\n",
              "      <td>185.0</td>\n",
              "      <td>29.0</td>\n",
              "      <td>62.0</td>\n",
              "      <td>50.437838</td>\n",
              "      <td>5.835370</td>\n",
              "      <td>21.0</td>\n",
              "      <td>37.0</td>\n",
              "      <td>58.0</td>\n",
              "      <td>49.190475</td>\n",
              "      <td>5.188073</td>\n",
              "      <td>21.0</td>\n",
              "      <td>40.0</td>\n",
              "      <td>55.0</td>\n",
              "      <td>48.571430</td>\n",
              "      <td>4.593696</td>\n",
              "      <td>1</td>\n",
              "      <td>67</td>\n",
              "      <td>48.615383</td>\n",
              "      <td>2014-08-01 00:15:00</td>\n",
              "    </tr>\n",
              "    <tr>\n",
              "      <th>4</th>\n",
              "      <td>1385001</td>\n",
              "      <td>4</td>\n",
              "      <td>4</td>\n",
              "      <td>3</td>\n",
              "      <td>37</td>\n",
              "      <td>31.0</td>\n",
              "      <td>60.0</td>\n",
              "      <td>50.135136</td>\n",
              "      <td>5.619282</td>\n",
              "      <td>196.0</td>\n",
              "      <td>31.0</td>\n",
              "      <td>62.0</td>\n",
              "      <td>50.576531</td>\n",
              "      <td>5.621502</td>\n",
              "      <td>31.0</td>\n",
              "      <td>34.0</td>\n",
              "      <td>58.0</td>\n",
              "      <td>48.870968</td>\n",
              "      <td>5.469811</td>\n",
              "      <td>14.0</td>\n",
              "      <td>42.0</td>\n",
              "      <td>57.0</td>\n",
              "      <td>49.500000</td>\n",
              "      <td>4.238430</td>\n",
              "      <td>1</td>\n",
              "      <td>67</td>\n",
              "      <td>48.000000</td>\n",
              "      <td>2014-08-01 00:20:00</td>\n",
              "    </tr>\n",
              "    <tr>\n",
              "      <th>5</th>\n",
              "      <td>1385001</td>\n",
              "      <td>4</td>\n",
              "      <td>5</td>\n",
              "      <td>3</td>\n",
              "      <td>32</td>\n",
              "      <td>32.0</td>\n",
              "      <td>58.0</td>\n",
              "      <td>50.500000</td>\n",
              "      <td>5.442885</td>\n",
              "      <td>198.0</td>\n",
              "      <td>31.0</td>\n",
              "      <td>62.0</td>\n",
              "      <td>50.464646</td>\n",
              "      <td>5.625184</td>\n",
              "      <td>32.0</td>\n",
              "      <td>30.0</td>\n",
              "      <td>56.0</td>\n",
              "      <td>47.625000</td>\n",
              "      <td>5.435704</td>\n",
              "      <td>19.0</td>\n",
              "      <td>32.0</td>\n",
              "      <td>58.0</td>\n",
              "      <td>46.684212</td>\n",
              "      <td>7.616137</td>\n",
              "      <td>1</td>\n",
              "      <td>67</td>\n",
              "      <td>47.909092</td>\n",
              "      <td>2014-08-01 00:25:00</td>\n",
              "    </tr>\n",
              "    <tr>\n",
              "      <th>6</th>\n",
              "      <td>1385001</td>\n",
              "      <td>4</td>\n",
              "      <td>6</td>\n",
              "      <td>3</td>\n",
              "      <td>35</td>\n",
              "      <td>30.0</td>\n",
              "      <td>59.0</td>\n",
              "      <td>50.800000</td>\n",
              "      <td>6.060646</td>\n",
              "      <td>200.0</td>\n",
              "      <td>30.0</td>\n",
              "      <td>62.0</td>\n",
              "      <td>50.685000</td>\n",
              "      <td>5.617453</td>\n",
              "      <td>29.0</td>\n",
              "      <td>24.0</td>\n",
              "      <td>59.0</td>\n",
              "      <td>47.862068</td>\n",
              "      <td>6.218572</td>\n",
              "      <td>14.0</td>\n",
              "      <td>40.0</td>\n",
              "      <td>57.0</td>\n",
              "      <td>50.571430</td>\n",
              "      <td>4.100771</td>\n",
              "      <td>1</td>\n",
              "      <td>67</td>\n",
              "      <td>51.416668</td>\n",
              "      <td>2014-08-01 00:30:00</td>\n",
              "    </tr>\n",
              "    <tr>\n",
              "      <th>7</th>\n",
              "      <td>1385001</td>\n",
              "      <td>4</td>\n",
              "      <td>7</td>\n",
              "      <td>3</td>\n",
              "      <td>26</td>\n",
              "      <td>44.0</td>\n",
              "      <td>60.0</td>\n",
              "      <td>52.692307</td>\n",
              "      <td>3.516655</td>\n",
              "      <td>192.0</td>\n",
              "      <td>30.0</td>\n",
              "      <td>60.0</td>\n",
              "      <td>50.770833</td>\n",
              "      <td>5.421752</td>\n",
              "      <td>17.0</td>\n",
              "      <td>40.0</td>\n",
              "      <td>59.0</td>\n",
              "      <td>50.058823</td>\n",
              "      <td>5.138901</td>\n",
              "      <td>22.0</td>\n",
              "      <td>36.0</td>\n",
              "      <td>60.0</td>\n",
              "      <td>50.454544</td>\n",
              "      <td>5.323424</td>\n",
              "      <td>1</td>\n",
              "      <td>67</td>\n",
              "      <td>48.368420</td>\n",
              "      <td>2014-08-01 00:35:00</td>\n",
              "    </tr>\n",
              "    <tr>\n",
              "      <th>8</th>\n",
              "      <td>1385001</td>\n",
              "      <td>4</td>\n",
              "      <td>8</td>\n",
              "      <td>3</td>\n",
              "      <td>32</td>\n",
              "      <td>38.0</td>\n",
              "      <td>60.0</td>\n",
              "      <td>50.000000</td>\n",
              "      <td>5.618051</td>\n",
              "      <td>192.0</td>\n",
              "      <td>30.0</td>\n",
              "      <td>60.0</td>\n",
              "      <td>50.505208</td>\n",
              "      <td>5.512294</td>\n",
              "      <td>20.0</td>\n",
              "      <td>34.0</td>\n",
              "      <td>58.0</td>\n",
              "      <td>48.599998</td>\n",
              "      <td>6.514599</td>\n",
              "      <td>18.0</td>\n",
              "      <td>43.0</td>\n",
              "      <td>58.0</td>\n",
              "      <td>51.611111</td>\n",
              "      <td>4.584259</td>\n",
              "      <td>1</td>\n",
              "      <td>67</td>\n",
              "      <td>49.863636</td>\n",
              "      <td>2014-08-01 00:40:00</td>\n",
              "    </tr>\n",
              "    <tr>\n",
              "      <th>9</th>\n",
              "      <td>1385001</td>\n",
              "      <td>4</td>\n",
              "      <td>9</td>\n",
              "      <td>3</td>\n",
              "      <td>26</td>\n",
              "      <td>27.0</td>\n",
              "      <td>57.0</td>\n",
              "      <td>48.615383</td>\n",
              "      <td>7.452810</td>\n",
              "      <td>188.0</td>\n",
              "      <td>27.0</td>\n",
              "      <td>60.0</td>\n",
              "      <td>50.441489</td>\n",
              "      <td>5.839318</td>\n",
              "      <td>17.0</td>\n",
              "      <td>34.0</td>\n",
              "      <td>54.0</td>\n",
              "      <td>47.823528</td>\n",
              "      <td>5.607089</td>\n",
              "      <td>11.0</td>\n",
              "      <td>42.0</td>\n",
              "      <td>56.0</td>\n",
              "      <td>49.636364</td>\n",
              "      <td>4.656818</td>\n",
              "      <td>1</td>\n",
              "      <td>67</td>\n",
              "      <td>48.666668</td>\n",
              "      <td>2014-08-01 00:45:00</td>\n",
              "    </tr>\n",
              "  </tbody>\n",
              "</table>\n",
              "</div>"
            ],
            "text/plain": [
              "  sensor_id  day_of_week  ...      label          timestamp5\n",
              "0   1385001            4  ...  50.799999 2014-08-01 00:00:00\n",
              "1   1385001            4  ...  52.692307 2014-08-01 00:05:00\n",
              "2   1385001            4  ...  50.000000 2014-08-01 00:10:00\n",
              "3   1385001            4  ...  48.615383 2014-08-01 00:15:00\n",
              "4   1385001            4  ...  48.000000 2014-08-01 00:20:00\n",
              "5   1385001            4  ...  47.909092 2014-08-01 00:25:00\n",
              "6   1385001            4  ...  51.416668 2014-08-01 00:30:00\n",
              "7   1385001            4  ...  48.368420 2014-08-01 00:35:00\n",
              "8   1385001            4  ...  49.863636 2014-08-01 00:40:00\n",
              "9   1385001            4  ...  48.666668 2014-08-01 00:45:00\n",
              "\n",
              "[10 rows x 28 columns]"
            ]
          },
          "metadata": {
            "tags": []
          },
          "execution_count": 6
        }
      ]
    },
    {
      "cell_type": "code",
      "metadata": {
        "id": "X4NmSvpTLa3a"
      },
      "source": [
        "hours_added = datetime.timedelta(hours = 24)\n",
        "\n",
        "# Create a data series that combines the information about sensor_id & timestamp5\n",
        "sen_time = data_copy['sensor_id'].astype(str) + data_copy['timestamp5'].astype(str)\n",
        "\n",
        "# Create a dictionary of the corresponding { sensor_id + timestamp5 : avg5 } values\n",
        "dictionary = pd.Series(data_copy['avg5'].values, sen_time).to_dict()\n",
        "\n",
        "# Create a data series combining the timestamp5 + 24 hours information\n",
        "timePlus24h = data_copy['timestamp5'] + hours_added\n",
        "\n",
        "# Create a mapping column that combines the sensor_id & timestamp5+24h\n",
        "sensor_timePlus24h = (data_copy['sensor_id'].astype(str) + timePlus24h.astype(str))\n",
        "\n",
        "# Create a new_label series by mapping the dictionary onto sensor_timePlus24h\n",
        "new_label = sensor_timePlus24h.map(dictionary)\n",
        "\n",
        "# Extract indices where this series has non-NaN values\n",
        "where = new_label.notnull()\n",
        "\n",
        "# Replace the values in the 'label' column with only non-NaN new_label values\n",
        "data_copy.loc[where, 'label'] = new_label.loc[where]"
      ],
      "execution_count": null,
      "outputs": []
    },
    {
      "cell_type": "code",
      "metadata": {
        "id": "btbMCEmpMcpD",
        "outputId": "78f9e452-131b-4635-ee01-f62be5827fc3",
        "colab": {
          "base_uri": "https://localhost:8080/",
          "height": 549
        }
      },
      "source": [
        "data_copy.head(10)"
      ],
      "execution_count": null,
      "outputs": [
        {
          "output_type": "execute_result",
          "data": {
            "text/html": [
              "<div>\n",
              "<style scoped>\n",
              "    .dataframe tbody tr th:only-of-type {\n",
              "        vertical-align: middle;\n",
              "    }\n",
              "\n",
              "    .dataframe tbody tr th {\n",
              "        vertical-align: top;\n",
              "    }\n",
              "\n",
              "    .dataframe thead th {\n",
              "        text-align: right;\n",
              "    }\n",
              "</style>\n",
              "<table border=\"1\" class=\"dataframe\">\n",
              "  <thead>\n",
              "    <tr style=\"text-align: right;\">\n",
              "      <th></th>\n",
              "      <th>sensor_id</th>\n",
              "      <th>day_of_week</th>\n",
              "      <th>slot_of_day</th>\n",
              "      <th>lane</th>\n",
              "      <th>size5</th>\n",
              "      <th>min5</th>\n",
              "      <th>max5</th>\n",
              "      <th>avg5</th>\n",
              "      <th>std5</th>\n",
              "      <th>size30</th>\n",
              "      <th>min30</th>\n",
              "      <th>max30</th>\n",
              "      <th>avg30</th>\n",
              "      <th>std30</th>\n",
              "      <th>size1w</th>\n",
              "      <th>min1w</th>\n",
              "      <th>max1w</th>\n",
              "      <th>avg1w</th>\n",
              "      <th>std1w</th>\n",
              "      <th>size2w</th>\n",
              "      <th>min2w</th>\n",
              "      <th>max2w</th>\n",
              "      <th>avg2w</th>\n",
              "      <th>std2w</th>\n",
              "      <th>working_day</th>\n",
              "      <th>speed_limit</th>\n",
              "      <th>label</th>\n",
              "      <th>timestamp5</th>\n",
              "    </tr>\n",
              "  </thead>\n",
              "  <tbody>\n",
              "    <tr>\n",
              "      <th>0</th>\n",
              "      <td>1385001</td>\n",
              "      <td>4</td>\n",
              "      <td>0</td>\n",
              "      <td>3</td>\n",
              "      <td>33</td>\n",
              "      <td>32.0</td>\n",
              "      <td>59.0</td>\n",
              "      <td>49.484848</td>\n",
              "      <td>6.035859</td>\n",
              "      <td>168.0</td>\n",
              "      <td>25.0</td>\n",
              "      <td>61.0</td>\n",
              "      <td>49.678571</td>\n",
              "      <td>5.961505</td>\n",
              "      <td>55.0</td>\n",
              "      <td>40.0</td>\n",
              "      <td>58.0</td>\n",
              "      <td>49.654545</td>\n",
              "      <td>4.521537</td>\n",
              "      <td>32.0</td>\n",
              "      <td>25.0</td>\n",
              "      <td>58.0</td>\n",
              "      <td>47.562500</td>\n",
              "      <td>7.676822</td>\n",
              "      <td>1</td>\n",
              "      <td>67</td>\n",
              "      <td>49.409092</td>\n",
              "      <td>2014-08-01 00:00:00</td>\n",
              "    </tr>\n",
              "    <tr>\n",
              "      <th>1</th>\n",
              "      <td>1385001</td>\n",
              "      <td>4</td>\n",
              "      <td>1</td>\n",
              "      <td>3</td>\n",
              "      <td>34</td>\n",
              "      <td>35.0</td>\n",
              "      <td>62.0</td>\n",
              "      <td>51.735294</td>\n",
              "      <td>5.569396</td>\n",
              "      <td>174.0</td>\n",
              "      <td>25.0</td>\n",
              "      <td>62.0</td>\n",
              "      <td>50.114943</td>\n",
              "      <td>6.018984</td>\n",
              "      <td>51.0</td>\n",
              "      <td>37.0</td>\n",
              "      <td>60.0</td>\n",
              "      <td>49.862743</td>\n",
              "      <td>5.250657</td>\n",
              "      <td>26.0</td>\n",
              "      <td>33.0</td>\n",
              "      <td>59.0</td>\n",
              "      <td>50.769230</td>\n",
              "      <td>4.979247</td>\n",
              "      <td>1</td>\n",
              "      <td>67</td>\n",
              "      <td>48.846153</td>\n",
              "      <td>2014-08-01 00:05:00</td>\n",
              "    </tr>\n",
              "    <tr>\n",
              "      <th>2</th>\n",
              "      <td>1385001</td>\n",
              "      <td>4</td>\n",
              "      <td>2</td>\n",
              "      <td>3</td>\n",
              "      <td>32</td>\n",
              "      <td>37.0</td>\n",
              "      <td>60.0</td>\n",
              "      <td>51.593750</td>\n",
              "      <td>5.011608</td>\n",
              "      <td>188.0</td>\n",
              "      <td>25.0</td>\n",
              "      <td>62.0</td>\n",
              "      <td>50.494681</td>\n",
              "      <td>5.920122</td>\n",
              "      <td>30.0</td>\n",
              "      <td>37.0</td>\n",
              "      <td>56.0</td>\n",
              "      <td>48.966667</td>\n",
              "      <td>5.186414</td>\n",
              "      <td>24.0</td>\n",
              "      <td>11.0</td>\n",
              "      <td>56.0</td>\n",
              "      <td>47.250000</td>\n",
              "      <td>9.138973</td>\n",
              "      <td>1</td>\n",
              "      <td>67</td>\n",
              "      <td>48.896553</td>\n",
              "      <td>2014-08-01 00:10:00</td>\n",
              "    </tr>\n",
              "    <tr>\n",
              "      <th>3</th>\n",
              "      <td>1385001</td>\n",
              "      <td>4</td>\n",
              "      <td>3</td>\n",
              "      <td>3</td>\n",
              "      <td>30</td>\n",
              "      <td>31.0</td>\n",
              "      <td>57.0</td>\n",
              "      <td>49.266666</td>\n",
              "      <td>5.519260</td>\n",
              "      <td>185.0</td>\n",
              "      <td>29.0</td>\n",
              "      <td>62.0</td>\n",
              "      <td>50.437838</td>\n",
              "      <td>5.835370</td>\n",
              "      <td>21.0</td>\n",
              "      <td>37.0</td>\n",
              "      <td>58.0</td>\n",
              "      <td>49.190475</td>\n",
              "      <td>5.188073</td>\n",
              "      <td>21.0</td>\n",
              "      <td>40.0</td>\n",
              "      <td>55.0</td>\n",
              "      <td>48.571430</td>\n",
              "      <td>4.593696</td>\n",
              "      <td>1</td>\n",
              "      <td>67</td>\n",
              "      <td>47.820515</td>\n",
              "      <td>2014-08-01 00:15:00</td>\n",
              "    </tr>\n",
              "    <tr>\n",
              "      <th>4</th>\n",
              "      <td>1385001</td>\n",
              "      <td>4</td>\n",
              "      <td>4</td>\n",
              "      <td>3</td>\n",
              "      <td>37</td>\n",
              "      <td>31.0</td>\n",
              "      <td>60.0</td>\n",
              "      <td>50.135136</td>\n",
              "      <td>5.619282</td>\n",
              "      <td>196.0</td>\n",
              "      <td>31.0</td>\n",
              "      <td>62.0</td>\n",
              "      <td>50.576531</td>\n",
              "      <td>5.621502</td>\n",
              "      <td>31.0</td>\n",
              "      <td>34.0</td>\n",
              "      <td>58.0</td>\n",
              "      <td>48.870968</td>\n",
              "      <td>5.469811</td>\n",
              "      <td>14.0</td>\n",
              "      <td>42.0</td>\n",
              "      <td>57.0</td>\n",
              "      <td>49.500000</td>\n",
              "      <td>4.238430</td>\n",
              "      <td>1</td>\n",
              "      <td>67</td>\n",
              "      <td>50.224490</td>\n",
              "      <td>2014-08-01 00:20:00</td>\n",
              "    </tr>\n",
              "    <tr>\n",
              "      <th>5</th>\n",
              "      <td>1385001</td>\n",
              "      <td>4</td>\n",
              "      <td>5</td>\n",
              "      <td>3</td>\n",
              "      <td>32</td>\n",
              "      <td>32.0</td>\n",
              "      <td>58.0</td>\n",
              "      <td>50.500000</td>\n",
              "      <td>5.442885</td>\n",
              "      <td>198.0</td>\n",
              "      <td>31.0</td>\n",
              "      <td>62.0</td>\n",
              "      <td>50.464646</td>\n",
              "      <td>5.625184</td>\n",
              "      <td>32.0</td>\n",
              "      <td>30.0</td>\n",
              "      <td>56.0</td>\n",
              "      <td>47.625000</td>\n",
              "      <td>5.435704</td>\n",
              "      <td>19.0</td>\n",
              "      <td>32.0</td>\n",
              "      <td>58.0</td>\n",
              "      <td>46.684212</td>\n",
              "      <td>7.616137</td>\n",
              "      <td>1</td>\n",
              "      <td>67</td>\n",
              "      <td>47.968750</td>\n",
              "      <td>2014-08-01 00:25:00</td>\n",
              "    </tr>\n",
              "    <tr>\n",
              "      <th>6</th>\n",
              "      <td>1385001</td>\n",
              "      <td>4</td>\n",
              "      <td>6</td>\n",
              "      <td>3</td>\n",
              "      <td>35</td>\n",
              "      <td>30.0</td>\n",
              "      <td>59.0</td>\n",
              "      <td>50.800000</td>\n",
              "      <td>6.060646</td>\n",
              "      <td>200.0</td>\n",
              "      <td>30.0</td>\n",
              "      <td>62.0</td>\n",
              "      <td>50.685000</td>\n",
              "      <td>5.617453</td>\n",
              "      <td>29.0</td>\n",
              "      <td>24.0</td>\n",
              "      <td>59.0</td>\n",
              "      <td>47.862068</td>\n",
              "      <td>6.218572</td>\n",
              "      <td>14.0</td>\n",
              "      <td>40.0</td>\n",
              "      <td>57.0</td>\n",
              "      <td>50.571430</td>\n",
              "      <td>4.100771</td>\n",
              "      <td>1</td>\n",
              "      <td>67</td>\n",
              "      <td>51.560974</td>\n",
              "      <td>2014-08-01 00:30:00</td>\n",
              "    </tr>\n",
              "    <tr>\n",
              "      <th>7</th>\n",
              "      <td>1385001</td>\n",
              "      <td>4</td>\n",
              "      <td>7</td>\n",
              "      <td>3</td>\n",
              "      <td>26</td>\n",
              "      <td>44.0</td>\n",
              "      <td>60.0</td>\n",
              "      <td>52.692307</td>\n",
              "      <td>3.516655</td>\n",
              "      <td>192.0</td>\n",
              "      <td>30.0</td>\n",
              "      <td>60.0</td>\n",
              "      <td>50.770833</td>\n",
              "      <td>5.421752</td>\n",
              "      <td>17.0</td>\n",
              "      <td>40.0</td>\n",
              "      <td>59.0</td>\n",
              "      <td>50.058823</td>\n",
              "      <td>5.138901</td>\n",
              "      <td>22.0</td>\n",
              "      <td>36.0</td>\n",
              "      <td>60.0</td>\n",
              "      <td>50.454544</td>\n",
              "      <td>5.323424</td>\n",
              "      <td>1</td>\n",
              "      <td>67</td>\n",
              "      <td>50.125000</td>\n",
              "      <td>2014-08-01 00:35:00</td>\n",
              "    </tr>\n",
              "    <tr>\n",
              "      <th>8</th>\n",
              "      <td>1385001</td>\n",
              "      <td>4</td>\n",
              "      <td>8</td>\n",
              "      <td>3</td>\n",
              "      <td>32</td>\n",
              "      <td>38.0</td>\n",
              "      <td>60.0</td>\n",
              "      <td>50.000000</td>\n",
              "      <td>5.618051</td>\n",
              "      <td>192.0</td>\n",
              "      <td>30.0</td>\n",
              "      <td>60.0</td>\n",
              "      <td>50.505208</td>\n",
              "      <td>5.512294</td>\n",
              "      <td>20.0</td>\n",
              "      <td>34.0</td>\n",
              "      <td>58.0</td>\n",
              "      <td>48.599998</td>\n",
              "      <td>6.514599</td>\n",
              "      <td>18.0</td>\n",
              "      <td>43.0</td>\n",
              "      <td>58.0</td>\n",
              "      <td>51.611111</td>\n",
              "      <td>4.584259</td>\n",
              "      <td>1</td>\n",
              "      <td>67</td>\n",
              "      <td>49.571430</td>\n",
              "      <td>2014-08-01 00:40:00</td>\n",
              "    </tr>\n",
              "    <tr>\n",
              "      <th>9</th>\n",
              "      <td>1385001</td>\n",
              "      <td>4</td>\n",
              "      <td>9</td>\n",
              "      <td>3</td>\n",
              "      <td>26</td>\n",
              "      <td>27.0</td>\n",
              "      <td>57.0</td>\n",
              "      <td>48.615383</td>\n",
              "      <td>7.452810</td>\n",
              "      <td>188.0</td>\n",
              "      <td>27.0</td>\n",
              "      <td>60.0</td>\n",
              "      <td>50.441489</td>\n",
              "      <td>5.839318</td>\n",
              "      <td>17.0</td>\n",
              "      <td>34.0</td>\n",
              "      <td>54.0</td>\n",
              "      <td>47.823528</td>\n",
              "      <td>5.607089</td>\n",
              "      <td>11.0</td>\n",
              "      <td>42.0</td>\n",
              "      <td>56.0</td>\n",
              "      <td>49.636364</td>\n",
              "      <td>4.656818</td>\n",
              "      <td>1</td>\n",
              "      <td>67</td>\n",
              "      <td>48.515152</td>\n",
              "      <td>2014-08-01 00:45:00</td>\n",
              "    </tr>\n",
              "  </tbody>\n",
              "</table>\n",
              "</div>"
            ],
            "text/plain": [
              "  sensor_id  day_of_week  ...      label          timestamp5\n",
              "0   1385001            4  ...  49.409092 2014-08-01 00:00:00\n",
              "1   1385001            4  ...  48.846153 2014-08-01 00:05:00\n",
              "2   1385001            4  ...  48.896553 2014-08-01 00:10:00\n",
              "3   1385001            4  ...  47.820515 2014-08-01 00:15:00\n",
              "4   1385001            4  ...  50.224490 2014-08-01 00:20:00\n",
              "5   1385001            4  ...  47.968750 2014-08-01 00:25:00\n",
              "6   1385001            4  ...  51.560974 2014-08-01 00:30:00\n",
              "7   1385001            4  ...  50.125000 2014-08-01 00:35:00\n",
              "8   1385001            4  ...  49.571430 2014-08-01 00:40:00\n",
              "9   1385001            4  ...  48.515152 2014-08-01 00:45:00\n",
              "\n",
              "[10 rows x 28 columns]"
            ]
          },
          "metadata": {
            "tags": []
          },
          "execution_count": 8
        }
      ]
    },
    {
      "cell_type": "code",
      "metadata": {
        "scrolled": false,
        "id": "3aPx15IjLa3d"
      },
      "source": [
        "data_copy.to_csv('data-24hours.csv')\n",
        "!cp data-24hours.csv '{datasets}'"
      ],
      "execution_count": null,
      "outputs": []
    },
    {
      "cell_type": "code",
      "metadata": {
        "id": "EMk5yo_CLa3g"
      },
      "source": [
        "test_copy = test.copy()"
      ],
      "execution_count": null,
      "outputs": []
    },
    {
      "cell_type": "code",
      "metadata": {
        "scrolled": true,
        "id": "zrukWMCULa3h",
        "outputId": "3675cead-6bcb-4564-c1c5-4f0741286f82",
        "colab": {
          "base_uri": "https://localhost:8080/",
          "height": 35
        }
      },
      "source": [
        "test_copy.index"
      ],
      "execution_count": null,
      "outputs": [
        {
          "output_type": "execute_result",
          "data": {
            "text/plain": [
              "RangeIndex(start=0, stop=1715253, step=1)"
            ]
          },
          "metadata": {
            "tags": []
          },
          "execution_count": 14
        }
      ]
    },
    {
      "cell_type": "code",
      "metadata": {
        "id": "cuHWW6VILa3l"
      },
      "source": [
        "hours_added = datetime.timedelta(hours = 24)\n",
        "\n",
        "# Create a data series that combines the information about sensor_id & timestamp5\n",
        "sen_time = test_copy['sensor_id'].astype(str) + test_copy['timestamp5'].astype(str)\n",
        "\n",
        "# Create a dictionary of the corresponding { sensor_id + timestamp5 : avg5 } values\n",
        "dictionary = pd.Series(test_copy['avg5'].values, sen_time).to_dict()\n",
        "\n",
        "# Create a data series combining the timestamp5 + 24 hours information\n",
        "timePlus24h = test_copy['timestamp5'] + hours_added\n",
        "\n",
        "# Create a mapping column that combines the sensor_id & timestamp5+24h\n",
        "sensor_timePlus24h = (test_copy['sensor_id'].astype(str) + timePlus24h.astype(str))\n",
        "\n",
        "# Create a new_label series by mapping the dictionary onto sensor_timePlus24h\n",
        "new_label = sensor_timePlus24h.map(dictionary)\n",
        "\n",
        "# Extract indices where this series has non-NaN values\n",
        "where = new_label.notnull()\n",
        "\n",
        "# Replace the values in the 'label' column with only non-NaN new_label values\n",
        "test_copy.loc[where, 'label'] = new_label.loc[where]"
      ],
      "execution_count": null,
      "outputs": []
    },
    {
      "cell_type": "code",
      "metadata": {
        "id": "wLCvO75RLa3n"
      },
      "source": [
        "test_copy.to_csv('test-24hours.csv')\n",
        "!cp test-24hours.csv '{datasets}'"
      ],
      "execution_count": null,
      "outputs": []
    },
    {
      "cell_type": "markdown",
      "metadata": {
        "id": "kL4iRP_dLa3o"
      },
      "source": [
        "## Treinando com dataset ajustado para 24 horas"
      ]
    },
    {
      "cell_type": "markdown",
      "metadata": {
        "id": "rlACYDEFLa3o"
      },
      "source": [
        "### Removendo features desnecessárias"
      ]
    },
    {
      "cell_type": "code",
      "metadata": {
        "id": "IgeAUBPULa3p",
        "outputId": "9641335b-b3ed-4799-d85a-4084aad4e27b",
        "colab": {
          "base_uri": "https://localhost:8080/",
          "height": 53
        }
      },
      "source": [
        "## Only if kernel restarted\n",
        "\n",
        "# Agosto + Setembro de 2014\n",
        "data = pd.read_csv(f'{datasets}/data-24hours.csv', parse_dates=[\"timestamp5\"])\n",
        "\n",
        "# Outubro como teste\n",
        "test = pd.read_csv(f'{datasets}/test-24hours.csv', parse_dates=[\"timestamp5\"])"
      ],
      "execution_count": null,
      "outputs": [
        {
          "output_type": "stream",
          "text": [
            "/usr/local/lib/python3.6/dist-packages/IPython/core/interactiveshell.py:2718: DtypeWarning: Columns (1) have mixed types.Specify dtype option on import or set low_memory=False.\n",
            "  interactivity=interactivity, compiler=compiler, result=result)\n"
          ],
          "name": "stderr"
        }
      ]
    },
    {
      "cell_type": "code",
      "metadata": {
        "id": "n3mpOF7RLa3r",
        "outputId": "1d47d3e6-ba30-4ca6-daa9-492c446d7c06",
        "colab": {
          "base_uri": "https://localhost:8080/",
          "height": 152
        }
      },
      "source": [
        "hours_added = datetime.timedelta(hours = 24)\n",
        "index = 1\n",
        "hours_ahead = data.loc[index, \"timestamp5\"] + hours_added\n",
        "\n",
        "print(data.loc[index, [\"sensor_id\", \"label\", \"timestamp5\"]], hours_ahead)\n",
        "data[((data[\"timestamp5\"] == hours_ahead) & (data[\"sensor_id\"] == data[\"sensor_id\"].loc[index]))][[\"sensor_id\", \"avg5\", \"timestamp5\"]]"
      ],
      "execution_count": null,
      "outputs": [
        {
          "output_type": "stream",
          "text": [
            "sensor_id                 1385001\n",
            "label                     48.8462\n",
            "timestamp5    2014-08-01 00:05:00\n",
            "Name: 1, dtype: object 2014-08-02 00:05:00\n"
          ],
          "name": "stdout"
        },
        {
          "output_type": "execute_result",
          "data": {
            "text/html": [
              "<div>\n",
              "<style scoped>\n",
              "    .dataframe tbody tr th:only-of-type {\n",
              "        vertical-align: middle;\n",
              "    }\n",
              "\n",
              "    .dataframe tbody tr th {\n",
              "        vertical-align: top;\n",
              "    }\n",
              "\n",
              "    .dataframe thead th {\n",
              "        text-align: right;\n",
              "    }\n",
              "</style>\n",
              "<table border=\"1\" class=\"dataframe\">\n",
              "  <thead>\n",
              "    <tr style=\"text-align: right;\">\n",
              "      <th></th>\n",
              "      <th>sensor_id</th>\n",
              "      <th>avg5</th>\n",
              "      <th>timestamp5</th>\n",
              "    </tr>\n",
              "  </thead>\n",
              "  <tbody>\n",
              "    <tr>\n",
              "      <th>287</th>\n",
              "      <td>1385001</td>\n",
              "      <td>48.846153</td>\n",
              "      <td>2014-08-02 00:05:00</td>\n",
              "    </tr>\n",
              "  </tbody>\n",
              "</table>\n",
              "</div>"
            ],
            "text/plain": [
              "    sensor_id       avg5          timestamp5\n",
              "287   1385001  48.846153 2014-08-02 00:05:00"
            ]
          },
          "metadata": {
            "tags": []
          },
          "execution_count": 6
        }
      ]
    },
    {
      "cell_type": "code",
      "metadata": {
        "id": "-e367RNUPjZV"
      },
      "source": [
        "data.drop(data.iloc[:, 15:25], inplace=True, axis=1) #removing from size1w to std2w\n",
        "\n",
        "del data['sensor_id']\n",
        "del data['timestamp5']\n",
        "del data['Unnamed: 0']\n",
        "\n",
        "test.drop(test.iloc[:, 15:25], inplace=True, axis=1) #removing from size1w to std2w\n",
        "del test['sensor_id']\n",
        "del test['timestamp5']\n",
        "del test['Unnamed: 0']"
      ],
      "execution_count": null,
      "outputs": []
    },
    {
      "cell_type": "code",
      "metadata": {
        "id": "kimBtG0JLa30",
        "outputId": "c4d9cd7e-4d7c-4c3d-980f-656a219aa66d",
        "colab": {
          "base_uri": "https://localhost:8080/",
          "height": 204
        }
      },
      "source": [
        "data.head()"
      ],
      "execution_count": null,
      "outputs": [
        {
          "output_type": "execute_result",
          "data": {
            "text/html": [
              "<div>\n",
              "<style scoped>\n",
              "    .dataframe tbody tr th:only-of-type {\n",
              "        vertical-align: middle;\n",
              "    }\n",
              "\n",
              "    .dataframe tbody tr th {\n",
              "        vertical-align: top;\n",
              "    }\n",
              "\n",
              "    .dataframe thead th {\n",
              "        text-align: right;\n",
              "    }\n",
              "</style>\n",
              "<table border=\"1\" class=\"dataframe\">\n",
              "  <thead>\n",
              "    <tr style=\"text-align: right;\">\n",
              "      <th></th>\n",
              "      <th>day_of_week</th>\n",
              "      <th>slot_of_day</th>\n",
              "      <th>lane</th>\n",
              "      <th>size5</th>\n",
              "      <th>min5</th>\n",
              "      <th>max5</th>\n",
              "      <th>avg5</th>\n",
              "      <th>std5</th>\n",
              "      <th>size30</th>\n",
              "      <th>min30</th>\n",
              "      <th>max30</th>\n",
              "      <th>avg30</th>\n",
              "      <th>std30</th>\n",
              "      <th>working_day</th>\n",
              "      <th>speed_limit</th>\n",
              "      <th>label</th>\n",
              "    </tr>\n",
              "  </thead>\n",
              "  <tbody>\n",
              "    <tr>\n",
              "      <th>0</th>\n",
              "      <td>4</td>\n",
              "      <td>0</td>\n",
              "      <td>3</td>\n",
              "      <td>33</td>\n",
              "      <td>32.0</td>\n",
              "      <td>59.0</td>\n",
              "      <td>49.484848</td>\n",
              "      <td>6.035859</td>\n",
              "      <td>168.0</td>\n",
              "      <td>25.0</td>\n",
              "      <td>61.0</td>\n",
              "      <td>49.678571</td>\n",
              "      <td>5.961505</td>\n",
              "      <td>1</td>\n",
              "      <td>67</td>\n",
              "      <td>49.409092</td>\n",
              "    </tr>\n",
              "    <tr>\n",
              "      <th>1</th>\n",
              "      <td>4</td>\n",
              "      <td>1</td>\n",
              "      <td>3</td>\n",
              "      <td>34</td>\n",
              "      <td>35.0</td>\n",
              "      <td>62.0</td>\n",
              "      <td>51.735294</td>\n",
              "      <td>5.569396</td>\n",
              "      <td>174.0</td>\n",
              "      <td>25.0</td>\n",
              "      <td>62.0</td>\n",
              "      <td>50.114943</td>\n",
              "      <td>6.018984</td>\n",
              "      <td>1</td>\n",
              "      <td>67</td>\n",
              "      <td>48.846153</td>\n",
              "    </tr>\n",
              "    <tr>\n",
              "      <th>2</th>\n",
              "      <td>4</td>\n",
              "      <td>2</td>\n",
              "      <td>3</td>\n",
              "      <td>32</td>\n",
              "      <td>37.0</td>\n",
              "      <td>60.0</td>\n",
              "      <td>51.593750</td>\n",
              "      <td>5.011608</td>\n",
              "      <td>188.0</td>\n",
              "      <td>25.0</td>\n",
              "      <td>62.0</td>\n",
              "      <td>50.494681</td>\n",
              "      <td>5.920122</td>\n",
              "      <td>1</td>\n",
              "      <td>67</td>\n",
              "      <td>48.896553</td>\n",
              "    </tr>\n",
              "    <tr>\n",
              "      <th>3</th>\n",
              "      <td>4</td>\n",
              "      <td>3</td>\n",
              "      <td>3</td>\n",
              "      <td>30</td>\n",
              "      <td>31.0</td>\n",
              "      <td>57.0</td>\n",
              "      <td>49.266666</td>\n",
              "      <td>5.519260</td>\n",
              "      <td>185.0</td>\n",
              "      <td>29.0</td>\n",
              "      <td>62.0</td>\n",
              "      <td>50.437838</td>\n",
              "      <td>5.835370</td>\n",
              "      <td>1</td>\n",
              "      <td>67</td>\n",
              "      <td>47.820515</td>\n",
              "    </tr>\n",
              "    <tr>\n",
              "      <th>4</th>\n",
              "      <td>4</td>\n",
              "      <td>4</td>\n",
              "      <td>3</td>\n",
              "      <td>37</td>\n",
              "      <td>31.0</td>\n",
              "      <td>60.0</td>\n",
              "      <td>50.135136</td>\n",
              "      <td>5.619282</td>\n",
              "      <td>196.0</td>\n",
              "      <td>31.0</td>\n",
              "      <td>62.0</td>\n",
              "      <td>50.576531</td>\n",
              "      <td>5.621502</td>\n",
              "      <td>1</td>\n",
              "      <td>67</td>\n",
              "      <td>50.224490</td>\n",
              "    </tr>\n",
              "  </tbody>\n",
              "</table>\n",
              "</div>"
            ],
            "text/plain": [
              "   day_of_week  slot_of_day  lane  ...  working_day  speed_limit      label\n",
              "0            4            0     3  ...            1           67  49.409092\n",
              "1            4            1     3  ...            1           67  48.846153\n",
              "2            4            2     3  ...            1           67  48.896553\n",
              "3            4            3     3  ...            1           67  47.820515\n",
              "4            4            4     3  ...            1           67  50.224490\n",
              "\n",
              "[5 rows x 16 columns]"
            ]
          },
          "metadata": {
            "tags": []
          },
          "execution_count": 8
        }
      ]
    },
    {
      "cell_type": "markdown",
      "metadata": {
        "id": "LBWil79fLa31"
      },
      "source": [
        "### Divisão em treino, teste e validação"
      ]
    },
    {
      "cell_type": "code",
      "metadata": {
        "id": "9d7jpovLLa31"
      },
      "source": [
        "label = data[\"label\"].values\n",
        "tr_data = data.iloc[:,:-1].values\n",
        "\n",
        "X = test.iloc[:,:-1].values\n",
        "y = test[\"label\"].values\n",
        "\n",
        "X_val, X_test, y_val, y_test = train_test_split(X, y, test_size=0.5)"
      ],
      "execution_count": null,
      "outputs": []
    },
    {
      "cell_type": "markdown",
      "metadata": {
        "id": "lQne7RuALa33"
      },
      "source": [
        "### Treinamento"
      ]
    },
    {
      "cell_type": "code",
      "metadata": {
        "id": "gxBJ9uS3La34"
      },
      "source": [
        "eval_set = [(X_val, y_val)]"
      ],
      "execution_count": null,
      "outputs": []
    },
    {
      "cell_type": "code",
      "metadata": {
        "id": "B3E3uv2OLa35",
        "outputId": "cd6e579c-81bb-424f-b499-0d1c88493677",
        "colab": {
          "base_uri": "https://localhost:8080/",
          "height": 35
        }
      },
      "source": [
        "lr = LinearRegression()\n",
        "\n",
        "lr.fit(tr_data, label)"
      ],
      "execution_count": null,
      "outputs": [
        {
          "output_type": "execute_result",
          "data": {
            "text/plain": [
              "LinearRegression(copy_X=True, fit_intercept=True, n_jobs=None, normalize=False)"
            ]
          },
          "metadata": {
            "tags": []
          },
          "execution_count": 11
        }
      ]
    },
    {
      "cell_type": "code",
      "metadata": {
        "id": "ksvWdzn5La38",
        "outputId": "8d394f20-f4e7-4770-ad3f-88f1d041c0aa",
        "colab": {
          "base_uri": "https://localhost:8080/",
          "height": 35
        }
      },
      "source": [
        "pred = lr.predict(X_test)\n",
        "\n",
        "rmse = np.sqrt(metrics.mean_squared_error(y_test, pred))\n",
        "print(rmse)"
      ],
      "execution_count": null,
      "outputs": [
        {
          "output_type": "stream",
          "text": [
            "4.669718007011461\n"
          ],
          "name": "stdout"
        }
      ]
    },
    {
      "cell_type": "code",
      "metadata": {
        "id": "kPnBoTmtLa39"
      },
      "source": [
        "xgboost = xgb.XGBRegressor(n_estimators=3000, tree_method='gpu_hist', objective ='reg:squarederror', learning_rate=0.01,\n",
        "                            max_depth=12, random_state=seed)"
      ],
      "execution_count": null,
      "outputs": []
    },
    {
      "cell_type": "code",
      "metadata": {
        "id": "JxaougXoLa3_",
        "outputId": "7a0bcba0-cbb3-4bf4-b594-91b94f4efe4d",
        "colab": {
          "base_uri": "https://localhost:8080/",
          "height": 161
        }
      },
      "source": [
        "xgboost.fit(tr_data, label, eval_set=eval_set, eval_metric=\"rmse\", early_stopping_rounds=20, verbose=False)"
      ],
      "execution_count": null,
      "outputs": [
        {
          "output_type": "execute_result",
          "data": {
            "text/plain": [
              "XGBRegressor(base_score=0.5, booster='gbtree', colsample_bylevel=1,\n",
              "             colsample_bynode=1, colsample_bytree=1, gamma=0,\n",
              "             importance_type='gain', learning_rate=0.01, max_delta_step=0,\n",
              "             max_depth=12, min_child_weight=1, missing=None, n_estimators=3000,\n",
              "             n_jobs=1, nthread=None, objective='reg:squarederror',\n",
              "             random_state=42, reg_alpha=0, reg_lambda=1, scale_pos_weight=1,\n",
              "             seed=None, silent=None, subsample=1, tree_method='gpu_hist',\n",
              "             verbosity=1)"
            ]
          },
          "metadata": {
            "tags": []
          },
          "execution_count": 14
        }
      ]
    },
    {
      "cell_type": "code",
      "metadata": {
        "id": "WPirXWlqLa4B",
        "outputId": "a9901fcd-e554-4602-c5ab-2e26da39680c",
        "colab": {
          "base_uri": "https://localhost:8080/",
          "height": 35
        }
      },
      "source": [
        "pred_xgb = xgboost.predict(X_test, ntree_limit=xgboost.best_ntree_limit)\n",
        "rmse_xgb = np.sqrt(metrics.mean_squared_error(y_test, pred_xgb))\n",
        "\n",
        "rmse_xgb"
      ],
      "execution_count": null,
      "outputs": [
        {
          "output_type": "execute_result",
          "data": {
            "text/plain": [
              "4.432129857429031"
            ]
          },
          "metadata": {
            "tags": []
          },
          "execution_count": 15
        }
      ]
    },
    {
      "cell_type": "code",
      "metadata": {
        "id": "j2lYq6ccLa4D",
        "outputId": "366c3aa2-a78e-49cf-e605-5e6c48b8a09c",
        "colab": {
          "base_uri": "https://localhost:8080/",
          "height": 35
        }
      },
      "source": [
        "print(xgboost.best_ntree_limit, xgboost.best_score)"
      ],
      "execution_count": null,
      "outputs": [
        {
          "output_type": "stream",
          "text": [
            "650 4.419127\n"
          ],
          "name": "stdout"
        }
      ]
    },
    {
      "cell_type": "markdown",
      "metadata": {
        "id": "zvXGMMZHLa4G"
      },
      "source": [
        "### Importância das features"
      ]
    },
    {
      "cell_type": "code",
      "metadata": {
        "id": "D3e0QMVWLa4G"
      },
      "source": [
        "column_names = [*data]"
      ],
      "execution_count": null,
      "outputs": []
    },
    {
      "cell_type": "code",
      "metadata": {
        "id": "VtlPLVGOLa4L"
      },
      "source": [
        "xgboost.get_booster().feature_names = column_names"
      ],
      "execution_count": null,
      "outputs": []
    },
    {
      "cell_type": "code",
      "metadata": {
        "id": "GBXmAb3oLa4P",
        "outputId": "9b3bd2f0-d87a-4aae-f8de-2ad9363bf122",
        "colab": {
          "base_uri": "https://localhost:8080/",
          "height": 283
        }
      },
      "source": [
        "feature_important = xgboost.get_booster().get_score(importance_type='gain')\n",
        "keys = list(feature_important.keys())\n",
        "values = list(feature_important.values())\n",
        "\n",
        "dt = pd.DataFrame(data=values, index=keys, columns=[\"score\"]).sort_values(by = \"score\", ascending=False)\n",
        "dt.plot(kind='barh')"
      ],
      "execution_count": null,
      "outputs": [
        {
          "output_type": "execute_result",
          "data": {
            "text/plain": [
              "<matplotlib.axes._subplots.AxesSubplot at 0x7fcb942d2c88>"
            ]
          },
          "metadata": {
            "tags": []
          },
          "execution_count": 19
        },
        {
          "output_type": "display_data",
          "data": {
            "image/png": "[encoded data removed]",
            "text/plain": [
              "<Figure size 432x288 with 1 Axes>"
            ]
          },
          "metadata": {
            "tags": [],
            "needs_background": "light"
          }
        }
      ]
    },
    {
      "cell_type": "code",
      "metadata": {
        "id": "DX_uBmfDLa4Q",
        "outputId": "200078d8-6d7a-44a4-c6bb-5c1d1f487647",
        "colab": {
          "base_uri": "https://localhost:8080/",
          "height": 283
        }
      },
      "source": [
        "feature_important = xgboost.get_booster().get_score(importance_type='weight')\n",
        "keys = list(feature_important.keys())\n",
        "values = list(feature_important.values())\n",
        "\n",
        "dt = pd.DataFrame(data=values, index=keys, columns=[\"score\"]).sort_values(by = \"score\", ascending=False)\n",
        "dt.plot(kind='barh')"
      ],
      "execution_count": null,
      "outputs": [
        {
          "output_type": "execute_result",
          "data": {
            "text/plain": [
              "<matplotlib.axes._subplots.AxesSubplot at 0x7fcb948f04a8>"
            ]
          },
          "metadata": {
            "tags": []
          },
          "execution_count": 20
        },
        {
          "output_type": "display_data",
          "data": {
            "image/png": "[encoded data removed]",
            "text/plain": [
              "<Figure size 432x288 with 1 Axes>"
            ]
          },
          "metadata": {
            "tags": [],
            "needs_background": "light"
          }
        }
      ]
    },
    {
      "cell_type": "markdown",
      "metadata": {
        "id": "xHIDl65wk9Ex"
      },
      "source": [
        "# Avaliação com AutoML"
      ]
    },
    {
      "cell_type": "markdown",
      "metadata": {
        "id": "jr17A3Yxz8-F"
      },
      "source": [
        "## Instalando e iniciando H2O"
      ]
    },
    {
      "cell_type": "code",
      "metadata": {
        "id": "p-waNTIMnHXf",
        "outputId": "0100d006-04e7-4d77-d220-5cf6df20ffcc",
        "colab": {
          "base_uri": "https://localhost:8080/",
          "height": 175
        }
      },
      "source": [
        "!apt-get install default-jre\n",
        "!java -version"
      ],
      "execution_count": null,
      "outputs": [
        {
          "output_type": "stream",
          "text": [
            "Reading package lists... Done\n",
            "Building dependency tree       \n",
            "Reading state information... Done\n",
            "default-jre is already the newest version (2:1.11-68ubuntu1~18.04.1).\n",
            "default-jre set to manually installed.\n",
            "0 upgraded, 0 newly installed, 0 to remove and 11 not upgraded.\n",
            "openjdk version \"11.0.8\" 2020-07-14\n",
            "OpenJDK Runtime Environment (build 11.0.8+10-post-Ubuntu-0ubuntu118.04.1)\n",
            "OpenJDK 64-Bit Server VM (build 11.0.8+10-post-Ubuntu-0ubuntu118.04.1, mixed mode, sharing)\n"
          ],
          "name": "stdout"
        }
      ]
    },
    {
      "cell_type": "code",
      "metadata": {
        "id": "cSBMcWi1z8-L",
        "outputId": "26e141b2-f7e7-4396-9538-b5f637fdba5e",
        "colab": {
          "base_uri": "https://localhost:8080/",
          "height": 424
        }
      },
      "source": [
        "#!pip install h2o\n",
        "!pip install -f http://h2o-release.s3.amazonaws.com/h2o/latest_stable_Py.html h2o"
      ],
      "execution_count": null,
      "outputs": [
        {
          "output_type": "stream",
          "text": [
            "Looking in links: http://h2o-release.s3.amazonaws.com/h2o/latest_stable_Py.html\n",
            "\u001b[33mWARNING: The repository located at h2o-release.s3.amazonaws.com is not a trusted or secure host and is being ignored. If this repository is available via HTTPS we recommend you use HTTPS instead, otherwise you may silence this warning and allow it anyway with '--trusted-host h2o-release.s3.amazonaws.com'.\u001b[0m\n",
            "Collecting h2o\n",
            "\u001b[?25l  Downloading https://files.pythonhosted.org/packages/b7/83/53eb19ffd83e99ccd77bd1ee9f87b2a663f75f5cb725cdac3eaa004de197/h2o-3.30.1.2.tar.gz (129.4MB)\n",
            "\u001b[K     |████████████████████████████████| 129.4MB 61kB/s \n",
            "\u001b[?25hRequirement already satisfied: requests in /usr/local/lib/python3.6/dist-packages (from h2o) (2.23.0)\n",
            "Requirement already satisfied: tabulate in /usr/local/lib/python3.6/dist-packages (from h2o) (0.8.7)\n",
            "Requirement already satisfied: future in /usr/local/lib/python3.6/dist-packages (from h2o) (0.16.0)\n",
            "\u001b[33mWARNING: The repository located at h2o-release.s3.amazonaws.com is not a trusted or secure host and is being ignored. If this repository is available via HTTPS we recommend you use HTTPS instead, otherwise you may silence this warning and allow it anyway with '--trusted-host h2o-release.s3.amazonaws.com'.\u001b[0m\n",
            "Collecting colorama>=0.3.8\n",
            "  Downloading https://files.pythonhosted.org/packages/c9/dc/45cdef1b4d119eb96316b3117e6d5708a08029992b2fee2c143c7a0a5cc5/colorama-0.4.3-py2.py3-none-any.whl\n",
            "Requirement already satisfied: urllib3!=1.25.0,!=1.25.1,<1.26,>=1.21.1 in /usr/local/lib/python3.6/dist-packages (from requests->h2o) (1.24.3)\n",
            "Requirement already satisfied: idna<3,>=2.5 in /usr/local/lib/python3.6/dist-packages (from requests->h2o) (2.10)\n",
            "Requirement already satisfied: certifi>=2017.4.17 in /usr/local/lib/python3.6/dist-packages (from requests->h2o) (2020.6.20)\n",
            "Requirement already satisfied: chardet<4,>=3.0.2 in /usr/local/lib/python3.6/dist-packages (from requests->h2o) (3.0.4)\n",
            "Building wheels for collected packages: h2o\n",
            "  Building wheel for h2o (setup.py) ... \u001b[?25l\u001b[?25hdone\n",
            "  Created wheel for h2o: filename=h2o-3.30.1.2-py2.py3-none-any.whl size=129446949 sha256=bc7faf13cbb98ddb10f19f0096c4c5db202f42aff2b60cc6e2c9a1908f471a3a\n",
            "  Stored in directory: /root/.cache/pip/wheels/c6/be/83/a33a3c1c97fce1d136222bf4ed6d79da405ef6103f5b434c1e\n",
            "Successfully built h2o\n",
            "Installing collected packages: colorama, h2o\n",
            "Successfully installed colorama-0.4.3 h2o-3.30.1.2\n"
          ],
          "name": "stdout"
        }
      ]
    },
    {
      "cell_type": "code",
      "metadata": {
        "id": "Y2I4OMFHz8-b",
        "outputId": "95f47b57-2c6c-4d08-d1ef-31048e65760b",
        "colab": {
          "base_uri": "https://localhost:8080/",
          "height": 534
        }
      },
      "source": [
        "#JVM is already installed\n",
        "import h2o\n",
        "h2o.no_progress()\n",
        "\n",
        "h2o.init(nthreads=-1, max_mem_size=\"18G\")"
      ],
      "execution_count": null,
      "outputs": [
        {
          "output_type": "stream",
          "text": [
            "Checking whether there is an H2O instance running at http://localhost:54321 ..... not found.\n",
            "Attempting to start a local H2O server...\n",
            "  Java Version: openjdk version \"11.0.8\" 2020-07-14; OpenJDK Runtime Environment (build 11.0.8+10-post-Ubuntu-0ubuntu118.04.1); OpenJDK 64-Bit Server VM (build 11.0.8+10-post-Ubuntu-0ubuntu118.04.1, mixed mode, sharing)\n",
            "  Starting server from /usr/local/lib/python3.6/dist-packages/h2o/backend/bin/h2o.jar\n",
            "  Ice root: /tmp/tmps5638fem\n",
            "  JVM stdout: /tmp/tmps5638fem/h2o_unknownUser_started_from_python.out\n",
            "  JVM stderr: /tmp/tmps5638fem/h2o_unknownUser_started_from_python.err\n",
            "  Server is running at http://127.0.0.1:54321\n",
            "Connecting to H2O server at http://127.0.0.1:54321 ... successful.\n"
          ],
          "name": "stdout"
        },
        {
          "output_type": "display_data",
          "data": {
            "text/html": [
              "<div style=\"overflow:auto\"><table style=\"width:50%\"><tr><td>H2O_cluster_uptime:</td>\n",
              "<td>02 secs</td></tr>\n",
              "<tr><td>H2O_cluster_timezone:</td>\n",
              "<td>Etc/UTC</td></tr>\n",
              "<tr><td>H2O_data_parsing_timezone:</td>\n",
              "<td>UTC</td></tr>\n",
              "<tr><td>H2O_cluster_version:</td>\n",
              "<td>3.30.1.2</td></tr>\n",
              "<tr><td>H2O_cluster_version_age:</td>\n",
              "<td>18 days </td></tr>\n",
              "<tr><td>H2O_cluster_name:</td>\n",
              "<td>H2O_from_python_unknownUser_v8ryl0</td></tr>\n",
              "<tr><td>H2O_cluster_total_nodes:</td>\n",
              "<td>1</td></tr>\n",
              "<tr><td>H2O_cluster_free_memory:</td>\n",
              "<td>18 Gb</td></tr>\n",
              "<tr><td>H2O_cluster_total_cores:</td>\n",
              "<td>2</td></tr>\n",
              "<tr><td>H2O_cluster_allowed_cores:</td>\n",
              "<td>2</td></tr>\n",
              "<tr><td>H2O_cluster_status:</td>\n",
              "<td>accepting new members, healthy</td></tr>\n",
              "<tr><td>H2O_connection_url:</td>\n",
              "<td>http://127.0.0.1:54321</td></tr>\n",
              "<tr><td>H2O_connection_proxy:</td>\n",
              "<td>{\"http\": null, \"https\": null}</td></tr>\n",
              "<tr><td>H2O_internal_security:</td>\n",
              "<td>False</td></tr>\n",
              "<tr><td>H2O_API_Extensions:</td>\n",
              "<td>Amazon S3, XGBoost, Algos, AutoML, Core V3, TargetEncoder, Core V4</td></tr>\n",
              "<tr><td>Python_version:</td>\n",
              "<td>3.6.9 final</td></tr></table></div>"
            ],
            "text/plain": [
              "--------------------------  ------------------------------------------------------------------\n",
              "H2O_cluster_uptime:         02 secs\n",
              "H2O_cluster_timezone:       Etc/UTC\n",
              "H2O_data_parsing_timezone:  UTC\n",
              "H2O_cluster_version:        3.30.1.2\n",
              "H2O_cluster_version_age:    18 days\n",
              "H2O_cluster_name:           H2O_from_python_unknownUser_v8ryl0\n",
              "H2O_cluster_total_nodes:    1\n",
              "H2O_cluster_free_memory:    18 Gb\n",
              "H2O_cluster_total_cores:    2\n",
              "H2O_cluster_allowed_cores:  2\n",
              "H2O_cluster_status:         accepting new members, healthy\n",
              "H2O_connection_url:         http://127.0.0.1:54321\n",
              "H2O_connection_proxy:       {\"http\": null, \"https\": null}\n",
              "H2O_internal_security:      False\n",
              "H2O_API_Extensions:         Amazon S3, XGBoost, Algos, AutoML, Core V3, TargetEncoder, Core V4\n",
              "Python_version:             3.6.9 final\n",
              "--------------------------  ------------------------------------------------------------------"
            ]
          },
          "metadata": {
            "tags": []
          }
        }
      ]
    },
    {
      "cell_type": "code",
      "metadata": {
        "id": "JqciOWlNAsnf"
      },
      "source": [
        "#h2o.cluster().shutdown()"
      ],
      "execution_count": null,
      "outputs": []
    },
    {
      "cell_type": "markdown",
      "metadata": {
        "id": "5LtiHQLa_FW7"
      },
      "source": [
        "## Configurações globais"
      ]
    },
    {
      "cell_type": "code",
      "metadata": {
        "id": "sasmo_k10B7q"
      },
      "source": [
        "#import h2o_utils\n",
        "from h2o.automl import H2OAutoML"
      ],
      "execution_count": null,
      "outputs": []
    },
    {
      "cell_type": "markdown",
      "metadata": {
        "id": "u39Pnj3v3yyf"
      },
      "source": [
        "## Separando dados em treino, teste e validação"
      ]
    },
    {
      "cell_type": "code",
      "metadata": {
        "id": "6MQh1xTr01BI"
      },
      "source": [
        "data = h2o.import_file(f\"{datasets}/data-06hours.csv\")\n",
        "test = h2o.import_file(f\"{datasets}/test-06hours.csv\")"
      ],
      "execution_count": null,
      "outputs": []
    },
    {
      "cell_type": "markdown",
      "metadata": {
        "id": "exLtLB-wSYU-"
      },
      "source": [
        "### Juntando datasets de agosto e setembro"
      ]
    },
    {
      "cell_type": "code",
      "metadata": {
        "id": "mQfrHQny5SpO"
      },
      "source": [
        "# combining two h2o frames\n",
        "#data = agosto.rbind(setembro)"
      ],
      "execution_count": null,
      "outputs": []
    },
    {
      "cell_type": "code",
      "metadata": {
        "id": "OMuCk4F3sl9L",
        "outputId": "c19d3291-160f-4078-81ec-4f487b54a057",
        "colab": {
          "base_uri": "https://localhost:8080/",
          "height": 426
        }
      },
      "source": [
        "data.head()"
      ],
      "execution_count": null,
      "outputs": [
        {
          "output_type": "display_data",
          "data": {
            "text/html": [
              "<table>\n",
              "<thead>\n",
              "<tr><th style=\"text-align: right;\">  C1</th><th style=\"text-align: right;\">  sensor_id</th><th style=\"text-align: right;\">  day_of_week</th><th style=\"text-align: right;\">  slot_of_day</th><th style=\"text-align: right;\">  lane</th><th style=\"text-align: right;\">  size5</th><th style=\"text-align: right;\">  min5</th><th style=\"text-align: right;\">  max5</th><th style=\"text-align: right;\">   avg5</th><th style=\"text-align: right;\">   std5</th><th style=\"text-align: right;\">  size30</th><th style=\"text-align: right;\">  min30</th><th style=\"text-align: right;\">  max30</th><th style=\"text-align: right;\">  avg30</th><th style=\"text-align: right;\">  std30</th><th style=\"text-align: right;\">  size1w</th><th style=\"text-align: right;\">  min1w</th><th style=\"text-align: right;\">  max1w</th><th style=\"text-align: right;\">  avg1w</th><th style=\"text-align: right;\">  std1w</th><th style=\"text-align: right;\">  size2w</th><th style=\"text-align: right;\">  min2w</th><th style=\"text-align: right;\">  max2w</th><th style=\"text-align: right;\">  avg2w</th><th style=\"text-align: right;\">  std2w</th><th style=\"text-align: right;\">  working_day</th><th style=\"text-align: right;\">  speed_limit</th><th style=\"text-align: right;\">  label</th><th>timestamp5         </th></tr>\n",
              "</thead>\n",
              "<tbody>\n",
              "<tr><td style=\"text-align: right;\">   0</td><td style=\"text-align: right;\">  1.385e+06</td><td style=\"text-align: right;\">            4</td><td style=\"text-align: right;\">            0</td><td style=\"text-align: right;\">     3</td><td style=\"text-align: right;\">     33</td><td style=\"text-align: right;\">    32</td><td style=\"text-align: right;\">    59</td><td style=\"text-align: right;\">49.4848</td><td style=\"text-align: right;\">6.03586</td><td style=\"text-align: right;\">     168</td><td style=\"text-align: right;\">     25</td><td style=\"text-align: right;\">     61</td><td style=\"text-align: right;\">49.6786</td><td style=\"text-align: right;\">5.9615 </td><td style=\"text-align: right;\">      55</td><td style=\"text-align: right;\">     40</td><td style=\"text-align: right;\">     58</td><td style=\"text-align: right;\">49.6545</td><td style=\"text-align: right;\">4.52154</td><td style=\"text-align: right;\">      32</td><td style=\"text-align: right;\">     25</td><td style=\"text-align: right;\">     58</td><td style=\"text-align: right;\">47.5625</td><td style=\"text-align: right;\">7.67682</td><td style=\"text-align: right;\">            1</td><td style=\"text-align: right;\">           67</td><td style=\"text-align: right;\">40.219 </td><td>2014-08-01 00:00:00</td></tr>\n",
              "<tr><td style=\"text-align: right;\">   1</td><td style=\"text-align: right;\">  1.385e+06</td><td style=\"text-align: right;\">            4</td><td style=\"text-align: right;\">            1</td><td style=\"text-align: right;\">     3</td><td style=\"text-align: right;\">     34</td><td style=\"text-align: right;\">    35</td><td style=\"text-align: right;\">    62</td><td style=\"text-align: right;\">51.7353</td><td style=\"text-align: right;\">5.5694 </td><td style=\"text-align: right;\">     174</td><td style=\"text-align: right;\">     25</td><td style=\"text-align: right;\">     62</td><td style=\"text-align: right;\">50.1149</td><td style=\"text-align: right;\">6.01898</td><td style=\"text-align: right;\">      51</td><td style=\"text-align: right;\">     37</td><td style=\"text-align: right;\">     60</td><td style=\"text-align: right;\">49.8627</td><td style=\"text-align: right;\">5.25066</td><td style=\"text-align: right;\">      26</td><td style=\"text-align: right;\">     33</td><td style=\"text-align: right;\">     59</td><td style=\"text-align: right;\">50.7692</td><td style=\"text-align: right;\">4.97925</td><td style=\"text-align: right;\">            1</td><td style=\"text-align: right;\">           67</td><td style=\"text-align: right;\">52.6923</td><td>2014-08-01 00:05:00</td></tr>\n",
              "<tr><td style=\"text-align: right;\">   2</td><td style=\"text-align: right;\">  1.385e+06</td><td style=\"text-align: right;\">            4</td><td style=\"text-align: right;\">            2</td><td style=\"text-align: right;\">     3</td><td style=\"text-align: right;\">     32</td><td style=\"text-align: right;\">    37</td><td style=\"text-align: right;\">    60</td><td style=\"text-align: right;\">51.5938</td><td style=\"text-align: right;\">5.01161</td><td style=\"text-align: right;\">     188</td><td style=\"text-align: right;\">     25</td><td style=\"text-align: right;\">     62</td><td style=\"text-align: right;\">50.4947</td><td style=\"text-align: right;\">5.92012</td><td style=\"text-align: right;\">      30</td><td style=\"text-align: right;\">     37</td><td style=\"text-align: right;\">     56</td><td style=\"text-align: right;\">48.9667</td><td style=\"text-align: right;\">5.18641</td><td style=\"text-align: right;\">      24</td><td style=\"text-align: right;\">     11</td><td style=\"text-align: right;\">     56</td><td style=\"text-align: right;\">47.25  </td><td style=\"text-align: right;\">9.13897</td><td style=\"text-align: right;\">            1</td><td style=\"text-align: right;\">           67</td><td style=\"text-align: right;\">35.7588</td><td>2014-08-01 00:10:00</td></tr>\n",
              "<tr><td style=\"text-align: right;\">   3</td><td style=\"text-align: right;\">  1.385e+06</td><td style=\"text-align: right;\">            4</td><td style=\"text-align: right;\">            3</td><td style=\"text-align: right;\">     3</td><td style=\"text-align: right;\">     30</td><td style=\"text-align: right;\">    31</td><td style=\"text-align: right;\">    57</td><td style=\"text-align: right;\">49.2667</td><td style=\"text-align: right;\">5.51926</td><td style=\"text-align: right;\">     185</td><td style=\"text-align: right;\">     29</td><td style=\"text-align: right;\">     62</td><td style=\"text-align: right;\">50.4378</td><td style=\"text-align: right;\">5.83537</td><td style=\"text-align: right;\">      21</td><td style=\"text-align: right;\">     37</td><td style=\"text-align: right;\">     58</td><td style=\"text-align: right;\">49.1905</td><td style=\"text-align: right;\">5.18807</td><td style=\"text-align: right;\">      21</td><td style=\"text-align: right;\">     40</td><td style=\"text-align: right;\">     55</td><td style=\"text-align: right;\">48.5714</td><td style=\"text-align: right;\">4.5937 </td><td style=\"text-align: right;\">            1</td><td style=\"text-align: right;\">           67</td><td style=\"text-align: right;\">36.403 </td><td>2014-08-01 00:15:00</td></tr>\n",
              "<tr><td style=\"text-align: right;\">   4</td><td style=\"text-align: right;\">  1.385e+06</td><td style=\"text-align: right;\">            4</td><td style=\"text-align: right;\">            4</td><td style=\"text-align: right;\">     3</td><td style=\"text-align: right;\">     37</td><td style=\"text-align: right;\">    31</td><td style=\"text-align: right;\">    60</td><td style=\"text-align: right;\">50.1351</td><td style=\"text-align: right;\">5.61928</td><td style=\"text-align: right;\">     196</td><td style=\"text-align: right;\">     31</td><td style=\"text-align: right;\">     62</td><td style=\"text-align: right;\">50.5765</td><td style=\"text-align: right;\">5.6215 </td><td style=\"text-align: right;\">      31</td><td style=\"text-align: right;\">     34</td><td style=\"text-align: right;\">     58</td><td style=\"text-align: right;\">48.871 </td><td style=\"text-align: right;\">5.46981</td><td style=\"text-align: right;\">      14</td><td style=\"text-align: right;\">     42</td><td style=\"text-align: right;\">     57</td><td style=\"text-align: right;\">49.5   </td><td style=\"text-align: right;\">4.23843</td><td style=\"text-align: right;\">            1</td><td style=\"text-align: right;\">           67</td><td style=\"text-align: right;\">36.0087</td><td>2014-08-01 00:20:00</td></tr>\n",
              "<tr><td style=\"text-align: right;\">   5</td><td style=\"text-align: right;\">  1.385e+06</td><td style=\"text-align: right;\">            4</td><td style=\"text-align: right;\">            5</td><td style=\"text-align: right;\">     3</td><td style=\"text-align: right;\">     32</td><td style=\"text-align: right;\">    32</td><td style=\"text-align: right;\">    58</td><td style=\"text-align: right;\">50.5   </td><td style=\"text-align: right;\">5.44289</td><td style=\"text-align: right;\">     198</td><td style=\"text-align: right;\">     31</td><td style=\"text-align: right;\">     62</td><td style=\"text-align: right;\">50.4646</td><td style=\"text-align: right;\">5.62518</td><td style=\"text-align: right;\">      32</td><td style=\"text-align: right;\">     30</td><td style=\"text-align: right;\">     56</td><td style=\"text-align: right;\">47.625 </td><td style=\"text-align: right;\">5.4357 </td><td style=\"text-align: right;\">      19</td><td style=\"text-align: right;\">     32</td><td style=\"text-align: right;\">     58</td><td style=\"text-align: right;\">46.6842</td><td style=\"text-align: right;\">7.61614</td><td style=\"text-align: right;\">            1</td><td style=\"text-align: right;\">           67</td><td style=\"text-align: right;\">34.5928</td><td>2014-08-01 00:25:00</td></tr>\n",
              "<tr><td style=\"text-align: right;\">   6</td><td style=\"text-align: right;\">  1.385e+06</td><td style=\"text-align: right;\">            4</td><td style=\"text-align: right;\">            6</td><td style=\"text-align: right;\">     3</td><td style=\"text-align: right;\">     35</td><td style=\"text-align: right;\">    30</td><td style=\"text-align: right;\">    59</td><td style=\"text-align: right;\">50.8   </td><td style=\"text-align: right;\">6.06065</td><td style=\"text-align: right;\">     200</td><td style=\"text-align: right;\">     30</td><td style=\"text-align: right;\">     62</td><td style=\"text-align: right;\">50.685 </td><td style=\"text-align: right;\">5.61745</td><td style=\"text-align: right;\">      29</td><td style=\"text-align: right;\">     24</td><td style=\"text-align: right;\">     59</td><td style=\"text-align: right;\">47.8621</td><td style=\"text-align: right;\">6.21857</td><td style=\"text-align: right;\">      14</td><td style=\"text-align: right;\">     40</td><td style=\"text-align: right;\">     57</td><td style=\"text-align: right;\">50.5714</td><td style=\"text-align: right;\">4.10077</td><td style=\"text-align: right;\">            1</td><td style=\"text-align: right;\">           67</td><td style=\"text-align: right;\">34.352 </td><td>2014-08-01 00:30:00</td></tr>\n",
              "<tr><td style=\"text-align: right;\">   7</td><td style=\"text-align: right;\">  1.385e+06</td><td style=\"text-align: right;\">            4</td><td style=\"text-align: right;\">            7</td><td style=\"text-align: right;\">     3</td><td style=\"text-align: right;\">     26</td><td style=\"text-align: right;\">    44</td><td style=\"text-align: right;\">    60</td><td style=\"text-align: right;\">52.6923</td><td style=\"text-align: right;\">3.51666</td><td style=\"text-align: right;\">     192</td><td style=\"text-align: right;\">     30</td><td style=\"text-align: right;\">     60</td><td style=\"text-align: right;\">50.7708</td><td style=\"text-align: right;\">5.42175</td><td style=\"text-align: right;\">      17</td><td style=\"text-align: right;\">     40</td><td style=\"text-align: right;\">     59</td><td style=\"text-align: right;\">50.0588</td><td style=\"text-align: right;\">5.1389 </td><td style=\"text-align: right;\">      22</td><td style=\"text-align: right;\">     36</td><td style=\"text-align: right;\">     60</td><td style=\"text-align: right;\">50.4545</td><td style=\"text-align: right;\">5.32342</td><td style=\"text-align: right;\">            1</td><td style=\"text-align: right;\">           67</td><td style=\"text-align: right;\">34.9718</td><td>2014-08-01 00:35:00</td></tr>\n",
              "<tr><td style=\"text-align: right;\">   8</td><td style=\"text-align: right;\">  1.385e+06</td><td style=\"text-align: right;\">            4</td><td style=\"text-align: right;\">            8</td><td style=\"text-align: right;\">     3</td><td style=\"text-align: right;\">     32</td><td style=\"text-align: right;\">    38</td><td style=\"text-align: right;\">    60</td><td style=\"text-align: right;\">50     </td><td style=\"text-align: right;\">5.61805</td><td style=\"text-align: right;\">     192</td><td style=\"text-align: right;\">     30</td><td style=\"text-align: right;\">     60</td><td style=\"text-align: right;\">50.5052</td><td style=\"text-align: right;\">5.51229</td><td style=\"text-align: right;\">      20</td><td style=\"text-align: right;\">     34</td><td style=\"text-align: right;\">     58</td><td style=\"text-align: right;\">48.6   </td><td style=\"text-align: right;\">6.5146 </td><td style=\"text-align: right;\">      18</td><td style=\"text-align: right;\">     43</td><td style=\"text-align: right;\">     58</td><td style=\"text-align: right;\">51.6111</td><td style=\"text-align: right;\">4.58426</td><td style=\"text-align: right;\">            1</td><td style=\"text-align: right;\">           67</td><td style=\"text-align: right;\">35.7839</td><td>2014-08-01 00:40:00</td></tr>\n",
              "<tr><td style=\"text-align: right;\">   9</td><td style=\"text-align: right;\">  1.385e+06</td><td style=\"text-align: right;\">            4</td><td style=\"text-align: right;\">            9</td><td style=\"text-align: right;\">     3</td><td style=\"text-align: right;\">     26</td><td style=\"text-align: right;\">    27</td><td style=\"text-align: right;\">    57</td><td style=\"text-align: right;\">48.6154</td><td style=\"text-align: right;\">7.45281</td><td style=\"text-align: right;\">     188</td><td style=\"text-align: right;\">     27</td><td style=\"text-align: right;\">     60</td><td style=\"text-align: right;\">50.4415</td><td style=\"text-align: right;\">5.83932</td><td style=\"text-align: right;\">      17</td><td style=\"text-align: right;\">     34</td><td style=\"text-align: right;\">     54</td><td style=\"text-align: right;\">47.8235</td><td style=\"text-align: right;\">5.60709</td><td style=\"text-align: right;\">      11</td><td style=\"text-align: right;\">     42</td><td style=\"text-align: right;\">     56</td><td style=\"text-align: right;\">49.6364</td><td style=\"text-align: right;\">4.65682</td><td style=\"text-align: right;\">            1</td><td style=\"text-align: right;\">           67</td><td style=\"text-align: right;\">37.4277</td><td>2014-08-01 00:45:00</td></tr>\n",
              "</tbody>\n",
              "</table>"
            ]
          },
          "metadata": {
            "tags": []
          }
        },
        {
          "output_type": "execute_result",
          "data": {
            "text/plain": [
              ""
            ]
          },
          "metadata": {
            "tags": []
          },
          "execution_count": 10
        }
      ]
    },
    {
      "cell_type": "code",
      "metadata": {
        "id": "YEhp54e2soeX",
        "outputId": "1bb85742-89bb-418e-80dd-9f352096d07c",
        "colab": {
          "base_uri": "https://localhost:8080/",
          "height": 193
        }
      },
      "source": [
        "data.columns[15:25]"
      ],
      "execution_count": null,
      "outputs": [
        {
          "output_type": "execute_result",
          "data": {
            "text/plain": [
              "['size1w',\n",
              " 'min1w',\n",
              " 'max1w',\n",
              " 'avg1w',\n",
              " 'std1w',\n",
              " 'size2w',\n",
              " 'min2w',\n",
              " 'max2w',\n",
              " 'avg2w',\n",
              " 'std2w']"
            ]
          },
          "metadata": {
            "tags": []
          },
          "execution_count": 11
        }
      ]
    },
    {
      "cell_type": "code",
      "metadata": {
        "id": "hx3FcFUrTf8l"
      },
      "source": [
        "data = data.drop(data.columns[15:25])\n",
        "data = data.drop(\"sensor_id\")\n",
        "data = data.drop(\"timestamp5\")\n",
        "data = data.drop('C1')\n",
        "\n",
        "test = test.drop(test.columns[15:25])\n",
        "test = test.drop(\"sensor_id\")\n",
        "test = test.drop(\"timestamp5\")\n",
        "test = test.drop('C1')"
      ],
      "execution_count": null,
      "outputs": []
    },
    {
      "cell_type": "code",
      "metadata": {
        "id": "h1ROvFxq5Zt3",
        "outputId": "ba5b2e72-a1f4-45f6-bd92-f558fa876f7d",
        "colab": {
          "base_uri": "https://localhost:8080/",
          "height": 238
        }
      },
      "source": [
        "test.head()"
      ],
      "execution_count": null,
      "outputs": [
        {
          "output_type": "display_data",
          "data": {
            "text/html": [
              "<table>\n",
              "<thead>\n",
              "<tr><th style=\"text-align: right;\">  day_of_week</th><th style=\"text-align: right;\">  slot_of_day</th><th style=\"text-align: right;\">  lane</th><th style=\"text-align: right;\">  size5</th><th style=\"text-align: right;\">  min5</th><th style=\"text-align: right;\">  max5</th><th style=\"text-align: right;\">   avg5</th><th style=\"text-align: right;\">   std5</th><th style=\"text-align: right;\">  size30</th><th style=\"text-align: right;\">  min30</th><th style=\"text-align: right;\">  max30</th><th style=\"text-align: right;\">  avg30</th><th style=\"text-align: right;\">  std30</th><th style=\"text-align: right;\">  working_day</th><th style=\"text-align: right;\">  speed_limit</th><th style=\"text-align: right;\">  label</th></tr>\n",
              "</thead>\n",
              "<tbody>\n",
              "<tr><td style=\"text-align: right;\">            2</td><td style=\"text-align: right;\">            0</td><td style=\"text-align: right;\">     3</td><td style=\"text-align: right;\">     35</td><td style=\"text-align: right;\">    31</td><td style=\"text-align: right;\">    58</td><td style=\"text-align: right;\">51.3143</td><td style=\"text-align: right;\">4.86839</td><td style=\"text-align: right;\">     155</td><td style=\"text-align: right;\">     30</td><td style=\"text-align: right;\">     60</td><td style=\"text-align: right;\">49.7935</td><td style=\"text-align: right;\">6.13998</td><td style=\"text-align: right;\">            1</td><td style=\"text-align: right;\">           67</td><td style=\"text-align: right;\">35.3421</td></tr>\n",
              "<tr><td style=\"text-align: right;\">            2</td><td style=\"text-align: right;\">            1</td><td style=\"text-align: right;\">     3</td><td style=\"text-align: right;\">     38</td><td style=\"text-align: right;\">    23</td><td style=\"text-align: right;\">    60</td><td style=\"text-align: right;\">48.3684</td><td style=\"text-align: right;\">8.43371</td><td style=\"text-align: right;\">     176</td><td style=\"text-align: right;\">     23</td><td style=\"text-align: right;\">     60</td><td style=\"text-align: right;\">49.7898</td><td style=\"text-align: right;\">6.46196</td><td style=\"text-align: right;\">            1</td><td style=\"text-align: right;\">           67</td><td style=\"text-align: right;\">33.9073</td></tr>\n",
              "<tr><td style=\"text-align: right;\">            2</td><td style=\"text-align: right;\">            2</td><td style=\"text-align: right;\">     3</td><td style=\"text-align: right;\">     23</td><td style=\"text-align: right;\">    26</td><td style=\"text-align: right;\">    56</td><td style=\"text-align: right;\">49.3913</td><td style=\"text-align: right;\">6.69029</td><td style=\"text-align: right;\">     178</td><td style=\"text-align: right;\">     23</td><td style=\"text-align: right;\">     60</td><td style=\"text-align: right;\">49.7528</td><td style=\"text-align: right;\">6.45778</td><td style=\"text-align: right;\">            1</td><td style=\"text-align: right;\">           67</td><td style=\"text-align: right;\">30.0479</td></tr>\n",
              "<tr><td style=\"text-align: right;\">            2</td><td style=\"text-align: right;\">            3</td><td style=\"text-align: right;\">     2</td><td style=\"text-align: right;\">     20</td><td style=\"text-align: right;\">    34</td><td style=\"text-align: right;\">    60</td><td style=\"text-align: right;\">49.9   </td><td style=\"text-align: right;\">5.38424</td><td style=\"text-align: right;\">     176</td><td style=\"text-align: right;\">     23</td><td style=\"text-align: right;\">     60</td><td style=\"text-align: right;\">49.608 </td><td style=\"text-align: right;\">6.30293</td><td style=\"text-align: right;\">            1</td><td style=\"text-align: right;\">           67</td><td style=\"text-align: right;\">36.0632</td></tr>\n",
              "<tr><td style=\"text-align: right;\">            2</td><td style=\"text-align: right;\">            4</td><td style=\"text-align: right;\">     2</td><td style=\"text-align: right;\">     20</td><td style=\"text-align: right;\">    42</td><td style=\"text-align: right;\">    59</td><td style=\"text-align: right;\">51.2   </td><td style=\"text-align: right;\">4.72864</td><td style=\"text-align: right;\">     167</td><td style=\"text-align: right;\">     23</td><td style=\"text-align: right;\">     60</td><td style=\"text-align: right;\">49.8024</td><td style=\"text-align: right;\">6.36818</td><td style=\"text-align: right;\">            1</td><td style=\"text-align: right;\">           67</td><td style=\"text-align: right;\">41.5906</td></tr>\n",
              "<tr><td style=\"text-align: right;\">            2</td><td style=\"text-align: right;\">            5</td><td style=\"text-align: right;\">     2</td><td style=\"text-align: right;\">     21</td><td style=\"text-align: right;\">    35</td><td style=\"text-align: right;\">    59</td><td style=\"text-align: right;\">47.5238</td><td style=\"text-align: right;\">6.87036</td><td style=\"text-align: right;\">     157</td><td style=\"text-align: right;\">     23</td><td style=\"text-align: right;\">     60</td><td style=\"text-align: right;\">49.6178</td><td style=\"text-align: right;\">6.62223</td><td style=\"text-align: right;\">            1</td><td style=\"text-align: right;\">           67</td><td style=\"text-align: right;\">31.1977</td></tr>\n",
              "<tr><td style=\"text-align: right;\">            2</td><td style=\"text-align: right;\">            6</td><td style=\"text-align: right;\">     3</td><td style=\"text-align: right;\">     22</td><td style=\"text-align: right;\">    40</td><td style=\"text-align: right;\">    60</td><td style=\"text-align: right;\">50.4545</td><td style=\"text-align: right;\">5.24601</td><td style=\"text-align: right;\">     144</td><td style=\"text-align: right;\">     23</td><td style=\"text-align: right;\">     60</td><td style=\"text-align: right;\">49.3333</td><td style=\"text-align: right;\">6.75154</td><td style=\"text-align: right;\">            1</td><td style=\"text-align: right;\">           67</td><td style=\"text-align: right;\">34.7475</td></tr>\n",
              "<tr><td style=\"text-align: right;\">            2</td><td style=\"text-align: right;\">            7</td><td style=\"text-align: right;\">     2</td><td style=\"text-align: right;\">     16</td><td style=\"text-align: right;\">    33</td><td style=\"text-align: right;\">    57</td><td style=\"text-align: right;\">47.9375</td><td style=\"text-align: right;\">7.43698</td><td style=\"text-align: right;\">     122</td><td style=\"text-align: right;\">     26</td><td style=\"text-align: right;\">     60</td><td style=\"text-align: right;\">49.4508</td><td style=\"text-align: right;\">6.23331</td><td style=\"text-align: right;\">            1</td><td style=\"text-align: right;\">           67</td><td style=\"text-align: right;\">36.2976</td></tr>\n",
              "<tr><td style=\"text-align: right;\">            2</td><td style=\"text-align: right;\">            8</td><td style=\"text-align: right;\">     2</td><td style=\"text-align: right;\">     15</td><td style=\"text-align: right;\">    38</td><td style=\"text-align: right;\">    57</td><td style=\"text-align: right;\">50.9333</td><td style=\"text-align: right;\">5.335  </td><td style=\"text-align: right;\">     114</td><td style=\"text-align: right;\">     33</td><td style=\"text-align: right;\">     60</td><td style=\"text-align: right;\">49.6579</td><td style=\"text-align: right;\">6.0449 </td><td style=\"text-align: right;\">            1</td><td style=\"text-align: right;\">           67</td><td style=\"text-align: right;\">34.5392</td></tr>\n",
              "<tr><td style=\"text-align: right;\">            2</td><td style=\"text-align: right;\">            9</td><td style=\"text-align: right;\">     2</td><td style=\"text-align: right;\">      9</td><td style=\"text-align: right;\">    41</td><td style=\"text-align: right;\">    55</td><td style=\"text-align: right;\">47.4444</td><td style=\"text-align: right;\">4.19288</td><td style=\"text-align: right;\">     103</td><td style=\"text-align: right;\">     33</td><td style=\"text-align: right;\">     60</td><td style=\"text-align: right;\">49.4175</td><td style=\"text-align: right;\">6.05881</td><td style=\"text-align: right;\">            1</td><td style=\"text-align: right;\">           67</td><td style=\"text-align: right;\">35.02  </td></tr>\n",
              "</tbody>\n",
              "</table>"
            ]
          },
          "metadata": {
            "tags": []
          }
        },
        {
          "output_type": "execute_result",
          "data": {
            "text/plain": [
              ""
            ]
          },
          "metadata": {
            "tags": []
          },
          "execution_count": 13
        }
      ]
    },
    {
      "cell_type": "code",
      "metadata": {
        "id": "4_Aqj2A_Pd0g",
        "outputId": "376c589b-ccbc-4cc1-9a5c-327e1f95bbae",
        "colab": {
          "base_uri": "https://localhost:8080/",
          "height": 281
        }
      },
      "source": [
        "X = data.columns\n",
        "y = \"label\"\n",
        "\n",
        "X.remove(y) #removing label\n",
        "X"
      ],
      "execution_count": null,
      "outputs": [
        {
          "output_type": "execute_result",
          "data": {
            "text/plain": [
              "['day_of_week',\n",
              " 'slot_of_day',\n",
              " 'lane',\n",
              " 'size5',\n",
              " 'min5',\n",
              " 'max5',\n",
              " 'avg5',\n",
              " 'std5',\n",
              " 'size30',\n",
              " 'min30',\n",
              " 'max30',\n",
              " 'avg30',\n",
              " 'std30',\n",
              " 'working_day',\n",
              " 'speed_limit']"
            ]
          },
          "metadata": {
            "tags": []
          },
          "execution_count": 14
        }
      ]
    },
    {
      "cell_type": "markdown",
      "metadata": {
        "id": "PPWE0zyK4uul"
      },
      "source": [
        "## Treinamento e predição"
      ]
    },
    {
      "cell_type": "markdown",
      "metadata": {
        "id": "pjH1VYkzP7vp"
      },
      "source": [
        "### Treinamento"
      ]
    },
    {
      "cell_type": "markdown",
      "metadata": {
        "id": "BQX0FH_8T_qS"
      },
      "source": [
        "Sem distinção de algoritmos"
      ]
    },
    {
      "cell_type": "code",
      "metadata": {
        "id": "bFVWuc6p4guh"
      },
      "source": [
        "hour = int(6 * 60 * 60)\n",
        "\n",
        "aml = H2OAutoML(max_models=20, seed=seed, max_runtime_secs=hour, stopping_metric=\"RMSE\", sort_metric=\"RMSE\")"
      ],
      "execution_count": null,
      "outputs": []
    },
    {
      "cell_type": "code",
      "metadata": {
        "id": "0vEj3xKaShdC",
        "outputId": "19fbfa43-2a00-4629-92f1-782a932dab8a",
        "colab": {
          "base_uri": "https://localhost:8080/",
          "height": 594
        }
      },
      "source": [
        "start = time()\n",
        "aml.train(x=X, y=y, training_frame=data)\n",
        "\n",
        "print(f\"Elapsed {time() - start}\")"
      ],
      "execution_count": null,
      "outputs": [
        {
          "output_type": "stream",
          "text": [
            "AutoML progress: |Failed polling AutoML progress log: Job<$03017f00000132d4ffffffff$_a4e96899f0677921cb472676c8840b9> was cancelled by the user.\n",
            "█\n",
            "23:36:54.12: New models will be added to existing leaderboard AutoML_20200916_233514170@@label (leaderboard frame=null) with already 0 models.\n",
            "\n",
            "Failed polling AutoML progress log: Job<$03017f00000132d4ffffffff$_9fb0017318a8c7ec4ec460b5e3d94a13> was cancelled by the user.\n",
            "█ (cancelled)\n",
            "Failed polling AutoML progress log: Server error java.lang.IllegalArgumentException:\n",
            "  Error: class water.fvec.Frame AutoML_20200916_233514170_eventlog is already in use.  Unable to use it now.  Consider using a different destination name.\n",
            "  Request: POST /3/Parse\n",
            "    data: {'destination_frame': 'AutoML_20200916_233514170_eventlog', 'parse_type': 'CSV', 'separator': '44', 'single_quotes': 'False', 'check_header': '1', 'number_columns': '7', 'chunk_size': '4194304', 'delete_on_done': 'True', 'blocking': 'False', 'column_types': '[\"string\",\"string\",\"string\",\"string\",\"string\",\"string\",\"string\"]', 'column_names': '[\"\",\"timestamp\",\"level\",\"stage\",\"message\",\"name\",\"value\"]', 'source_frames': '[\"upload_b19a580ced6189946b7bb78ac4cf4eb3\"]'}\n",
            "\n"
          ],
          "name": "stdout"
        },
        {
          "output_type": "error",
          "ename": "H2OJobCancelled",
          "evalue": "ignored",
          "traceback": [
            "\u001b[0;31m---------------------------------------------------------------------------\u001b[0m",
            "\u001b[0;31mH2OJobCancelled\u001b[0m                           Traceback (most recent call last)",
            "\u001b[0;32m<ipython-input-16-49a2058ffbe3>\u001b[0m in \u001b[0;36m<module>\u001b[0;34m()\u001b[0m\n\u001b[1;32m      1\u001b[0m \u001b[0mstart\u001b[0m \u001b[0;34m=\u001b[0m \u001b[0mtime\u001b[0m\u001b[0;34m(\u001b[0m\u001b[0;34m)\u001b[0m\u001b[0;34m\u001b[0m\u001b[0;34m\u001b[0m\u001b[0m\n\u001b[0;32m----> 2\u001b[0;31m \u001b[0maml\u001b[0m\u001b[0;34m.\u001b[0m\u001b[0mtrain\u001b[0m\u001b[0;34m(\u001b[0m\u001b[0mx\u001b[0m\u001b[0;34m=\u001b[0m\u001b[0mX\u001b[0m\u001b[0;34m,\u001b[0m \u001b[0my\u001b[0m\u001b[0;34m=\u001b[0m\u001b[0my\u001b[0m\u001b[0;34m,\u001b[0m \u001b[0mtraining_frame\u001b[0m\u001b[0;34m=\u001b[0m\u001b[0mdata\u001b[0m\u001b[0;34m)\u001b[0m\u001b[0;34m\u001b[0m\u001b[0;34m\u001b[0m\u001b[0m\n\u001b[0m\u001b[1;32m      3\u001b[0m \u001b[0;34m\u001b[0m\u001b[0m\n\u001b[1;32m      4\u001b[0m \u001b[0mprint\u001b[0m\u001b[0;34m(\u001b[0m\u001b[0;34mf\"Elapsed {time() - start}\"\u001b[0m\u001b[0;34m)\u001b[0m\u001b[0;34m\u001b[0m\u001b[0;34m\u001b[0m\u001b[0m\n",
            "\u001b[0;32m/usr/local/lib/python3.6/dist-packages/h2o/automl/autoh2o.py\u001b[0m in \u001b[0;36mtrain\u001b[0;34m(self, x, y, training_frame, fold_column, weights_column, validation_frame, leaderboard_frame, blending_frame)\u001b[0m\n\u001b[1;32m    459\u001b[0m         \u001b[0mpoll_updates\u001b[0m \u001b[0;34m=\u001b[0m \u001b[0mft\u001b[0m\u001b[0;34m.\u001b[0m\u001b[0mpartial\u001b[0m\u001b[0;34m(\u001b[0m\u001b[0mself\u001b[0m\u001b[0;34m.\u001b[0m\u001b[0m_poll_training_updates\u001b[0m\u001b[0;34m,\u001b[0m \u001b[0mverbosity\u001b[0m\u001b[0;34m=\u001b[0m\u001b[0mself\u001b[0m\u001b[0;34m.\u001b[0m\u001b[0m_verbosity\u001b[0m\u001b[0;34m,\u001b[0m \u001b[0mstate\u001b[0m\u001b[0;34m=\u001b[0m\u001b[0;34m{\u001b[0m\u001b[0;34m}\u001b[0m\u001b[0;34m)\u001b[0m\u001b[0;34m\u001b[0m\u001b[0;34m\u001b[0m\u001b[0m\n\u001b[1;32m    460\u001b[0m         \u001b[0;32mtry\u001b[0m\u001b[0;34m:\u001b[0m\u001b[0;34m\u001b[0m\u001b[0;34m\u001b[0m\u001b[0m\n\u001b[0;32m--> 461\u001b[0;31m             \u001b[0mself\u001b[0m\u001b[0;34m.\u001b[0m\u001b[0m_job\u001b[0m\u001b[0;34m.\u001b[0m\u001b[0mpoll\u001b[0m\u001b[0;34m(\u001b[0m\u001b[0mpoll_updates\u001b[0m\u001b[0;34m=\u001b[0m\u001b[0mpoll_updates\u001b[0m\u001b[0;34m)\u001b[0m\u001b[0;34m\u001b[0m\u001b[0;34m\u001b[0m\u001b[0m\n\u001b[0m\u001b[1;32m    462\u001b[0m         \u001b[0;32mfinally\u001b[0m\u001b[0;34m:\u001b[0m\u001b[0;34m\u001b[0m\u001b[0;34m\u001b[0m\u001b[0m\n\u001b[1;32m    463\u001b[0m             \u001b[0mpoll_updates\u001b[0m\u001b[0;34m(\u001b[0m\u001b[0mself\u001b[0m\u001b[0;34m.\u001b[0m\u001b[0m_job\u001b[0m\u001b[0;34m,\u001b[0m \u001b[0;36m1\u001b[0m\u001b[0;34m)\u001b[0m\u001b[0;34m\u001b[0m\u001b[0;34m\u001b[0m\u001b[0m\n",
            "\u001b[0;32m/usr/local/lib/python3.6/dist-packages/h2o/job.py\u001b[0m in \u001b[0;36mpoll\u001b[0;34m(self, poll_updates)\u001b[0m\n\u001b[1;32m     72\u001b[0m         \u001b[0;31m# check if failed... and politely print relevant message\u001b[0m\u001b[0;34m\u001b[0m\u001b[0;34m\u001b[0m\u001b[0;34m\u001b[0m\u001b[0m\n\u001b[1;32m     73\u001b[0m         \u001b[0;32mif\u001b[0m \u001b[0mself\u001b[0m\u001b[0;34m.\u001b[0m\u001b[0mstatus\u001b[0m \u001b[0;34m==\u001b[0m \u001b[0;34m\"CANCELLED\"\u001b[0m\u001b[0;34m:\u001b[0m\u001b[0;34m\u001b[0m\u001b[0;34m\u001b[0m\u001b[0m\n\u001b[0;32m---> 74\u001b[0;31m             \u001b[0;32mraise\u001b[0m \u001b[0mH2OJobCancelled\u001b[0m\u001b[0;34m(\u001b[0m\u001b[0;34m\"Job<%s> was cancelled by the user.\"\u001b[0m \u001b[0;34m%\u001b[0m \u001b[0mself\u001b[0m\u001b[0;34m.\u001b[0m\u001b[0mjob_key\u001b[0m\u001b[0;34m)\u001b[0m\u001b[0;34m\u001b[0m\u001b[0;34m\u001b[0m\u001b[0m\n\u001b[0m\u001b[1;32m     75\u001b[0m         \u001b[0;32mif\u001b[0m \u001b[0mself\u001b[0m\u001b[0;34m.\u001b[0m\u001b[0mstatus\u001b[0m \u001b[0;34m==\u001b[0m \u001b[0;34m\"FAILED\"\u001b[0m\u001b[0;34m:\u001b[0m\u001b[0;34m\u001b[0m\u001b[0;34m\u001b[0m\u001b[0m\n\u001b[1;32m     76\u001b[0m             \u001b[0;32mif\u001b[0m \u001b[0;34m(\u001b[0m\u001b[0misinstance\u001b[0m\u001b[0;34m(\u001b[0m\u001b[0mself\u001b[0m\u001b[0;34m.\u001b[0m\u001b[0mjob\u001b[0m\u001b[0;34m,\u001b[0m \u001b[0mdict\u001b[0m\u001b[0;34m)\u001b[0m\u001b[0;34m)\u001b[0m \u001b[0;32mand\u001b[0m \u001b[0;34m(\u001b[0m\u001b[0;34m\"stacktrace\"\u001b[0m \u001b[0;32min\u001b[0m \u001b[0mlist\u001b[0m\u001b[0;34m(\u001b[0m\u001b[0mself\u001b[0m\u001b[0;34m.\u001b[0m\u001b[0mjob\u001b[0m\u001b[0;34m)\u001b[0m\u001b[0;34m)\u001b[0m\u001b[0;34m:\u001b[0m\u001b[0;34m\u001b[0m\u001b[0;34m\u001b[0m\u001b[0m\n",
            "\u001b[0;31mH2OJobCancelled\u001b[0m: Job<$03017f00000132d4ffffffff$_bbc675bd2fe92829a93f762312fb4c42> was cancelled by the user."
          ]
        }
      ]
    },
    {
      "cell_type": "code",
      "metadata": {
        "id": "BrsikMArT7Vx"
      },
      "source": [
        "# View the AutoML Leaderboard\n",
        "lb = aml.leaderboard\n",
        "\n",
        "lb.head(rows=lb.nrows)  # Print all rows instead of default (10 rows)"
      ],
      "execution_count": null,
      "outputs": []
    },
    {
      "cell_type": "markdown",
      "metadata": {
        "id": "VpHcmu9QjVj1"
      },
      "source": [
        "### Checando performance dos modelos\n",
        "Analisando todo o leaderboard"
      ]
    },
    {
      "cell_type": "code",
      "metadata": {
        "id": "cfOvgnmi1tNQ",
        "outputId": "749d6776-7e4e-452b-fa1a-ba9610ad6f2b",
        "colab": {
          "base_uri": "https://localhost:8080/",
          "height": 413
        }
      },
      "source": [
        "model_ids = lb.as_data_frame(lb)\n",
        "\n",
        "for item in model_ids['model_id']:\n",
        "  model = h2o.get_model(item)\n",
        "  preds = model.predict(test)"
      ],
      "execution_count": null,
      "outputs": [
        {
          "output_type": "stream",
          "text": [
            "stackedensemble prediction progress: |████████████████████████████████████| 100%\n",
            "stackedensemble prediction progress: |████████████████████████████████████| 100%\n",
            "xgboost prediction progress: |████████████████████████████████████████████| 100%\n",
            "gbm prediction progress: |████████████████████████████████████████████████| 100%\n",
            "drf prediction progress: |████████████████████████████████████████████████| 100%\n",
            "drf prediction progress: |████████████████████████████████████████████████| 100%\n",
            "xgboost prediction progress: |████████████████████████████████████████████| 100%\n",
            "xgboost prediction progress: |████████████████████████████████████████████| 100%\n",
            "gbm prediction progress: |████████████████████████████████████████████████| 100%\n",
            "xgboost prediction progress: |████████████████████████████████████████████| 100%\n",
            "gbm prediction progress: |████████████████████████████████████████████████| 100%\n",
            "gbm prediction progress: |████████████████████████████████████████████████| 100%\n",
            "gbm prediction progress: |████████████████████████████████████████████████| 100%\n",
            "gbm prediction progress: |████████████████████████████████████████████████| 100%\n",
            "gbm prediction progress: |████████████████████████████████████████████████| 100%\n",
            "xgboost prediction progress: |████████████████████████████████████████████| 100%\n",
            "gbm prediction progress: |████████████████████████████████████████████████| 100%\n",
            "deeplearning prediction progress: |███████████████████████████████████████| 100%\n",
            "deeplearning prediction progress: |███████████████████████████████████████| 100%\n",
            "deeplearning prediction progress: |███████████████████████████████████████| 100%\n",
            "deeplearning prediction progress: |███████████████████████████████████████| 100%\n",
            "glm prediction progress: |████████████████████████████████████████████████| 100%\n"
          ],
          "name": "stdout"
        }
      ]
    },
    {
      "cell_type": "code",
      "metadata": {
        "id": "9vncJbImJEYI"
      },
      "source": [
        "# Checando performance\n",
        "perf_data = []\n",
        "\n",
        "for item in model_ids['model_id']:\n",
        "  model = h2o.get_model(item)\n",
        "  perf = model.model_performance(test)\n",
        "  perf_data.append([item, perf.rmse(), perf.mse(), perf.mae()])"
      ],
      "execution_count": null,
      "outputs": []
    },
    {
      "cell_type": "code",
      "metadata": {
        "id": "V3dz7IFULKMN",
        "outputId": "95cb8c13-0ea9-4423-8ff6-9905dbe92a2e",
        "colab": {
          "base_uri": "https://localhost:8080/",
          "height": 89
        }
      },
      "source": [
        "perf_data[0]"
      ],
      "execution_count": null,
      "outputs": [
        {
          "output_type": "execute_result",
          "data": {
            "text/plain": [
              "['StackedEnsemble_AllModels_AutoML_20200908_131459',\n",
              " 4.8524669829066305,\n",
              " 23.546435820198976,\n",
              " 3.3171831876072346]"
            ]
          },
          "metadata": {
            "tags": []
          },
          "execution_count": 18
        }
      ]
    },
    {
      "cell_type": "code",
      "metadata": {
        "id": "MiL-OBEDOpa_"
      },
      "source": [
        "# Salvando dados em um dataframe\n",
        "\n",
        "results = pd.DataFrame(data=perf_data, columns=['Model', 'RMSE', 'MSE', 'MAE'])"
      ],
      "execution_count": null,
      "outputs": []
    },
    {
      "cell_type": "code",
      "metadata": {
        "id": "yh_8BaeNOxXb",
        "outputId": "43983cc0-a729-49a8-cb35-1801b8d03d98",
        "colab": {
          "base_uri": "https://localhost:8080/",
          "height": 731
        }
      },
      "source": [
        "results"
      ],
      "execution_count": null,
      "outputs": [
        {
          "output_type": "execute_result",
          "data": {
            "text/html": [
              "<div>\n",
              "<style scoped>\n",
              "    .dataframe tbody tr th:only-of-type {\n",
              "        vertical-align: middle;\n",
              "    }\n",
              "\n",
              "    .dataframe tbody tr th {\n",
              "        vertical-align: top;\n",
              "    }\n",
              "\n",
              "    .dataframe thead th {\n",
              "        text-align: right;\n",
              "    }\n",
              "</style>\n",
              "<table border=\"1\" class=\"dataframe\">\n",
              "  <thead>\n",
              "    <tr style=\"text-align: right;\">\n",
              "      <th></th>\n",
              "      <th>Model</th>\n",
              "      <th>RMSE</th>\n",
              "      <th>MSE</th>\n",
              "      <th>MAE</th>\n",
              "    </tr>\n",
              "  </thead>\n",
              "  <tbody>\n",
              "    <tr>\n",
              "      <th>0</th>\n",
              "      <td>StackedEnsemble_AllModels_AutoML_20200908_131459</td>\n",
              "      <td>4.852467</td>\n",
              "      <td>23.546436</td>\n",
              "      <td>3.317183</td>\n",
              "    </tr>\n",
              "    <tr>\n",
              "      <th>1</th>\n",
              "      <td>StackedEnsemble_BestOfFamily_AutoML_20200908_1...</td>\n",
              "      <td>4.870399</td>\n",
              "      <td>23.720783</td>\n",
              "      <td>3.337022</td>\n",
              "    </tr>\n",
              "    <tr>\n",
              "      <th>2</th>\n",
              "      <td>XGBoost_grid__1_AutoML_20200908_131459_model_2</td>\n",
              "      <td>4.899123</td>\n",
              "      <td>24.001402</td>\n",
              "      <td>3.368613</td>\n",
              "    </tr>\n",
              "    <tr>\n",
              "      <th>3</th>\n",
              "      <td>GBM_grid__1_AutoML_20200908_131459_model_1</td>\n",
              "      <td>4.906542</td>\n",
              "      <td>24.074150</td>\n",
              "      <td>3.380688</td>\n",
              "    </tr>\n",
              "    <tr>\n",
              "      <th>4</th>\n",
              "      <td>DRF_1_AutoML_20200908_131459</td>\n",
              "      <td>4.925022</td>\n",
              "      <td>24.255837</td>\n",
              "      <td>3.380076</td>\n",
              "    </tr>\n",
              "    <tr>\n",
              "      <th>5</th>\n",
              "      <td>XRT_1_AutoML_20200908_131459</td>\n",
              "      <td>4.940212</td>\n",
              "      <td>24.405699</td>\n",
              "      <td>3.396485</td>\n",
              "    </tr>\n",
              "    <tr>\n",
              "      <th>6</th>\n",
              "      <td>XGBoost_2_AutoML_20200908_131459</td>\n",
              "      <td>5.026856</td>\n",
              "      <td>25.269278</td>\n",
              "      <td>3.474562</td>\n",
              "    </tr>\n",
              "    <tr>\n",
              "      <th>7</th>\n",
              "      <td>XGBoost_1_AutoML_20200908_131459</td>\n",
              "      <td>4.944592</td>\n",
              "      <td>24.448994</td>\n",
              "      <td>3.406764</td>\n",
              "    </tr>\n",
              "    <tr>\n",
              "      <th>8</th>\n",
              "      <td>GBM_5_AutoML_20200908_131459</td>\n",
              "      <td>4.924606</td>\n",
              "      <td>24.251745</td>\n",
              "      <td>3.461603</td>\n",
              "    </tr>\n",
              "    <tr>\n",
              "      <th>9</th>\n",
              "      <td>XGBoost_grid__1_AutoML_20200908_131459_model_1</td>\n",
              "      <td>5.170827</td>\n",
              "      <td>26.737453</td>\n",
              "      <td>3.561110</td>\n",
              "    </tr>\n",
              "    <tr>\n",
              "      <th>10</th>\n",
              "      <td>GBM_grid__1_AutoML_20200908_131459_model_2</td>\n",
              "      <td>4.959264</td>\n",
              "      <td>24.594302</td>\n",
              "      <td>3.425080</td>\n",
              "    </tr>\n",
              "    <tr>\n",
              "      <th>11</th>\n",
              "      <td>GBM_4_AutoML_20200908_131459</td>\n",
              "      <td>4.954308</td>\n",
              "      <td>24.545170</td>\n",
              "      <td>3.430387</td>\n",
              "    </tr>\n",
              "    <tr>\n",
              "      <th>12</th>\n",
              "      <td>GBM_grid__1_AutoML_20200908_131459_model_3</td>\n",
              "      <td>4.979698</td>\n",
              "      <td>24.797396</td>\n",
              "      <td>3.450149</td>\n",
              "    </tr>\n",
              "    <tr>\n",
              "      <th>13</th>\n",
              "      <td>GBM_3_AutoML_20200908_131459</td>\n",
              "      <td>4.996792</td>\n",
              "      <td>24.967932</td>\n",
              "      <td>3.459785</td>\n",
              "    </tr>\n",
              "    <tr>\n",
              "      <th>14</th>\n",
              "      <td>GBM_2_AutoML_20200908_131459</td>\n",
              "      <td>5.035628</td>\n",
              "      <td>25.357550</td>\n",
              "      <td>3.492690</td>\n",
              "    </tr>\n",
              "    <tr>\n",
              "      <th>15</th>\n",
              "      <td>XGBoost_3_AutoML_20200908_131459</td>\n",
              "      <td>5.062458</td>\n",
              "      <td>25.628481</td>\n",
              "      <td>3.520277</td>\n",
              "    </tr>\n",
              "    <tr>\n",
              "      <th>16</th>\n",
              "      <td>GBM_1_AutoML_20200908_131459</td>\n",
              "      <td>5.088104</td>\n",
              "      <td>25.888804</td>\n",
              "      <td>3.535862</td>\n",
              "    </tr>\n",
              "    <tr>\n",
              "      <th>17</th>\n",
              "      <td>DeepLearning_1_AutoML_20200908_131459</td>\n",
              "      <td>5.235807</td>\n",
              "      <td>27.413677</td>\n",
              "      <td>3.640775</td>\n",
              "    </tr>\n",
              "    <tr>\n",
              "      <th>18</th>\n",
              "      <td>DeepLearning_grid__1_AutoML_20200908_131459_mo...</td>\n",
              "      <td>5.330739</td>\n",
              "      <td>28.416778</td>\n",
              "      <td>3.720524</td>\n",
              "    </tr>\n",
              "    <tr>\n",
              "      <th>19</th>\n",
              "      <td>DeepLearning_grid__2_AutoML_20200908_131459_mo...</td>\n",
              "      <td>5.957721</td>\n",
              "      <td>35.494438</td>\n",
              "      <td>4.244068</td>\n",
              "    </tr>\n",
              "    <tr>\n",
              "      <th>20</th>\n",
              "      <td>DeepLearning_grid__3_AutoML_20200908_131459_mo...</td>\n",
              "      <td>6.116954</td>\n",
              "      <td>37.417132</td>\n",
              "      <td>4.542560</td>\n",
              "    </tr>\n",
              "    <tr>\n",
              "      <th>21</th>\n",
              "      <td>GLM_1_AutoML_20200908_131459</td>\n",
              "      <td>5.810588</td>\n",
              "      <td>33.762937</td>\n",
              "      <td>4.139088</td>\n",
              "    </tr>\n",
              "  </tbody>\n",
              "</table>\n",
              "</div>"
            ],
            "text/plain": [
              "                                                Model  ...       MAE\n",
              "0    StackedEnsemble_AllModels_AutoML_20200908_131459  ...  3.317183\n",
              "1   StackedEnsemble_BestOfFamily_AutoML_20200908_1...  ...  3.337022\n",
              "2      XGBoost_grid__1_AutoML_20200908_131459_model_2  ...  3.368613\n",
              "3          GBM_grid__1_AutoML_20200908_131459_model_1  ...  3.380688\n",
              "4                        DRF_1_AutoML_20200908_131459  ...  3.380076\n",
              "5                        XRT_1_AutoML_20200908_131459  ...  3.396485\n",
              "6                    XGBoost_2_AutoML_20200908_131459  ...  3.474562\n",
              "7                    XGBoost_1_AutoML_20200908_131459  ...  3.406764\n",
              "8                        GBM_5_AutoML_20200908_131459  ...  3.461603\n",
              "9      XGBoost_grid__1_AutoML_20200908_131459_model_1  ...  3.561110\n",
              "10         GBM_grid__1_AutoML_20200908_131459_model_2  ...  3.425080\n",
              "11                       GBM_4_AutoML_20200908_131459  ...  3.430387\n",
              "12         GBM_grid__1_AutoML_20200908_131459_model_3  ...  3.450149\n",
              "13                       GBM_3_AutoML_20200908_131459  ...  3.459785\n",
              "14                       GBM_2_AutoML_20200908_131459  ...  3.492690\n",
              "15                   XGBoost_3_AutoML_20200908_131459  ...  3.520277\n",
              "16                       GBM_1_AutoML_20200908_131459  ...  3.535862\n",
              "17              DeepLearning_1_AutoML_20200908_131459  ...  3.640775\n",
              "18  DeepLearning_grid__1_AutoML_20200908_131459_mo...  ...  3.720524\n",
              "19  DeepLearning_grid__2_AutoML_20200908_131459_mo...  ...  4.244068\n",
              "20  DeepLearning_grid__3_AutoML_20200908_131459_mo...  ...  4.542560\n",
              "21                       GLM_1_AutoML_20200908_131459  ...  4.139088\n",
              "\n",
              "[22 rows x 4 columns]"
            ]
          },
          "metadata": {
            "tags": []
          },
          "execution_count": 20
        }
      ]
    },
    {
      "cell_type": "markdown",
      "metadata": {
        "id": "Pb6WurGVPlgp"
      },
      "source": [
        "## Listando hiperparâmetros não padrões do modelo"
      ]
    },
    {
      "cell_type": "code",
      "metadata": {
        "id": "rkb30BANXTY5"
      },
      "source": [
        "def h2o_not_default_params_df(model):\n",
        "    params = model.params\n",
        "    result = []\n",
        "    ignore_params = ['model_id', 'training_frame', 'validation_frame', 'response_column', 'ignored_columns']\n",
        "    for k in params:\n",
        "        if k not in ignore_params and params[k]['default'] != params[k]['actual']:\n",
        "            result.append({ 'param': k, 'default': params[k]['default'], \n",
        "                            'actual': params[k]['actual']})\n",
        "    df_ = pd.DataFrame(result)\n",
        "    cols = ['param', 'default', 'actual']\n",
        "    return df_[ cols ]"
      ],
      "execution_count": null,
      "outputs": []
    },
    {
      "cell_type": "code",
      "metadata": {
        "id": "ncJrYaGjCyA9"
      },
      "source": [
        "for item in results['Model']:\n",
        "  model = h2o.get_model(item)\n",
        "  print(f'{item}, h2o_not_default_params_df(model)')"
      ],
      "execution_count": null,
      "outputs": []
    },
    {
      "cell_type": "markdown",
      "metadata": {
        "id": "y90qVbp2PnO5"
      },
      "source": [
        "## Salvando modelos\n",
        "\n",
        "Salvando modelos treinados no Drive (para evitar retreinamento)"
      ]
    },
    {
      "cell_type": "code",
      "metadata": {
        "id": "nmuv8-jcQJRO"
      },
      "source": [
        "for item in results.Model:\n",
        "  model_to_save = h2o.get_model(item)\n",
        "\n",
        "  # salvando o modelo\n",
        "  h2o.save_model(model=model_to_save, path=f\"{path}/h2o\", force=True)"
      ],
      "execution_count": null,
      "outputs": []
    },
    {
      "cell_type": "markdown",
      "metadata": {
        "id": "-eEgNE6-9Zho"
      },
      "source": [
        "## Treinando para cada algoritmo\n",
        "\n",
        "Vamos realizar o processo de treinamento para cada algoritmo, separadamente."
      ]
    },
    {
      "cell_type": "markdown",
      "metadata": {
        "id": "_uiPSUuQ9lF9"
      },
      "source": [
        "### DRF"
      ]
    },
    {
      "cell_type": "code",
      "metadata": {
        "id": "vy4xQTy-9_xg"
      },
      "source": [
        "hour = int(10 * 60 * 60)\n",
        "\n",
        "aml = H2OAutoML(max_models=20, seed=seed, max_runtime_secs=hour, stopping_metric=\"RMSE\",\n",
        "                sort_metric=\"RMSE\", include_algos=[\"DRF\"])"
      ],
      "execution_count": null,
      "outputs": []
    },
    {
      "cell_type": "code",
      "metadata": {
        "id": "1WJiA8NJ9_xk",
        "outputId": "708c2a86-818e-49a7-f79b-6a8caf30f7f5",
        "colab": {
          "base_uri": "https://localhost:8080/",
          "height": 53
        }
      },
      "source": [
        "start = time()\n",
        "aml.train(x=X, y=y, training_frame=data)\n",
        "\n",
        "print(f\"Elapsed {time() - start}\")"
      ],
      "execution_count": null,
      "outputs": [
        {
          "output_type": "stream",
          "text": [
            "AutoML progress: |████████████████████████████████████████████████████████| 100%| 100%\n",
            "Elapsed 5020.500298976898\n"
          ],
          "name": "stdout"
        }
      ]
    },
    {
      "cell_type": "code",
      "metadata": {
        "id": "kQkHdCUh9_xm",
        "outputId": "7a8eac8b-734c-4e7b-d421-1a62cfcf5cdd",
        "colab": {
          "base_uri": "https://localhost:8080/",
          "height": 82
        }
      },
      "source": [
        "# View the AutoML Leaderboard\n",
        "lb = aml.leaderboard\n",
        "\n",
        "lb.head(rows=lb.nrows)  # Print all rows instead of default (10 rows)"
      ],
      "execution_count": null,
      "outputs": [
        {
          "output_type": "display_data",
          "data": {
            "text/html": [
              "<table>\n",
              "<thead>\n",
              "<tr><th>model_id                    </th><th style=\"text-align: right;\">   rmse</th><th style=\"text-align: right;\">  mean_residual_deviance</th><th style=\"text-align: right;\">    mse</th><th style=\"text-align: right;\">    mae</th><th style=\"text-align: right;\">   rmsle</th></tr>\n",
              "</thead>\n",
              "<tbody>\n",
              "<tr><td>DRF_1_AutoML_20200911_022349</td><td style=\"text-align: right;\">4.40257</td><td style=\"text-align: right;\">                 19.3827</td><td style=\"text-align: right;\">19.3827</td><td style=\"text-align: right;\">3.05121</td><td style=\"text-align: right;\">0.148377</td></tr>\n",
              "<tr><td>XRT_1_AutoML_20200911_022349</td><td style=\"text-align: right;\">4.43498</td><td style=\"text-align: right;\">                 19.6691</td><td style=\"text-align: right;\">19.6691</td><td style=\"text-align: right;\">3.07676</td><td style=\"text-align: right;\">0.149301</td></tr>\n",
              "</tbody>\n",
              "</table>"
            ]
          },
          "metadata": {
            "tags": []
          }
        },
        {
          "output_type": "execute_result",
          "data": {
            "text/plain": [
              ""
            ]
          },
          "metadata": {
            "tags": []
          },
          "execution_count": 15
        }
      ]
    },
    {
      "cell_type": "markdown",
      "metadata": {
        "id": "6WNkfsEM9_xo"
      },
      "source": [
        "#### Checando performance dos modelos\n",
        "Analisando todo o leaderboard"
      ]
    },
    {
      "cell_type": "code",
      "metadata": {
        "id": "dsrvUb4d9_xo",
        "outputId": "1e8178c9-405a-477f-8113-6c64ea949240",
        "colab": {
          "base_uri": "https://localhost:8080/",
          "height": 53
        }
      },
      "source": [
        "model_ids = lb.as_data_frame(lb)\n",
        "\n",
        "for item in model_ids['model_id']:\n",
        "  model = h2o.get_model(item)\n",
        "  preds = model.predict(test)"
      ],
      "execution_count": null,
      "outputs": [
        {
          "output_type": "stream",
          "text": [
            "drf prediction progress: |████████████████████████████████████████████████| 100%\n",
            "drf prediction progress: |████████████████████████████████████████████████| 100%\n"
          ],
          "name": "stdout"
        }
      ]
    },
    {
      "cell_type": "code",
      "metadata": {
        "id": "vUDzpHoJ9_xq"
      },
      "source": [
        "# Checando performance\n",
        "perf_data = []\n",
        "\n",
        "for item in model_ids['model_id']:\n",
        "  model = h2o.get_model(item)\n",
        "  perf = model.model_performance(test)\n",
        "  perf_data.append([item, perf.rmse(), perf.mse(), perf.mae()])"
      ],
      "execution_count": null,
      "outputs": []
    },
    {
      "cell_type": "code",
      "metadata": {
        "id": "98bQxDV69_xs",
        "outputId": "f1e82969-9f68-46af-c4b3-58dba5beb21a",
        "colab": {
          "base_uri": "https://localhost:8080/",
          "height": 89
        }
      },
      "source": [
        "perf_data[0]"
      ],
      "execution_count": null,
      "outputs": [
        {
          "output_type": "execute_result",
          "data": {
            "text/plain": [
              "['DRF_1_AutoML_20200911_022349',\n",
              " 4.870054949465248,\n",
              " 23.717435210810965,\n",
              " 3.338464490457102]"
            ]
          },
          "metadata": {
            "tags": []
          },
          "execution_count": 18
        }
      ]
    },
    {
      "cell_type": "code",
      "metadata": {
        "id": "XbdG7DHq9_xt"
      },
      "source": [
        "# Salvando dados em um dataframe\n",
        "\n",
        "results = pd.DataFrame(data=perf_data, columns=['Model', 'RMSE', 'MSE', 'MAE'])"
      ],
      "execution_count": null,
      "outputs": []
    },
    {
      "cell_type": "code",
      "metadata": {
        "id": "yKnvyUJ39_xv",
        "outputId": "f1d178db-5106-4a7c-d1a0-ca361c3480e8",
        "colab": {
          "base_uri": "https://localhost:8080/",
          "height": 111
        }
      },
      "source": [
        "results"
      ],
      "execution_count": null,
      "outputs": [
        {
          "output_type": "execute_result",
          "data": {
            "text/html": [
              "<div>\n",
              "<style scoped>\n",
              "    .dataframe tbody tr th:only-of-type {\n",
              "        vertical-align: middle;\n",
              "    }\n",
              "\n",
              "    .dataframe tbody tr th {\n",
              "        vertical-align: top;\n",
              "    }\n",
              "\n",
              "    .dataframe thead th {\n",
              "        text-align: right;\n",
              "    }\n",
              "</style>\n",
              "<table border=\"1\" class=\"dataframe\">\n",
              "  <thead>\n",
              "    <tr style=\"text-align: right;\">\n",
              "      <th></th>\n",
              "      <th>Model</th>\n",
              "      <th>RMSE</th>\n",
              "      <th>MSE</th>\n",
              "      <th>MAE</th>\n",
              "    </tr>\n",
              "  </thead>\n",
              "  <tbody>\n",
              "    <tr>\n",
              "      <th>0</th>\n",
              "      <td>DRF_1_AutoML_20200911_022349</td>\n",
              "      <td>4.870055</td>\n",
              "      <td>23.717435</td>\n",
              "      <td>3.338464</td>\n",
              "    </tr>\n",
              "    <tr>\n",
              "      <th>1</th>\n",
              "      <td>XRT_1_AutoML_20200911_022349</td>\n",
              "      <td>4.884549</td>\n",
              "      <td>23.858817</td>\n",
              "      <td>3.352636</td>\n",
              "    </tr>\n",
              "  </tbody>\n",
              "</table>\n",
              "</div>"
            ],
            "text/plain": [
              "                          Model      RMSE        MSE       MAE\n",
              "0  DRF_1_AutoML_20200911_022349  4.870055  23.717435  3.338464\n",
              "1  XRT_1_AutoML_20200911_022349  4.884549  23.858817  3.352636"
            ]
          },
          "metadata": {
            "tags": []
          },
          "execution_count": 24
        }
      ]
    },
    {
      "cell_type": "markdown",
      "metadata": {
        "id": "5g4uOKo59_xx"
      },
      "source": [
        "#### Listando hiperparâmetros não padrões do modelo"
      ]
    },
    {
      "cell_type": "code",
      "metadata": {
        "id": "UqjHDlAD9_xx"
      },
      "source": [
        "def h2o_not_default_params_df(model):\n",
        "    params = model.params\n",
        "    result = []\n",
        "    ignore_params = ['model_id', 'training_frame', 'validation_frame', 'response_column', 'ignored_columns']\n",
        "    for k in params:\n",
        "        if k not in ignore_params and params[k]['default'] != params[k]['actual']:\n",
        "            result.append({ 'param': k, 'default': params[k]['default'], \n",
        "                            'actual': params[k]['actual']})\n",
        "    df_ = pd.DataFrame(result)\n",
        "    cols = ['param', 'default', 'actual']\n",
        "    return df_[ cols ]"
      ],
      "execution_count": null,
      "outputs": []
    },
    {
      "cell_type": "code",
      "metadata": {
        "id": "weCVYRFO9_xy"
      },
      "source": [
        "for item in results['Model']:\n",
        "  model = h2o.get_model(item)\n",
        "  df = h2o_not_default_params_df(model)\n",
        "  df.to_csv(f'{csv_folder}/{item}_params.csv', index=False)"
      ],
      "execution_count": null,
      "outputs": []
    },
    {
      "cell_type": "code",
      "metadata": {
        "id": "R0DUaiRfTjbN",
        "outputId": "c4bb3c9d-7fea-45a7-de92-6a04d4d28ec9",
        "colab": {
          "base_uri": "https://localhost:8080/",
          "height": 359
        }
      },
      "source": [
        "df"
      ],
      "execution_count": null,
      "outputs": [
        {
          "output_type": "execute_result",
          "data": {
            "text/html": [
              "<div>\n",
              "<style scoped>\n",
              "    .dataframe tbody tr th:only-of-type {\n",
              "        vertical-align: middle;\n",
              "    }\n",
              "\n",
              "    .dataframe tbody tr th {\n",
              "        vertical-align: top;\n",
              "    }\n",
              "\n",
              "    .dataframe thead th {\n",
              "        text-align: right;\n",
              "    }\n",
              "</style>\n",
              "<table border=\"1\" class=\"dataframe\">\n",
              "  <thead>\n",
              "    <tr style=\"text-align: right;\">\n",
              "      <th></th>\n",
              "      <th>param</th>\n",
              "      <th>default</th>\n",
              "      <th>actual</th>\n",
              "    </tr>\n",
              "  </thead>\n",
              "  <tbody>\n",
              "    <tr>\n",
              "      <th>0</th>\n",
              "      <td>nfolds</td>\n",
              "      <td>0</td>\n",
              "      <td>5</td>\n",
              "    </tr>\n",
              "    <tr>\n",
              "      <th>1</th>\n",
              "      <td>keep_cross_validation_models</td>\n",
              "      <td>True</td>\n",
              "      <td>False</td>\n",
              "    </tr>\n",
              "    <tr>\n",
              "      <th>2</th>\n",
              "      <td>keep_cross_validation_predictions</td>\n",
              "      <td>False</td>\n",
              "      <td>True</td>\n",
              "    </tr>\n",
              "    <tr>\n",
              "      <th>3</th>\n",
              "      <td>score_tree_interval</td>\n",
              "      <td>0</td>\n",
              "      <td>5</td>\n",
              "    </tr>\n",
              "    <tr>\n",
              "      <th>4</th>\n",
              "      <td>fold_assignment</td>\n",
              "      <td>AUTO</td>\n",
              "      <td>Modulo</td>\n",
              "    </tr>\n",
              "    <tr>\n",
              "      <th>5</th>\n",
              "      <td>stopping_metric</td>\n",
              "      <td>AUTO</td>\n",
              "      <td>RMSE</td>\n",
              "    </tr>\n",
              "    <tr>\n",
              "      <th>6</th>\n",
              "      <td>seed</td>\n",
              "      <td>-1</td>\n",
              "      <td>43</td>\n",
              "    </tr>\n",
              "    <tr>\n",
              "      <th>7</th>\n",
              "      <td>histogram_type</td>\n",
              "      <td>AUTO</td>\n",
              "      <td>Random</td>\n",
              "    </tr>\n",
              "    <tr>\n",
              "      <th>8</th>\n",
              "      <td>categorical_encoding</td>\n",
              "      <td>AUTO</td>\n",
              "      <td>Enum</td>\n",
              "    </tr>\n",
              "    <tr>\n",
              "      <th>9</th>\n",
              "      <td>distribution</td>\n",
              "      <td>AUTO</td>\n",
              "      <td>gaussian</td>\n",
              "    </tr>\n",
              "  </tbody>\n",
              "</table>\n",
              "</div>"
            ],
            "text/plain": [
              "                               param default    actual\n",
              "0                             nfolds       0         5\n",
              "1       keep_cross_validation_models    True     False\n",
              "2  keep_cross_validation_predictions   False      True\n",
              "3                score_tree_interval       0         5\n",
              "4                    fold_assignment    AUTO    Modulo\n",
              "5                    stopping_metric    AUTO      RMSE\n",
              "6                               seed      -1        43\n",
              "7                     histogram_type    AUTO    Random\n",
              "8               categorical_encoding    AUTO      Enum\n",
              "9                       distribution    AUTO  gaussian"
            ]
          },
          "metadata": {
            "tags": []
          },
          "execution_count": 25
        }
      ]
    },
    {
      "cell_type": "markdown",
      "metadata": {
        "id": "r0LwQ0Sp9_x4"
      },
      "source": [
        "#### Salvando modelos\n",
        "\n",
        "Salvando modelos treinados no Drive (para evitar retreinamento)"
      ]
    },
    {
      "cell_type": "code",
      "metadata": {
        "id": "42_euqlk9_x4"
      },
      "source": [
        "for item in results.Model:\n",
        "  model_to_save = h2o.get_model(item)\n",
        "\n",
        "  # salvando o modelo\n",
        "  h2o.save_model(model=model_to_save, path=f\"{path}/h2o/DRF\", force=True)"
      ],
      "execution_count": null,
      "outputs": []
    },
    {
      "cell_type": "markdown",
      "metadata": {
        "id": "FaAx-lul9_x6"
      },
      "source": [
        "### GLM"
      ]
    },
    {
      "cell_type": "code",
      "metadata": {
        "id": "aR8KFdPt7VfX"
      },
      "source": [
        "hour = int(10 * 60 * 60)\n",
        "\n",
        "aml = H2OAutoML(max_models=20, seed=seed, max_runtime_secs=hour, stopping_metric=\"RMSE\",\n",
        "                sort_metric=\"RMSE\", include_algos=[\"GLM\"])"
      ],
      "execution_count": null,
      "outputs": []
    },
    {
      "cell_type": "code",
      "metadata": {
        "id": "twY_ydg87Vff",
        "outputId": "14e0aaca-2474-44e0-a53a-6ceb8c5a8e09",
        "colab": {
          "base_uri": "https://localhost:8080/",
          "height": 53
        }
      },
      "source": [
        "start = time()\n",
        "aml.train(x=X, y=y, training_frame=data)\n",
        "\n",
        "print(f\"Elapsed {time() - start}\")"
      ],
      "execution_count": null,
      "outputs": [
        {
          "output_type": "stream",
          "text": [
            "AutoML progress: |████████████████████████████████████████████████████████| 100%\n",
            "Elapsed 130.30837440490723\n"
          ],
          "name": "stdout"
        }
      ]
    },
    {
      "cell_type": "code",
      "metadata": {
        "id": "K6qsDMuv7Vfk",
        "outputId": "4c99de37-ade3-425d-f870-960404d140d1",
        "colab": {
          "base_uri": "https://localhost:8080/",
          "height": 61
        }
      },
      "source": [
        "# View the AutoML Leaderboard\n",
        "lb = aml.leaderboard\n",
        "\n",
        "lb.head(rows=lb.nrows)  # Print all rows instead of default (10 rows)"
      ],
      "execution_count": null,
      "outputs": [
        {
          "output_type": "display_data",
          "data": {
            "text/html": [
              "<table>\n",
              "<thead>\n",
              "<tr><th>model_id                    </th><th style=\"text-align: right;\">   rmse</th><th style=\"text-align: right;\">  mean_residual_deviance</th><th style=\"text-align: right;\">   mse</th><th style=\"text-align: right;\">    mae</th><th style=\"text-align: right;\">   rmsle</th></tr>\n",
              "</thead>\n",
              "<tbody>\n",
              "<tr><td>GLM_1_AutoML_20200911_161050</td><td style=\"text-align: right;\">5.52042</td><td style=\"text-align: right;\">                  30.475</td><td style=\"text-align: right;\">30.475</td><td style=\"text-align: right;\">3.96401</td><td style=\"text-align: right;\">0.182124</td></tr>\n",
              "</tbody>\n",
              "</table>"
            ]
          },
          "metadata": {
            "tags": []
          }
        },
        {
          "output_type": "execute_result",
          "data": {
            "text/plain": [
              ""
            ]
          },
          "metadata": {
            "tags": []
          },
          "execution_count": 19
        }
      ]
    },
    {
      "cell_type": "markdown",
      "metadata": {
        "id": "e6JFHyFY7Vfo"
      },
      "source": [
        "#### Checando performance dos modelos\n",
        "Analisando todo o leaderboard"
      ]
    },
    {
      "cell_type": "code",
      "metadata": {
        "id": "TsLoWv3D7Vfp",
        "outputId": "19550d10-623f-4c03-c53b-661b9c160b56",
        "colab": {
          "base_uri": "https://localhost:8080/",
          "height": 35
        }
      },
      "source": [
        "model_ids = lb.as_data_frame(lb)\n",
        "\n",
        "for item in model_ids['model_id']:\n",
        "  model = h2o.get_model(item)\n",
        "  preds = model.predict(test)"
      ],
      "execution_count": null,
      "outputs": [
        {
          "output_type": "stream",
          "text": [
            "glm prediction progress: |████████████████████████████████████████████████| 100%\n"
          ],
          "name": "stdout"
        }
      ]
    },
    {
      "cell_type": "code",
      "metadata": {
        "id": "1K8Kqddg7Vft"
      },
      "source": [
        "# Checando performance\n",
        "perf_data = []\n",
        "\n",
        "for item in model_ids['model_id']:\n",
        "  model = h2o.get_model(item)\n",
        "  perf = model.model_performance(test)\n",
        "  perf_data.append([item, perf.rmse(), perf.mse(), perf.mae()])"
      ],
      "execution_count": null,
      "outputs": []
    },
    {
      "cell_type": "code",
      "metadata": {
        "id": "E00zoci37Vfw",
        "outputId": "7ff1967c-02c8-4bee-830e-2b3a45d9bd2c",
        "colab": {
          "base_uri": "https://localhost:8080/",
          "height": 89
        }
      },
      "source": [
        "perf_data[0]"
      ],
      "execution_count": null,
      "outputs": [
        {
          "output_type": "execute_result",
          "data": {
            "text/plain": [
              "['GLM_1_AutoML_20200911_161050',\n",
              " 5.8105883139017145,\n",
              " 33.762936553651166,\n",
              " 4.13908801242176]"
            ]
          },
          "metadata": {
            "tags": []
          },
          "execution_count": 22
        }
      ]
    },
    {
      "cell_type": "code",
      "metadata": {
        "id": "gvK89uAt7Vfy"
      },
      "source": [
        "# Salvando dados em um dataframe\n",
        "\n",
        "results = pd.DataFrame(data=perf_data, columns=['Model', 'RMSE', 'MSE', 'MAE'])"
      ],
      "execution_count": null,
      "outputs": []
    },
    {
      "cell_type": "code",
      "metadata": {
        "id": "3wRqBqDL7Vf2",
        "outputId": "c509b507-3531-4a13-c3e8-d3fe4459c424",
        "colab": {
          "base_uri": "https://localhost:8080/",
          "height": 80
        }
      },
      "source": [
        "results"
      ],
      "execution_count": null,
      "outputs": [
        {
          "output_type": "execute_result",
          "data": {
            "text/html": [
              "<div>\n",
              "<style scoped>\n",
              "    .dataframe tbody tr th:only-of-type {\n",
              "        vertical-align: middle;\n",
              "    }\n",
              "\n",
              "    .dataframe tbody tr th {\n",
              "        vertical-align: top;\n",
              "    }\n",
              "\n",
              "    .dataframe thead th {\n",
              "        text-align: right;\n",
              "    }\n",
              "</style>\n",
              "<table border=\"1\" class=\"dataframe\">\n",
              "  <thead>\n",
              "    <tr style=\"text-align: right;\">\n",
              "      <th></th>\n",
              "      <th>Model</th>\n",
              "      <th>RMSE</th>\n",
              "      <th>MSE</th>\n",
              "      <th>MAE</th>\n",
              "    </tr>\n",
              "  </thead>\n",
              "  <tbody>\n",
              "    <tr>\n",
              "      <th>0</th>\n",
              "      <td>GLM_1_AutoML_20200911_161050</td>\n",
              "      <td>5.810588</td>\n",
              "      <td>33.762937</td>\n",
              "      <td>4.139088</td>\n",
              "    </tr>\n",
              "  </tbody>\n",
              "</table>\n",
              "</div>"
            ],
            "text/plain": [
              "                          Model      RMSE        MSE       MAE\n",
              "0  GLM_1_AutoML_20200911_161050  5.810588  33.762937  4.139088"
            ]
          },
          "metadata": {
            "tags": []
          },
          "execution_count": 24
        }
      ]
    },
    {
      "cell_type": "markdown",
      "metadata": {
        "id": "s35p8wx5DCly"
      },
      "source": [
        "#### Listando hiperparâmetros não padrões do modelo"
      ]
    },
    {
      "cell_type": "code",
      "metadata": {
        "id": "LDhI28Ir7Vf4"
      },
      "source": [
        "def h2o_not_default_params_df(model):\n",
        "    params = model.params\n",
        "    result = []\n",
        "    ignore_params = ['model_id', 'training_frame', 'validation_frame', 'response_column', 'ignored_columns']\n",
        "    for k in params:\n",
        "        if k not in ignore_params and params[k]['default'] != params[k]['actual']:\n",
        "            result.append({ 'param': k, 'default': params[k]['default'], \n",
        "                            'actual': params[k]['actual']})\n",
        "    df_ = pd.DataFrame(result)\n",
        "    cols = ['param', 'default', 'actual']\n",
        "    return df_[ cols ]"
      ],
      "execution_count": null,
      "outputs": []
    },
    {
      "cell_type": "code",
      "metadata": {
        "id": "Js4U_QUw7Vf9"
      },
      "source": [
        "for item in results['Model']:\n",
        "  model = h2o.get_model(item)\n",
        "  df = h2o_not_default_params_df(model)\n",
        "  df.to_csv(f'{csv_folder}/{item}_params.csv', index=False)"
      ],
      "execution_count": null,
      "outputs": []
    },
    {
      "cell_type": "code",
      "metadata": {
        "id": "1z88jj-87VgB",
        "outputId": "6bc7b84b-52b9-4e4e-bd1b-6b8854aa0483",
        "colab": {
          "base_uri": "https://localhost:8080/",
          "height": 580
        }
      },
      "source": [
        "df"
      ],
      "execution_count": null,
      "outputs": [
        {
          "output_type": "execute_result",
          "data": {
            "text/html": [
              "<div>\n",
              "<style scoped>\n",
              "    .dataframe tbody tr th:only-of-type {\n",
              "        vertical-align: middle;\n",
              "    }\n",
              "\n",
              "    .dataframe tbody tr th {\n",
              "        vertical-align: top;\n",
              "    }\n",
              "\n",
              "    .dataframe thead th {\n",
              "        text-align: right;\n",
              "    }\n",
              "</style>\n",
              "<table border=\"1\" class=\"dataframe\">\n",
              "  <thead>\n",
              "    <tr style=\"text-align: right;\">\n",
              "      <th></th>\n",
              "      <th>param</th>\n",
              "      <th>default</th>\n",
              "      <th>actual</th>\n",
              "    </tr>\n",
              "  </thead>\n",
              "  <tbody>\n",
              "    <tr>\n",
              "      <th>0</th>\n",
              "      <td>nfolds</td>\n",
              "      <td>0</td>\n",
              "      <td>5</td>\n",
              "    </tr>\n",
              "    <tr>\n",
              "      <th>1</th>\n",
              "      <td>seed</td>\n",
              "      <td>-1</td>\n",
              "      <td>42</td>\n",
              "    </tr>\n",
              "    <tr>\n",
              "      <th>2</th>\n",
              "      <td>keep_cross_validation_models</td>\n",
              "      <td>True</td>\n",
              "      <td>False</td>\n",
              "    </tr>\n",
              "    <tr>\n",
              "      <th>3</th>\n",
              "      <td>keep_cross_validation_predictions</td>\n",
              "      <td>False</td>\n",
              "      <td>True</td>\n",
              "    </tr>\n",
              "    <tr>\n",
              "      <th>4</th>\n",
              "      <td>fold_assignment</td>\n",
              "      <td>AUTO</td>\n",
              "      <td>Modulo</td>\n",
              "    </tr>\n",
              "    <tr>\n",
              "      <th>5</th>\n",
              "      <td>family</td>\n",
              "      <td>AUTO</td>\n",
              "      <td>gaussian</td>\n",
              "    </tr>\n",
              "    <tr>\n",
              "      <th>6</th>\n",
              "      <td>solver</td>\n",
              "      <td>AUTO</td>\n",
              "      <td>COORDINATE_DESCENT</td>\n",
              "    </tr>\n",
              "    <tr>\n",
              "      <th>7</th>\n",
              "      <td>alpha</td>\n",
              "      <td>None</td>\n",
              "      <td>[0.0, 0.2, 0.4, 0.6, 0.8, 1.0]</td>\n",
              "    </tr>\n",
              "    <tr>\n",
              "      <th>8</th>\n",
              "      <td>lambda</td>\n",
              "      <td>None</td>\n",
              "      <td>[783.6234027248552, 486.6434091548491, 302.213...</td>\n",
              "    </tr>\n",
              "    <tr>\n",
              "      <th>9</th>\n",
              "      <td>lambda_search</td>\n",
              "      <td>False</td>\n",
              "      <td>True</td>\n",
              "    </tr>\n",
              "    <tr>\n",
              "      <th>10</th>\n",
              "      <td>nlambdas</td>\n",
              "      <td>-1</td>\n",
              "      <td>30</td>\n",
              "    </tr>\n",
              "    <tr>\n",
              "      <th>11</th>\n",
              "      <td>max_iterations</td>\n",
              "      <td>-1</td>\n",
              "      <td>300</td>\n",
              "    </tr>\n",
              "    <tr>\n",
              "      <th>12</th>\n",
              "      <td>objective_epsilon</td>\n",
              "      <td>-1</td>\n",
              "      <td>0.0001</td>\n",
              "    </tr>\n",
              "    <tr>\n",
              "      <th>13</th>\n",
              "      <td>gradient_epsilon</td>\n",
              "      <td>-1</td>\n",
              "      <td>1e-06</td>\n",
              "    </tr>\n",
              "    <tr>\n",
              "      <th>14</th>\n",
              "      <td>link</td>\n",
              "      <td>family_default</td>\n",
              "      <td>identity</td>\n",
              "    </tr>\n",
              "    <tr>\n",
              "      <th>15</th>\n",
              "      <td>lambda_min_ratio</td>\n",
              "      <td>-1</td>\n",
              "      <td>1e-06</td>\n",
              "    </tr>\n",
              "    <tr>\n",
              "      <th>16</th>\n",
              "      <td>max_active_predictors</td>\n",
              "      <td>-1</td>\n",
              "      <td>5000</td>\n",
              "    </tr>\n",
              "    <tr>\n",
              "      <th>17</th>\n",
              "      <td>obj_reg</td>\n",
              "      <td>-1</td>\n",
              "      <td>3.38923e-07</td>\n",
              "    </tr>\n",
              "  </tbody>\n",
              "</table>\n",
              "</div>"
            ],
            "text/plain": [
              "                                param  ...                                             actual\n",
              "0                              nfolds  ...                                                  5\n",
              "1                                seed  ...                                                 42\n",
              "2        keep_cross_validation_models  ...                                              False\n",
              "3   keep_cross_validation_predictions  ...                                               True\n",
              "4                     fold_assignment  ...                                             Modulo\n",
              "5                              family  ...                                           gaussian\n",
              "6                              solver  ...                                 COORDINATE_DESCENT\n",
              "7                               alpha  ...                     [0.0, 0.2, 0.4, 0.6, 0.8, 1.0]\n",
              "8                              lambda  ...  [783.6234027248552, 486.6434091548491, 302.213...\n",
              "9                       lambda_search  ...                                               True\n",
              "10                           nlambdas  ...                                                 30\n",
              "11                     max_iterations  ...                                                300\n",
              "12                  objective_epsilon  ...                                             0.0001\n",
              "13                   gradient_epsilon  ...                                              1e-06\n",
              "14                               link  ...                                           identity\n",
              "15                   lambda_min_ratio  ...                                              1e-06\n",
              "16              max_active_predictors  ...                                               5000\n",
              "17                            obj_reg  ...                                        3.38923e-07\n",
              "\n",
              "[18 rows x 3 columns]"
            ]
          },
          "metadata": {
            "tags": []
          },
          "execution_count": 27
        }
      ]
    },
    {
      "cell_type": "markdown",
      "metadata": {
        "id": "lcXyPDQ77VgD"
      },
      "source": [
        "#### Salvando modelos\n",
        "\n",
        "Salvando modelos treinados no Drive (para evitar retreinamento)"
      ]
    },
    {
      "cell_type": "code",
      "metadata": {
        "id": "G_Eg0U347VgE"
      },
      "source": [
        "for item in results.Model:\n",
        "  model_to_save = h2o.get_model(item)\n",
        "\n",
        "  # salvando o modelo\n",
        "  h2o.save_model(model=model_to_save, path=f\"{path}/h2o/GLM\", force=True)"
      ],
      "execution_count": null,
      "outputs": []
    },
    {
      "cell_type": "markdown",
      "metadata": {
        "id": "psYqOJ4OD0KI"
      },
      "source": [
        "### XGBoost"
      ]
    },
    {
      "cell_type": "code",
      "metadata": {
        "id": "ZiXZWA8uD0KL"
      },
      "source": [
        "hour = int(6 * 60 * 60)\n",
        "\n",
        "aml = H2OAutoML(max_models=20, seed=seed, max_runtime_secs=hour, stopping_metric=\"RMSE\",\n",
        "                sort_metric=\"RMSE\", include_algos=[\"XGBoost\"])"
      ],
      "execution_count": null,
      "outputs": []
    },
    {
      "cell_type": "code",
      "metadata": {
        "id": "UXcMnoxbD0Ka",
        "outputId": "54a15952-93b7-45c6-b608-99793b0109a1",
        "colab": {
          "base_uri": "https://localhost:8080/",
          "height": 53
        }
      },
      "source": [
        "start = time()\n",
        "aml.train(x=X, y=y, training_frame=data)\n",
        "\n",
        "print(f\"Elapsed {time() - start}\")"
      ],
      "execution_count": null,
      "outputs": [
        {
          "output_type": "stream",
          "text": [
            "AutoML progress: |████████████████████████████████████████████████████████| 100%\n",
            "Elapsed 21602.20094847679\n"
          ],
          "name": "stdout"
        }
      ]
    },
    {
      "cell_type": "code",
      "metadata": {
        "id": "-dUei36rD0Kj",
        "outputId": "f16c504a-90ca-4533-ce3f-fb2ec7e69e47",
        "colab": {
          "base_uri": "https://localhost:8080/"
        }
      },
      "source": [
        "# View the AutoML Leaderboard\n",
        "lb = aml.leaderboard\n",
        "\n",
        "lb.head(rows=lb.nrows)  # Print all rows instead of default (10 rows)"
      ],
      "execution_count": null,
      "outputs": [
        {
          "output_type": "display_data",
          "data": {
            "text/html": [
              "<table>\n",
              "<thead>\n",
              "<tr><th>model_id                                      </th><th style=\"text-align: right;\">   rmse</th><th style=\"text-align: right;\">  mean_residual_deviance</th><th style=\"text-align: right;\">    mse</th><th style=\"text-align: right;\">    mae</th><th style=\"text-align: right;\">     rmsle</th></tr>\n",
              "</thead>\n",
              "<tbody>\n",
              "<tr><td>XGBoost_grid__1_AutoML_20200919_021853_model_2</td><td style=\"text-align: right;\">4.48677</td><td style=\"text-align: right;\">                 20.1311</td><td style=\"text-align: right;\">20.1311</td><td style=\"text-align: right;\">3.12179</td><td style=\"text-align: right;\">nan       </td></tr>\n",
              "<tr><td>XGBoost_1_AutoML_20200919_021853              </td><td style=\"text-align: right;\">4.53959</td><td style=\"text-align: right;\">                 20.6079</td><td style=\"text-align: right;\">20.6079</td><td style=\"text-align: right;\">3.16483</td><td style=\"text-align: right;\">  0.152021</td></tr>\n",
              "<tr><td>XGBoost_2_AutoML_20200919_021853              </td><td style=\"text-align: right;\">4.54193</td><td style=\"text-align: right;\">                 20.6291</td><td style=\"text-align: right;\">20.6291</td><td style=\"text-align: right;\">3.16804</td><td style=\"text-align: right;\">  0.151847</td></tr>\n",
              "<tr><td>XGBoost_grid__1_AutoML_20200919_021853_model_1</td><td style=\"text-align: right;\">4.66618</td><td style=\"text-align: right;\">                 21.7733</td><td style=\"text-align: right;\">21.7733</td><td style=\"text-align: right;\">3.26422</td><td style=\"text-align: right;\">  0.15568 </td></tr>\n",
              "<tr><td>XGBoost_3_AutoML_20200919_021853              </td><td style=\"text-align: right;\">4.7056 </td><td style=\"text-align: right;\">                 22.1426</td><td style=\"text-align: right;\">22.1426</td><td style=\"text-align: right;\">3.29677</td><td style=\"text-align: right;\">  0.156863</td></tr>\n",
              "</tbody>\n",
              "</table>"
            ]
          },
          "metadata": {
            "tags": []
          }
        },
        {
          "output_type": "execute_result",
          "data": {
            "text/plain": [
              ""
            ]
          },
          "metadata": {
            "tags": []
          },
          "execution_count": 18
        }
      ]
    },
    {
      "cell_type": "markdown",
      "metadata": {
        "id": "oPeeX6BfD0K1"
      },
      "source": [
        "#### Checando performance dos modelos\n",
        "Analisando todo o leaderboard"
      ]
    },
    {
      "cell_type": "code",
      "metadata": {
        "id": "pstEbyAfD0K5",
        "outputId": "53a3bdfb-7840-469c-f232-3f84e4872258",
        "colab": {
          "base_uri": "https://localhost:8080/",
          "height": 107
        }
      },
      "source": [
        "model_ids = lb.as_data_frame(lb)\n",
        "\n",
        "for item in model_ids['model_id']:\n",
        "  model = h2o.get_model(item)\n",
        "  preds = model.predict(test)"
      ],
      "execution_count": null,
      "outputs": [
        {
          "output_type": "stream",
          "text": [
            "xgboost prediction progress: |████████████████████████████████████████████| 100%\n",
            "xgboost prediction progress: |████████████████████████████████████████████| 100%\n",
            "xgboost prediction progress: |████████████████████████████████████████████| 100%\n",
            "xgboost prediction progress: |████████████████████████████████████████████| 100%\n",
            "xgboost prediction progress: |████████████████████████████████████████████| 100%\n"
          ],
          "name": "stdout"
        }
      ]
    },
    {
      "cell_type": "code",
      "metadata": {
        "id": "fW9zZNzeD0LR"
      },
      "source": [
        "# Checando performance\n",
        "perf_data = []\n",
        "\n",
        "for item in model_ids['model_id']:\n",
        "  model = h2o.get_model(item)\n",
        "  perf = model.model_performance(test)\n",
        "  perf_data.append([item, perf.rmse(), perf.mse(), perf.mae()])"
      ],
      "execution_count": null,
      "outputs": []
    },
    {
      "cell_type": "code",
      "metadata": {
        "id": "bRhqsq8-D0Lm",
        "outputId": "2ae882fb-b00c-4b5b-8bea-bb68f8351090",
        "colab": {
          "base_uri": "https://localhost:8080/"
        }
      },
      "source": [
        "perf_data[0]"
      ],
      "execution_count": null,
      "outputs": [
        {
          "output_type": "execute_result",
          "data": {
            "text/plain": [
              "['XGBoost_grid__1_AutoML_20200919_021853_model_2',\n",
              " 4.921751084558736,\n",
              " 24.223633738355087,\n",
              " 3.383296222025877]"
            ]
          },
          "metadata": {
            "tags": []
          },
          "execution_count": 21
        }
      ]
    },
    {
      "cell_type": "code",
      "metadata": {
        "id": "Ymqns_dJD0Lz"
      },
      "source": [
        "# Salvando dados em um dataframe\n",
        "\n",
        "results = pd.DataFrame(data=perf_data, columns=['Model', 'RMSE', 'MSE', 'MAE'])"
      ],
      "execution_count": null,
      "outputs": []
    },
    {
      "cell_type": "code",
      "metadata": {
        "id": "n_nEV74cD0MP",
        "outputId": "5f267929-06aa-46be-8baf-e1a47b85e654",
        "colab": {
          "base_uri": "https://localhost:8080/",
          "height": 224
        }
      },
      "source": [
        "results"
      ],
      "execution_count": null,
      "outputs": [
        {
          "output_type": "execute_result",
          "data": {
            "text/html": [
              "<div>\n",
              "<style scoped>\n",
              "    .dataframe tbody tr th:only-of-type {\n",
              "        vertical-align: middle;\n",
              "    }\n",
              "\n",
              "    .dataframe tbody tr th {\n",
              "        vertical-align: top;\n",
              "    }\n",
              "\n",
              "    .dataframe thead th {\n",
              "        text-align: right;\n",
              "    }\n",
              "</style>\n",
              "<table border=\"1\" class=\"dataframe\">\n",
              "  <thead>\n",
              "    <tr style=\"text-align: right;\">\n",
              "      <th></th>\n",
              "      <th>Model</th>\n",
              "      <th>RMSE</th>\n",
              "      <th>MSE</th>\n",
              "      <th>MAE</th>\n",
              "    </tr>\n",
              "  </thead>\n",
              "  <tbody>\n",
              "    <tr>\n",
              "      <th>0</th>\n",
              "      <td>XGBoost_grid__1_AutoML_20200919_021853_model_2</td>\n",
              "      <td>4.921751</td>\n",
              "      <td>24.223634</td>\n",
              "      <td>3.383296</td>\n",
              "    </tr>\n",
              "    <tr>\n",
              "      <th>1</th>\n",
              "      <td>XGBoost_1_AutoML_20200919_021853</td>\n",
              "      <td>4.943122</td>\n",
              "      <td>24.434456</td>\n",
              "      <td>3.404425</td>\n",
              "    </tr>\n",
              "    <tr>\n",
              "      <th>2</th>\n",
              "      <td>XGBoost_2_AutoML_20200919_021853</td>\n",
              "      <td>5.062022</td>\n",
              "      <td>25.624065</td>\n",
              "      <td>3.486643</td>\n",
              "    </tr>\n",
              "    <tr>\n",
              "      <th>3</th>\n",
              "      <td>XGBoost_grid__1_AutoML_20200919_021853_model_1</td>\n",
              "      <td>5.005987</td>\n",
              "      <td>25.059904</td>\n",
              "      <td>3.464607</td>\n",
              "    </tr>\n",
              "    <tr>\n",
              "      <th>4</th>\n",
              "      <td>XGBoost_3_AutoML_20200919_021853</td>\n",
              "      <td>5.034758</td>\n",
              "      <td>25.348792</td>\n",
              "      <td>3.495384</td>\n",
              "    </tr>\n",
              "  </tbody>\n",
              "</table>\n",
              "</div>"
            ],
            "text/plain": [
              "                                            Model  ...       MAE\n",
              "0  XGBoost_grid__1_AutoML_20200919_021853_model_2  ...  3.383296\n",
              "1                XGBoost_1_AutoML_20200919_021853  ...  3.404425\n",
              "2                XGBoost_2_AutoML_20200919_021853  ...  3.486643\n",
              "3  XGBoost_grid__1_AutoML_20200919_021853_model_1  ...  3.464607\n",
              "4                XGBoost_3_AutoML_20200919_021853  ...  3.495384\n",
              "\n",
              "[5 rows x 4 columns]"
            ]
          },
          "metadata": {
            "tags": []
          },
          "execution_count": 23
        }
      ]
    },
    {
      "cell_type": "markdown",
      "metadata": {
        "id": "TI81W1BeD0MY"
      },
      "source": [
        "#### Listando hiperparâmetros não padrões do modelo"
      ]
    },
    {
      "cell_type": "code",
      "metadata": {
        "id": "3_pH5CeCD0MZ"
      },
      "source": [
        "def h2o_not_default_params_df(model):\n",
        "    params = model.params\n",
        "    result = []\n",
        "    ignore_params = ['model_id', 'training_frame', 'validation_frame', 'response_column', 'ignored_columns']\n",
        "    for k in params:\n",
        "        if k not in ignore_params and params[k]['default'] != params[k]['actual']:\n",
        "            result.append({ 'param': k, 'default': params[k]['default'], \n",
        "                            'actual': params[k]['actual']})\n",
        "    df_ = pd.DataFrame(result)\n",
        "    cols = ['param', 'default', 'actual']\n",
        "    return df_[ cols ]"
      ],
      "execution_count": null,
      "outputs": []
    },
    {
      "cell_type": "code",
      "metadata": {
        "id": "quuFT8N_D0Mk"
      },
      "source": [
        "for item in results['Model']:\n",
        "  model = h2o.get_model(item)\n",
        "  df = h2o_not_default_params_df(model)\n",
        "  df.to_csv(f'{csv_folder}/{item}_params.csv', index=False)"
      ],
      "execution_count": null,
      "outputs": []
    },
    {
      "cell_type": "code",
      "metadata": {
        "id": "s6tiDvukD0Mo",
        "outputId": "7b7c7b8f-699d-4657-d7f7-b0274aaaa73f",
        "colab": {
          "base_uri": "https://localhost:8080/",
          "height": 731
        }
      },
      "source": [
        "df"
      ],
      "execution_count": null,
      "outputs": [
        {
          "output_type": "execute_result",
          "data": {
            "text/html": [
              "<div>\n",
              "<style scoped>\n",
              "    .dataframe tbody tr th:only-of-type {\n",
              "        vertical-align: middle;\n",
              "    }\n",
              "\n",
              "    .dataframe tbody tr th {\n",
              "        vertical-align: top;\n",
              "    }\n",
              "\n",
              "    .dataframe thead th {\n",
              "        text-align: right;\n",
              "    }\n",
              "</style>\n",
              "<table border=\"1\" class=\"dataframe\">\n",
              "  <thead>\n",
              "    <tr style=\"text-align: right;\">\n",
              "      <th></th>\n",
              "      <th>param</th>\n",
              "      <th>default</th>\n",
              "      <th>actual</th>\n",
              "    </tr>\n",
              "  </thead>\n",
              "  <tbody>\n",
              "    <tr>\n",
              "      <th>0</th>\n",
              "      <td>nfolds</td>\n",
              "      <td>0</td>\n",
              "      <td>5</td>\n",
              "    </tr>\n",
              "    <tr>\n",
              "      <th>1</th>\n",
              "      <td>keep_cross_validation_models</td>\n",
              "      <td>True</td>\n",
              "      <td>False</td>\n",
              "    </tr>\n",
              "    <tr>\n",
              "      <th>2</th>\n",
              "      <td>keep_cross_validation_predictions</td>\n",
              "      <td>False</td>\n",
              "      <td>True</td>\n",
              "    </tr>\n",
              "    <tr>\n",
              "      <th>3</th>\n",
              "      <td>fold_assignment</td>\n",
              "      <td>AUTO</td>\n",
              "      <td>Modulo</td>\n",
              "    </tr>\n",
              "    <tr>\n",
              "      <th>4</th>\n",
              "      <td>stopping_metric</td>\n",
              "      <td>AUTO</td>\n",
              "      <td>RMSE</td>\n",
              "    </tr>\n",
              "    <tr>\n",
              "      <th>5</th>\n",
              "      <td>seed</td>\n",
              "      <td>-1</td>\n",
              "      <td>44</td>\n",
              "    </tr>\n",
              "    <tr>\n",
              "      <th>6</th>\n",
              "      <td>distribution</td>\n",
              "      <td>AUTO</td>\n",
              "      <td>gaussian</td>\n",
              "    </tr>\n",
              "    <tr>\n",
              "      <th>7</th>\n",
              "      <td>categorical_encoding</td>\n",
              "      <td>AUTO</td>\n",
              "      <td>OneHotInternal</td>\n",
              "    </tr>\n",
              "    <tr>\n",
              "      <th>8</th>\n",
              "      <td>ntrees</td>\n",
              "      <td>50</td>\n",
              "      <td>171</td>\n",
              "    </tr>\n",
              "    <tr>\n",
              "      <th>9</th>\n",
              "      <td>max_depth</td>\n",
              "      <td>6</td>\n",
              "      <td>5</td>\n",
              "    </tr>\n",
              "    <tr>\n",
              "      <th>10</th>\n",
              "      <td>min_rows</td>\n",
              "      <td>1</td>\n",
              "      <td>3</td>\n",
              "    </tr>\n",
              "    <tr>\n",
              "      <th>11</th>\n",
              "      <td>min_child_weight</td>\n",
              "      <td>1</td>\n",
              "      <td>3</td>\n",
              "    </tr>\n",
              "    <tr>\n",
              "      <th>12</th>\n",
              "      <td>sample_rate</td>\n",
              "      <td>1</td>\n",
              "      <td>0.8</td>\n",
              "    </tr>\n",
              "    <tr>\n",
              "      <th>13</th>\n",
              "      <td>subsample</td>\n",
              "      <td>1</td>\n",
              "      <td>0.8</td>\n",
              "    </tr>\n",
              "    <tr>\n",
              "      <th>14</th>\n",
              "      <td>col_sample_rate</td>\n",
              "      <td>1</td>\n",
              "      <td>0.8</td>\n",
              "    </tr>\n",
              "    <tr>\n",
              "      <th>15</th>\n",
              "      <td>colsample_bylevel</td>\n",
              "      <td>1</td>\n",
              "      <td>0.8</td>\n",
              "    </tr>\n",
              "    <tr>\n",
              "      <th>16</th>\n",
              "      <td>col_sample_rate_per_tree</td>\n",
              "      <td>1</td>\n",
              "      <td>0.8</td>\n",
              "    </tr>\n",
              "    <tr>\n",
              "      <th>17</th>\n",
              "      <td>colsample_bytree</td>\n",
              "      <td>1</td>\n",
              "      <td>0.8</td>\n",
              "    </tr>\n",
              "    <tr>\n",
              "      <th>18</th>\n",
              "      <td>score_tree_interval</td>\n",
              "      <td>0</td>\n",
              "      <td>5</td>\n",
              "    </tr>\n",
              "    <tr>\n",
              "      <th>19</th>\n",
              "      <td>tree_method</td>\n",
              "      <td>auto</td>\n",
              "      <td>hist</td>\n",
              "    </tr>\n",
              "    <tr>\n",
              "      <th>20</th>\n",
              "      <td>dmatrix_type</td>\n",
              "      <td>auto</td>\n",
              "      <td>dense</td>\n",
              "    </tr>\n",
              "    <tr>\n",
              "      <th>21</th>\n",
              "      <td>backend</td>\n",
              "      <td>auto</td>\n",
              "      <td>gpu</td>\n",
              "    </tr>\n",
              "  </tbody>\n",
              "</table>\n",
              "</div>"
            ],
            "text/plain": [
              "                                param default          actual\n",
              "0                              nfolds       0               5\n",
              "1        keep_cross_validation_models    True           False\n",
              "2   keep_cross_validation_predictions   False            True\n",
              "3                     fold_assignment    AUTO          Modulo\n",
              "4                     stopping_metric    AUTO            RMSE\n",
              "5                                seed      -1              44\n",
              "6                        distribution    AUTO        gaussian\n",
              "7                categorical_encoding    AUTO  OneHotInternal\n",
              "8                              ntrees      50             171\n",
              "9                           max_depth       6               5\n",
              "10                           min_rows       1               3\n",
              "11                   min_child_weight       1               3\n",
              "12                        sample_rate       1             0.8\n",
              "13                          subsample       1             0.8\n",
              "14                    col_sample_rate       1             0.8\n",
              "15                  colsample_bylevel       1             0.8\n",
              "16           col_sample_rate_per_tree       1             0.8\n",
              "17                   colsample_bytree       1             0.8\n",
              "18                score_tree_interval       0               5\n",
              "19                        tree_method    auto            hist\n",
              "20                       dmatrix_type    auto           dense\n",
              "21                            backend    auto             gpu"
            ]
          },
          "metadata": {
            "tags": []
          },
          "execution_count": 26
        }
      ]
    },
    {
      "cell_type": "markdown",
      "metadata": {
        "id": "w_LpDQEzD0Mx"
      },
      "source": [
        "#### Salvando modelos\n",
        "\n",
        "Salvando modelos treinados no Drive (para evitar retreinamento)"
      ]
    },
    {
      "cell_type": "code",
      "metadata": {
        "id": "rCFu7W11D0Mz"
      },
      "source": [
        "for item in results.Model:\n",
        "  model_to_save = h2o.get_model(item)\n",
        "\n",
        "  # salvando o modelo\n",
        "  h2o.save_model(model=model_to_save, path=f\"{path}/h2o/XGBoost\", force=True)"
      ],
      "execution_count": null,
      "outputs": []
    },
    {
      "cell_type": "markdown",
      "metadata": {
        "id": "Hcq2kz8wcCty"
      },
      "source": [
        "### DeepLearning"
      ]
    },
    {
      "cell_type": "code",
      "metadata": {
        "id": "39Lt9JmFcCtz"
      },
      "source": [
        "hour = int(6 * 60 * 60)\n",
        "\n",
        "aml = H2OAutoML(max_models=20, seed=seed, max_runtime_secs=hour, stopping_metric=\"RMSE\",\n",
        "                sort_metric=\"RMSE\", include_algos=[\"DeepLearning\"])"
      ],
      "execution_count": null,
      "outputs": []
    },
    {
      "cell_type": "code",
      "metadata": {
        "id": "sRsmHzztcCt2",
        "outputId": "19684a2a-5bba-4fb9-dd8a-07575c539b3f",
        "colab": {
          "base_uri": "https://localhost:8080/",
          "height": 386
        }
      },
      "source": [
        "start = time()\n",
        "aml.train(x=X, y=y, training_frame=data)\n",
        "\n",
        "print(f\"Elapsed {time() - start}\")"
      ],
      "execution_count": null,
      "outputs": [
        {
          "output_type": "stream",
          "text": [
            "Failed polling AutoML progress log: Job<$03017f00000132d4ffffffff$_8f4b141caccea5724dbe1e7f9caa461b> was cancelled by the user.\n"
          ],
          "name": "stdout"
        },
        {
          "output_type": "error",
          "ename": "H2OJobCancelled",
          "evalue": "ignored",
          "traceback": [
            "\u001b[0;31m---------------------------------------------------------------------------\u001b[0m",
            "\u001b[0;31mH2OJobCancelled\u001b[0m                           Traceback (most recent call last)",
            "\u001b[0;32m<ipython-input-26-49a2058ffbe3>\u001b[0m in \u001b[0;36m<module>\u001b[0;34m()\u001b[0m\n\u001b[1;32m      1\u001b[0m \u001b[0mstart\u001b[0m \u001b[0;34m=\u001b[0m \u001b[0mtime\u001b[0m\u001b[0;34m(\u001b[0m\u001b[0;34m)\u001b[0m\u001b[0;34m\u001b[0m\u001b[0;34m\u001b[0m\u001b[0m\n\u001b[0;32m----> 2\u001b[0;31m \u001b[0maml\u001b[0m\u001b[0;34m.\u001b[0m\u001b[0mtrain\u001b[0m\u001b[0;34m(\u001b[0m\u001b[0mx\u001b[0m\u001b[0;34m=\u001b[0m\u001b[0mX\u001b[0m\u001b[0;34m,\u001b[0m \u001b[0my\u001b[0m\u001b[0;34m=\u001b[0m\u001b[0my\u001b[0m\u001b[0;34m,\u001b[0m \u001b[0mtraining_frame\u001b[0m\u001b[0;34m=\u001b[0m\u001b[0mdata\u001b[0m\u001b[0;34m)\u001b[0m\u001b[0;34m\u001b[0m\u001b[0;34m\u001b[0m\u001b[0m\n\u001b[0m\u001b[1;32m      3\u001b[0m \u001b[0;34m\u001b[0m\u001b[0m\n\u001b[1;32m      4\u001b[0m \u001b[0mprint\u001b[0m\u001b[0;34m(\u001b[0m\u001b[0;34mf\"Elapsed {time() - start}\"\u001b[0m\u001b[0;34m)\u001b[0m\u001b[0;34m\u001b[0m\u001b[0;34m\u001b[0m\u001b[0m\n",
            "\u001b[0;32m/usr/local/lib/python3.6/dist-packages/h2o/automl/autoh2o.py\u001b[0m in \u001b[0;36mtrain\u001b[0;34m(self, x, y, training_frame, fold_column, weights_column, validation_frame, leaderboard_frame, blending_frame)\u001b[0m\n\u001b[1;32m    459\u001b[0m         \u001b[0mpoll_updates\u001b[0m \u001b[0;34m=\u001b[0m \u001b[0mft\u001b[0m\u001b[0;34m.\u001b[0m\u001b[0mpartial\u001b[0m\u001b[0;34m(\u001b[0m\u001b[0mself\u001b[0m\u001b[0;34m.\u001b[0m\u001b[0m_poll_training_updates\u001b[0m\u001b[0;34m,\u001b[0m \u001b[0mverbosity\u001b[0m\u001b[0;34m=\u001b[0m\u001b[0mself\u001b[0m\u001b[0;34m.\u001b[0m\u001b[0m_verbosity\u001b[0m\u001b[0;34m,\u001b[0m \u001b[0mstate\u001b[0m\u001b[0;34m=\u001b[0m\u001b[0;34m{\u001b[0m\u001b[0;34m}\u001b[0m\u001b[0;34m)\u001b[0m\u001b[0;34m\u001b[0m\u001b[0;34m\u001b[0m\u001b[0m\n\u001b[1;32m    460\u001b[0m         \u001b[0;32mtry\u001b[0m\u001b[0;34m:\u001b[0m\u001b[0;34m\u001b[0m\u001b[0;34m\u001b[0m\u001b[0m\n\u001b[0;32m--> 461\u001b[0;31m             \u001b[0mself\u001b[0m\u001b[0;34m.\u001b[0m\u001b[0m_job\u001b[0m\u001b[0;34m.\u001b[0m\u001b[0mpoll\u001b[0m\u001b[0;34m(\u001b[0m\u001b[0mpoll_updates\u001b[0m\u001b[0;34m=\u001b[0m\u001b[0mpoll_updates\u001b[0m\u001b[0;34m)\u001b[0m\u001b[0;34m\u001b[0m\u001b[0;34m\u001b[0m\u001b[0m\n\u001b[0m\u001b[1;32m    462\u001b[0m         \u001b[0;32mfinally\u001b[0m\u001b[0;34m:\u001b[0m\u001b[0;34m\u001b[0m\u001b[0;34m\u001b[0m\u001b[0m\n\u001b[1;32m    463\u001b[0m             \u001b[0mpoll_updates\u001b[0m\u001b[0;34m(\u001b[0m\u001b[0mself\u001b[0m\u001b[0;34m.\u001b[0m\u001b[0m_job\u001b[0m\u001b[0;34m,\u001b[0m \u001b[0;36m1\u001b[0m\u001b[0;34m)\u001b[0m\u001b[0;34m\u001b[0m\u001b[0;34m\u001b[0m\u001b[0m\n",
            "\u001b[0;32m/usr/local/lib/python3.6/dist-packages/h2o/job.py\u001b[0m in \u001b[0;36mpoll\u001b[0;34m(self, poll_updates)\u001b[0m\n\u001b[1;32m     72\u001b[0m         \u001b[0;31m# check if failed... and politely print relevant message\u001b[0m\u001b[0;34m\u001b[0m\u001b[0;34m\u001b[0m\u001b[0;34m\u001b[0m\u001b[0m\n\u001b[1;32m     73\u001b[0m         \u001b[0;32mif\u001b[0m \u001b[0mself\u001b[0m\u001b[0;34m.\u001b[0m\u001b[0mstatus\u001b[0m \u001b[0;34m==\u001b[0m \u001b[0;34m\"CANCELLED\"\u001b[0m\u001b[0;34m:\u001b[0m\u001b[0;34m\u001b[0m\u001b[0;34m\u001b[0m\u001b[0m\n\u001b[0;32m---> 74\u001b[0;31m             \u001b[0;32mraise\u001b[0m \u001b[0mH2OJobCancelled\u001b[0m\u001b[0;34m(\u001b[0m\u001b[0;34m\"Job<%s> was cancelled by the user.\"\u001b[0m \u001b[0;34m%\u001b[0m \u001b[0mself\u001b[0m\u001b[0;34m.\u001b[0m\u001b[0mjob_key\u001b[0m\u001b[0;34m)\u001b[0m\u001b[0;34m\u001b[0m\u001b[0;34m\u001b[0m\u001b[0m\n\u001b[0m\u001b[1;32m     75\u001b[0m         \u001b[0;32mif\u001b[0m \u001b[0mself\u001b[0m\u001b[0;34m.\u001b[0m\u001b[0mstatus\u001b[0m \u001b[0;34m==\u001b[0m \u001b[0;34m\"FAILED\"\u001b[0m\u001b[0;34m:\u001b[0m\u001b[0;34m\u001b[0m\u001b[0;34m\u001b[0m\u001b[0m\n\u001b[1;32m     76\u001b[0m             \u001b[0;32mif\u001b[0m \u001b[0;34m(\u001b[0m\u001b[0misinstance\u001b[0m\u001b[0;34m(\u001b[0m\u001b[0mself\u001b[0m\u001b[0;34m.\u001b[0m\u001b[0mjob\u001b[0m\u001b[0;34m,\u001b[0m \u001b[0mdict\u001b[0m\u001b[0;34m)\u001b[0m\u001b[0;34m)\u001b[0m \u001b[0;32mand\u001b[0m \u001b[0;34m(\u001b[0m\u001b[0;34m\"stacktrace\"\u001b[0m \u001b[0;32min\u001b[0m \u001b[0mlist\u001b[0m\u001b[0;34m(\u001b[0m\u001b[0mself\u001b[0m\u001b[0;34m.\u001b[0m\u001b[0mjob\u001b[0m\u001b[0;34m)\u001b[0m\u001b[0;34m)\u001b[0m\u001b[0;34m:\u001b[0m\u001b[0;34m\u001b[0m\u001b[0;34m\u001b[0m\u001b[0m\n",
            "\u001b[0;31mH2OJobCancelled\u001b[0m: Job<$03017f00000132d4ffffffff$_81707573acb2a8b2a7c20a6dd1c14f4e> was cancelled by the user."
          ]
        }
      ]
    },
    {
      "cell_type": "code",
      "metadata": {
        "id": "AFdLiy4kcCt4",
        "outputId": "182ca8c9-9555-4425-c1c9-2bf914210caa",
        "colab": {
          "base_uri": "https://localhost:8080/",
          "height": 158
        }
      },
      "source": [
        "# View the AutoML Leaderboard\n",
        "lb = aml.leaderboard\n",
        "\n",
        "lb.head(rows=lb.nrows)  # Print all rows instead of default (10 rows)"
      ],
      "execution_count": null,
      "outputs": [
        {
          "output_type": "display_data",
          "data": {
            "text/html": [
              "<table>\n",
              "<thead>\n",
              "<tr><th>model_id                                           </th><th style=\"text-align: right;\">   rmse</th><th style=\"text-align: right;\">  mean_residual_deviance</th><th style=\"text-align: right;\">    mse</th><th style=\"text-align: right;\">    mae</th><th style=\"text-align: right;\">     rmsle</th></tr>\n",
              "</thead>\n",
              "<tbody>\n",
              "<tr><td>DeepLearning_1_AutoML_20200921_185307              </td><td style=\"text-align: right;\">4.98095</td><td style=\"text-align: right;\">                 24.8099</td><td style=\"text-align: right;\">24.8099</td><td style=\"text-align: right;\">3.48752</td><td style=\"text-align: right;\">  0.166522</td></tr>\n",
              "<tr><td>DeepLearning_grid__1_AutoML_20200921_185307_model_2</td><td style=\"text-align: right;\">4.99736</td><td style=\"text-align: right;\">                 24.9737</td><td style=\"text-align: right;\">24.9737</td><td style=\"text-align: right;\">3.51821</td><td style=\"text-align: right;\">  0.166444</td></tr>\n",
              "<tr><td>DeepLearning_grid__2_AutoML_20200921_185307_model_1</td><td style=\"text-align: right;\">5.00078</td><td style=\"text-align: right;\">                 25.0078</td><td style=\"text-align: right;\">25.0078</td><td style=\"text-align: right;\">3.6395 </td><td style=\"text-align: right;\">  0.166462</td></tr>\n",
              "<tr><td>DeepLearning_grid__1_AutoML_20200921_185307_model_1</td><td style=\"text-align: right;\">5.19066</td><td style=\"text-align: right;\">                 26.9429</td><td style=\"text-align: right;\">26.9429</td><td style=\"text-align: right;\">3.68594</td><td style=\"text-align: right;\">  0.171759</td></tr>\n",
              "<tr><td>DeepLearning_grid__1_AutoML_20200921_185307_model_3</td><td style=\"text-align: right;\">5.32819</td><td style=\"text-align: right;\">                 28.3897</td><td style=\"text-align: right;\">28.3897</td><td style=\"text-align: right;\">3.85158</td><td style=\"text-align: right;\">nan       </td></tr>\n",
              "<tr><td>DeepLearning_grid__3_AutoML_20200921_185307_model_1</td><td style=\"text-align: right;\">5.75982</td><td style=\"text-align: right;\">                 33.1755</td><td style=\"text-align: right;\">33.1755</td><td style=\"text-align: right;\">4.41258</td><td style=\"text-align: right;\">  0.185109</td></tr>\n",
              "</tbody>\n",
              "</table>"
            ]
          },
          "metadata": {
            "tags": []
          }
        },
        {
          "output_type": "execute_result",
          "data": {
            "text/plain": [
              ""
            ]
          },
          "metadata": {
            "tags": []
          },
          "execution_count": 17
        }
      ]
    },
    {
      "cell_type": "markdown",
      "metadata": {
        "id": "Vu3B5ltMcCt6"
      },
      "source": [
        "#### Checando performance dos modelos\n",
        "Analisando todo o leaderboard"
      ]
    },
    {
      "cell_type": "code",
      "metadata": {
        "id": "D7LcSjZWcCt6"
      },
      "source": [
        "model_ids = lb.as_data_frame(lb)\n",
        "\n",
        "for item in model_ids['model_id']:\n",
        "  model = h2o.get_model(item)\n",
        "  preds = model.predict(test)"
      ],
      "execution_count": null,
      "outputs": []
    },
    {
      "cell_type": "code",
      "metadata": {
        "id": "QiOCOgtncCt8"
      },
      "source": [
        "# Checando performance\n",
        "perf_data = []\n",
        "\n",
        "for item in model_ids['model_id']:\n",
        "  model = h2o.get_model(item)\n",
        "  perf = model.model_performance(test)\n",
        "  perf_data.append([item, perf.rmse(), perf.mse(), perf.mae()])"
      ],
      "execution_count": null,
      "outputs": []
    },
    {
      "cell_type": "code",
      "metadata": {
        "id": "0Wuf-mu4cCt-",
        "outputId": "9138e24f-330c-4d44-9b1e-24a21cf3833f",
        "colab": {
          "base_uri": "https://localhost:8080/",
          "height": 87
        }
      },
      "source": [
        "perf_data[0]"
      ],
      "execution_count": null,
      "outputs": [
        {
          "output_type": "execute_result",
          "data": {
            "text/plain": [
              "['DeepLearning_1_AutoML_20200921_185307',\n",
              " 5.2530302810809495,\n",
              " 27.594327133953403,\n",
              " 3.625627145757134]"
            ]
          },
          "metadata": {
            "tags": []
          },
          "execution_count": 20
        }
      ]
    },
    {
      "cell_type": "code",
      "metadata": {
        "id": "o0GuonJbcCuA"
      },
      "source": [
        "# Salvando dados em um dataframe\n",
        "\n",
        "results = pd.DataFrame(data=perf_data, columns=['Model', 'RMSE', 'MSE', 'MAE'])"
      ],
      "execution_count": null,
      "outputs": []
    },
    {
      "cell_type": "code",
      "metadata": {
        "id": "CxOb1blHcCuC",
        "outputId": "0365b32e-0f14-466f-c0e9-4217eadcfa59",
        "colab": {
          "base_uri": "https://localhost:8080/",
          "height": 225
        }
      },
      "source": [
        "results"
      ],
      "execution_count": null,
      "outputs": [
        {
          "output_type": "execute_result",
          "data": {
            "text/html": [
              "<div>\n",
              "<style scoped>\n",
              "    .dataframe tbody tr th:only-of-type {\n",
              "        vertical-align: middle;\n",
              "    }\n",
              "\n",
              "    .dataframe tbody tr th {\n",
              "        vertical-align: top;\n",
              "    }\n",
              "\n",
              "    .dataframe thead th {\n",
              "        text-align: right;\n",
              "    }\n",
              "</style>\n",
              "<table border=\"1\" class=\"dataframe\">\n",
              "  <thead>\n",
              "    <tr style=\"text-align: right;\">\n",
              "      <th></th>\n",
              "      <th>Model</th>\n",
              "      <th>RMSE</th>\n",
              "      <th>MSE</th>\n",
              "      <th>MAE</th>\n",
              "    </tr>\n",
              "  </thead>\n",
              "  <tbody>\n",
              "    <tr>\n",
              "      <th>0</th>\n",
              "      <td>DeepLearning_1_AutoML_20200921_185307</td>\n",
              "      <td>5.253030</td>\n",
              "      <td>27.594327</td>\n",
              "      <td>3.625627</td>\n",
              "    </tr>\n",
              "    <tr>\n",
              "      <th>1</th>\n",
              "      <td>DeepLearning_grid__1_AutoML_20200921_185307_mo...</td>\n",
              "      <td>5.264251</td>\n",
              "      <td>27.712341</td>\n",
              "      <td>3.689570</td>\n",
              "    </tr>\n",
              "    <tr>\n",
              "      <th>2</th>\n",
              "      <td>DeepLearning_grid__2_AutoML_20200921_185307_mo...</td>\n",
              "      <td>5.249134</td>\n",
              "      <td>27.553411</td>\n",
              "      <td>3.704045</td>\n",
              "    </tr>\n",
              "    <tr>\n",
              "      <th>3</th>\n",
              "      <td>DeepLearning_grid__1_AutoML_20200921_185307_mo...</td>\n",
              "      <td>5.567333</td>\n",
              "      <td>30.995199</td>\n",
              "      <td>3.926157</td>\n",
              "    </tr>\n",
              "    <tr>\n",
              "      <th>4</th>\n",
              "      <td>DeepLearning_grid__1_AutoML_20200921_185307_mo...</td>\n",
              "      <td>5.572541</td>\n",
              "      <td>31.053208</td>\n",
              "      <td>3.988347</td>\n",
              "    </tr>\n",
              "    <tr>\n",
              "      <th>5</th>\n",
              "      <td>DeepLearning_grid__3_AutoML_20200921_185307_mo...</td>\n",
              "      <td>7.708919</td>\n",
              "      <td>59.427435</td>\n",
              "      <td>6.457377</td>\n",
              "    </tr>\n",
              "  </tbody>\n",
              "</table>\n",
              "</div>"
            ],
            "text/plain": [
              "                                               Model  ...       MAE\n",
              "0              DeepLearning_1_AutoML_20200921_185307  ...  3.625627\n",
              "1  DeepLearning_grid__1_AutoML_20200921_185307_mo...  ...  3.689570\n",
              "2  DeepLearning_grid__2_AutoML_20200921_185307_mo...  ...  3.704045\n",
              "3  DeepLearning_grid__1_AutoML_20200921_185307_mo...  ...  3.926157\n",
              "4  DeepLearning_grid__1_AutoML_20200921_185307_mo...  ...  3.988347\n",
              "5  DeepLearning_grid__3_AutoML_20200921_185307_mo...  ...  6.457377\n",
              "\n",
              "[6 rows x 4 columns]"
            ]
          },
          "metadata": {
            "tags": []
          },
          "execution_count": 22
        }
      ]
    },
    {
      "cell_type": "markdown",
      "metadata": {
        "id": "TtyTLSRPcCuD"
      },
      "source": [
        "#### Listando hiperparâmetros não padrões do modelo"
      ]
    },
    {
      "cell_type": "code",
      "metadata": {
        "id": "PzJuksBncCuE"
      },
      "source": [
        "def h2o_not_default_params_df(model):\n",
        "    params = model.params\n",
        "    result = []\n",
        "    ignore_params = ['model_id', 'training_frame', 'validation_frame', 'response_column', 'ignored_columns']\n",
        "    for k in params:\n",
        "        if k not in ignore_params and params[k]['default'] != params[k]['actual']:\n",
        "            result.append({ 'param': k, 'default': params[k]['default'], \n",
        "                            'actual': params[k]['actual']})\n",
        "    df_ = pd.DataFrame(result)\n",
        "    cols = ['param', 'default', 'actual']\n",
        "    return df_[ cols ]"
      ],
      "execution_count": null,
      "outputs": []
    },
    {
      "cell_type": "code",
      "metadata": {
        "id": "WIWSpShFcCuF"
      },
      "source": [
        "for item in results['Model']:\n",
        "  model = h2o.get_model(item)\n",
        "  df = h2o_not_default_params_df(model)\n",
        "  df.to_csv(f'{csv_folder}/{item}_params.csv', index=False)"
      ],
      "execution_count": null,
      "outputs": []
    },
    {
      "cell_type": "code",
      "metadata": {
        "id": "775QhwmXcCuH",
        "outputId": "8d0cd7ca-6582-4025-e36b-28ce2f0013a9",
        "colab": {
          "base_uri": "https://localhost:8080/",
          "height": 521
        }
      },
      "source": [
        "df"
      ],
      "execution_count": null,
      "outputs": [
        {
          "output_type": "execute_result",
          "data": {
            "text/html": [
              "<div>\n",
              "<style scoped>\n",
              "    .dataframe tbody tr th:only-of-type {\n",
              "        vertical-align: middle;\n",
              "    }\n",
              "\n",
              "    .dataframe tbody tr th {\n",
              "        vertical-align: top;\n",
              "    }\n",
              "\n",
              "    .dataframe thead th {\n",
              "        text-align: right;\n",
              "    }\n",
              "</style>\n",
              "<table border=\"1\" class=\"dataframe\">\n",
              "  <thead>\n",
              "    <tr style=\"text-align: right;\">\n",
              "      <th></th>\n",
              "      <th>param</th>\n",
              "      <th>default</th>\n",
              "      <th>actual</th>\n",
              "    </tr>\n",
              "  </thead>\n",
              "  <tbody>\n",
              "    <tr>\n",
              "      <th>0</th>\n",
              "      <td>nfolds</td>\n",
              "      <td>0</td>\n",
              "      <td>5</td>\n",
              "    </tr>\n",
              "    <tr>\n",
              "      <th>1</th>\n",
              "      <td>keep_cross_validation_models</td>\n",
              "      <td>True</td>\n",
              "      <td>False</td>\n",
              "    </tr>\n",
              "    <tr>\n",
              "      <th>2</th>\n",
              "      <td>keep_cross_validation_predictions</td>\n",
              "      <td>False</td>\n",
              "      <td>True</td>\n",
              "    </tr>\n",
              "    <tr>\n",
              "      <th>3</th>\n",
              "      <td>fold_assignment</td>\n",
              "      <td>AUTO</td>\n",
              "      <td>Modulo</td>\n",
              "    </tr>\n",
              "    <tr>\n",
              "      <th>4</th>\n",
              "      <td>overwrite_with_best_model</td>\n",
              "      <td>True</td>\n",
              "      <td>False</td>\n",
              "    </tr>\n",
              "    <tr>\n",
              "      <th>5</th>\n",
              "      <td>activation</td>\n",
              "      <td>Rectifier</td>\n",
              "      <td>RectifierWithDropout</td>\n",
              "    </tr>\n",
              "    <tr>\n",
              "      <th>6</th>\n",
              "      <td>hidden</td>\n",
              "      <td>[200, 200]</td>\n",
              "      <td>[50, 50, 50]</td>\n",
              "    </tr>\n",
              "    <tr>\n",
              "      <th>7</th>\n",
              "      <td>epochs</td>\n",
              "      <td>10</td>\n",
              "      <td>4.05364</td>\n",
              "    </tr>\n",
              "    <tr>\n",
              "      <th>8</th>\n",
              "      <td>seed</td>\n",
              "      <td>-1</td>\n",
              "      <td>57</td>\n",
              "    </tr>\n",
              "    <tr>\n",
              "      <th>9</th>\n",
              "      <td>input_dropout_ratio</td>\n",
              "      <td>0</td>\n",
              "      <td>0.05</td>\n",
              "    </tr>\n",
              "    <tr>\n",
              "      <th>10</th>\n",
              "      <td>hidden_dropout_ratios</td>\n",
              "      <td>None</td>\n",
              "      <td>[0.4, 0.4, 0.4]</td>\n",
              "    </tr>\n",
              "    <tr>\n",
              "      <th>11</th>\n",
              "      <td>distribution</td>\n",
              "      <td>AUTO</td>\n",
              "      <td>gaussian</td>\n",
              "    </tr>\n",
              "    <tr>\n",
              "      <th>12</th>\n",
              "      <td>stopping_rounds</td>\n",
              "      <td>5</td>\n",
              "      <td>0</td>\n",
              "    </tr>\n",
              "    <tr>\n",
              "      <th>13</th>\n",
              "      <td>stopping_metric</td>\n",
              "      <td>AUTO</td>\n",
              "      <td>RMSE</td>\n",
              "    </tr>\n",
              "    <tr>\n",
              "      <th>14</th>\n",
              "      <td>stopping_tolerance</td>\n",
              "      <td>0</td>\n",
              "      <td>0.001</td>\n",
              "    </tr>\n",
              "    <tr>\n",
              "      <th>15</th>\n",
              "      <td>categorical_encoding</td>\n",
              "      <td>AUTO</td>\n",
              "      <td>OneHotInternal</td>\n",
              "    </tr>\n",
              "  </tbody>\n",
              "</table>\n",
              "</div>"
            ],
            "text/plain": [
              "                                param     default                actual\n",
              "0                              nfolds           0                     5\n",
              "1        keep_cross_validation_models        True                 False\n",
              "2   keep_cross_validation_predictions       False                  True\n",
              "3                     fold_assignment        AUTO                Modulo\n",
              "4           overwrite_with_best_model        True                 False\n",
              "5                          activation   Rectifier  RectifierWithDropout\n",
              "6                              hidden  [200, 200]          [50, 50, 50]\n",
              "7                              epochs          10               4.05364\n",
              "8                                seed          -1                    57\n",
              "9                 input_dropout_ratio           0                  0.05\n",
              "10              hidden_dropout_ratios        None       [0.4, 0.4, 0.4]\n",
              "11                       distribution        AUTO              gaussian\n",
              "12                    stopping_rounds           5                     0\n",
              "13                    stopping_metric        AUTO                  RMSE\n",
              "14                 stopping_tolerance           0                 0.001\n",
              "15               categorical_encoding        AUTO        OneHotInternal"
            ]
          },
          "metadata": {
            "tags": []
          },
          "execution_count": 25
        }
      ]
    },
    {
      "cell_type": "markdown",
      "metadata": {
        "id": "2qXCh_yxcCuJ"
      },
      "source": [
        "#### Salvando modelos\n",
        "\n",
        "Salvando modelos treinados no Drive (para evitar retreinamento)"
      ]
    },
    {
      "cell_type": "code",
      "metadata": {
        "id": "-0yMqM8zcCuJ"
      },
      "source": [
        "for item in results.Model:\n",
        "  model_to_save = h2o.get_model(item)\n",
        "\n",
        "  # salvando o modelo\n",
        "  h2o.save_model(model=model_to_save, path=f\"{path}/h2o/DeepLearning\", force=True)"
      ],
      "execution_count": null,
      "outputs": []
    },
    {
      "cell_type": "markdown",
      "metadata": {
        "id": "1FbIEW2hYQ13"
      },
      "source": [
        "### StackedEnsemble"
      ]
    },
    {
      "cell_type": "code",
      "metadata": {
        "id": "kkEe6AfbYQ16"
      },
      "source": [
        "hour = int(1000*1000*1000*1000)\n",
        "\n",
        "aml = H2OAutoML(seed=seed, stopping_metric=\"RMSE\",\n",
        "                sort_metric=\"RMSE\", include_algos=[\"StackedEnsemble\"])"
      ],
      "execution_count": null,
      "outputs": []
    },
    {
      "cell_type": "code",
      "metadata": {
        "id": "keNkxRzAYQ2I",
        "outputId": "8b19fae3-eab6-440c-9e38-cdb9eb0fde72",
        "colab": {
          "base_uri": "https://localhost:8080/",
          "height": 105
        }
      },
      "source": [
        "start = time()\n",
        "aml.train(x=X, y=y, training_frame=data)\n",
        "\n",
        "print(f\"Elapsed {time() - start}\")"
      ],
      "execution_count": null,
      "outputs": [
        {
          "output_type": "stream",
          "text": [
            "\n",
            "03:31:20.316: Empty leaderboard.\n",
            "AutoML was not able to build any model within a max runtime constraint of 3600 seconds, you may want to increase this value before retrying.\n",
            "\n",
            "Elapsed 0.9991586208343506\n"
          ],
          "name": "stdout"
        }
      ]
    },
    {
      "cell_type": "code",
      "metadata": {
        "id": "3OLivN2uYQ2R",
        "outputId": "c836528b-e777-4cd5-9ce3-957f5d093074",
        "colab": {
          "base_uri": "https://localhost:8080/",
          "height": 34
        }
      },
      "source": [
        "# View the AutoML Leaderboard\n",
        "lb = aml.leaderboard\n",
        "\n",
        "lb.head(rows=lb.nrows)  # Print all rows instead of default (10 rows)"
      ],
      "execution_count": null,
      "outputs": [
        {
          "output_type": "stream",
          "text": [
            "This H2OFrame is empty.\n"
          ],
          "name": "stdout"
        },
        {
          "output_type": "execute_result",
          "data": {
            "text/plain": [
              ""
            ]
          },
          "metadata": {
            "tags": []
          },
          "execution_count": 18
        }
      ]
    },
    {
      "cell_type": "markdown",
      "metadata": {
        "id": "CmJ8ukX0YQ2Z"
      },
      "source": [
        "#### Checando performance dos modelos\n",
        "Analisando todo o leaderboard"
      ]
    },
    {
      "cell_type": "code",
      "metadata": {
        "id": "NnWYQBj3YQ2a",
        "outputId": "ed118d69-1ed1-4e06-818b-06a7b60c245c",
        "colab": {
          "base_uri": "https://localhost:8080/",
          "height": 239
        }
      },
      "source": [
        "model_ids = lb.as_data_frame(lb)\n",
        "\n",
        "for item in model_ids['model_id']:\n",
        "  model = h2o.get_model(item)\n",
        "  preds = model.predict(test)"
      ],
      "execution_count": null,
      "outputs": [
        {
          "output_type": "error",
          "ename": "TypeError",
          "evalue": "ignored",
          "traceback": [
            "\u001b[0;31m---------------------------------------------------------------------------\u001b[0m",
            "\u001b[0;31mTypeError\u001b[0m                                 Traceback (most recent call last)",
            "\u001b[0;32m<ipython-input-19-6f9c0d84c051>\u001b[0m in \u001b[0;36m<module>\u001b[0;34m()\u001b[0m\n\u001b[1;32m      1\u001b[0m \u001b[0mmodel_ids\u001b[0m \u001b[0;34m=\u001b[0m \u001b[0mlb\u001b[0m\u001b[0;34m.\u001b[0m\u001b[0mas_data_frame\u001b[0m\u001b[0;34m(\u001b[0m\u001b[0mlb\u001b[0m\u001b[0;34m)\u001b[0m\u001b[0;34m\u001b[0m\u001b[0;34m\u001b[0m\u001b[0m\n\u001b[1;32m      2\u001b[0m \u001b[0;34m\u001b[0m\u001b[0m\n\u001b[0;32m----> 3\u001b[0;31m \u001b[0;32mfor\u001b[0m \u001b[0mitem\u001b[0m \u001b[0;32min\u001b[0m \u001b[0mmodel_ids\u001b[0m\u001b[0;34m[\u001b[0m\u001b[0;34m'model_id'\u001b[0m\u001b[0;34m]\u001b[0m\u001b[0;34m:\u001b[0m\u001b[0;34m\u001b[0m\u001b[0;34m\u001b[0m\u001b[0m\n\u001b[0m\u001b[1;32m      4\u001b[0m   \u001b[0mmodel\u001b[0m \u001b[0;34m=\u001b[0m \u001b[0mh2o\u001b[0m\u001b[0;34m.\u001b[0m\u001b[0mget_model\u001b[0m\u001b[0;34m(\u001b[0m\u001b[0mitem\u001b[0m\u001b[0;34m)\u001b[0m\u001b[0;34m\u001b[0m\u001b[0;34m\u001b[0m\u001b[0m\n\u001b[1;32m      5\u001b[0m   \u001b[0mpreds\u001b[0m \u001b[0;34m=\u001b[0m \u001b[0mmodel\u001b[0m\u001b[0;34m.\u001b[0m\u001b[0mpredict\u001b[0m\u001b[0;34m(\u001b[0m\u001b[0mtest\u001b[0m\u001b[0;34m)\u001b[0m\u001b[0;34m\u001b[0m\u001b[0;34m\u001b[0m\u001b[0m\n",
            "\u001b[0;31mTypeError\u001b[0m: list indices must be integers or slices, not str"
          ]
        }
      ]
    },
    {
      "cell_type": "code",
      "metadata": {
        "id": "-7GKz6uVYQ2i"
      },
      "source": [
        "# Checando performance\n",
        "perf_data = []\n",
        "\n",
        "for item in model_ids['model_id']:\n",
        "  model = h2o.get_model(item)\n",
        "  perf = model.model_performance(test)\n",
        "  perf_data.append([item, perf.rmse(), perf.mse(), perf.mae()])"
      ],
      "execution_count": null,
      "outputs": []
    },
    {
      "cell_type": "code",
      "metadata": {
        "id": "Ff61mZfqYQ2q"
      },
      "source": [
        "perf_data[0]"
      ],
      "execution_count": null,
      "outputs": []
    },
    {
      "cell_type": "code",
      "metadata": {
        "id": "nMyRhYeZYQ23"
      },
      "source": [
        "# Salvando dados em um dataframe\n",
        "\n",
        "results = pd.DataFrame(data=perf_data, columns=['Model', 'RMSE', 'MSE', 'MAE'])"
      ],
      "execution_count": null,
      "outputs": []
    },
    {
      "cell_type": "code",
      "metadata": {
        "id": "BusxXSuHYQ3G"
      },
      "source": [
        "results"
      ],
      "execution_count": null,
      "outputs": []
    },
    {
      "cell_type": "markdown",
      "metadata": {
        "id": "en4Jp3b1YQ3V"
      },
      "source": [
        "#### Listando hiperparâmetros não padrões do modelo"
      ]
    },
    {
      "cell_type": "code",
      "metadata": {
        "id": "Q0jPc3u_YQ3W"
      },
      "source": [
        "def h2o_not_default_params_df(model):\n",
        "    params = model.params\n",
        "    result = []\n",
        "    ignore_params = ['model_id', 'training_frame', 'validation_frame', 'response_column', 'ignored_columns']\n",
        "    for k in params:\n",
        "        if k not in ignore_params and params[k]['default'] != params[k]['actual']:\n",
        "            result.append({ 'param': k, 'default': params[k]['default'], \n",
        "                            'actual': params[k]['actual']})\n",
        "    df_ = pd.DataFrame(result)\n",
        "    cols = ['param', 'default', 'actual']\n",
        "    return df_[ cols ]"
      ],
      "execution_count": null,
      "outputs": []
    },
    {
      "cell_type": "code",
      "metadata": {
        "id": "zkX5fdTKYQ3p"
      },
      "source": [
        "for item in results['Model']:\n",
        "  model = h2o.get_model(item)\n",
        "  df = h2o_not_default_params_df(model)\n",
        "  df.to_csv(f'{csv_folder}/{item}_params.csv', index=False)"
      ],
      "execution_count": null,
      "outputs": []
    },
    {
      "cell_type": "code",
      "metadata": {
        "id": "MWqmNJVRYQ32"
      },
      "source": [
        "df"
      ],
      "execution_count": null,
      "outputs": []
    },
    {
      "cell_type": "markdown",
      "metadata": {
        "id": "SBzoGACpYQ3-"
      },
      "source": [
        "#### Salvando modelos\n",
        "\n",
        "Salvando modelos treinados no Drive (para evitar retreinamento)"
      ]
    },
    {
      "cell_type": "code",
      "metadata": {
        "id": "sZLZvQIGYQ3_"
      },
      "source": [
        "for item in results.Model:\n",
        "  model_to_save = h2o.get_model(item)\n",
        "\n",
        "  # salvando o modelo\n",
        "  h2o.save_model(model=model_to_save, path=f\"{path}/h2o/StackedEnsemble\", force=True)"
      ],
      "execution_count": null,
      "outputs": []
    }
  ]
}